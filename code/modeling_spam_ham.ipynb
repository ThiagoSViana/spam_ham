{
 "cells": [
  {
   "cell_type": "markdown",
   "metadata": {},
   "source": [
    "## Treinando Classificadores"
   ]
  },
  {
   "cell_type": "code",
   "execution_count": 136,
   "metadata": {},
   "outputs": [],
   "source": [
    "import pandas as pd\n",
    "import re\n",
    "import string\n",
    "import nltk\n",
    "import warnings\n",
    "warnings.filterwarnings(\"ignore\")\n",
    "\n",
    "from pathlib import Path\n",
    "from sklearn.model_selection import train_test_split\n",
    "from sklearn.feature_extraction.text import TfidfVectorizer\n",
    "from sklearn.feature_extraction.text import CountVectorizer\n",
    "from sklearn.feature_extraction.text import TfidfVectorizer\n",
    "from sklearn.metrics import confusion_matrix, classification_report, accuracy_score\n",
    "from sklearn.linear_model import LogisticRegression\n",
    "from sklearn.naive_bayes import MultinomialNB\n",
    "from sklearn.neighbors import KNeighborsClassifier\n",
    "from sklearn.svm import SVC\n",
    "from sklearn.tree import DecisionTreeClassifier\n",
    "from sklearn.ensemble import RandomForestClassifier\n",
    "from sklearn.ensemble import GradientBoostingClassifier\n",
    "from sklearn.ensemble import AdaBoostClassifier\n",
    "from sklearn.model_selection import GridSearchCV\n",
    "from sklearn.model_selection import cross_val_score\n",
    "from sklearn.metrics import precision_recall_fscore_support as score"
   ]
  },
  {
   "cell_type": "markdown",
   "metadata": {},
   "source": [
    "## Modelagem\n",
    "Nesta etapa diversos algoritmos de ML serão utilizados visando encontrar os melhores modelos para classificação de mensagens SPAM ou não SPAM.\n",
    "\n",
    "Serão aplicados os seguintes modelos: \n",
    "\n",
    "            LogisticRegression;\n",
    "            MultinomialNB;\n",
    "            KNeighborsClassifier;\n",
    "            SVC;\n",
    "            DecisionTreeClassifier;\n",
    "            RandomForestClassifier;\n",
    "            GradientBoostingClassifier;\n",
    "            AdaBoostClassifier."
   ]
  },
  {
   "cell_type": "code",
   "execution_count": 137,
   "metadata": {},
   "outputs": [],
   "source": [
    "path = Path() / '..'/ 'data' / 'dataframe_to_modeling' / 'spam_ham.pickle'\n",
    "spam_ham = pd.read_pickle(path)"
   ]
  },
  {
   "cell_type": "code",
   "execution_count": 138,
   "metadata": {},
   "outputs": [
    {
     "data": {
      "text/html": [
       "<div>\n",
       "<style scoped>\n",
       "    .dataframe tbody tr th:only-of-type {\n",
       "        vertical-align: middle;\n",
       "    }\n",
       "\n",
       "    .dataframe tbody tr th {\n",
       "        vertical-align: top;\n",
       "    }\n",
       "\n",
       "    .dataframe thead th {\n",
       "        text-align: right;\n",
       "    }\n",
       "</style>\n",
       "<table border=\"1\" class=\"dataframe\">\n",
       "  <thead>\n",
       "    <tr style=\"text-align: right;\">\n",
       "      <th></th>\n",
       "      <th>ID</th>\n",
       "      <th>Message</th>\n",
       "      <th>SPAM</th>\n",
       "      <th>SPAM_int</th>\n",
       "      <th>text_norm</th>\n",
       "      <th>text_tokenized</th>\n",
       "      <th>text_lemmatized</th>\n",
       "      <th>Message_len</th>\n",
       "      <th>punct%</th>\n",
       "    </tr>\n",
       "  </thead>\n",
       "  <tbody>\n",
       "    <tr>\n",
       "      <th>0</th>\n",
       "      <td>615317</td>\n",
       "      <td>Linda msg!</td>\n",
       "      <td>True</td>\n",
       "      <td>1</td>\n",
       "      <td>linda msg</td>\n",
       "      <td>[linda, msg]</td>\n",
       "      <td>[linda, msg]</td>\n",
       "      <td>9</td>\n",
       "      <td>11.1</td>\n",
       "    </tr>\n",
       "    <tr>\n",
       "      <th>1</th>\n",
       "      <td>855344</td>\n",
       "      <td>To fazendo batida de kwui com coco</td>\n",
       "      <td>True</td>\n",
       "      <td>1</td>\n",
       "      <td>fazendo batida kwui coco</td>\n",
       "      <td>[fazendo, batida, kwui, coco]</td>\n",
       "      <td>[fazendo, batida, kwui, coco]</td>\n",
       "      <td>28</td>\n",
       "      <td>0.0</td>\n",
       "    </tr>\n",
       "    <tr>\n",
       "      <th>2</th>\n",
       "      <td>1007222</td>\n",
       "      <td>Esse dinheiro só vai sair para quem está com o...</td>\n",
       "      <td>True</td>\n",
       "      <td>1</td>\n",
       "      <td>esse dinheiro sair nome lista esse dinheiro sa...</td>\n",
       "      <td>[esse, dinheiro, sair, nome, lista, esse, dinh...</td>\n",
       "      <td>[esse, dinheiro, sair, nome, lista, esse, dinh...</td>\n",
       "      <td>113</td>\n",
       "      <td>7.1</td>\n",
       "    </tr>\n",
       "    <tr>\n",
       "      <th>3</th>\n",
       "      <td>811063</td>\n",
       "      <td>Isso msm Irmã.. nao lembrava dos nomes kkk</td>\n",
       "      <td>True</td>\n",
       "      <td>1</td>\n",
       "      <td>isso msm irma nao lembrava nomes kkk</td>\n",
       "      <td>[isso, msm, irma, nao, lembrava, nomes, kkk]</td>\n",
       "      <td>[isso, msm, irma, nao, lembrava, nome, kkk]</td>\n",
       "      <td>35</td>\n",
       "      <td>5.7</td>\n",
       "    </tr>\n",
       "    <tr>\n",
       "      <th>4</th>\n",
       "      <td>913944</td>\n",
       "      <td>Ai xara eu sujiro esse</td>\n",
       "      <td>True</td>\n",
       "      <td>1</td>\n",
       "      <td>xara sujiro</td>\n",
       "      <td>[xara, sujiro]</td>\n",
       "      <td>[xara, sujiro]</td>\n",
       "      <td>18</td>\n",
       "      <td>0.0</td>\n",
       "    </tr>\n",
       "  </tbody>\n",
       "</table>\n",
       "</div>"
      ],
      "text/plain": [
       "        ID                                            Message  SPAM  SPAM_int  \\\n",
       "0   615317                                         Linda msg!  True         1   \n",
       "1   855344                 To fazendo batida de kwui com coco  True         1   \n",
       "2  1007222  Esse dinheiro só vai sair para quem está com o...  True         1   \n",
       "3   811063         Isso msm Irmã.. nao lembrava dos nomes kkk  True         1   \n",
       "4   913944                             Ai xara eu sujiro esse  True         1   \n",
       "\n",
       "                                           text_norm  \\\n",
       "0                                          linda msg   \n",
       "1                           fazendo batida kwui coco   \n",
       "2  esse dinheiro sair nome lista esse dinheiro sa...   \n",
       "3               isso msm irma nao lembrava nomes kkk   \n",
       "4                                        xara sujiro   \n",
       "\n",
       "                                      text_tokenized  \\\n",
       "0                                       [linda, msg]   \n",
       "1                      [fazendo, batida, kwui, coco]   \n",
       "2  [esse, dinheiro, sair, nome, lista, esse, dinh...   \n",
       "3       [isso, msm, irma, nao, lembrava, nomes, kkk]   \n",
       "4                                     [xara, sujiro]   \n",
       "\n",
       "                                     text_lemmatized  Message_len  punct%  \n",
       "0                                       [linda, msg]            9    11.1  \n",
       "1                      [fazendo, batida, kwui, coco]           28     0.0  \n",
       "2  [esse, dinheiro, sair, nome, lista, esse, dinh...          113     7.1  \n",
       "3        [isso, msm, irma, nao, lembrava, nome, kkk]           35     5.7  \n",
       "4                                     [xara, sujiro]           18     0.0  "
      ]
     },
     "execution_count": 138,
     "metadata": {},
     "output_type": "execute_result"
    }
   ],
   "source": [
    "spam_ham.head()"
   ]
  },
  {
   "cell_type": "code",
   "execution_count": 139,
   "metadata": {},
   "outputs": [
    {
     "name": "stdout",
     "output_type": "stream",
     "text": [
      "<class 'pandas.core.frame.DataFrame'>\n",
      "Int64Index: 1773 entries, 0 to 1772\n",
      "Data columns (total 9 columns):\n",
      " #   Column           Non-Null Count  Dtype  \n",
      "---  ------           --------------  -----  \n",
      " 0   ID               1773 non-null   int64  \n",
      " 1   Message          1773 non-null   object \n",
      " 2   SPAM             1773 non-null   bool   \n",
      " 3   SPAM_int         1773 non-null   int64  \n",
      " 4   text_norm        1773 non-null   object \n",
      " 5   text_tokenized   1773 non-null   object \n",
      " 6   text_lemmatized  1773 non-null   object \n",
      " 7   Message_len      1773 non-null   int64  \n",
      " 8   punct%           1773 non-null   float64\n",
      "dtypes: bool(1), float64(1), int64(3), object(4)\n",
      "memory usage: 126.4+ KB\n"
     ]
    }
   ],
   "source": [
    "spam_ham.info()"
   ]
  },
  {
   "cell_type": "code",
   "execution_count": 140,
   "metadata": {},
   "outputs": [
    {
     "data": {
      "text/plain": [
       "ID                 0\n",
       "Message            0\n",
       "SPAM               0\n",
       "SPAM_int           0\n",
       "text_norm          0\n",
       "text_tokenized     0\n",
       "text_lemmatized    0\n",
       "Message_len        0\n",
       "punct%             0\n",
       "dtype: int64"
      ]
     },
     "execution_count": 140,
     "metadata": {},
     "output_type": "execute_result"
    }
   ],
   "source": [
    "spam_ham.isnull().sum()"
   ]
  },
  {
   "cell_type": "markdown",
   "metadata": {},
   "source": [
    "## Vetorização\n",
    "É importante a criação de um CountVectorizer para contar o número de palavras (frequência do termo), \n",
    "limitar o tamanho do seu vocabulário e, aplicar palavras de parada, por exemplo.\n",
    "\n",
    "### Bag of words\n",
    "A criação da 'Bag of words' se dá na necessidade de converter cada uma dessas mensagens (lemas) em um vetor que os modelos de algoritmos do SciKit Learn possam trabalhar.\n",
    "\n",
    "### Passos:\n",
    "\n",
    "O CountVectorizer converterá uma coleção de documentos de texto em uma matriz de contagens de token em matriz 2D e contará quantas vezes uma palavra ocorre em cada mensagem (conhecida como frequência de termo);\n",
    "\n",
    "Normalizar os vetores para comprimento unitário, para abstrair do comprimento do texto original (norma L2) por TF-IDF, usando o TfidfTransformer do scikit-learn."
   ]
  },
  {
   "cell_type": "code",
   "execution_count": 141,
   "metadata": {},
   "outputs": [],
   "source": [
    "cv = CountVectorizer()\n",
    "word_count_vector = cv.fit_transform(spam_ham['text_norm'])"
   ]
  },
  {
   "cell_type": "code",
   "execution_count": 142,
   "metadata": {},
   "outputs": [
    {
     "data": {
      "text/plain": [
       "(1773, 9317)"
      ]
     },
     "execution_count": 142,
     "metadata": {},
     "output_type": "execute_result"
    }
   ],
   "source": [
    "#aqui as colunas reprensentam palavras únicas (9411)\n",
    "word_count_vector.shape"
   ]
  },
  {
   "cell_type": "markdown",
   "metadata": {},
   "source": [
    "## Aplicando TFIDF \n",
    "Codificação de texto como inteiro em forma numérica para criar vetores de recursos para que possamos aplicar algoritmos de ML nele."
   ]
  },
  {
   "cell_type": "code",
   "execution_count": 143,
   "metadata": {},
   "outputs": [],
   "source": [
    "feature_extraction = TfidfVectorizer(min_df=1, lowercase = 'True')\n",
    "# min_df = se uma palavra não repetir, ou repetir apenas uma vez, ela não é importante para análises predivitas."
   ]
  },
  {
   "cell_type": "code",
   "execution_count": 144,
   "metadata": {},
   "outputs": [
    {
     "name": "stdout",
     "output_type": "stream",
     "text": [
      "(1773, 9317)\n",
      "['0000', '0030', '0037', '0100', '01042015', '0107', '0135', '02', '0211581172839', '03', '030515', '0352014', '037', '050515', '0530', '0600', '060415', '060515', '060615', '0630', '0648', '0700', '0704', '070415', '0705', '08', '0804', '08052015', '0900', '100', '1000000', '100001343721000', '1004', '101', '1011', '1013', '10180004151997', '1020', '1030', '1030h', '104', '105842', '106', '10723', '1077', '10896342000195', '10h', '10km', '10mil', '10min', '110', '111400', '1140hs', '1195', '11hs', '11ivan', '120', '1200', '120000', '1205', '1207', '121', '12294', '123', '124', '12500', '12750', '12alvaro', '12x', '13', '130', '1300hs', '131', '1340', '13h', '13h30min', '13rafaelzao', '1400', '14000', '1400000', '14042015', '140515', '141', '1411', '143', '1430', '1430825166', '1431578419', '1435360592', '1435687408', '14700', '14flavio', '14h', '14hrs', '15', '1500', '1505', '151239847', '1531', '15d', '15leonel', '160', '1600', '1600hrs', '1605', '16072015', '1630', '16anos', '16rodrigo', '170', '1700', '1710', '1746', '1747', '1750', '177', '17cm', '17h', '17hs', '180', '1800', '180715', '1830', '18bragantino', '190', '19062015', '191500', '19370', '195', '1950', '1ano', '1h20', '1h21', '1hr', '1mauricelio', '200', '2000', '2000000', '2001', '2003', '2006', '2008', '2009', '2011', '2012', '2013', '2014', '2015', '2016', '20212', '21015', '2192963419', '21964957222', '21h', '220', '2200', '22062015', '22531177', '2269', '22bpm', '22h55', '23', '2300', '2338', '235', '24', '2400', '24052015', '2406', '24130430', '24h', '24hs', '25', '250', '2500', '252', '2606', '26062015', '261', '266', '26a', '2706', '2750', '276', '27866', '284', '286', '2884', '2936', '298', '2hs', '2obpm', '2rio', '2ronaldo', '2x0', '2x1', '300', '3004', '30072015', '30082015', '30anos', '30de', '3105', '32127009', '32148750', '325', '3250', '3260000', '333', '33352468', '33353603', '334089', '337', '346', '350', '3501', '355', '35898', '3612', '365', '3681', '36894', '370', '37070', '37074765', '373', '37707432', '380', '398', '3af', '3x2', '400', '4000', '405', '41o', '43', '450', '4500', '4728367473', '48hs', '490', '495', '4elson', '4meses', '4te', '4x4', '50', '500', '500000', '5000000000', '500h', '507836952', '50cc', '51304', '526', '530', '53mil', '55', '562', '569', '57400', '582761621778623', '5agora', '5leandro', '5m3', '600', '6000', '601', '611', '6149', '618', '620h', '623', '626', '640', '647', '6800', '6841', '6973', '69913', '6michel', '6te', '700', '704', '717', '730', '736', '7373776374', '740', '750', '7501', '76065', '770', '77473828292992837746473828292983737', '774818538', '777472762636366371718299292948', '77adp', '78000', '78596', '794', '7kaka', '800', '800000000', '801', '812', '814', '821', '823', '828', '8287373818292847467465322368938263828', '847', '8500', '869', '8hrsmais', '8meses', '8ricardo', '91316949', '9338', '936', '9372881636189273728', '950', '959a', '972123850', '972260079', '9798', '982205732', '988528589', '989557931', '99458494', '99650000', '996618051', '9rodrigo', '_____________', '________________________', '_pv', 'a5037222096825651073741824100001343721000', 'aaaa', 'aaaaaaaaaaaaq', 'aaah', 'aaaiiiiii', 'aahhh', 'abaixo', 'abalo', 'abandona', 'abandonada', 'abandonadas', 'abandonado', 'abandonadomas', 'abandonados', 'abandono', 'abandonou', 'abatidos', 'abc', 'abdomen', 'abdul', 'abel', 'abelardo', 'abencoada', 'abencoadas', 'abencoado', 'abencoe', 'abencoei', 'abendi', 'aberta', 'abertas', 'aberto', 'abertorua', 'abestado', 'abisurdo', 'abolicao', 'abolida', 'abordado', 'abordassem', 'abordo', 'abr', 'abra', 'abracada', 'abracar', 'abraco', 'abracos', 'abre', 'abreu', 'abrigo', 'abril', 'abriu', 'absuluto', 'absurda', 'absurdo', 'absurdos', 'abuso', 'acaba', 'acabamos', 'acaban', 'acabar', 'acabaram', 'acabei', 'acabou', 'academia', 'acai', 'acalma', 'acalmi', 'acamoar', 'acanhado', 'acao', 'acari', 'acasia', 'aceita', 'aceitacao', 'aceitarem', 'aceite', 'aceitei', 'acenda', 'acerca', 'acertado', 'acertei', 'acervos', 'acesso', 'acessos', 'acha', 'acham', 'achamos', 'achando', 'achar', 'acharam', 'ache', 'achei', 'acheitada', 'acho', 'achuva', 'acidente', 'acidentes', 'acidentesno', 'acima', 'acioli', 'acionada', 'acionadas', 'acionado', 'acionados', 'acionou', 'acjar', 'acoes', 'acomodacao', 'acomode', 'acompahantes', 'acompanhada', 'acompanhado', 'acompanhando', 'acompanhante', 'acompanhantes', 'acompanhar', 'aconteca', 'acontece', 'acontecei', 'acontecendo', 'acontecer', 'acontecera', 'aconteceu', 'acontecia', 'acorda', 'acordados', 'acordar', 'acordei', 'acordo', 'acordotive', 'acordou', 'acre', 'acredindo', 'acredita', 'acreditamos', 'acreditara', 'acredite', 'acreditei', 'acreditem', 'acredito', 'acumula', 'acumulo', 'adcionei', 'add', 'aderiu', 'adeus', 'adianta', 'adiantando', 'adiante', 'adiciona', 'adicionado', 'adicionar', 'adiciono', 'adicionou', 'adilelson', 'adilson', 'adinistrarem', 'adino', 'adintou', 'adm', 'administra', 'administracao', 'administrador', 'administradora', 'administradores', 'administrativa', 'administrava', 'admiro', 'admitimos', 'adolescencia', 'adolescente', 'adolescentes', 'adorar', 'adoraria', 'adorei', 'adoro', 'adotar', 'adquiridas', 'adquiriu', 'adrenalina22hrs', 'adriana', 'adriano', 'adriele', 'adriene', 'adulto', 'adutora', 'advocacia', 'advocaticios', 'advogada', 'advogado', 'aee', 'aeeee', 'aereo', 'aeronautica', 'aeroporto', 'aeroportos', 'aesperanca', 'aew', 'afastada', 'afastado', 'aff', 'afff', 'affonso', 'affs', 'afim', 'afinal', 'afirma', 'afirmou', 'afonso', 'africa', 'afus', 'ageis', 'ageite', 'agencia', 'agenda', 'agendamento', 'agendando', 'agendar', 'agendei', 'agente', 'agentes', 'agil', 'agnaldo', 'agnt', 'agonizando', 'agora', 'agoraa', 'agorado', 'agorae', 'agostinho', 'agosto', 'agr', 'agrada', 'agradavel', 'agradecer', 'agradecidos', 'agradeco', 'agredida', 'agredindo', 'agrediram', 'agrediu', 'agregados', 'agregar', 'agressao', 'agressivo', 'agressor', 'agride', 'agua', 'aguadar', 'aguaem', 'aguardando', 'aguardar', 'aguardo', 'aguas', 'agudo', 'aguenta', 'aguentamos', 'aguentando', 'aguentar', 'aguento', 'aguiar', 'aguinaldo', 'ah', 'ahahaahahahaha', 'ahahahaa', 'ahahahahaha', 'ahahahahahaah', 'ahahahahahaha', 'ahahahahha', 'ahhaahhajahhaha', 'ahhhhhhh', 'ahsa', 'aiai', 'aiaiai', 'aiaiaiaia', 'aibcs', 'aii', 'ainda', 'aioo', 'aires', 'airton', 'ajsbqjabaiqbajiqkqj', 'ajuda', 'ajudadesde', 'ajudado', 'ajudala', 'ajudalo', 'ajudando', 'ajudar', 'ajudassem', 'ajudava', 'ajude', 'ajudem', 'ajudou', 'ajuntar', 'akbar', 'akeer', 'akela', 'akerta', 'aki', 'akii', 'ala', 'alaga', 'alagada', 'alagar', 'alah', 'alaikum', 'alarmante', 'alarmar', 'alastram', 'albani', 'albano', 'alberico', 'albert', 'alberto', 'alboroco', 'albuquerque', 'alcanca', 'alcancado', 'alcool', 'alcoolicas', 'aldeia', 'alegacao', 'alegam', 'alegar', 'alegou', 'alegrar', 'alegre', 'alegrete', 'alegria', 'alem', 'alemao', 'alencastro', 'alerj', 'alerta', 'alertado', 'alessandra', 'alex', 'alexander', 'alexandre', 'alexandria', 'alfandega', 'algo', 'alguem', 'algum', 'alguma', 'algumas', 'alguns', 'ali', 'aliada', 'alianca', 'alias', 'alice', 'alienacao', 'alienantes', 'alimenta', 'alimentacao', 'alimentadora', 'alimentadoras', 'alimentar', 'alimentos', 'alivia', 'all', 'allah', 'allahu', 'allan', 'allegria', 'allisson', 'alma', 'almeida', 'almeido', 'almento', 'almoca', 'almocar', 'almoco', 'alo', 'alta', 'altamente', 'altas', 'altenarnativo', 'alteracao', 'alternativa', 'alternativo', 'alternativoum', 'altivez', 'altletico', 'alto', 'altopista', 'altura', 'alucinacoes', 'aluisio', 'alunas', 'aluno', 'alunos', 'alvara', 'alvares', 'alvaro', 'alve', 'alvejada', 'alves', 'alvo', 'alvorada', 'alvoroco', 'alvos', 'ama', 'amada', 'amadeu', 'amalo', 'amam', 'amanda', 'amando', 'amanha', 'amanhecer', 'amanheci', 'amanhesceu', 'amaral', 'amarela', 'amarelada', 'amarelinho', 'amarelinhos', 'amarra', 'amarrada', 'amarrado', 'amarrar', 'amarro', 'ambev', 'ambiental', 'ambiente', 'amdar', 'ame', 'ameaca', 'ameacada', 'ameacados', 'ameacam', 'ameacando', 'ameacar', 'ameacas', 'amei', 'amelia', 'amem', 'america', 'americas', 'amg', 'amiga', 'amigaa', 'amigao', 'amigas', 'amigo', 'amigos', 'amigosmande', 'amiguinha', 'amil', 'amizade', 'amizades', 'amniotico', 'amo', 'amontoado', 'amoo', 'amooo', 'amoor', 'amoorr', 'amor', 'amorim', 'amorrr', 'amorzin', 'amorzinho', 'amos', 'amostra', 'amostrar', 'amou', 'amp', 'ampentrada', 'ampid', 'ampla', 'amplamente', 'ampliacao', 'ampoption', 'ampset', 'ampsource', 'amptheater', 'ampview', 'amr', 'amrr', 'ana', 'anagbls', 'anal', 'anao', 'anchieta', 'anda', 'andam', 'andamento', 'andamos', 'andando', 'andar', 'andarai', 'andares', 'ande', 'andei', 'anderson', 'andou', 'andrade', 'andradeem', 'andre', 'andrea', 'andreas', 'andreaskern2014', 'andreia', 'angioplastia', 'angra', 'angustia', 'anhanga', 'anhanguera', 'anigos', 'anil', 'animais', 'animal', 'animar', 'animou', 'anitta', 'aniversario', 'anjo', 'anny', 'ano', 'anonimato', 'anos', 'anose', 'anosela', 'anota', 'antares', 'antecipada', 'antena', 'anterior', 'anteriores', 'antes', 'anti', 'antibioticos', 'antiga', 'antigas', 'antigo', 'antigos', 'antivacp', 'antonio', 'antrs', 'antt', 'anunciar', 'anunciem', 'anuncio', 'anuncios', 'aonde', 'aonibus', 'aooh', 'aos', 'apaga', 'apagados', 'apagar', 'apaguei', 'apagueo', 'apaisana', 'apaixonouse', 'apampa', 'apanhar', 'apanhei', 'apareca', 'aparecam', 'aparece', 'aparecem', 'aparecendo', 'aparecer', 'aparecera', 'apareceu', 'aparecida', 'aparecimento', 'aparelho', 'aparencia', 'aparente', 'aparentemente', 'aparese', 'apavorada', 'apavorado', 'apavorados', 'apaz', 'apelamos', 'apelido', 'apelo', 'apena', 'apenas', 'aperta', 'apertadas', 'apesar', 'apia', 'aplicar', 'aplicativo', 'aplicativos', 'apoderam', 'apoiados', 'apoiar', 'apoiaram', 'apoio', 'apologia', 'apontadas', 'apontado', 'apontando', 'apontaram', 'aportaram', 'apos', 'aposentadoria', 'aposentados', 'apostar', 'aposto', 'app', 'apreciar', 'aprecio', 'apreencao', 'apreender', 'apreensao', 'aprenda', 'aprendehyan', 'aprendeviny', 'aprendizes', 'aprenter', 'apresenta', 'apresentacao', 'apresentado', 'apresentador', 'apresentadora', 'apresentei', 'aprev', 'apropriando', 'aprovacao', 'aprovada', 'aproveitadores', 'aproveitam', 'aproveitea', 'aproxima', 'aproximadamemte', 'aproximadamente', 'aproximar', 'aproximava', 'aproximavam', 'aproximouse', 'apslosta', 'aqi', 'aquario', 'aquecendo', 'aquela', 'aquele', 'aquelea', 'aqueles', 'aqui', 'aquila', 'aquimediram', 'aquino', 'araa', 'arame', 'araquem', 'araras', 'arariboia', 'araruama', 'araujo', 'araujp', 'archimedes', 'arco', 'arcondicionado', 'are', 'area', 'areas', 'arebentada', 'areia', 'argentino', 'argentinos', 'ariapo', 'arildo', 'arma', 'armado', 'armados', 'armando', 'armaria', 'armas', 'armazenagem', 'aro', 'arquias', 'arquimedes', 'arraia', 'arraial', 'arrancando', 'arrasando', 'arrasta', 'arrastada', 'arrastando', 'arrastao', 'arrebentado', 'arrebentou', 'arrecadar', 'arredores', 'arrependo', 'arriscar', 'arrogancia', 'arrota', 'arrotam', 'arrotar', 'arroto', 'arroz', 'arruda', 'arruma', 'arrumar', 'arrumaram', 'arsenal', 'arte', 'arthur', 'article', 'artigo', 'artistas', 'artur', 'arvore', 'arvoredo', 'arvores', 'ary', 'asa', 'asaltante', 'asalto', 'asaltos', 'ascaneo', 'asfaltada', 'asfaltadas', 'asfaltado', 'asfaltaram', 'asfalto', 'asfolto', 'ashuahha', 'asma', 'ass', 'assalariado', 'assaltada', 'assaltado', 'assaltam', 'assaltante', 'assaltantes', 'assaltar', 'assalto', 'assaltos', 'assaltou', 'assassinado', 'assaugusto', 'assegurar', 'assento', 'assessores', 'assessoria', 'assidua', 'assim', 'assimaqui', 'assimm', 'assimmaravilhoso', 'assimnao', 'assinada', 'assinatura', 'assista', 'assiste', 'assistido', 'assistimos', 'assistindo', 'assistir', 'assisto', 'associacao', 'associados', 'assolando', 'assumi', 'assumir', 'assumiram', 'assumiu', 'assunto', 'assustador', 'astra', 'ata', 'ataa', 'ataaa', 'atacado', 'atacando', 'atacou', 'atah', 'atalho', 'ataque', 'ate', 'atencao', 'atenciosamente', 'atenda', 'atendam', 'atende', 'atendeaousuario', 'atendendo', 'atendente', 'atendentes', 'atender', 'atenderam', 'atenderem', 'atendida', 'atendidos', 'atendimento', 'atendimentofato', 'atentado', 'atentadopolicial', 'atento', 'aterro', 'atha', 'athletics', 'atingido', 'atingimos', 'atingir', 'atira', 'atirador', 'atirando', 'atiraram', 'atirou', 'atitude', 'atividade', 'atividades', 'ativo', 'ativos', 'atlantica', 'atlantico', 'atleta', 'atletico', 'ato', 'atoa', 'atores', 'atos', 'atra', 'atrapalha', 'atrapalhando', 'atrapalhar', 'atras', 'atrasadas', 'atrasado', 'atrasadoassunto', 'atrasados', 'atraso', 'atrasos', 'atrativos', 'atraves', 'atravessando', 'atravessar', 'atravessava', 'atreve', 'atriz', 'atropela', 'atropelada', 'atropelados', 'atropelamento', 'atropelamentos', 'att', 'attah', 'atuacao', 'atuais', 'atual', 'atualizado', 'atualizalos', 'atualizar', 'atualizou', 'atualmente', 'atuam', 'atuavam', 'audio', 'audios', 'auditoria', 'augustinho', 'augustus', 'aula', 'aulas', 'aumenta', 'aumentando', 'aumentar', 'aumentaram', 'aurelia', 'aurelio', 'austin', 'australiano', 'autismo', 'auto', 'automaticamente', 'automovel', 'autorais', 'autoria', 'autoridade', 'autoridades', 'autorizacao', 'autorizar', 'autos', 'autuar', 'auxiliar', 'auxilio', 'ava', 'avaaaa', 'avai', 'avaliado', 'avanca', 'avanco', 'avenida', 'aventura', 'aviacao', 'aviao', 'avisado', 'avisamos', 'avisar', 'avise', 'avisei', 'avisem', 'aviso', 'avo', 'avpastor', 'axe', 'axo', 'ayrton', 'ayslan', 'azar', 'azevedo', 'azuis', 'azul', 'azulwhatsapp', 'baba', 'babi', 'babooooo', 'babou', 'babu', 'baby', 'bacana', 'bacia', 'baco', 'bacteria', 'baderna', 'baderneiros', 'badia', 'badminton', 'bage', 'bagulho', 'bagunca', 'bahia', 'baiano', 'baile', 'bailes', 'bairro', 'bairros', 'baitola', 'baixa', 'baixada', 'baixei', 'baixinha', 'baixo', 'baixos', 'bal', 'bala', 'balada', 'balanco', 'balao', 'balata', 'balcao', 'balde', 'baldio', 'baleada', 'baleado', 'balear', 'baloeiros', 'baloes', 'baltazar', 'bananada', 'bananal', 'banca', 'banco', 'bancos', 'bancou', 'banda', 'bandalhapois', 'bandeira', 'bandeirantes', 'bandejas', 'bandido', 'bandidos', 'bando', 'bangu', 'banguenviado', 'banhada', 'banheiro', 'banheiros', 'banho', 'banir', 'baniu', 'bar', 'barakatuh', 'barao', 'barata', 'baratas', 'baratin', 'barato', 'barba', 'barbada', 'barbara', 'barbosa', 'barbudo', 'barca', 'barcas', 'barcelar', 'barcelos', 'bares', 'barkanas', 'barra', 'barraassrenilda', 'barreiras', 'barreto', 'barricada', 'barriga', 'barrio', 'barro', 'barros', 'barulho', 'base', 'baseado', 'basica', 'basicas', 'basico', 'basta', 'bastante', 'bastasse', 'bastava', 'bastos', 'batalha', 'batalhao', 'batata', 'bate', 'batemos', 'batendo', 'batepapo', 'bater', 'bateram', 'bateramusico', 'bateu', 'batgol', 'bati', 'batida', 'batismo', 'batista', 'batman', 'baudio', 'bauru', 'bbk', 'bdrj', 'beatriz', 'beba', 'bebada', 'bebado', 'bebe', 'bebeda', 'bebedo', 'bebem', 'bebendo', 'beber', 'beberam', 'bebeu', 'bebidas', 'bebo', 'beby', 'beco', 'beem', 'beiin', 'beija', 'beijo', 'beira', 'bejamin', 'bel', 'belchior', 'beleza', 'belford', 'belfort', 'belisario', 'belizario', 'belmont', 'belo', 'bem', 'bemo', 'bencao', 'benedito', 'beneficios', 'benfica', 'benicio', 'benzema', 'benzemarques', 'bernardino', 'bernardo', 'besteira', 'beto', 'bezerra', 'bgddd', 'bgl', 'bglh', 'bia', 'bianca', 'biblia', 'bibliao', 'bicao', 'bicho', 'bichos', 'bicicleta', 'bico', 'big', 'bigode', 'bike', 'bilac', 'bilhao', 'bilhete', 'bilhoes', 'bilhoesano', 'bilhos', 'billoy', 'bimensal', 'binario', 'bingen', 'biscoito', 'bispo', 'bitencourt', 'bjjs', 'bjo', 'bjoos', 'bjs', 'black', 'bleizer', 'blindados', 'blitz', 'blitzs', 'bliz', 'block', 'bloco', 'blok', 'bloqueio', 'blz', 'blza', 'bnh', 'boa', 'boaa', 'boaaa', 'boas', 'boate', 'boato', 'bob', 'bobbar', 'bobo', 'bobobo', 'boby', 'boca', 'bocaiuva', 'bocaria', 'boeiros', 'bofetada', 'boi', 'boiola', 'bois', 'bok', 'bola', 'boladana', 'bolado', 'boldo', 'boletim', 'bolinha', 'bolivar', 'bolo', 'bolsa', 'bolso', 'bom', 'bomba', 'bombeiros', 'bomdia', 'bonas', 'bonde', 'bonfim', 'bonifacio', 'bonitas', 'bonito', 'bonitos', 'bonus', 'bonzao', 'booa', 'boom', 'boqueirao', 'bora', 'borba', 'borel', 'borges', 'bosta', 'bosta2', 'bota', 'botaa', 'botafogo', 'botam', 'botando', 'botar', 'botava', 'botei', 'bpm', 'bpmcom', 'brabo', 'bracos', 'bradesco', 'braga', 'branca', 'branco', 'brancosao', 'brasas', 'brascarnes', 'brasil', 'brasileira', 'brasileiro', 'brasileiros', 'braulio', 'braz', 'brc', 'breize', 'brendha', 'brett', 'breve', 'briga', 'brigaaa', 'brigando', 'brinca', 'brincadeira', 'brincar', 'brinks', 'brisa', 'brisamar', 'brito', 'brizola', 'brizolao', 'bronca', 'bronha', 'bronze', 'broteiii', 'brt', 'bruce', 'bruna', 'bruno', 'bruta', 'buaaaaaaaaaaa', 'buceta', 'bucetas', 'bucha', 'buchas', 'bueiro', 'buenos', 'bufa', 'buffon', 'bugando', 'bugre', 'bule', 'bulhoes', 'bullying', 'bunda', 'bunitu', 'buraco', 'buracos', 'burra', 'burraco', 'burro', 'busca', 'buscam', 'buscar', 'bxd', 'cabec', 'cabeca', 'cabecas', 'cabei', 'cabelinho', 'cabelo', 'cabelos', 'cabide', 'cabina', 'cabine', 'cabo', 'caboclos', 'cabos', 'cabral', 'cabucu', 'cacador', 'cacadores', 'cacamba', 'cacambas', 'cachoeira', 'cachoeiras', 'cacholo', 'cachorra', 'cachorrao', 'cachorrera', 'cachorrinho', 'cachorro', 'cachos', 'cacuia', 'cacula', 'cada', 'cadastra', 'cadastrando', 'cadastrar', 'cadastre', 'cadastro', 'cade', 'cadea', 'cadeia', 'cadeiras', 'cadr', 'caetano', 'cafe', 'cafezinho', 'cafubar', 'caga', 'caguei', 'cai', 'caido', 'caindo', 'cair', 'cairao', 'cairem', 'caiu', 'caixa', 'caixas', 'caixinhas', 'caju', 'cal', 'cala', 'calamidade', 'calar', 'calca', 'calcada', 'calcadao', 'calcadas', 'calcinha', 'calcularmos', 'calcuta', 'caldeirao', 'caldo', 'calendario', 'californiaponte', 'calma', 'calmo', 'calombe', 'calor', 'calote', 'calsada', 'cama', 'camara', 'cambota', 'came', 'camelos', 'camera', 'cameras', 'camiao', 'camila', 'caminha', 'caminhada', 'caminhando', 'caminhao', 'caminhava', 'caminho', 'caminhoes', 'caminhoneiro', 'caminhos', 'camisa', 'camos', 'campanha', 'campanhas', 'campeao', 'campeonato', 'campinho', 'campo', 'campos', 'camposmarcelo', 'camvc', 'cana', 'canais', 'canal', 'canazio', 'cancelada', 'cancelado', 'cancer', 'candidatando', 'candidatos', 'candido', 'canetas', 'canetasroubarmatardestruir', 'cangulo', 'cano', 'canos', 'cansaco', 'cansadao', 'cansaderimo', 'cansar', 'cansei', 'cantagalo', 'cantam', 'cantando', 'cantar', 'cantaria', 'canterio', 'canto', 'canudo', 'cao', 'caos', 'caotico', 'caozerao', 'caozinho', 'cap', 'capacete', 'capacidade', 'capazes', 'capelabota', 'capina', 'capital', 'capitalista', 'capitalistas', 'capivaras', 'capixaba', 'capixabas', 'capote', 'car', 'cara', 'caraca', 'caracteristicas', 'caraii', 'caralhi', 'caralho', 'caramba', 'carambase', 'caramujos', 'caranho', 'caras', 'carater', 'carcano', 'cardiologia', 'cardiologiasecretaria', 'cardoso', 'carencia', 'cargo', 'cargos', 'carinha', 'carinho', 'carinhomande', 'carinhosa', 'carinhoveja', 'carioca', 'cariocas', 'carissimos', 'carla', 'carlauma', 'carlos', 'carma', 'carmary', 'carmo', 'carnaval', 'carne', 'carnes', 'caro', 'carol', 'carona', 'caroooooool', 'caros', 'carre', 'carregando', 'carregou', 'carregue', 'carreira', 'carrinho', 'carro', 'carrobinha', 'carros', 'cartao', 'cartazes', 'carteira', 'cartoes', 'cartola', 'caruso', 'carvalho', 'casa', 'casada', 'casado', 'casal', 'casamento', 'casamos', 'casapois', 'casar', 'casarua', 'casas', 'case', 'caseira', 'caseitmtm', 'casemiro', 'caserna', 'caso', 'casorio', 'casos', 'cassado', 'casseta', 'cassia', 'castelo', 'castilho', 'castro', 'catamara', 'catarina', 'cate', 'categoria', 'catete', 'catico', 'catumbi', 'caua', 'caucadas', 'causa', 'causado', 'causam', 'causar', 'causas', 'causasera', 'causou', 'cava', 'cavaco', 'cavalcante', 'cavalheiro', 'cavalo', 'caxias', 'caxiasa', 'caxinhas', 'caxumba', 'cblo', 'ce', 'ceara', 'cearence', 'cedae', 'cedaefizeran', 'cedai', 'cedeu', 'cedo', 'cef', 'cefap', 'cego', 'ceider', 'cel', 'cele', 'celebrar', 'celebridade', 'celestino', 'celina', 'celso', 'celular', 'celulares', 'celulite', 'cemiterio', 'cenario', 'centavos', 'centenario', 'centenas', 'cento', 'centrais', 'central', 'centro', 'cep', 'cera', 'cerca', 'cercado', 'cerebro', 'cerquinhaai', 'certa', 'certame', 'certamente', 'certe', 'certesa', 'certeza', 'certificacao', 'certificadoqualificacao', 'certinho', 'certo', 'certomais', 'cerveja', 'cesar', 'cesarea', 'cesta', 'cet', 'cetep', 'cetex', 'ceu', 'ceza', 'cezarao', 'cfor', 'cha', 'chacara', 'chacina', 'chacrinha', 'chagas', 'chaleco', 'chama', 'chamada', 'chamadas', 'chamadaswhatsappcom', 'chamado', 'chamados', 'chamalos', 'chamam', 'chamando', 'chamar', 'chame', 'chamei', 'chamo', 'chamou', 'championship', 'chanar', 'chance', 'chao', 'chapadao', 'chapando', 'chapecoense', 'chapinhas', 'charlie', 'chata', 'chato', 'chaves', 'chavier', 'chefe', 'chega', 'chegada', 'chegam', 'chegando', 'chegar', 'chegara', 'chegaram', 'chegay', 'chego', 'chegoo', 'chegoooo', 'chegou', 'chegueeeeier', 'cheguei', 'cheia', 'cheio', 'cheios', 'cheiro', 'chequei', 'chic', 'chicao', 'chiclete', 'chicletes', 'chico', 'chigan', 'chile', 'china', 'chines', 'chineses', 'chip', 'choc', 'chocolate', 'chopp', 'choque', 'chora', 'chorando', 'chorar', 'chore', 'chorei', 'choro', 'chorou', 'chove', 'chovendo', 'chover', 'chovia', 'chris', 'christian', 'christiano', 'chupa', 'chupetinha', 'churrascaria', 'churrasco', 'chuva', 'chuvendo', 'chuver', 'chuveu', 'chuvinha', 'cialis', 'cicinho', 'ciclista', 'ciclovia', 'ciclovias', 'cidadao', 'cidadaos', 'cidade', 'cidades', 'cientes', 'ciep', 'cig', 'cigarros', 'cigura', 'cilindro', 'cima', 'cinco', 'cinelandia', 'cinema', 'cinquentinha', 'cintya', 'ciosp', 'circo', 'circula', 'circulam', 'circulando', 'cirque', 'cirurgia', 'cirurgico', 'citacao', 'citada', 'citando', 'citar', 'cituacao', 'cituado', 'ciumenta', 'ciumes', 'civel', 'civil', 'civis', 'cizidoo', 'ckack', 'clama', 'clandestino', 'claridade', 'clarimundo', 'claro', 'classe', 'claudia', 'claudimar', 'claudio', 'cleiton', 'cliente', 'clientes', 'clientesno', 'clima', 'clin', 'clinica', 'clinicas', 'clique', 'clonados', 'clone', 'close', 'clovis', 'clube', 'clubes', 'cmg', 'cmo', 'cnh', 'cnpj', 'cntg', 'coagidos', 'cobal', 'coberta', 'cobertura', 'cobra', 'cobrador', 'cobram', 'cobramos', 'cobranca', 'cobrancas', 'cobrando', 'cobrar', 'cobre', 'cobrem', 'cobren', 'coco', 'cocota', 'codigo', 'coe', 'coelho', 'coer', 'cofoiii', 'coisa', 'coisas', 'coisat', 'coitada', 'coitado', 'col', 'colaboracao', 'colado', 'colar', 'colega', 'colegas', 'colegio', 'coleguinha', 'coleiras', 'coleta', 'colete', 'coletiva', 'coletivo', 'collet', 'colo', 'coloca', 'colocam', 'colocando', 'colocar', 'colocaram', 'colocarem', 'colocaria', 'colocassemos', 'colocava', 'colocca', 'colocou', 'colombia', 'coloque', 'coloquei', 'coluna', 'colunas', 'com', 'com_content', 'coma', 'comandando', 'comandante', 'comando', 'combate', 'combater', 'combinado', 'combinou', 'combis', 'combustiveis', 'comcatarinense', 'come', 'comeca', 'comecam', 'comecando', 'comecar', 'comecaram', 'comecarao', 'comecei', 'comeco', 'comecou', 'comedia', 'comemoracao', 'comendador', 'comendo', 'comenta', 'comentar', 'comentario', 'comento', 'comer', 'comercial', 'comercialmente', 'comerciante', 'comes', 'comeso', 'comesso', 'cometeu', 'comeu', 'comfundindo', 'comhecia', 'comi', 'comida', 'comidahospital', 'comigo', 'comigooi', 'cominidades', 'comissao', 'comlurb', 'commander', 'como', 'comoarrumando', 'comocom', 'comofazer', 'comovi', 'companheiro', 'companheiros', 'companhia', 'company', 'comparacao', 'comparado', 'compare', 'comparecer', 'compareceu', 'compartilha', 'compartilhando', 'compartilhar', 'compartilharam', 'compartilhe', 'compartilhou', 'compeerativas', 'compete', 'competentes', 'compiacao', 'complementar', 'completa', 'completamente', 'completo', 'complexo', 'compo', 'componete', 'composicao', 'composicoes', 'compra', 'comprado', 'comprar', 'comprara', 'comprei', 'comprido', 'comprimidos', 'compromisso', 'comprou', 'comprova', 'comprovante', 'comu', 'comum', 'comunicacao', 'comunicacoes', 'comunicado', 'comunicamos', 'comunico', 'comunidade', 'comunidades', 'comunidadr', 'comunidsde', 'comunique', 'comunitaria', 'comunitario', 'comuns', 'comvite', 'concedida', 'concedido', 'conceitoado', 'concer', 'concerta', 'concertarna', 'concessao', 'concessionaria', 'concluido', 'concluindo', 'concluir', 'concluiram', 'conclusao', 'concorda', 'concorde', 'concordo', 'concorrencia', 'concorrente', 'concorrentes', 'concursados', 'concurso', 'cond', 'conde', 'condenado', 'condicoes', 'condominio', 'condominios', 'condomino', 'condutor', 'conectar', 'confessar', 'confie', 'confinado', 'confira', 'confirmacao', 'confirmado', 'confirmadovinte', 'confirmando', 'confirmar', 'confraternizacao', 'confronto', 'confusao', 'congestionados', 'congressista', 'congressistas', 'congresso', 'conheca', 'conhece', 'conhecem', 'conhecer', 'conhecesse', 'conheci', 'conhecida', 'conhecido', 'conhecie', 'conhecimento', 'conheco', 'conhecoele', 'conheso', 'conj', 'conjunto', 'cono', 'conosco', 'conplexo', 'conquistavam', 'conquistou', 'conrado', 'conrrado', 'consciencia', 'conscientizacao', 'conscientizar', 'consecutivas', 'consecutivo', 'consegue', 'consegui', 'conseguimos', 'conseguindo', 'conseguir', 'conseguiram', 'conseguiremos', 'conseguiriamos', 'conseguiu', 'conseguur', 'conselheiro', 'conselho', 'consequencia', 'consequencias', 'consequente', 'consertar', 'conserto', 'consertou', 'conservam', 'considerada', 'considerado', 'considerou', 'consiga', 'consigo', 'consolidado', 'consolidar', 'consta', 'constante', 'constantes', 'constantino', 'constaria', 'constatar', 'constitucional', 'constituicao', 'constrangimento', 'construcao', 'construida', 'construido', 'construir', 'construtora', 'consultar', 'consumidor', 'conta', 'contagem', 'contaminar', 'contamos', 'contando', 'contar', 'contara', 'contas', 'contato', 'contatos', 'contem', 'conteplada', 'conter', 'conterteza', 'conteudos', 'conteyner', 'continua', 'continuacao', 'continuam', 'continuando', 'continuar', 'continuaram', 'continuarao', 'continuarem', 'continuasse', 'continuava', 'continuo', 'conto', 'contou', 'contra', 'contraataque', 'contracoes', 'contrair', 'contran', 'contrario', 'contrata', 'contratacao', 'contratadas', 'contratado', 'contratados', 'contratando', 'contratar', 'contratos', 'contribui', 'contribuicao', 'contribuintes', 'contribuir', 'controla', 'controle', 'conveniado', 'conversa', 'conversando', 'conversar', 'conversas', 'convertida', 'convites', 'convive', 'convivendo', 'conviver', 'convoca', 'convucionou', 'coo', 'cooperativa', 'cooperativas', 'coorisensa', 'copa', 'copacabana', 'copacanana', 'copas', 'copia', 'copiar', 'copias', 'copo', 'cor', 'coracao', 'coragem', 'cordeirinho', 'cordeiro', 'cordovil', 'core', 'coredor', 'cores', 'corinthians', 'coritiba', 'corneas', 'corno', 'coroa', 'coronariana', 'coronel', 'corpo', 'corporacoes', 'corranho', 'corre', 'corredor', 'corredores', 'correia', 'correiapedra', 'correio', 'correios', 'correiozinho', 'corremos', 'correndo', 'corrente', 'correspondencia', 'correta', 'corretamente', 'correto', 'corretor', 'corria', 'corrida', 'corridas', 'corrigindo', 'corrigir', 'corrupcao', 'corrupto', 'corsa', 'cortada', 'cortam', 'corte', 'cortea', 'cortes', 'corto', 'cosme', 'cosmocg', 'costa', 'costant', 'costas', 'costumam', 'costume', 'cotato', 'couceiro', 'couto', 'covarde', 'covardemente', 'covardia', 'covardiasimplesmente', 'cozido', 'cozinha', 'cpa', 'cpf', 'cr', 'cr7', 'cra', 'cracha', 'crack', 'cratera', 'crateras', 'crb', 'crc', 'cre', 'creche', 'creches', 'credibilidade', 'credito', 'credo', 'creme', 'crescer', 'crescimento', 'criacao', 'criado', 'criador', 'criam', 'crianca', 'criancas', 'criancasqualquer', 'crianco', 'criar', 'criaram', 'criarao', 'criciuma', 'crime', 'crimes', 'criminal', 'criminalidade', 'criminalmente', 'criminosa', 'criminosos', 'criou', 'cris', 'crise', 'crispim', 'cristalinas', 'cristiano', 'cristina', 'cristo', 'cristovao', 'cristozomo', 'critica', 'critico', 'crkho', 'crl', 'crlh', 'crlhhhhhh', 'crlhu', 'crlo', 'crloooo', 'crlquero', 'crocodilo', 'crolezinhos', 'cross', 'crr', 'cruel', 'crueldade', 'crus', 'cruz', 'cruzada', 'cruzamentos', 'cruzar', 'cruzeiro', 'crv', 'crvg', 'csa', 'csnal', 'cti', 'ctt', 'ctz', 'ctza', 'cuando', 'cubra', 'cueca', 'cuida', 'cuidaa', 'cuidado', 'cuidador', 'cuidados', 'cuidara', 'cuidarao', 'cuidem', 'cuidese', 'culpa', 'culpado', 'culpados', 'cultura', 'cum', 'cumer', 'cumi', 'cumpadre', 'cumpre', 'cumprem', 'cumprimento', 'cumprir', 'cumulo', 'cunha', 'cunhada', 'cunhado', 'cupuacu', 'cura', 'curar', 'curicica', 'curiosidade', 'curso', 'cursos', 'curta', 'curte', 'curv', 'curva', 'custa', 'custas', 'custo', 'custos', 'custou', 'cuzao', 'cuzaum', 'cuzido', 'cuzinho', 'cvm', 'cvs', 'cvt', 'd53577', 'daaaa', 'dado', 'dados', 'daempresa', 'dah', 'dai', 'daiana', 'dake', 'daleste', 'dalmi', 'dama', 'damadrugada', 'danca', 'dance', 'dancinha', 'dando', 'daniel', 'danny', 'dano', 'danos', 'danoso', 'danosos', 'dantas', 'danyy', 'dao', 'daonao', 'dapopulacao', 'daq', 'daque', 'daquela', 'daquele', 'daqui', 'daquii', 'dar', 'dara', 'darao', 'darcy', 'daria', 'darima', 'das', 'das1800', 'das600', 'data', 'datas', 'dautiman', 'dava', 'davi', 'david', 'de', 'de15', 'dead', 'debaixo', 'debatido', 'debilitado', 'debora', 'decantacao', 'decepcionada', 'decepcionado', 'decida', 'decide', 'decidem', 'decidir', 'decidiu', 'decimo', 'decisoes', 'declaracao', 'declaracoes', 'declarar', 'declaro', 'declarou', 'decorrencia', 'decorrer', 'decreto', 'dedao', 'dedicacao', 'dedicado', 'dedicar', 'dedo', 'deem', 'defeito', 'defeitos', 'defenda', 'defende', 'defendemficamos', 'defender', 'defesa', 'defesanao', 'deficiencia', 'deficiente', 'deficit', 'dei', 'deicha', 'deim', 'deise', 'deitados', 'deitando', 'deivisom', 'deixa', 'deixam', 'deixando', 'deixar', 'deixaram', 'deixarao', 'deixe', 'deixem', 'deixou', 'dejetos', 'del', 'delacao', 'delegacia', 'delegaciais', 'deles', 'deleseu', 'delete', 'deliberacao', 'delicia', 'deliverys', 'demais', 'demanda', 'demandas', 'demitido', 'demitidos', 'democracia', 'democratizar', 'demoliu', 'demorou', 'demos', 'denciosa', 'dengue', 'denis', 'denise', 'denovo', 'dentes', 'dentro', 'denucia', 'denuncia', 'denunciando', 'denunciar', 'denuncias', 'denuncie', 'denunciou', 'deo', 'deodoro', 'depara', 'deparo', 'depende', 'dependem', 'dependendo', 'dependente', 'depoimento', 'depois', 'depositado', 'deposito', 'deposto', 'depressao', 'deputado', 'deputados', 'depwagner', 'dequissama', 'der', 'deram', 'deriva', 'derrubada', 'derrubado', 'des', 'desabafo', 'desabafou', 'desagradaveis', 'desanimado', 'desanime', 'desapareceu', 'desaparecida', 'desaparecido', 'desapareseno', 'desativado', 'desavisados', 'descansada', 'descarga', 'descartar', 'descaso', 'desce', 'descem', 'descentes', 'descer', 'desci', 'descida', 'descoberta', 'descoberto', 'descobri', 'descobrimos', 'descobrir', 'descobriram', 'desconhece', 'descontados', 'descontando', 'desconto', 'descontos', 'descontou', 'descontrair', 'descreveu', 'descriminado', 'descriminar', 'descrita', 'descubra', 'descubro', 'desculpa', 'desculpado', 'desculpas', 'desculpe', 'desculpem', 'descumpriu', 'desde', 'deseja', 'desejada', 'desejar', 'desejara', 'desejo', 'desejosem', 'desembargador', 'desempenhamos', 'desemprego', 'desempregosendo', 'desenho', 'desenrolano', 'desentendida', 'desenu', 'deserto', 'desesperada', 'desesperado', 'desesperados', 'desespero', 'desesperou', 'desferir', 'desfilando', 'desgaste', 'desgoverno', 'design', 'desisperada', 'desistir', 'deslandes', 'desleal', 'desligar', 'deslizamente', 'desmarcado', 'desmontada', 'desnecessario', 'desobedecer', 'desordem', 'despachantes', 'despacho', 'despedido', 'desperada', 'desperado', 'desperdicala', 'desperdicio', 'desperdissando', 'despertador', 'despertando', 'despertaria', 'despesa', 'despesas', 'despreparo', 'desputa', 'desqualificacao', 'desrespeito', 'desrespeitoso', 'desrespeitou', 'desrrespeito', 'dessa', 'dessas', 'desse', 'dessem', 'desses', 'desta', 'destaquese', 'destas', 'deste', 'destes', 'destino', 'destraindo', 'destreza', 'destrui', 'destruido', 'desumilde', 'desvalorizada', 'desviar', 'desvio', 'detalhe', 'detalhes', 'detentos', 'determinacaoum', 'detobias', 'detran', 'detro', 'deu', 'deuh', 'deuitos', 'deus', 'deuskkkkk', 'deuspassa', 'deve', 'devem', 'devemos', 'deveras', 'deveres', 'deveria', 'deveriam', 'deveriamos', 'devidas', 'devido', 'devidos', 'devolver', 'deyviid', 'dez', 'dezembro', 'dia', 'diaa', 'diaba', 'diabo', 'diaesse', 'diafala', 'diagnosticado', 'diamante', 'diamanteentao', 'diame', 'diana', 'diante', 'diaobrigado', 'diareia', 'diariamente', 'diarias', 'diario', 'dias', 'diaseste', 'dica', 'dida', 'diego', 'dietan', 'diferente', 'diferentes', 'dificeis', 'dificil', 'dificuldade', 'dificuldadee', 'dificuldadeporque', 'dificuldades', 'dificuldaque', 'dificultando', 'difiuldadepara', 'diga', 'digam', 'digamxixi', 'digitais', 'digitar', 'dignidade', 'dignificandoo', 'digno', 'dilatacao', 'dilma', 'dilmainaugurabrttranscariocaviajadeonibusaoladodeeduardopaespezao12681474html', 'dina', 'dinamico', 'dinheiro', 'diogo', 'dionisio', 'diorge', 'dir', 'direcao', 'direitamas', 'direitinho', 'direito', 'direitos', 'diretamente', 'direto', 'diretor', 'diretores', 'diretoria', 'discasse', 'disciplinar', 'discordar', 'discuti', 'disel', 'disendo', 'disfarcado', 'disfarssa', 'disfarssaa', 'disfarssso', 'disfuncao', 'disirolauma', 'disispero', 'dislike', 'dispensar', 'disperdicio', 'dispoe', 'disponiveis', 'disponivel', 'disposicao', 'disposto', 'dispostos', 'disque', 'disquedenuncia', 'disquei', 'disse', 'disselhe', 'disseme', 'disseque', 'disseram', 'disso', 'distante', 'distrato', 'distribuicao', 'distrito', 'ditaram', 'dito', 'diversas', 'diversificacao', 'diverti', 'divertido', 'divertir', 'dividas', 'dividida', 'dividir', 'divilguem', 'divina', 'divirto', 'divisao', 'divisoria', 'divisorias', 'divo', 'divulga', 'divulgacao', 'divulgacem', 'divulgado', 'divulgam', 'divulgando', 'divulgar', 'divulgaria', 'divulgassem', 'divulgue', 'divulguea', 'divulguem', 'diz', 'dizem', 'dizendo', 'dizer', 'dizerem', 'dizia', 'diziam', 'dizida', 'dlc', 'dle', 'dms', 'dna', 'dnv', 'doacao', 'doacoes', 'doador', 'doar', 'dobre', 'doce', 'doces', 'documentacao', 'documentar', 'documentos', 'doenca', 'doencas', 'doendo', 'doente', 'dogra', 'dohospital', 'doida', 'doidera', 'doido', 'dois', 'dolado', 'dolares', 'dole', 'doloridas', 'dom', 'domicilio', 'dominar', 'dominarao', 'domindo', 'domingo', 'domingos', 'domingosmoradores', 'dominio', 'dona', 'dono', 'dont', 'doo', 'dor', 'dores', 'dormen', 'dormi', 'dormimane', 'dormindo', 'dormir', 'dos', 'dose', 'doses', 'dou', 'douglas', 'doutor', 'drenador', 'drikinha', 'droga', 'drogadoficando', 'drogando', 'drogas', 'drpereira', 'drumont', 'dua', 'duarte', 'duas', 'ducaaa', 'duenu', 'duffes', 'duis', 'dulce', 'dupla', 'duque', 'duquede', 'dura', 'durante', 'durinha', 'durinho', 'durinhos', 'durmi', 'durmir', 'durmo', 'duro', 'duto', 'dutos', 'dutra', 'duvida', 'duvido', 'duvidosa', 'dyanna', 'eae', 'eai', 'eaperando', 'eapero', 'easdim', 'eca', 'eclipse', 'ecologicos', 'economia', 'economica', 'economizar', 'economize', 'ecosport', 'edgar', 'edicao', 'edicoes', 'edificante', 'editados', 'edital', 'editando', 'edmar', 'edmilson', 'edmilsongostaria', 'eduardo', 'educacao', 'educacional', 'educador', 'educadores', 'educados', 'educar', 'eeeeeeh', 'eeeu', 'eem', 'efeito', 'efetiva', 'efetivado', 'efetuarem', 'efetuou', 'eficazes', 'eficiente', 'efigenia', 'ehbum', 'eisa', 'eita', 'ela', 'elaboradas', 'elas', 'ele', 'eleger', 'eleicao', 'eleicoesano', 'eleito', 'eleitoral', 'elementos', 'elenco', 'eleodoro', 'eles', 'elesem', 'eletrica', 'eletronica', 'eletronico', 'eletronicos', 'elevado', 'elevador', 'elevadores', 'eliandro', 'eliane', 'elias', 'eliesio', 'eliezer', 'elisa', 'eller', 'els', 'elyseos', 'elza', 'ema', 'email', 'embaixador', 'embaixo', 'embarcado', 'embebedar', 'embora', 'embrapa', 'emenda', 'emergencia', 'emergencial', 'emerson', 'emfrente', 'emg', 'emim', 'emissora', 'emme', 'emocao', 'emocional', 'emocionante', 'emotico', 'empartes', 'empata', 'empatei', 'empedir', 'empesa', 'empesas', 'emplena', 'empre', 'emprea', 'empreenderam', 'empreendimento', 'empregadas', 'empregador', 'empregados', 'empregaticio', 'emprego', 'empregos', 'empresa', 'empresarios', 'empresas', 'empresatendo', 'emprestei', 'empurra', 'empurrando', 'empurrou', 'emtra', 'emtrada', 'emviamdo', 'enajudem', 'enboscada', 'encaminhar', 'encaminhara', 'encaminhe', 'encaminheo', 'encaminho', 'encantado', 'encantadora', 'encarecidamente', 'encarregado', 'encerrar', 'encerre', 'encerrou', 'enchente', 'enchentes', 'encheu', 'encima', 'encontra', 'encontrada', 'encontrado', 'encontramos', 'encontrando', 'encontrar', 'encontraram', 'encontrase', 'encontravase', 'encontrei', 'encontro', 'encontrou', 'encostado', 'encostar', 'encosto', 'encurralado', 'end', 'enderecada', 'endereco', 'enderecorua', 'enderecos', 'endetifica', 'energia', 'enfal', 'enfarte', 'enfeitam', 'enfeite', 'enfermarias', 'enfermeiros', 'enferrujado', 'enfim', 'enfrenta', 'enfrentamos', 'enfrentando', 'enfrentar', 'enfrente', 'enfrentem', 'engaar', 'engana', 'enganacao', 'enganada', 'enganadas', 'enganado', 'enganar', 'enganosa', 'enganosas', 'engarrafada', 'engenheiro', 'engenho', 'engisa', 'engodo', 'engole', 'engolidos', 'engordei', 'engracado', 'engrassado', 'engraxate', 'enne', 'enorme', 'enqnto', 'enquadre', 'enquanto', 'ensinando', 'ensinou', 'ent', 'entanto', 'entao', 'entardecer', 'entaum', 'enteada', 'entediados', 'entende', 'entendemos', 'entender', 'entendeu', 'entendi', 'entendo', 'ententeu', 'enternado', 'enterro', 'entocado', 'entorno', 'entornoasfaltadas', 'entra', 'entrada', 'entram', 'entramos', 'entrando', 'entrar', 'entraram', 'entraren', 'entraria', 'entre', 'entrega', 'entregar', 'entregas', 'entregue', 'entregues', 'entrei', 'entrem', 'entretanto', 'entrevista', 'entrevistado', 'entronta', 'entrou', 'entulho', 'entupida', 'entupidas', 'entupido', 'envadir', 'envardir', 'envelhecer', 'envelhecimento', 'envergonha', 'enviadas', 'enviado', 'enviae', 'enviala', 'envialas', 'enviando', 'enviar', 'enviaram', 'envie', 'enviei', 'envio', 'enviou', 'envolva', 'envolvendo', 'envolver', 'envolvido', 'enxarcada', 'enxergar', 'enxuto', 'eos', 'eou', 'epoca', 'equipamentos', 'equipe', 'equivocada', 'era', 'erae', 'eretil', 'erika', 'ernestro', 'ero', 'err', 'errado', 'errafo', 'errei', 'erro', 'erroooou', 'erros', 'esa', 'escada', 'escadas', 'escalar', 'escandalos', 'escaparem', 'escapou', 'escartes', 'escassos', 'escoba', 'escobar', 'escodinho', 'escola', 'escolar', 'escolas', 'escolha', 'escolhas', 'escolinha', 'escombro', 'esconde', 'esconder', 'escondido', 'escorregadia', 'escostadas', 'escravidao', 'escravizados', 'escravoceta', 'escreve', 'escrevendo', 'escreveu', 'escrevi', 'escrevo', 'escrita', 'escrito', 'escritorio', 'escura', 'escuras', 'escuridao', 'escuro', 'escuta', 'escutado', 'escutei', 'escuto', 'ese', 'esfaqueando', 'esfaqueou', 'esforco', 'esfriar', 'esgoto', 'esgotoessa', 'esguro', 'esi', 'espaco', 'espacos', 'espalhe', 'espancada', 'espancamentos', 'espancando', 'especiais', 'especial', 'especialista', 'especialmente', 'especifico', 'espectadora', 'espelho', 'espera', 'esperam', 'esperanca', 'esperando', 'esperar', 'espere', 'esperei', 'espernca', 'espero', 'espiona', 'espirito', 'espiritualmente', 'esporte', 'esportes', 'esportiva', 'esposa', 'esposado', 'esposo', 'esqueca', 'esquece', 'esquecendo', 'esquecer', 'esqueceram', 'esqueceu', 'esqueci', 'esquecida', 'esquecido', 'esquerda', 'esquina', 'esquipe', 'essa', 'essas', 'esse', 'essencial', 'est', 'esta', 'estabelecer', 'estabelecimento', 'estacao', 'estacio', 'estacionado', 'estacionamento', 'estacionarias', 'estacoes', 'estado', 'estadual', 'estais', 'estaleiro', 'estam', 'estamos', 'estand', 'estao', 'estapassando', 'estapec', 'estar', 'estara', 'estarei', 'estaremos', 'estaria', 'estariam', 'estas', 'estava', 'este', 'estende', 'estepe', 'estes', 'estevao', 'estilo', 'estimacao', 'estimado', 'estimase', 'estipular', 'estirada', 'estoque', 'estou', 'estourado', 'estouro', 'estr', 'estrada', 'estradaem', 'estradas', 'estraga', 'estragou', 'estranhei', 'estranho', 'estrano', 'estrategia', 'estrela', 'estrupado', 'estrutura', 'estuda', 'estudado', 'estudante', 'estudantes', 'estudar', 'estudio', 'estudios', 'estudo', 'estufando', 'estuprado', 'estuprador', 'esviando', 'etapa', 'etc', 'ete', 'eterniti', 'etica', 'etleta', 'eubri', 'euclides', 'euem', 'eugenia', 'eugenio', 'eunice', 'euu', 'euuu', 'evangelico', 'evento', 'eventualmente', 'ever', 'everaldo', 'eviei', 'evitar', 'evitem', 'evolucao', 'exame', 'exames', 'exatamente', 'exato', 'excecoes', 'excelente', 'excenciaisporque', 'excentrica', 'exclamou', 'exclusao', 'exclusivamente', 'exclusivo', 'exdiretor', 'executado', 'executivo', 'exemplo', 'exercer', 'exercido', 'exercito', 'exercitos', 'exigem', 'exigir', 'exigira', 'exigirao', 'exista', 'existe', 'existem', 'existia', 'existiam', 'existindo', 'existir', 'exito', 'expedientes', 'experimentada', 'explanou', 'explicacao', 'explicando', 'explicar', 'explique', 'explode', 'explodiu', 'exploracao', 'explorar', 'explosao', 'expondo', 'expor', 'exposicao', 'exposto', 'expresidente', 'expressao', 'expresso', 'extensao', 'extenso', 'extintor', 'extra', 'extrajudicialmente', 'extremamente', 'faaaaase', 'fabiana', 'fabiano', 'fabin', 'fabinho', 'fabio', 'fabricante', 'faca', 'facada', 'facadas', 'facam', 'faccao', 'face', 'facebook', 'facese', 'fachel', 'facheu', 'facil', 'faco', 'faetec', 'fagner', 'faichada', 'fais', 'faisao', 'faiso', 'faixa', 'faixas', 'fala', 'falaa', 'falam', 'falamos', 'falando', 'falar', 'falaram', 'falaremos', 'falcao', 'fale', 'faleceu', 'falee', 'falei', 'falem', 'falencia', 'falha', 'falido', 'falo', 'falou', 'falsa', 'falsao', 'falsificados', 'falsificou', 'falso', 'falsos', 'falta', 'faltam', 'faltando', 'faltaram', 'faltassem', 'faltava', 'faltei', 'faltou', 'falu', 'familha', 'familia', 'familiaao', 'familiares', 'familias', 'family', 'famosa', 'famoso', 'fan', 'fanfarrao', 'fanning', 'fantasma', 'fantastico', 'faol', 'fara', 'farda', 'faremos', 'faria', 'farias', 'farinha', 'farmacia', 'farmacias', 'farol', 'farra', 'fas', 'fase', 'fasee', 'fasendo', 'faseno', 'fases', 'faso', 'fasso', 'fatal', 'fatima', 'fato', 'fator', 'fatos', 'faturamento', 'faustao', 'favela', 'favor', 'favoreca', 'favorfazer', 'favorito', 'favoritp', 'favorme', 'favornao', 'favorsos', 'faz', 'faze', 'fazeeerr', 'fazem', 'fazenda', 'fazendas', 'fazendeiro', 'fazendo', 'fazendo58', 'fazer', 'fazerabracos', 'fazeren', 'fazerpedimos', 'fazia', 'faziam', 'fdp', 'fdppppp', 'fds', 'fecha', 'fechada', 'fechadas', 'fechado', 'fecham', 'fechamento', 'fechando', 'fechar', 'fecharam', 'federal', 'fedido', 'fedorenta', 'fee', 'feeds', 'fei', 'feia', 'feijao', 'feio', 'feira', 'feirao', 'feita', 'feitas', 'feito', 'feitolocal', 'feitos', 'feladapota', 'felicidade', 'felicidades', 'felipe', 'feliz', 'felizes', 'felizmente', 'feminino', 'fenada', 'feng', 'fenofinol', 'fenomeno', 'fer', 'feriado', 'feriadoabsurdo', 'ferias', 'ferida', 'feridos', 'ferimentos', 'fernanda', 'fernandes', 'fernandino', 'fernando', 'ferovias', 'ferra', 'ferrada', 'ferragens', 'ferrar', 'ferreira', 'ferro', 'festa', 'festas', 'festinha', 'festival', 'fevereiro', 'fez', 'fezeram', 'fezsera', 'ffp', 'fgts', 'fgv', 'fhm', 'fia', 'fibra', 'fica', 'ficado', 'ficam', 'ficamos', 'ficando', 'ficar', 'ficara', 'ficaram', 'ficasse', 'ficava', 'fico', 'ficou', 'fidmi', 'figado', 'figueira', 'figueirense', 'fik', 'fika', 'fila', 'filha', 'filhao', 'filho', 'filhos', 'filiais', 'filial', 'filmado', 'filmagem', 'filmar', 'filme', 'filmei', 'fim', 'fimas', 'final', 'finalidade', 'finalizar', 'finalmente', 'financiamento', 'fins', 'fio', 'fios', 'fique', 'fiquei', 'fiquem', 'fire', 'firmadora', 'firmas', 'fiscal', 'fiscalizacao', 'fiscalizam', 'fiscalizou', 'fisica', 'fisicas', 'fisico', 'fisioterapia', 'fit', 'fixo', 'fiz', 'fizemos', 'fizeram', 'fizessem', 'fla', 'flagrados', 'flagrando', 'flagrante', 'flamengo', 'flamerda', 'flavio', 'fleury', 'flex', 'flop', 'flor', 'florestal', 'floripa', 'flu', 'fluminense', 'fluxo', 'flw', 'fock', 'foco', 'focos', 'foda', 'fodase', 'fode', 'fodida', 'fofao', 'fofo', 'fofoca', 'fogao', 'fogo', 'fogoe', 'fogopois', 'foi', 'folga', 'folha', 'fom', 'fones', 'fonseca', 'fontes', 'fooda', 'fora', 'foram', 'foran', 'forao', 'foraos', 'forca', 'forcaparanos', 'forcas', 'ford', 'forebis', 'forma', 'formacao', 'formado', 'formar', 'formaro', 'formas', 'formigapor', 'formou', 'fornecedores', 'fornecer', 'fornecimento', 'forno', 'forte', 'fortes', 'fosco', 'foto', 'fotografado', 'fotografar', 'fotografarmos', 'fotos', 'fox', 'fqz', 'fracasso', 'fraco', 'fraldas', 'franca', 'francisco', 'franco', 'frango', 'franklin', 'franklinvc', 'fraquin', 'fred', 'free', 'freguesia', 'frei', 'freia', 'freire', 'freitas', 'frente', 'frequencia', 'frequente', 'frequentemente', 'frequentes', 'fresquinha', 'frete', 'fria', 'friboi', 'friburgo', 'friburgop', 'frigorificos', 'frio', 'frota', 'frozen', 'frustacao', 'frutos', 'fsvor', 'fucking', 'fude', 'fudeeuu', 'fudendo', 'fuder', 'fudeu', 'fudfuder', 'fudi', 'fuga', 'fugia', 'fugindo', 'fugir', 'fugiu', 'fui', 'fuiiiiiiiiiii', 'fuma', 'fumaca', 'fumar', 'fumo', 'fumou', 'funciona', 'funcional', 'funcionando', 'funcionar', 'funcionara', 'funcionaria', 'funcionario', 'funcionarios', 'funcionava', 'fundacao', 'fundamento', 'fundao', 'fundo', 'fundos', 'funk', 'funkea', 'furados', 'furam', 'furar', 'furo', 'furta', 'furtando', 'furtos', 'fusao', 'futebol', 'futura', 'futuramente', 'futuro', 'fuui', 'fuzis', 'fzdo', 'fzr', 'gaay', 'gab', 'gabaritos', 'gabi', 'gabigol', 'gabinete', 'gabriel', 'gabriela', 'gado', 'gafe', 'gago', 'galao', 'galax', 'galaxy', 'galdino', 'galeao', 'galera', 'galeratriste', 'galho', 'galhos', 'galindo', 'galo', 'galrondon', 'galvao', 'gama', 'gandaias', 'gangue', 'ganha', 'ganhadores', 'ganham', 'ganhamos', 'ganhando', 'ganhar', 'ganharmos', 'ganharsendo', 'ganhava', 'ganhei', 'ganhos', 'ganhou', 'garagens', 'garante', 'garantir', 'garantiu', 'garcom', 'garera', 'garganta', 'gari', 'garis', 'garota', 'garoto', 'garrafas', 'gas', 'gasolina', 'gasometro', 'gasta', 'gastando', 'gastar', 'gasto', 'gastronomica', 'gata', 'gatinha', 'gatinho', 'gato', 'gau', 'gavea', 'gay', 'gays', 'gayton', 'gazela', 'geipada', 'geladeira', 'gelado', 'gelo', 'genaro', 'general', 'generalizada', 'generosamente', 'genios', 'genro', 'gente', 'genteda', 'gentee', 'genteee', 'genten', 'gentil', 'gentileza', 'geovanna', 'geracao', 'gerais', 'geral', 'geraldo', 'geram', 'gerando', 'gerar', 'gerem', 'geremario', 'gerente', 'gericino', 'gerson', 'gestacao', 'gestante', 'gestao', 'getulio', 'giboia', 'gigante', 'gigantesco', 'gilberto', 'gilka', 'gilmar', 'gilza', 'gincana', 'girais', 'girando', 'girassol', 'gladys', 'glaucio', 'gleison', 'globais', 'global', 'globo', 'gloria', 'gloriaa', 'glseles', 'gmailcom', 'gnt', 'god', 'godoy', 'gogo', 'goiaba', 'goias', 'gol', 'golpe', 'gols', 'gomes', 'goncalo', 'goncaloas', 'goncalocarlos', 'google', 'gorda', 'gordao', 'gorddin', 'gordinho', 'gordo', 'gosta', 'gostam', 'gostar', 'gostaria', 'gostariamos', 'gostei', 'gosto', 'gostosa', 'gostoso', 'gostou', 'gota', 'goteira', 'gotze', 'gourmet', 'gouveia', 'governador', 'governadores', 'governo', 'goytacazes', 'gps', 'graca', 'gracaparque', 'gracas', 'gradativamente', 'grade', 'grajau', 'grama', 'gramacho', 'gramata', 'grana', 'grand', 'grande', 'grandeesta', 'granderj', 'grandes', 'grandesem', 'grante', 'granulaldo', 'graos', 'grata', 'gratificacoes', 'gratis', 'grato', 'gratuito', 'gratuitos', 'grau', 'graus', 'gravacao', 'gravado', 'gravando', 'gravar', 'grave', 'gravei', 'graves', 'gravida', 'gravidade', 'gravidez', 'gravo', 'gravou', 'gregorio', 'gremio', 'greve', 'grey', 'grill', 'grimgo', 'gripado', 'gripe', 'grita', 'gritar', 'gritare', 'gritos', 'grl', 'gross', 'grota', 'grt', 'grtao', 'grupo', 'grupodesculpa', 'grupoe', 'gruponao', 'grupos', 'grussaisao', 'gsar', 'gst', 'gsus', 'guadalupe', 'guaicurus', 'guanabara', 'guando', 'guandu', 'guapimirim', 'guapimirimrj', 'guaramiranga', 'guaratiba', 'guaratibana', 'guarda', 'guardado', 'guardadores', 'guardas', 'guarde', 'guarnicao', 'gue', 'guedes', 'guei', 'guento', 'guerra', 'guerrero', 'guia', 'guiando', 'guilherme', 'guimaraes', 'gurgel', 'gustavo', 'guy', 'gzb8905', 'habbo', 'habilitacao', 'habitados', 'habitat', 'haduken', 'haha', 'hahaha', 'hahahaha', 'hahahahaha', 'hahahhaha', 'hahqj', 'hail', 'halls', 'ham', 'hame', 'han', 'haroldo', 'hauahaua', 'hauahauauayahaahahqhqhh', 'hauahuah', 'have', 'havendo', 'havera', 'haveria', 'havia', 'hayne', 'hbs', 'hcpm', 'heas', 'hectares', 'hediondos', 'hedonismo', 'hein', 'heinekens', 'heiste', 'helen', 'helena', 'helicoptero', 'helil', 'helio', 'hem', 'hemengarda', 'hemocentro', 'hemodinamica', 'hemorio', 'hemorioela', 'hemorragia', 'henderson', 'henrique', 'henrrique', 'her', 'hercules', 'hermes', 'heroi', 'hersen', 'heuehue', 'hey', 'hfg', 'hhz', 'hidrica', 'higiene', 'higienico', 'higienicu', 'hilux', 'hino', 'hipermercado', 'historia', 'historias', 'hjacho', 'hjgracas', 'hme', 'hmm', 'hmmm', 'hodometro', 'hoho', 'hoje', 'holanda', 'homem', 'homenagem', 'homens', 'homestudio', 'homicidio', 'homologacao', 'honorarios', 'honorio', 'honra', 'honramos', 'honrarem', 'hopitais', 'hora', 'horaa', 'horae', 'horario', 'horas', 'horasextras', 'horinhas', 'horriveis', 'horrivel', 'horror', 'horrores', 'horta', 'hortifruti', 'horto', 'hospitais', 'hospital', 'hoteis', 'hotel', 'houverem', 'hrs', 'hsya', 'http', 'http1paulosilvablogspotcombr201502diariasnuncamais_62htmlm', 'httpbelfordroxoonlineblogspotcombr201504familiaprocurajovemdesaparecidaemhtml', 'httpcampos24horascombrportalnoticiascorpoesquartejadoedeoficialdejusticadecampos', 'httpportalmecgovbrindexphpitemid', 'httpreportereduandersilvablogspotcombr201506promessadeefetivacaoedemitidossemhtmlm', 'httpshzamt41214617', 'httpsmfacebookcomphotophpfbid', 'httpssoundcloudcomnelsonrogerioevaristosetsdjrogerioproibidao', 'httpstwittercomanagblsstatus623171660724719617s', 'httpswwwfacebookcombillviannaposts683310065135258', 'httpswwwfacebookcomchellemoraesposts833604263395610', 'httpswwwfacebookcomsantanajornalistavideos10206801466383609', 'httpswwwfacebookcomtaquaradadeprephotosa2739290627613441073741825143792045775047464826750338240type', 'httpswwwfacebookcomwilliamdarocinhavideos10206436272003915', 'httpsyoutubepig1pf0ohre', 'httpsyoutubeubjekiwlnvq', 'httpsyoutubezol86hgsxjq', 'httptudosobretodosse', 'httpwwwleisecamaricacombrdenilsondoparapenteeencontradomortonaserradocamburi', 'httpwwwsindsprevrjorgbrjornalsecaoasparea', 'httpwwwspeedtestnetmyresulta1309707092', 'httpyoutubegr8maqqoywm', 'hudson', 'hue', 'huet', 'hugosao', 'hum', 'humano', 'humanos', 'humberto', 'humilde', 'humilhacao', 'humilhados', 'hummm', 'hummmm', 'hun', 'hupe', 'huque', 'iaee', 'iago', 'iala', 'iam', 'iarrrr', 'ibhe', 'ibia', 'ibituruna', 'icarai', 'icone', 'icu', 'idade', 'idai', 'ideal', 'ideia', 'identidade', 'identificacao', 'identificada', 'identificado', 'identificar', 'identificouse', 'identifique', 'idiota', 'ido', 'idosas', 'idoso', 'idosos', 'iecac', 'ignora', 'ignorado', 'ignorancia', 'ignorar', 'ignore', 'igo', 'igor', 'igreja', 'igua', 'iguacu', 'iguacurjonde', 'igual', 'igualmente', 'igualzinho', 'iguinorada', 'iii', 'iisso', 'ilegais', 'ilegal', 'ilegalmente', 'ilegivel', 'ilesaamem', 'ileso', 'ilha', 'ilha324', 'ilhadosa', 'ilicito', 'illner', 'iludidos', 'iluminacao', 'iluminada', 'imagem', 'imagens', 'imagina', 'imagine', 'imbrazado', 'imbu', 'imediata', 'imediatamente', 'imediatas', 'imediatismo', 'imenso', 'iminencia', 'imovel', 'impacto', 'impede', 'impediam', 'impedindo', 'impediram', 'implantacao', 'implantado', 'implicando', 'implodindo', 'impoe', 'importa', 'importando', 'importante', 'importantes', 'importara', 'impossibilidade', 'impossivel', 'imposto', 'impostos', 'impotencia', 'impotente', 'imprecionante', 'imprecionantr', 'imprensa', 'impressa', 'impressao', 'impressos', 'improcedente', 'improdutiva', 'improdutivo', 'improvisou', 'impune', 'imunidade', 'inaceitavel', 'inacreditavel', 'inativa', 'inauguracao', 'inaugurado', 'inc', 'incendiado', 'incendio', 'incendios', 'incidencia', 'incluindo', 'incluindose', 'incluir', 'inclusive', 'incoerente', 'incomoda', 'inconsequente', 'incorrer', 'incortel', 'incriminados', 'incrivel', 'incrivelmente', 'indefesorjtv', 'indenizacao', 'indenizacoes', 'indenizar', 'indentifique', 'india', 'indian', 'indiano', 'indicacao', 'indicados', 'indicar', 'indices', 'indignacao', 'indignada', 'indignadameu', 'indio', 'individualidade', 'individuo', 'indo', 'industria', 'induzindo', 'inea', 'inertesnao', 'ines', 'infancia', 'infantil', 'infarto', 'infeccao', 'infelismente', 'infelizmente', 'inferninho', 'inferno', 'inflamavel', 'influenciar', 'infobarra', 'infore', 'informacao', 'informacoes', 'informada', 'informalos', 'informam', 'informando', 'informar', 'informaram', 'informatica', 'informe', 'informei', 'informo', 'informou', 'infracionar', 'inga', 'ingerir', 'ingerirem', 'ingracadaum', 'ingressar', 'ingressaram', 'ingressavam', 'ingresso', 'ingrid', 'inhauma', 'inibir', 'inibus', 'iniciada', 'inicialmente', 'iniciar', 'iniciaram', 'iniciativa', 'inicio', 'iniciou', 'ininterruptamente', 'injustica', 'inlegal', 'inoa', 'inocente', 'inocentes', 'inovacao', 'inovar', 'inrregular', 'insalubridade', 'inscrito', 'inscritos', 'inseguranca', 'insercao', 'insiste', 'insistir', 'insistiu', 'inspecao', 'inspetor', 'inss', 'instalacao', 'instalaram', 'instituicao', 'instituto', 'instrucoes', 'insulfime', 'insultos', 'insuportavel', 'integralmente', 'inteira', 'inteiro', 'intelectivamente', 'intelectivo', 'inteligente', 'intemperies', 'intencao', 'intendi', 'intensa', 'intensamente', 'intenso', 'intensos', 'inter', 'interditada', 'interessados', 'interessante', 'interessar', 'interesse', 'interior', 'intermediacao', 'interna', 'internacao', 'internacional', 'internada', 'internado', 'internados', 'internas', 'internet', 'interno', 'interrompeu', 'intervalo', 'intervalos', 'intervir', 'intimidando', 'into', 'intolerante', 'intransitavel', 'intt', 'inumeras', 'inutil', 'invadido', 'invadindo', 'invadir', 'invasao', 'inveja', 'inventaria', 'inverdade', 'inves', 'investe', 'investidor', 'investidoras', 'investidores', 'investigacao', 'investigar', 'investigassem', 'investigassempq', 'investiguem', 'investimentos', 'investir', 'investiram', 'investiria', 'ioni', 'ipanema', 'ipase', 'ipc', 'ipem', 'iperial', 'iptu', 'ipub', 'ira', 'irada', 'iraja', 'irao', 'irata', 'irei', 'iria', 'iris', 'irma', 'irmao', 'irmaos', 'irmos', 'ironia', 'irregular', 'irregularidades', 'irregularmente', 'irrita', 'irritada', 'irritar', 'isaac', 'isabel', 'isabele', 'isabella', 'isabelle', 'isentar', 'islamico', 'ismaie', 'iso', 'issa', 'isso', 'issoanos', 'issoe', 'issoooo', 'istilo', 'istiloza', 'istiven', 'isto', 'itaborai', 'itacuruca', 'itaguai', 'itaipava', 'itaipu', 'itaipuacu', 'itaja', 'itamaraty', 'itanhanga', 'itatiaia', 'itau', 'itauna', 'itimirim', 'ivan', 'ivanrecebi', 'iventar', 'ivini', 'izidro', 'j5emygdio', 'jac', 'jacabarao', 'jacarepagua', 'jacarepagualevaram', 'jacarezinho', 'jaceguai', 'jadson', 'jadsu', 'jaeh', 'jaer', 'jairo', 'jamais', 'jamal', 'jamili', 'janderson', 'janeiro', 'janeirosou', 'janela', 'janelas', 'janjao', 'jantar', 'japanese', 'japeri', 'japonesa', 'jardim', 'jardin', 'jardins', 'jata', 'jatinho', 'jato', 'jatoba', 'jaunario', 'jay', 'jazaakallahu', 'jbsfriboi', 'jeckson', 'jeff', 'jeito', 'jeitos', 'jeniffer', 'jenny', 'jeova', 'jessica', 'jessie', 'jesuina', 'jesus', 'jesuscom', 'jetea', 'jhen', 'jhenifer', 'jhenni', 'jhonatan', 'jimmy', 'jjj', 'jjjjj', 'jjjjjjjjjjjjjjjjjjjjjjjjjjjjjjjjjjjjjjjjjjjjjjjjjj', 'jjjjjjjk', 'jjjjjjshaahahahha', 'jjkkkkk', 'jkjjjjkk', 'jkkkkkk', 'jkkkkkkk', 'jmmm', 'jmmmmmnnnnnnnnnnbvbb', 'joana', 'joao', 'joaquim', 'joelhos', 'joga', 'jogada', 'jogadas', 'jogado', 'jogados', 'jogam', 'jogando', 'jogar', 'jogo', 'jogos', 'jogou', 'joinville', 'jonatha', 'jordan', 'jorge', 'jornada', 'jornais', 'jornal', 'jornalista', 'jornalpois', 'jorra', 'jorrando', 'jose', 'jovem', 'jovi', 'joviniano', 'jovis', 'jpa', 'juan', 'juda', 'judiciais', 'judicial', 'juiz', 'juizo', 'julgamento', 'julgou', 'julho', 'juliane', 'julio', 'jumento', 'junger', 'junho', 'junin', 'junio', 'junior', 'junta', 'juntamente', 'juntar', 'juntese', 'junto', 'juntos', 'juramento', 'juridico', 'juros', 'jurujuba', 'juscelino', 'jussara', 'just', 'justa', 'justamente', 'justas', 'justica', 'juturnaiba', 'juuh', 'k11', 'kaiser', 'kajaiajwh', 'kakak', 'kakaka', 'kalender', 'karalhao', 'karen', 'karine', 'kassiand', 'kassiane', 'katia', 'kct', 'kde', 'kede', 'keila', 'kellynha', 'kennedy', 'keredo', 'kero', 'kerollyn', 'khairan', 'kibe', 'kiko', 'king', 'kjk', 'kjmmmmmnsnsnqnq', 'kkj', 'kkk', 'kkkj', 'kkkjj', 'kkkk', 'kkkkjkkkkkkjkkkkkkkkkkkkkkkkkkkkkkkkkkkkkkkkkkkk', 'kkkkk', 'kkkkkjkk', 'kkkkkk', 'kkkkkkjjjkkkk', 'kkkkkkk', 'kkkkkkkjj', 'kkkkkkkk', 'kkkkkkkkk', 'kkkkkkkkkjj', 'kkkkkkkkkk', 'kkkkkkkkkkk', 'kkkkkkkkkkkk', 'kkkkkkkkkkkkk', 'kkkkkkkkkkkkkk', 'kkkkkkkkkkkkkkk', 'kkkkkkkkkkkkkkkk', 'kkkkkkkkkkkkkkkkkkkk', 'kkkkkkkkkkkkkkkkkkkkjj', 'kkkkkkkkkkkkkkkkkkkkk', 'kkkkkkkkkkkkkkkkkkkkkk', 'kkkkkkkkkkkkkkkkkkkkkkkkkkkkkkkkk', 'kkkkkkkkkkkkkkkkkkkkkkkkkkkkkkkkkkkkk', 'kkkkkkkkkkkkkkkkkkkkkkkkkkkkkkkkkkkkkkk', 'kkkkkkkkkkkkkkkkkkkll', 'kkkkkkmkkkkk', 'kkkkklll', 'kkkkkmj', 'kkkkmk', 'kkkkpq', 'kkklkkk', 'kkknkkk', 'klaus', 'klkkkkkkkk', 'kmetec', 'kmmmmm', 'ko', 'koe', 'kooe', 'kra', 'krl', 'krlh', 'krt', 'ksa', 'kubishek', 'kuc', 'kwui', 'labareda', 'lacerda', 'laco', 'lacta', 'ladario', 'ladeira', 'lado', 'lados', 'ladrao', 'ladroes', 'lae', 'lafaiete', 'lage', 'laght', 'lagoa', 'lagos', 'lais', 'laisla', 'lama', 'lamber', 'lamentavel', 'lampada', 'lampadas', 'lancamento', 'lancha', 'lanchonete', 'lanterna', 'lapa', 'lapavai', 'lara', 'laranja', 'laranjeiras', 'lares', 'larga', 'largada', 'largadas', 'largado', 'largaram', 'largaran', 'largo', 'largou', 'larisa', 'larissa', 'lary', 'laryssa', 'lastima', 'lastimavel', 'lata', 'lateral', 'lato', 'lavoueu', 'lavras', 'lazer', 'lcb', 'leandro', 'leao', 'lecal', 'leem', 'legais', 'legal', 'legal3', 'legalidade', 'legislacao', 'legislaturas', 'legumes', 'lei', 'leia', 'leiam', 'leila', 'leilao', 'leiloeiro', 'leis', 'leite', 'leito', 'lembram', 'lembrancas', 'lembrando', 'lembrar', 'lembrava', 'lembrei', 'lembrem', 'lembrese', 'lembrndo', 'lembro', 'lembrou', 'lemos', 'lena', 'lencois', 'lencos', 'lendaria', 'lendas', 'lendo', 'lenha', 'lenintom', 'lento', 'leo', 'leon', 'leonardo', 'leonel', 'leopoldina', 'leopoldo', 'ler', 'lerda', 'lesados', 'lesma', 'lesoes', 'leticia', 'letra', 'leva', 'levado', 'levados', 'levam', 'levando', 'levantado', 'levante', 'levantese', 'levantou', 'levar', 'levaram', 'levarao', 'levavam', 'leve', 'levei', 'leves', 'levo', 'levou', 'lgo', 'lhermu', 'libania', 'liberado', 'liberados', 'liberdade', 'liberou', 'licenca', 'licitacao', 'licitacoes', 'licoes', 'lida', 'lidas', 'liderancas', 'lideres', 'lido', 'lieltom', 'life', 'liga', 'ligacao', 'ligacoes', 'ligada', 'ligadas', 'ligado', 'ligados', 'ligamos', 'ligando', 'ligar', 'ligaram', 'light', 'ligo', 'ligou', 'ligue', 'liguei', 'liguel', 'like', 'lilia', 'lilica', 'lima', 'liminar', 'limitando', 'limpa', 'limpador', 'limpamais', 'limpando', 'limpar', 'limpesa', 'limpeza', 'limpieza', 'linda', 'lindao', 'lindas', 'lindo', 'lindos', 'linguica', 'linha', 'linhas', 'link', 'lins', 'lipao', 'liquido', 'lisensa', 'lista', 'literalmente', 'litleta', 'litoral', 'litros', 'livia', 'livraram', 'livre', 'livremente', 'livrese', 'livro', 'livros', 'lixao', 'lixarada', 'lixeira', 'lixo', 'lixos', 'lixospois', 'lkkkkkkk', 'llklllllllkkkllkklllkk', 'lobao', 'lobo', 'locais', 'local', 'localidade', 'localidades', 'localiza', 'localizacao', 'localizada', 'localizado', 'locao', 'logo', 'logrou', 'loja', 'lojas', 'loka', 'loko', 'lokura', 'lolzin', 'lona', 'lonbarde', 'longa', 'longe', 'lontra', 'looney', 'lopes', 'lord', 'lorenco', 'lori', 'lorival', 'lorr', 'lotacao', 'lotada', 'lotado', 'lotados', 'lote', 'loteria', 'loterias', 'loterica', 'louca', 'louco', 'loucura', 'loureiro', 'louvado', 'louve', 'lt', 'lt3', 'lu', 'lua', 'luan', 'luanna', 'lucas', 'lucasrodriguesdequeiros', 'luci', 'luciainspecao', 'luciano', 'lucimara', 'lucio', 'lucrativos', 'lucro', 'luf', 'lufe', 'lugar', 'lugares', 'luiiz', 'luis', 'luiss', 'luiz', 'lula', 'lulinha', 'luminarias', 'luta', 'lutador', 'lutam', 'lutar', 'lutaria', 'lutas', 'luterania', 'luther', 'luvas', 'luverdense', 'luz', 'luzes', 'luzia', 'lxao', 'maaas', 'maas', 'maca', 'macaco', 'macacu', 'macae', 'macaquinhos', 'machado', 'machadoo', 'machucado', 'maconha', 'macumba', 'madeira', 'madre', 'madrigada', 'madrugada', 'madrugadaroubam', 'madrugadas', 'madureira', 'madureirana', 'mae', 'maersk', 'mafia', 'magalhaes', 'magarca', 'mage', 'magia', 'magistrado', 'magnifico', 'magro', 'maia', 'maiala', 'maiana', 'maicom', 'maicon', 'maik', 'maikom', 'mail', 'mailcom', 'maio', 'maior', 'maiores', 'maioria', 'maioriapois', 'mais', 'maisa', 'maisafinal', 'major', 'majoritario', 'mal', 'maldades', 'maldita', 'malhacao', 'malta', 'maltratado', 'maluca', 'maluco', 'mama', 'mamae', 'mamao', 'mamar', 'mamilos', 'mamita', 'manah', 'manda', 'mandado', 'mandados', 'mandam', 'mandamos', 'mandando', 'mandar', 'mandaram', 'mandarao', 'mandarem', 'mandassem', 'mandato', 'mande', 'mandei', 'mandem', 'mando', 'mandou', 'mandsf', 'mane', 'maneira', 'manguariba', 'manguinhos', 'manha', 'manhas', 'manias', 'manifestacao', 'manifestam', 'manilhas', 'maninho', 'mano', 'manobras', 'manoel', 'manos', 'manta', 'mantenha', 'manter', 'manterem', 'manu', 'manutencao', 'mao', 'maos', 'maothaissa', 'maozinha', 'maqueiro', 'maquina', 'maquinas', 'maquiou', 'mar', 'mara', 'maraca', 'maracana', 'maravilha', 'maravilhosa', 'maravilhosado', 'maravilhoso', 'marca', 'marcada', 'marcadores', 'marcela', 'marcele', 'marcelino', 'marcello', 'marcelo', 'marcely', 'marcia', 'marcial', 'marcio', 'marco', 'marcoe', 'marcolino', 'marcos', 'marcou', 'marcus', 'mare', 'marechal', 'marejantes', 'margarida', 'marginais', 'marginas', 'maria', 'mariana', 'mariano', 'marica', 'marido', 'marii', 'marimba', 'marinaldo', 'marinalva', 'marinha', 'marinheiro', 'mario', 'maritis', 'marley', 'marlixo', 'marly', 'marmelo', 'marques', 'marquesa', 'marrado', 'marrom', 'marta', 'martelo', 'martin', 'martins', 'martir', 'marvel', 'marvilhora', 'mas', 'mascara', 'mascote', 'masculino', 'masio', 'massa', 'master', 'mat', 'mata', 'matanca', 'matando', 'matar', 'mataram', 'materia', 'material', 'materias', 'maternidade', 'mateus', 'matheo', 'matheus', 'matina', 'mato', 'matos', 'mats', 'mattos', 'mau', 'maua', 'maues', 'mauro', 'maus', 'maxima', 'maximo', 'maxuca', 'maxucanu', 'maxwell', 'maxx', 'maycon', 'maysa', 'mazinho', 'md10', 'mds', 'mdss', 'mdsss', 'mecanica', 'mecanicos', 'meda', 'medalha', 'media', 'mediacoes', 'medica', 'medicacao', 'medicamento', 'medicamentos', 'medico', 'medicoes', 'medicos', 'medida', 'medidor', 'medinho', 'medo', 'meeeeey', 'meeeey', 'meey', 'meia', 'meiae', 'meianoite', 'meier', 'meio', 'meios', 'meisum', 'mel', 'melado', 'melgaco', 'melhor', 'melhora', 'melhorar', 'melhoras', 'melhore', 'melhores', 'melhoria', 'melhorrsrs', 'meliante', 'meliantes', 'melicianos', 'mello', 'melo', 'membros', 'memoria', 'mendigos', 'mendonca', 'menezes', 'menguelle', 'meni', 'menina', 'meninas', 'menino', 'meno', 'menor', 'menores', 'menos', 'mensagem', 'mensagens', 'mensalao', 'mensalmente', 'mentais', 'mental', 'mente', 'mentem', 'menti', 'mentindo', 'mentir', 'mentira', 'mentirosas', 'mentiu', 'mentor', 'mercadete', 'mercado', 'mercadorias', 'mercados', 'merce', 'merda', 'merece', 'merecem', 'merecemos', 'meriti', 'meritiruajorge', 'meritos', 'mes', 'mesagem', 'mesas', 'meses', 'mesese', 'mesma', 'mesmas', 'mesmo', 'mesmos', 'mesquita', 'mesquitenses', 'messenger', 'mestre', 'metade', 'metas', 'meteoro', 'meter', 'metro', 'metropole', 'metropolis', 'metropolitana', 'metropolitano', 'metros', 'meu', 'meuda', 'meuovo', 'mexe', 'mexido', 'mextraglobocom', 'michel', 'michele', 'mick', 'micro', 'mictorio', 'midia', 'midias', 'migaaa', 'migaaaaaa', 'migrado', 'migrarem', 'miguel', 'miguez', 'miih', 'mijar', 'mil', 'milagre', 'milagres', 'milagrosa', 'milena', 'milenio', 'mileva', 'milhao', 'milhoes', 'miliciano', 'milicianos', 'milionarios', 'militar', 'militares', 'millena', 'miltinho', 'mim', 'mimimi', 'min', 'mina', 'minas', 'minda', 'mineira', 'minha', 'minima', 'minimo', 'minino', 'ministerio', 'ministro', 'mintidooo', 'mintira', 'mintirosp', 'minutinhos', 'minuto', 'minutos', 'miocardio', 'miragens', 'miranda', 'mirela', 'mirim', 'miro', 'misericordia', 'misica', 'mistura', 'misturado', 'mitar', 'mito', 'mitre', 'mizera', 'mlc', 'mlk', 'mlkkkkk', 'mlq', 'mmkmmmmm', 'mmmmmmamamamamamamamamamamaam', 'mmmmmmmm', 'mmmmmmmmmm', 'mmmmmmmmmmmmmmmm', 'mmmmmmmmmmmmmmmmmmmmmmmmmmmmmmmmmmmmnmmmmmmmmmmmmmmmmmmmnmmmmmmmmmmmmmmmmmmmmmmmmmmmnmmmmmmmmmmmmmmmmmmmmmmmmmmmmmmmmmmmmmmmmnmmmmmmmmmmmnmmmmmmmmmmmmmmmmmmmmmmmmmmmmmmmmmmmnmmmmmmmmmmmmmmmmmmmmmmmmmmmmmmmmmmmmmnmmmmmmmmmmmmmmmmmmmmmmnmmmmmmmmmmmmmmmmmmmmmmmmmmmmmmmmmmmmmmmmmmmmmmnmmmmmmmmmmmmmmm', 'mmmmmnn', 'mnda', 'mnh', 'mnha', 'mnnnnnhhhhhhhhmfmmmaammaamamammamam', 'mnts', 'mobilizacao', 'mobilizar', 'moby', 'moca', 'mocas', 'moda', 'modelo', 'modernizacao', 'moderno', 'modernos', 'mogi', 'moh', 'mohh', 'moises', 'mola', 'molas', 'mole', 'moleque', 'molhando', 'molho', 'molieres', 'momento', 'momentos', 'moncks', 'mongol', 'monha', 'monica', 'monique', 'monitoramento', 'monitoraram', 'monitores', 'monopolio', 'monsenhor', 'monstra', 'monstro', 'monstros', 'montada', 'montanha', 'montanhas', 'monte', 'montes', 'montreal', 'mora', 'morado', 'morador', 'moradora', 'moradored', 'moradores', 'morais', 'moral', 'moramos', 'morando', 'morar', 'morava', 'moreira', 'morena', 'moro', 'morra', 'morre', 'morrendo', 'morrer', 'morreu', 'morri', 'morrido', 'morro', 'morros', 'morta', 'mortal', 'mortandade', 'morte', 'morto', 'mortos', 'mosquito', 'mosquitos', 'mossoro', 'mostra', 'mostrado', 'mostram', 'mostrando', 'mostrar', 'mostraram', 'mostraremos', 'mostre', 'mostrem', 'mostrou', 'mostta', 'mota', 'motificando', 'motivo', 'moto', 'motoqueiros', 'motor', 'motorista', 'motoristas', 'motoristasem', 'motoristasparceiros', 'motos', 'motta', 'moura', 'mourao', 'move', 'movel', 'mover', 'movimenta', 'movimentacao', 'mrm', 'msc', 'msg', 'msm', 'msnerradadesculpa', 'msrapendi', 'mto', 'mts', 'mucaja', 'muda', 'mudanca', 'mudando', 'mudar', 'mudara', 'mudaria', 'mudariam', 'mude', 'mudei', 'mudinho', 'mudo', 'mudou', 'muie', 'muita', 'muitas', 'muito', 'muitos', 'mulambo', 'mulher', 'mulheres', 'mulherzinha', 'multa', 'multado', 'multam', 'multar', 'multas', 'multinhas', 'mundial', 'mundo', 'municipais', 'municipal', 'municipio', 'munus', 'muro', 'music', 'musica', 'musical', 'musumana', 'mutua', 'muuito', 'muzi', 'myllene', 'n301', 'n47', 'n825', 'naa', 'naam', 'nacional', 'nacoes', 'nada', 'nadaprecisamos', 'nais', 'name', 'nami', 'namora', 'namorada', 'namoradinha', 'namorado', 'namorados', 'namoradosoo', 'namorando', 'namorar', 'namoro', 'namorou', 'nanda', 'nandinho', 'nano', 'nao', 'naoo', 'naooo', 'naopublica', 'naoquer', 'naquela', 'naquele', 'narcizoaugustofilho', 'nartural', 'nas', 'nascendo', 'nascente', 'nascimento', 'naspoline', 'nasser', 'nat', 'natalfoi', 'nath', 'natha', 'natt', 'natural', 'nau', 'naum', 'nautico', 'navalhadassao', 'navio', 'nazare', 'nazista', 'ndd', 'neblina', 'nebulizacao', 'necessario', 'necessidade', 'necessidades', 'necessita', 'necessitados', 'necessitando', 'necessitavam', 'nectar', 'neem', 'neg', 'nega', 'negamos', 'negar', 'negarei', 'negas', 'negativa', 'negativo', 'negava', 'negligencia', 'nego', 'negocio', 'negocios', 'negra', 'negro', 'negru', 'neguei', 'neguinha', 'neguinho', 'neh', 'neim', 'nela', 'nelcirneves', 'nele', 'nelson', 'nem', 'neme', 'nen', 'nene', 'nenem', 'nenhum', 'nenhuma', 'nenina', 'nente', 'nepal', 'nervosismo', 'nervosos', 'nessa', 'nessas', 'nesse', 'nesses', 'nessessario', 'nesta', 'nestas', 'neste', 'nestor', 'net', 'neti', 'neto', 'netoja', 'netos', 'neu', 'neum', 'neuro', 'neuroze', 'neutron', 'neves', 'nevoeiro', 'new', 'neymar', 'ngm', 'nice', 'nick', 'nicolaaaasssss', 'night', 'niguem', 'nilo', 'nilopolis', 'nilopolitana', 'nilson', 'ninguem', 'ninhaaaaaaaaa', 'ninquem', 'nisso', 'nissolapasexta', 'niteroi', 'niteroitodo', 'niveis', 'nivel', 'niver', 'nmrl', 'nnnn', 'nnnnnnnnnnnn', 'no', 'nobel', 'nocao', 'noco', 'noemia', 'noffaaaa', 'nogrupo', 'noia', 'nois', 'noite', 'noitee', 'noiteee', 'noitem', 'noiteolha', 'noitevcs', 'noiti', 'noitr', 'noivado', 'noix', 'nojentq', 'nojoooo', 'nome', 'nomeada', 'nomes', 'nomevenha', 'nommee', 'nooo', 'nora', 'noradrenalina', 'nordeste', 'norma', 'normal', 'normalmente', 'norte', 'nos', 'nosa', 'nossa', 'nosso', 'nossos', 'nosssaaaa', 'not', 'nota', 'notado', 'notem', 'noticia', 'noticiando', 'noticiario', 'noticias', 'notificacoes', 'nova', 'novagina', 'novaiguacu', 'novamente', 'novas', 'nove', 'novelas', 'novembro', 'novo', 'novos', 'noz', 'nude', 'nudeis', 'nudes', 'num', 'numa', 'number', 'numeracao', 'numero', 'numero31', 'numeros', 'nunca', 'nunero18', 'nunes', 'nunk', 'nuss', 'nvdds', 'nza', 'obaaaaaa', 'oberg', 'obg', 'obgd', 'obgda', 'obito', 'obituario', 'objetivo', 'objeto', 'oboutro', 'obra', 'obras', 'obreirosmas', 'obrigada', 'obrigado', 'obrigados', 'obrigando', 'obrigaram', 'obrigatorio', 'obrigome', 'obrigou', 'obs', 'obsoletas', 'obstante', 'obtem', 'obteve', 'obviamente', 'ocasiao', 'oce', 'oceanica', 'ocio', 'ocoreno', 'ocorra', 'ocorre', 'ocorrencia', 'ocorrendo', 'ocorrer', 'ocorrera', 'ocorreram', 'ocorreu', 'ocorrido', 'ocorridoe', 'ocorridos', 'octavio', 'oculos', 'ocupada', 'ocupante', 'ocuparam', 'ocupouse', 'oda', 'odeio', 'odiando', 'oeee', 'oeeeee', 'oeste', 'oferece', 'oferecer', 'ofertamos', 'ofertar', 'offn', 'offshore', 'oficial', 'oficina', 'oficio', 'oftalmologico', 'ogui', 'oia', 'oie', 'oieeee', 'oii', 'oiih', 'oiii', 'oiiie', 'oiiii', 'oiiiiii', 'oiiiiiiii', 'oitavas', 'oitavo', 'oito', 'oitora', 'oiw', 'okay', 'ola', 'olaria', 'olarrrrr', 'olavo', 'oleo', 'olha', 'olhada', 'olhamos', 'olhando', 'olhar', 'olhassem', 'olhe', 'olhem', 'olhinho', 'olhinhos', 'olho', 'olhos', 'olhou', 'olimpiadas', 'olimpio', 'olimpo', 'olival', 'oliveira', 'olivia', 'olkay', 'oloco', 'omesmo', 'onda', 'onde', 'onibos', 'onibus', 'onibuscarro', 'online', 'onshore', 'ontem', 'onten', 'ooe', 'ooi', 'ooie', 'ooii', 'ookla', 'oooe', 'oooi', 'oooie', 'ooooh', 'opa', 'opala', 'opaopa', 'opcao', 'open', 'opera', 'operacao', 'operacionais', 'operacoes', 'operador', 'operadora', 'operadoras', 'opercao', 'opiniao', 'oportunidade', 'opz', 'oqe', 'oque', 'ora', 'oracao', 'oracoes', 'oral', 'oram', 'orando', 'orar', 'ordem', 'ordens', 'ore', 'organizacoes', 'organizada', 'organizado', 'orgao', 'orgaosgostaria', 'origem', 'orlando', 'ornelas', 'oros', 'orrivel', 'ortopedia', 'os18', 'oscar', 'osorio', 'osso', 'ostensivo', 'ostentacao', 'ostras', 'osvaldo', 'otario', 'otima', 'otimo', 'otimos', 'otoni', 'outra', 'outras', 'outro', 'outrome', 'outrora', 'outros', 'outrosbrigam', 'outrossim', 'outubro', 'ouvem', 'ouvi', 'ouvida', 'ouvido', 'ouvidoa', 'ouvindo', 'ouvir', 'ouviram', 'ovo', 'oxente', 'oxii', 'p12', 'p74', 'pachel', 'pacheu', 'paciencia', 'paciente', 'pacientes', 'pacienvia', 'pacifica', 'pacificacao', 'pacificada', 'pacificos', 'pacote', 'pacuare', 'padaria', 'padrao', 'padre', 'padrinho', 'padroes', 'paes', 'paf', 'pafs', 'paga', 'pagae', 'pagam', 'pagamento', 'pagamentos', 'pagamnto', 'pagamos', 'pagando', 'pagao', 'pagar', 'pagaram', 'pagaran', 'pagas', 'pagavam', 'pagina', 'pago', 'pagode', 'pagos', 'pagou', 'pague', 'pai', 'pais', 'paismas', 'paiso', 'paiva', 'paixao', 'pal', 'paladino', 'palavras', 'palco', 'palha', 'palhacada', 'palhaco', 'palhacos', 'paliasso', 'palmas', 'palmeiras', 'pampa', 'panela', 'panelaco', 'panelada', 'panico', 'pantano', 'pao', 'paola', 'papa', 'papai', 'papel', 'papelaria', 'papeu', 'papiloscopica', 'papo', 'para', 'para10', 'paraaa', 'parabenizar', 'parabens', 'parabrisa', 'parada', 'paradeiro', 'parado', 'parados', 'parafina', 'paraguai', 'paraiba', 'paraiso', 'paralisacao', 'param', 'paramos', 'parana', 'paranapua', 'paranhos', 'paranhoso', 'parapente', 'parar', 'pararam', 'parava', 'parceiro', 'parcelado', 'parcelamento', 'pareca', 'parece', 'parecendo', 'pareceu', 'parecia', 'parecido', 'parede', 'parei', 'parem', 'parente', 'parentes', 'parese', 'park', 'parkshopping', 'parlamentar', 'parlamentares', 'paro', 'parou', 'parque', 'parte', 'parti', 'participacao', 'participando', 'participantes', 'participar', 'participarao', 'participei', 'participosno', 'partideiro', 'partido', 'partilhar', 'partir', 'partiu', 'parto', 'partos', 'pasaageiro', 'pascoa', 'pascoal', 'pasmem', 'paso', 'pass', 'passa', 'passada', 'passado', 'passageira', 'passageiro', 'passageiros', 'passagem', 'passagemtodos', 'passagens', 'passam', 'passamos', 'passando', 'passaporte', 'passar', 'passara', 'passaram', 'passarela', 'passarem', 'passaros', 'passatempo', 'passava', 'passe', 'passeando', 'passear', 'passei', 'passeio', 'passem', 'passificacao', 'passivel', 'passo', 'passou', 'pastel', 'pasto', 'pastor', 'patecer', 'patetico', 'patio', 'patios', 'patricia', 'patrick', 'patrimoniais', 'patrimonio', 'patriota', 'patrocinada', 'patrocinio', 'patrulha', 'patrulhamento', 'pau', 'paula', 'pauladas', 'paulakm32', 'paulasao', 'paulino', 'paulistas', 'paulo', 'paulomoto', 'paus', 'pauta', 'pavimentadas', 'pavuna', 'paysandu', 'paz', 'pazes', 'pca', 'pdf', 'pec', 'peca', 'pecado', 'pechincha', 'peco', 'pedacinho', 'pedagogica', 'pede', 'pedem', 'pedestre', 'pedestres', 'pedi', 'pedido', 'pedidos', 'pedimos', 'pedindo', 'pedir', 'pediu', 'pediume', 'pedra', 'pedras', 'pedreira', 'pedrinha', 'pedro', 'pega', 'pegada', 'pegando', 'pegaou', 'pegar', 'pegaram', 'pegarem', 'pegariamos', 'pegaso', 'pegasoque', 'pego', 'pegou', 'peguei', 'pegunta', 'peidu', 'peitar', 'peito', 'peitos', 'peixes', 'peixoto', 'pekorelio', 'pelada', 'pele', 'peleleu', 'peliculas', 'pelo', 'peludo', 'pena', 'penduradas', 'pendurarem', 'penedo', 'peneira', 'penha', 'penis', 'penitenciarias', 'pensa', 'pensado', 'pensam', 'pensando', 'pensar', 'pensaram', 'pense', 'pensei', 'penso', 'pensou', 'pentear', 'pepa', 'pepe', 'pequena', 'pequeno', 'pequenos', 'pera', 'perae', 'perante', 'perca', 'percam', 'perceber', 'percebeu', 'percebi', 'percentual', 'perco', 'perda', 'perde', 'perdelo', 'perdem', 'perdemos', 'perdendo', 'perder', 'perdera', 'perderam', 'perderiam', 'perdesse', 'perdeu', 'perdi', 'perdida', 'perdido', 'perdir', 'perdoe', 'pereciveis', 'pereira', 'perez', 'perfeicao', 'perfeito', 'perfil', 'perfurada', 'pergunta', 'perguntalhe', 'perguntapor', 'perguntar', 'perguntaram', 'perguntasse', 'perguntei', 'pergunto', 'perguntou', 'pericia', 'pericias', 'perigo', 'perigosa', 'perigosamente', 'perigoso', 'periodo', 'peritos', 'permaneca', 'permanece', 'permanecera', 'permissividade', 'permite', 'permitido', 'permitir', 'perna', 'pernambuco', 'pernas', 'pernoitar', 'pero', 'perplexos', 'perpreqto', 'perseguiam', 'perseverancaum', 'pertencem', 'pertences', 'pertinho', 'perto', 'pertubar', 'perturbam', 'perturbar', 'perversao', 'pesadamente', 'pesado', 'pesaoa', 'pescoco', 'peso', 'pesqueira', 'pesquisas', 'pessal', 'pessimas', 'pessimo', 'pesso', 'pessoa', 'pessoal', 'pessoalmente', 'pessoas', 'peste', 'petro', 'petrobras', 'petrolina', 'pezao', 'pfd', 'pff', 'pftoo', 'pfvr', 'pgtoo', 'pia', 'piabeta', 'piadas', 'piano', 'pibi', 'pica', 'pichado', 'pichados', 'pichando', 'picina', 'piedade', 'piis', 'pika', 'pilantras', 'pilar', 'pilares', 'pilaresrj', 'pilha', 'piloto', 'pimenta', 'pimentel', 'pinheiro', 'pinto', 'pio', 'pior', 'piorando', 'pioraqui', 'piorar', 'pipa', 'pipas', 'pirai', 'piranha', 'pirapora', 'pirata', 'piratas', 'piratininga', 'piratiningua', 'piroca', 'pirocaa', 'pirocamandou', 'pirralho', 'piru', 'pisca', 'piscar', 'piscicologa', 'piscina', 'piscinao', 'piso', 'pista', 'pistas', 'pitoco', 'piza', 'pizaa', 'pka', 'placa', 'planalto', 'planejada', 'planejamento', 'planet', 'plano', 'planos', 'planta', 'plantao', 'plantar', 'plantas', 'plantoes', 'plastico', 'plataforma', 'play', 'pleiteava', 'pleiteou', 'plena', 'plenario', 'pleno', 'pleura', 'ploicia', 'pms', 'pneu', 'pneus', 'pobi', 'pobre', 'poca', 'podadas', 'pode', 'podem', 'podemav', 'podemos', 'podendo', 'poder', 'podera', 'poderao', 'poderem', 'poderia', 'poderiam', 'poderosofiel', 'poderosoi', 'podia', 'podiam', 'podiamos', 'podou', 'podre', 'pods', 'poe', 'poeira', 'poeta', 'poha', 'pohak', 'pois', 'poja', 'pokemon', 'polici', 'policia', 'policiais', 'policial', 'policiamento', 'policias', 'policlinica', 'poliguindaste', 'polis', 'politica', 'politico', 'politicos', 'poltrona', 'polyana', 'pombo', 'pomha', 'ponho', 'ponta', 'ponte', 'pontinhos', 'ponto', 'pontos', 'poorq', 'populacao', 'popular', 'populares', 'popularizacao', 'popularizavam', 'por', 'porcao', 'porcaria', 'porcentos', 'porcos', 'porem', 'porfavor', 'porno', 'pornografia', 'porq', 'porque', 'porr', 'porra', 'porta', 'portagrato', 'portanto', 'portao', 'portaria', 'portas', 'porte', 'portela', 'porto', 'portos', 'portugues', 'pos', 'poser', 'posicao', 'posicaoo', 'posicionamento', 'positivo', 'positivos', 'poso', 'possa', 'possam', 'possamos', 'posse', 'possibilidade', 'possibilitavam', 'possibilitou', 'possiivel', 'possivel', 'posso', 'possuir', 'postando', 'poste', 'postei', 'posteriormente', 'posto', 'postos', 'postou', 'potavel', 'pouca', 'poucas', 'pouco', 'poucoalem', 'poucocolocaram', 'poucos', 'poupa', 'pouquinho', 'povo', 'pow', 'poww', 'poxa', 'ppf', 'ppk', 'pprt', 'pq', 'pqp', 'pra', 'praca', 'pracas', 'pracinha', 'pragas', 'prai', 'praia', 'prainha', 'prame', 'prancha', 'prara', 'pras', 'prata', 'pratasele', 'pratica', 'praticado', 'praticamente', 'pratto', 'prazer', 'prazeres', 'prazo', 'preas', 'precaria', 'precarias', 'precaucoes', 'precidios', 'precisa', 'precisam', 'precisamente', 'precisamos', 'precisando', 'precisar', 'precisaram', 'precisarem', 'precisava', 'precisavam', 'precisem', 'preciso', 'preco', 'precos', 'predio', 'predios', 'preenchimento', 'prefeitinho', 'prefeito', 'prefeitos', 'prefeitura', 'prefeituramentedescaradamentehtmlm', 'prefere', 'preferencia', 'preferencialmente', 'prefiiro', 'prefiro', 'pregas', 'pregeitura', 'prejudica', 'prejudicando', 'prejudicar', 'prejuizo', 'premeiro', 'premiada', 'premio', 'prendao', 'preocupacoes', 'preocupada', 'preocupados', 'preocupar', 'preocupe', 'prepara', 'preparadas', 'preparam', 'preparando', 'preparese', 'pres', 'presa', 'presenca', 'presenciar', 'presencie', 'presenciei', 'presente', 'presenteando', 'presentes', 'presenviei', 'preservar', 'presesamos', 'presidenta', 'presidente', 'presidio', 'presisa', 'presisando', 'presizo', 'preso', 'presos', 'pressao', 'pressisa', 'prest', 'presta', 'prestacao', 'prestar', 'prestaram', 'preste', 'prestes', 'presteza', 'preta', 'pretendemos', 'pretendiam', 'pretin', 'preto', 'prevencao', 'prevenindo', 'prevenir', 'previo', 'previsao', 'prevista', 'pricila', 'priima', 'prima', 'primas', 'primeira', 'primeiro', 'primeiros', 'primero', 'primo', 'principais', 'principal', 'principalmente', 'principio', 'principios', 'print', 'prioridade', 'prisao', 'privada', 'privar', 'privilegiando', 'privilegio', 'prix', 'pro', 'problema', 'problemas', 'proc', 'procedencia', 'procedente', 'proceder', 'procedimento', 'procedimentos', 'processa', 'processo', 'processos', 'processou', 'procura', 'procurado', 'procurar', 'procure', 'producao', 'producaos', 'produto', 'produtos', 'produza', 'produzem', 'proeja', 'prof', 'professor', 'professora', 'professores', 'profissao', 'profissionais', 'profissional', 'profissionalizar', 'progama', 'programa', 'programacao', 'programae', 'progressiva', 'proibida', 'proibidao', 'proibido', 'projeto', 'projetos', 'promeira', 'promessa', 'promessas', 'promete', 'prometeu', 'prometida', 'prometo', 'promocao', 'promorar', 'promovendo', 'pronatec', 'pronta', 'pronto', 'prontos', 'pronunciar', 'pronunciarnao', 'propaganda', 'propina', 'proporcionar', 'proposta', 'propria', 'proprias', 'propriedade', 'proprietaria', 'proprietario', 'proprio', 'proprios', 'pros', 'prostituindo', 'protecao', 'protegem', 'protegido', 'protegidos', 'proteja', 'protesto', 'protestos', 'protocolo', 'prova', 'provas', 'provavel', 'providencia', 'providencias', 'provimento', 'prox', 'proxima', 'proximidades', 'proximo', 'proximos', 'ps2', 'ps4', 'pseh', 'psi', 'psicologica', 'psicotecnico', 'ptecisamos', 'ptima', 'ptqp', 'publica', 'publicada', 'publicado', 'publicar', 'publicas', 'publicidade', 'publico', 'pucha', 'pude', 'puder', 'puderem', 'pudesse', 'pudessem', 'pular', 'pulei', 'pum', 'punheta', 'punhetas', 'punidonao', 'pura', 'puro', 'pus', 'puta', 'putaria', 'putas', 'putero', 'putinha', 'puto', 'puts', 'putz', 'puxar', 'pvd', 'pww', 'qdo', 'qem', 'qnd', 'qndo', 'qnt', 'qnts', 'qpuder', 'qro', 'qsim', 'qua', 'quaal', 'quadra', 'quadrilha', 'quadrinha', 'quadro', 'quais', 'quaisquer', 'qual', 'qualquer', 'quando', 'quantidade', 'quantidades', 'quanto', 'quantos', 'quao', 'quarta', 'quartafeira', 'quartel', 'quarto', 'quase', 'quatro', 'que', 'quebra', 'quebrada', 'quebrado', 'quebrados', 'quebramolas', 'quebrando', 'quebraquebra', 'quebrar', 'quebrou', 'queda', 'queijim', 'queimada', 'queimado', 'queimados', 'queimadosestrada', 'queimando', 'queimar', 'queira', 'queixas', 'quela', 'quem', 'quente', 'queo', 'quer', 'querem', 'queremeu', 'queremos', 'querendo', 'querer', 'queria', 'queriamos', 'querida', 'querido', 'quero', 'queromos', 'questao', 'questionam', 'questionamos', 'quete', 'qui', 'quietinho', 'quieto', 'quii', 'quimica', 'quimioterapia', 'quinta', 'quintafeira', 'quintal', 'quintas', 'quintino', 'quinze', 'quis', 'quiser', 'quiserem', 'quitar', 'quiteria', 'quitite', 'quiucha', 'quizer', 'quot', 'quot2x36_pocoyo_s_pupplet_show__teatro_de_marionetas', 'quot7', 'quota', 'quotartistas', 'quotcabesa', 'quotcoisa', 'quotcrack', 'quotcrianca', 'quotdesastres', 'quotdia', 'quote', 'quotensinar', 'quotestaciona', 'quoteu', 'quotfabrica', 'quotfator', 'quotfeliz', 'quotgiihzinharocha123', 'quothoje', 'quotimenso', 'quotjuan', 'quotjulgar', 'quotlixo', 'quotmande', 'quotmil', 'quotminimo', 'quotmirella', 'quotnem', 'quotno', 'quotnosso', 'quotnovo', 'quoto', 'quotoi', 'quotoiie', 'quotou', 'quotpai', 'quotpara', 'quotperto', 'quotpolicia', 'quotpor', 'quotpraca', 'quotque', 'quotqueimar', 'quotquerido', 'quotquero', 'quotse', 'quotsentimento', 'quotsou', 'quotsucesso', 'quotthalles', 'quotto', 'quotvendese', 'quotvida', 'quuer', 'qye', 'raafa', 'raafiinhaa', 'rabo', 'rachado', 'rachas', 'rachei', 'rachel', 'racionais', 'racismo', 'radar', 'radares', 'radio', 'radiofonica', 'radiofrequencia', 'rafa', 'rafael', 'rafaela', 'raiane', 'railson', 'rainha', 'raio', 'raissa', 'raiva', 'rajadas', 'raktic', 'rala', 'ralo', 'ramal', 'ramiro', 'ramon', 'ramos', 'rampa', 'raony', 'rapa', 'rapais', 'rapaiz', 'rapariga', 'rapaz', 'rapazes', 'rapaziada', 'rapeise', 'raphael', 'rapida', 'rapidamente', 'rapidinha', 'rapido', 'raquel', 'raramente', 'rarao', 'raras', 'rarra', 'raruama', 'raspado', 'ratazanas', 'rateio', 'rato', 'ratobaratas', 'ratos', 'rayson', 'reabertura', 'reabra', 'reacao', 'reacoes', 'reagiu', 'reais', 'reaisna', 'reajustados', 'reajuste', 'real', 'realengo', 'realidade', 'realista', 'realitys', 'realizacao', 'realizada', 'realizadageorge', 'realizadas', 'realizado', 'realizados', 'realizamos', 'realizando', 'realizar', 'realizaram', 'realizou', 'realmente', 'realty', 'rebanho', 'rebeca', 'reboca', 'rec', 'recado', 'recanto', 'recantos', 'recarga', 'receba', 'recebe', 'recebem', 'recebemos', 'recebendo', 'receber', 'recebera', 'receberam', 'receberamvamos', 'recebermos', 'recebeu', 'recebi', 'recebiam', 'recebido', 'recebidos', 'recebo', 'recente', 'recentemente', 'recibo', 'reciclagem', 'reciclavel', 'reclamacao', 'reclamacoes', 'reclamado', 'reclamamos', 'reclamando', 'reclamar', 'reclame', 'reclamos', 'reco', 'recolher', 'recolhidos', 'recolhimento', 'recomece', 'recomendado', 'recompensa', 'reconheceu', 'recontratacao', 'recontratados', 'recor', 'record', 'recorde', 'recorrendo', 'recorrentes', 'recorrer', 'recreacao', 'recreio', 'recuperarem', 'recurso', 'rede', 'redentor', 'redes', 'redigir', 'redondarj', 'redor', 'reducao', 'redusidos', 'reduzindo', 'reduziu', 'reencaminhamos', 'reencontro', 'reenvialo', 'reenviar', 'reenvie', 'reeviamos', 'ref', 'refeicao', 'refens', 'referente', 'referida', 'referido', 'refinaria', 'refletindo', 'reflexao', 'reforma', 'reformar', 'refrigerante', 'regadas', 'regiao', 'regime', 'regina', 'regional', 'registradas', 'registrado', 'registrando', 'registrar', 'regras', 'regulado', 'regulatorio', 'reias', 'reino', 'reis', 'reiteradamente', 'reiterradas', 'reitor', 'reitoria', 'reivindica', 'reivineicando', 'rejeitar', 'relacao', 'relacionamento', 'relatando', 'relatar', 'relataram', 'relatos', 'relatou', 'remediar', 'remedio', 'remete', 'remocao', 'remontada', 'remotamente', 'removendo', 'remover', 'removeu', 'remunerada', 'renal', 'renan', 'renasca', 'renatinho', 'renato', 'renda', 'rene', 'renegado', 'rennan', 'renomada', 'renomado', 'renova', 'renovacao', 'renovada', 'renovam', 'rented', 'repara', 'reparacao', 'repare', 'reparem', 'reparo', 'repartir', 'repase', 'repassa', 'repassada', 'repassado', 'repassando', 'repassar', 'repasse', 'repassem', 'repasses', 'repassou', 'repercutira', 'repetir', 'repita', 'repleto', 'reportagem', 'reportagens', 'reporter', 'reposicao', 'repostas', 'represalia', 'represalias', 'representa', 'representado', 'repressao', 'repri', 'reprimir', 'reprisada', 'reprovado', 'republica', 'requerer', 'rere', 'rescisao', 'resende', 'resenha', 'reserva', 'resevatoro', 'resfriada', 'resfriado', 'resid', 'reside', 'residencia', 'residencias', 'residente', 'residuos', 'resistente', 'resistir', 'resistiu', 'resistro', 'resolucao', 'resolva', 'resolver', 'resolveram', 'resolvermos', 'resolvi', 'respectivamente', 'respeitam', 'respeitar', 'respeito', 'respeitou', 'respirar', 'respire', 'respobder', 'respondam', 'responde', 'respondece', 'respondem', 'respondendo', 'responder', 'responderam', 'responderem', 'respondeu', 'respondi', 'responsabilidade', 'responsabilidades', 'responsaveis', 'responsavel', 'resposta', 'respostacomo', 'respostas', 'ressaca', 'ressarcir', 'restabeleceu', 'restante', 'restaurada', 'restaurante', 'restaurantes', 'resto', 'restricao', 'restringira', 'restrito', 'resultado', 'resultados', 'resumindo', 'resumir', 'resumo', 'resustente', 'ret', 'reta', 'retaexiste', 'retirada', 'retirando', 'retirar', 'retiraram', 'retirarao', 'retiro', 'reto', 'retornando', 'retornar', 'retorno', 'retrato', 'retratu', 'reu', 'reunem', 'reuniao', 'reunidos', 'reuniu', 'revelada', 'revelado', 'revelar', 'reverencio', 'reviram', 'revolta', 'revoltadas', 'revoltado', 'revoltados', 'revoltou', 'revolucionando', 'revolver', 'rhayssa', 'ria', 'riacha', 'riachos', 'ribeirao', 'ribeiro', 'ribeiroooo', 'ric', 'ricao', 'ricardo', 'ricardoe', 'richard', 'rico', 'ricos', 'riindo', 'rim', 'rimos', 'rindo', 'rino', 'rins', 'rio', 'rionao', 'rip', 'riqueza', 'rir', 'ririririri', 'risada', 'risadas', 'risco', 'riscos', 'risos', 'rita', 'rival', 'riviera', 'rjassisto', 'rjem', 'rjtv', 'rle', 'rlx', 'roberio', 'roberta', 'robertinho', 'roberto', 'robson', 'roca', 'rocha', 'rochinha', 'rocinha', 'rocinhavictor', 'rock', 'rod', 'rodada', 'rodam', 'rodando', 'rodar', 'rodaram', 'rodas', 'rodeados', 'rodos', 'rodovia', 'rodoviaria', 'rodoviario', 'rodrigo', 'rodrigues', 'rogel', 'rogelio', 'rogerio', 'roh', 'rola', 'rolamentos', 'rolando', 'rolante', 'rolantes', 'rolas', 'role', 'roleta', 'roletas', 'rolezinhos', 'rolo', 'romantico', 'romantismo', 'rombo', 'romero', 'rompeu', 'rompida', 'ronald', 'ronaldinho', 'ronaldo', 'ronda', 'rondando', 'rondon', 'ropa', 'rosa', 'rosado', 'rosana', 'rosarioduque', 'rosas', 'rose', 'rostinho', 'rosto', 'rotineiro', 'rouba', 'roubada', 'roubado', 'roubados', 'roubando', 'roubar', 'roubaram', 'roubavam', 'roubo', 'roubos', 'roubou', 'roupa', 'roupas', 'roxo', 'rozeno', 'rs', 'rsrs', 'rsrsrsrs', 'rss', 'rsssd', 'rsssrd', 'rua', 'ruado', 'ruafizeram', 'ruan', 'ruas', 'rubens', 'rui', 'ruim', 'ruins', 'ruizao', 'rumo', 'rumos', 'rurais', 'russel', 'ryan', 'saaaaapaaaa', 'saara', 'sab', 'sabado', 'sabados', 'sabadouma', 'sabe', 'sabem', 'sabemls', 'sabemos', 'sabendo', 'saber', 'sabia', 'sabidono', 'sabio', 'saca', 'sacanagem', 'sacanas', 'sacerdocio', 'sacerdotal', 'saco', 'saem', 'saens', 'safadeza', 'safado', 'safados', 'sagrada', 'sagrado', 'sai', 'saia', 'saiba', 'saida', 'saidae', 'saido', 'saii', 'saimos', 'saindo', 'saionara', 'sair', 'sairam', 'sairem', 'saiu', 'sal', 'sala', 'salaam', 'salario', 'salarios', 'salas', 'saldanha', 'saldo', 'sales', 'salgado', 'salgueiro', 'salmo', 'saltaram', 'salto', 'salva', 'salvar', 'salvatagem', 'salve', 'salvo', 'salvou', 'samagrela', 'samara', 'samarone', 'samba', 'samir', 'sampa', 'sampaio', 'samu', 'san', 'sandinho', 'sandra', 'sandro', 'sanduiches', 'saneamento', 'sangue', 'santa', 'santana', 'santiago', 'santificado', 'santinhos', 'santissimo', 'santo', 'santos', 'sao', 'sape', 'sapo', 'saporra', 'saquarema', 'sara', 'saracuruna', 'sarah', 'sardinha', 'satanas', 'satisfacao', 'saudade', 'saudades', 'saudavel', 'saude', 'saudoso', 'sauva', 'savio', 'sazonalidade', 'sbderma', 'sbtgloboband', 'scheid', 'sdds', 'se', 'sebo', 'sec', 'seca', 'secao', 'seciliano', 'secrecao', 'secreta', 'secretaria', 'secretario', 'seculo', 'sedan', 'sede', 'sedex', 'see', 'sefala', 'seg', 'segrediinho', 'segredo', 'segue', 'seguida', 'seguidores', 'seguilo', 'seguimento', 'seguimentos', 'seguinte', 'seguir', 'seguiram', 'segunda', 'segundafeira', 'segundo', 'segundos', 'seguor', 'segura', 'seguranca', 'segurancaarea', 'segurancas', 'segurar', 'seguro', 'seguroele', 'seguros', 'sei', 'seila', 'seja', 'selecao', 'seletistas', 'seletiva', 'seletivo', 'selinho', 'sem', 'semana', 'semanajardim', 'semanas', 'semestre', 'sempre', 'sen', 'sena', 'senador', 'senadores', 'senao', 'senas', 'sendo', 'senha', 'senhas', 'senhor', 'senhora', 'senhores', 'senna', 'sensibilizado', 'sensibilizaram', 'senso', 'sent', 'senta', 'sentadas', 'sente', 'sentenciado', 'senti', 'sentia', 'sentido', 'sentimentos', 'sentimos', 'sentindo', 'sentir', 'seop', 'separado', 'separar', 'sepetibaja', 'sepse', 'sequer', 'sequestradores', 'sequestram', 'sequestrando', 'sequestraram', 'sequestro', 'sequestros', 'ser', 'sera', 'seras', 'serem', 'seres', 'serginho', 'sergio', 'sergipe', 'seria', 'seriados', 'seriapossivel', 'serie', 'serin', 'serio', 'serioo', 'sermos', 'seropedica', 'serra', 'serrana', 'serrinha', 'serve', 'services', 'servico', 'servicos', 'servida', 'servidores', 'servindo', 'servir', 'serviram', 'serviu', 'sesi', 'sessao', 'sessoes', 'sete', 'setembro', 'setor', 'setores', 'seu', 'seus', 'sex', 'sexo', 'sexoo', 'sexta', 'sextafeira', 'sextasfeiras', 'sexto', 'sexual', 'sfd', 'sgt', 'shaa', 'shangri', 'shazam', 'shirley', 'shoow', 'shoping', 'shopping', 'short', 'show', 'shows', 'shui', 'sicronizados', 'sido', 'sie', 'siga', 'sigilo', 'sigiram', 'significa', 'significado', 'significativo', 'sigo', 'siiiiim', 'sil', 'sildenafila', 'silva', 'silvana', 'silveira', 'silvia', 'silvio', 'sim', 'sima', 'simbolo', 'similares', 'simone', 'simpatica', 'simples', 'simplicidade', 'simulacro', 'sin', 'sinais', 'sinal', 'sinalizacao', 'sinalizada', 'sinalizador', 'sincero', 'sindicato', 'sindicatos', 'sindifortecom', 'sinhor', 'sininho', 'sinistra', 'sinistro', 'sintoma', 'sintomas', 'siqueira', 'sistema', 'sistemas', 'site', 'sitio', 'situacao', 'situacoes', 'situada', 'situcao', 'siva', 'skate', 'skin', 'skol', 'sky', 'sla', 'slc', 'slguem', 'slk', 'smartphone', 'smartphones', 'sme', 'smp', 'sms', 'smtr', 'smyth', 'sneurose', 'soares', 'sob', 'sobe', 'sobem', 'soboto', 'sobrancelhas', 'sobrando', 'sobrar', 'sobrava', 'sobre', 'sobree', 'sobrenome', 'sobrevivencia', 'sobrevoando', 'socbrasde', 'soci', 'sociais', 'social', 'sociedade', 'sociedades', 'societario', 'socio', 'socios', 'socoro', 'socorrer', 'socorrido', 'socorro', 'socorroooooo', 'sofa', 'sofenu', 'sofia', 'sofre', 'sofrem', 'sofremos', 'sofrendo', 'sofrer', 'sofreu', 'sofridu', 'sofrimento', 'soh', 'sol', 'solda', 'solei', 'solicitacao', 'solicitacoes', 'solicitada', 'solicitadas', 'solicitando', 'solicitar', 'solicito', 'solidao', 'solidario', 'solidarizou', 'solo', 'soltando', 'soltar', 'solteira', 'solteiraaaa', 'solteiro', 'solteiros', 'soltero', 'soltos', 'solucao', 'solucionar', 'som', 'somadas', 'somando', 'somar', 'sombra', 'somente', 'somos', 'sonha', 'sonhador', 'sonho', 'sonhos', 'sonia', 'sono', 'sopao', 'sophia', 'soro', 'sorocaba', 'sorocabaesse', 'sorriso', 'sorte', 'sos', 'sositaipuacu', 'sossegado', 'sotomara', 'sou', 'soube', 'souber', 'soundcloud', 'sousa', 'souza', 'sozin', 'sozinha', 'sozinho', 'speedtest', 'sport', 'sqn', 'sra', 'sta', 'stark', 'stefania', 'steinmann', 'sua', 'suando', 'suas', 'suave', 'sub', 'subestacao', 'subida', 'subindo', 'subir', 'subito', 'submetido', 'substancias', 'suburbio', 'sucesso', 'sucinto', 'suellen', 'suficiente', 'sufocar', 'sugerir', 'sugiro', 'suja', 'sujas', 'sujeira', 'sujeirada', 'sujeiras', 'sujeitar', 'sujeito', 'sujeitou', 'sujiro', 'sujo', 'sujos', 'sul', 'sulacap', 'sumi', 'sumida', 'sumido', 'sumir', 'sumiram', 'sumiro', 'sumiu', 'sumiuu', 'super', 'supermercado', 'supermercados', 'supervia', 'supervisao', 'supervisor', 'suplemento', 'suplica', 'suporta', 'suportar', 'suportava', 'suporte', 'supositorios', 'suposta', 'suposto', 'suprir', 'surdo', 'surf', 'surfista', 'surgimento', 'surgir', 'surgiu', 'surpreender', 'surpreendeu', 'surpreendie', 'surpresa', 'suruba', 'sus', 'susana', 'susano', 'suspeita', 'suspeito', 'suspeitos', 'suspiro', 'sustentado', 'sustentar', 'sustento', 'susto', 'sutia', 'suzana', 'svee', 'tabajaras', 'tabelas', 'tabo', 'tabom', 'tabuleiro', 'taca', 'tacar', 'taciba', 'tadinho', 'taifeiro', 'tal', 'talento', 'talvez', 'tam', 'tamanha', 'tambem', 'tamojunto', 'tamos', 'tampou', 'tanbem', 'tanta', 'tantas', 'tanto', 'tantos', 'tao', 'tapei', 'taporra', 'taquara', 'taquem', 'taques', 'tarde', 'tardeesse', 'tardeestou', 'tardes', 'tardinha', 'target', 'tata', 'tatde', 'tatendo', 'tati', 'tatiana', 'tatiane', 'taty', 'tava', 'tavam', 'taxa', 'taxas', 'taxi', 'taxis', 'taxista', 'taxistas', 'tay', 'tb', 'tba', 'tbeim', 'tbem', 'tbm', 'tbmchega', 'tchau', 'tche', 'tchu', 'tda', 'tde', 'tds', 'tduuh', 'te', 'tebho', 'teclado', 'tecnico', 'tecnicos', 'tecnologia', 'tecnologias', 'tecnologica', 'tecnologico', 'tedio', 'tefinha', 'teixeira', 'tel', 'tele', 'telefona', 'telefone', 'telefones', 'telefonia', 'telefonica', 'telefonico', 'telefonistas', 'telefonou', 'telegrafos', 'telegramas', 'telejornal', 'teles', 'telespectador', 'televisao', 'televisiva', 'televisoes', 'telha', 'telles', 'telo', 'tem', 'temmotivos', 'temo', 'temos', 'temperatura', 'tempestade', 'tempo', 'tempoa', 'tempopara', 'temporada', 'tempp', 'tempu', 'temq', 'ten', 'tencao', 'tende', 'tendenciosa', 'tendii', 'tendo', 'tendonuma', 'tenente', 'tenho', 'tenho30', 'tenhocertezamais', 'tenhos', 'tenque', 'tensao', 'tenso', 'tensoentraram', 'tenta', 'tentam', 'tentando', 'tentar', 'tentaram', 'tentarei', 'tentativa', 'tente', 'tentei', 'tentou', 'teo', 'teoria', 'teporads', 'ter', 'tera', 'terca', 'tercafeira', 'terceira', 'terceirizados', 'terceiro', 'terceiros', 'terem', 'teresa', 'tereza', 'teriamos', 'termina', 'terminal', 'terminas', 'termine', 'termos', 'ternura', 'terra', 'terraco', 'terreno', 'terrenos', 'territorio', 'terrivel', 'tesoureiro', 'tesouros', 'testado', 'testando', 'teste', 'testemunha', 'testemunhachave', 'testemunho', 'teta', 'tetas', 'teto', 'tetos', 'teu', 'teve', 'texto', 'thaisna', 'thata', 'thaty', 'thau', 'thauan', 'thay', 'thayana', 'thayane', 'the', 'theus', 'thiago', 'thimbau', 'thomas', 'tia', 'tiau', 'tibagi', 'tido', 'tids', 'tiete', 'tijuca', 'tim', 'timaia', 'time', 'times', 'timoteo', 'tindiba', 'tinha', 'tinhaaaaa', 'tinturas', 'tio', 'tipo', 'tira', 'tirada', 'tiradas', 'tiradentesem', 'tirado', 'tiram', 'tiramos', 'tirando', 'tirar', 'tiraram', 'tire', 'tirei', 'tiro', 'tiros', 'tiroteio', 'tiroteios', 'tirou', 'tirroteio', 'titica', 'tits', 'titular', 'titulo', 'tiu', 'tive', 'tivese', 'tlgd', 'tmb', 'tmj', 'tmnc', 'tnc', 'tncu', 'to', 'toca', 'tocando', 'tocar', 'toco', 'tocou', 'toda', 'todas', 'todin', 'todo', 'todoa', 'todos', 'todosnao', 'todosstefania', 'tok', 'toleti', 'toma', 'tomada', 'tomadas', 'tomado', 'tomamos', 'tomando', 'tomar', 'tomara', 'tomaram', 'tomariam', 'tomas', 'tomata', 'tomaz', 'tomazinho', 'tome', 'tomei', 'tomem', 'tomou', 'tonelada', 'tony', 'too', 'top', 'topa', 'toparam', 'topp', 'toppppp', 'toque', 'torce', 'torcerei', 'torna', 'tornando', 'tornar', 'tornara', 'tornaram', 'tornarem', 'torno', 'tornou', 'torre', 'torta', 'torturando', 'tosas', 'toscano', 'total', 'totalmente', 'tou', 'touro', 'toxicas', 'toxicologia', 'toyota', 'trab', 'trabalha', 'trabalhador', 'trabalhadores', 'trabalham', 'trabalhamos', 'trabalhando', 'trabalhar', 'trabalhava', 'trabalhei', 'trabalhista', 'trabalho', 'trabalhoe', 'trabalhos', 'trabalhoso', 'trabalhosqueria', 'trabalhou', 'trabslham', 'tradar', 'trafica', 'traficando', 'traficante', 'traficantes', 'trafico', 'traicao', 'trailer', 'traindo', 'trajano', 'trajeto', 'trakina', 'trakinas', 'trancar', 'trank', 'tranq', 'tranquila', 'tranquilo', 'transar', 'transbordando', 'transbordar', 'transcarioca', 'transferencia', 'transferida', 'transferido', 'transitam', 'transitando', 'transito', 'translado', 'transmissao', 'transmita', 'transmitir', 'transoesteacidente', 'transpetro', 'transplantes', 'transportando', 'transporte', 'transportes', 'transporti', 'transpulmin', 'transtorno', 'transtornos', 'transudo', 'trapicheiro', 'traquinas', 'trarao', 'tras', 'traseiro', 'trasnferidas', 'trata', 'tratados', 'tratamento', 'tratamos', 'tratando', 'trataremos', 'tratase', 'trauma', 'trav', 'trava', 'travando', 'travessa', 'travessia', 'travest', 'travestis', 'travo', 'traxx', 'traz', 'trazecssual', 'trazendo', 'trazer', 'trecho', 'trechos', 'treinamento', 'trel', 'trem', 'tremcampanha', 'tremendo', 'trens', 'tres', 'tretas', 'trevas', 'trevo', 'trez', 'trezentos', 'triagem', 'tribuna', 'tributario', 'tricollo', 'tricolor', 'trigo', 'trilho', 'trindade', 'trinta', 'triplice', 'trista', 'triste', 'troca', 'trocador', 'trocar', 'trocas', 'troco', 'trocou', 'tropa', 'trouxe', 'trt', 'trucks', 'tsj', 'tua', 'tubarao', 'tubulacao', 'tudo', 'tudos', 'tufa', 'tuiti', 'tumores', 'tunel', 'tunes', 'turco', 'turin', 'turistico', 'turma', 'turno', 'tuu', 'tvpor', 'tweet', 'twitter', 'tycia', 'tzv', 'uba', 'uber', 'ubiracy', 'ubirajara', 'uerj', 'ufa', 'ufaa', 'ufrj', 'ugo', 'uhum', 'uii', 'uiiii', 'uirauna', 'ulli', 'ultar', 'ultima', 'ultimamente', 'ultimas', 'ultimo', 'ultrapassar', 'uma', 'umas', 'umedecidos', 'umhm', 'umpa', 'ums', 'uniao', 'unica', 'unico', 'unidade', 'unidos', 'unificacao', 'unificando', 'uniforme', 'uninacomo', 'universidade', 'universitario', 'universu', 'uno', 'uns', 'uop', 'uou', 'upa', 'upanema', 'upp', 'urbana', 'urbanas', 'urbano', 'urber', 'urgencia', 'urgente', 'urgentemente', 'urubu', 'urubus', 'uruguai', 'uruguaios', 'usa', 'usadas', 'usado', 'usam', 'usando', 'usar', 'usarei', 'use', 'uso', 'usp', 'usua', 'usuario', 'usuarios', 'utero', 'util', 'utilidade', 'utiliza', 'utilizacao', 'utilizadas', 'utilizado', 'utilizar', 'uwua', 'vabh3lccppy', 'vaca', 'vacina', 'vacinacao', 'vaco', 'vacue', 'vacuo', 'vadia', 'vaga', 'vagabundo', 'vagao', 'vagas', 'vai', 'vaii', 'vaja', 'vala', 'valao', 'valas', 'valdariosa', 'valdemir', 'valdetaro', 'valdir', 'valdivia', 'vale', 'valem', 'valendo', 'valente', 'valeria', 'valeu', 'validade', 'valor', 'valores', 'valorisa', 'valorize', 'valqueire', 'valverde', 'vam', 'vamo', 'vamos', 'vampira', 'vamps', 'van', 'vandalismo', 'vandinha', 'vanja', 'vans', 'vantagem', 'vantagens', 'vao', 'vaquito', 'vara', 'varanda', 'varandaincrivel', 'varejo', 'vargas', 'vargem', 'varias', 'varios', 'varrendo', 'vasamento', 'vasco', 'vaso', 'vassalo', 'vaz', 'vaza', 'vazamento', 'vazando', 'vazio', 'vazios', 'vazou', 'vc', 'vco', 'vcpasse', 'vcs', 'vcsobrigado', 'vcss', 'vcssou', 'vcstoda', 'vdd', 'veem', 'vei', 'veiculo', 'veiculos', 'veiculou', 'veiga', 'veii', 'veio', 'veja', 'vejam', 'vejamos', 'vejo', 'vela', 'velas', 'veleu', 'velha', 'velhice', 'velho', 'velocidade', 'vem', 'vemos', 'venca', 'vence', 'vencer', 'venceremos', 'vencida', 'vencidas', 'vencido', 'vencimento', 'venda', 'vendaval', 'vende', 'vendem', 'vendendo', 'vender', 'vendese', 'vendeu', 'vendido', 'vendo', 'veneno', 'venha', 'venham', 'venho', 'ventiladores', 'vento', 'ventre', 'ver', 'vera', 'veracidade', 'verba', 'verbas', 'verdade', 'verdadeira', 'verdadeiramente', 'verdadeiras', 'verdadeiro', 'verdades', 'verdadi', 'verde', 'vereadores', 'verem', 'vergonha', 'vergueiro', 'veridiana', 'veridica', 'veridico', 'verificar', 'verificaram', 'verifiquem', 'vermelha', 'vermelho', 'verneck', 'veronica', 'versao', 'versiculo', 'vesga', 'vestido', 'vestimos', 'vestir', 'vetado', 'vez', 'vezes', 'vfazendo', 'via', 'viacao', 'viadage', 'viadagem', 'viadao', 'viado', 'viadp', 'viaduto', 'viagem', 'viagra', 'viaja', 'viajando', 'viana', 'vias', 'viatura', 'vibe', 'vic', 'vicente', 'vicou', 'victor', 'vida', 'vidal', 'vidao', 'vidas', 'videerradoblogspotcombr', 'videira', 'video', 'videopor', 'videos', 'vidio', 'vidro', 'vidros', 'vieira', 'viemos', 'vier', 'vieram', 'vierem', 'viero', 'vigario', 'vigia', 'vigilantes', 'viiii', 'vila', 'vilar', 'vilhena', 'village', 'vim', 'vimercati', 'vinculada', 'vinculadas', 'vinculo', 'vinda', 'vindaobrigada', 'vindas', 'vindo', 'ving', 'vingadores', 'vingt', 'vinha', 'vini', 'vinicius', 'vinny', 'vinte', 'violao', 'violeiro', 'violencia', 'violento', 'violentopeco', 'vir', 'vira', 'virando', 'virar', 'virgem', 'virgiadoo', 'virou', 'visa', 'visando', 'visao', 'visconde', 'visicula', 'visita', 'visitaram', 'visitaro', 'visivel', 'vissemos', 'vista', 'vistase', 'visto', 'vistoria', 'visualiza', 'visualizar', 'visualizaram', 'visualizarem', 'visualize', 'visualizem', 'vital', 'vitima', 'vitimas', 'vitoria', 'viu', 'viva', 'vive', 'vivemos', 'vivendo', 'viver', 'vivia', 'vivo', 'vixe', 'vizinha', 'vizinhas', 'vizinho', 'vizinhos', 'vle', 'vllw', 'vlw', 'vmo', 'voador', 'voadora', 'vocacionado', 'voce', 'voces', 'vocesde', 'vocespor', 'voliteral', 'volta', 'voltada', 'voltados', 'voltae', 'voltam', 'voltamos', 'voltando', 'voltar', 'voltaram', 'voltaria', 'voltei', 'volto', 'voltou', 'vomitando', 'vontade', 'voo', 'vooooltei', 'voooolteii', 'voses', 'vosso', 'votar', 'votos', 'vou', 'vouchers', 'voves', 'voxes', 'voz', 'vozes', 'vozinha', 'vozinhaaa', 'vsf', 'vshgs', 'vsu', 'vtmnc', 'vtnc', 'vuce', 'vucovuco', 'vugue', 'vwhw', 'vzs', 'wadmam', 'wagner', 'wallace', 'walter', 'wanderley', 'wanessa', 'warahmatu', 'washington', 'watch', 'wathsapp', 'web', 'wellington', 'wendel', 'west', 'whats', 'whatsapp', 'whatsbook', 'whatssap', 'which', 'wifi', 'wiil', 'wil', 'wiliam', 'will', 'wlu', 'wooooooooow', 'wooooooow', 'woooooow', 'woshington', 'wpp', 'wwwmanualdomotociclistacom', 'wwwnewtoplifecombrpitalogabriel', 'xana', 'xara', 'xavier', 'xerem', 'xitando', 'xixi', 'xonei', 'xubirubas', 'xuxa', 'xxi', 'xxiii', 'yamaha', 'yasuo', 'yeah', 'yeaj', 'yeeesss', 'yes', 'ygor', 'you', 'youtube', 'yuri', 'zanchetta', 'zanker', 'zap', 'zeeclara', 'zenilson', 'zero', 'zica', 'zoa', 'zoado', 'zoando', 'zona', 'zoologico', 'zorra', 'zuado', 'zueira']\n"
     ]
    }
   ],
   "source": [
    "X_tfidf = feature_extraction.fit_transform(spam_ham['text_norm'])\n",
    "print(X_tfidf.shape)\n",
    "print(feature_extraction.get_feature_names())"
   ]
  },
  {
   "cell_type": "markdown",
   "metadata": {},
   "source": [
    "## Aplicando os modelos de Machine Learning"
   ]
  },
  {
   "cell_type": "markdown",
   "metadata": {},
   "source": [
    "Nesta etapa diversos modelos de ML serão utilizados visando encontrar os melhores modelos para classificação de mensagens SPAM ou não SPAM.\n",
    "\n",
    "Serão aplicados os seguintes modelos: \n",
    "\n",
    "            -LogisticRegression;\n",
    "            -MultinomialNB;\n",
    "            -KNeighborsClassifier;\n",
    "            -SVC;\n",
    "            -DecisionTreeClassifier;\n",
    "            -RandomForestClassifier;\n",
    "            -GradientBoostingClassifier;\n",
    "            -AdaBoostClassifier."
   ]
  },
  {
   "cell_type": "markdown",
   "metadata": {},
   "source": [
    "Separando o Dataset em treino e teste"
   ]
  },
  {
   "cell_type": "code",
   "execution_count": 145,
   "metadata": {},
   "outputs": [],
   "source": [
    "X=spam_ham[['Message', 'Message_len', 'punct%']]\n",
    "y=spam_ham['SPAM']\n",
    "\n",
    "X_train, X_test, y_train, y_test = train_test_split(X,y, test_size=0.3, random_state=42, stratify=y)"
   ]
  },
  {
   "cell_type": "code",
   "execution_count": 146,
   "metadata": {},
   "outputs": [
    {
     "data": {
      "text/html": [
       "<div>\n",
       "<style scoped>\n",
       "    .dataframe tbody tr th:only-of-type {\n",
       "        vertical-align: middle;\n",
       "    }\n",
       "\n",
       "    .dataframe tbody tr th {\n",
       "        vertical-align: top;\n",
       "    }\n",
       "\n",
       "    .dataframe thead th {\n",
       "        text-align: right;\n",
       "    }\n",
       "</style>\n",
       "<table border=\"1\" class=\"dataframe\">\n",
       "  <thead>\n",
       "    <tr style=\"text-align: right;\">\n",
       "      <th></th>\n",
       "      <th>Message_len</th>\n",
       "      <th>punct%</th>\n",
       "      <th>0</th>\n",
       "      <th>1</th>\n",
       "      <th>2</th>\n",
       "      <th>3</th>\n",
       "      <th>4</th>\n",
       "      <th>5</th>\n",
       "      <th>6</th>\n",
       "      <th>7</th>\n",
       "      <th>...</th>\n",
       "      <th>7743</th>\n",
       "      <th>7744</th>\n",
       "      <th>7745</th>\n",
       "      <th>7746</th>\n",
       "      <th>7747</th>\n",
       "      <th>7748</th>\n",
       "      <th>7749</th>\n",
       "      <th>7750</th>\n",
       "      <th>7751</th>\n",
       "      <th>7752</th>\n",
       "    </tr>\n",
       "  </thead>\n",
       "  <tbody>\n",
       "    <tr>\n",
       "      <th>0</th>\n",
       "      <td>100</td>\n",
       "      <td>4.0</td>\n",
       "      <td>0.0</td>\n",
       "      <td>0.0</td>\n",
       "      <td>0.0</td>\n",
       "      <td>0.0</td>\n",
       "      <td>0.0</td>\n",
       "      <td>0.0</td>\n",
       "      <td>0.0</td>\n",
       "      <td>0.0</td>\n",
       "      <td>...</td>\n",
       "      <td>0.0</td>\n",
       "      <td>0.0</td>\n",
       "      <td>0.0</td>\n",
       "      <td>0.0</td>\n",
       "      <td>0.0</td>\n",
       "      <td>0.0</td>\n",
       "      <td>0.000000</td>\n",
       "      <td>0.0</td>\n",
       "      <td>0.0</td>\n",
       "      <td>0.0</td>\n",
       "    </tr>\n",
       "    <tr>\n",
       "      <th>1</th>\n",
       "      <td>45</td>\n",
       "      <td>0.0</td>\n",
       "      <td>0.0</td>\n",
       "      <td>0.0</td>\n",
       "      <td>0.0</td>\n",
       "      <td>0.0</td>\n",
       "      <td>0.0</td>\n",
       "      <td>0.0</td>\n",
       "      <td>0.0</td>\n",
       "      <td>0.0</td>\n",
       "      <td>...</td>\n",
       "      <td>0.0</td>\n",
       "      <td>0.0</td>\n",
       "      <td>0.0</td>\n",
       "      <td>0.0</td>\n",
       "      <td>0.0</td>\n",
       "      <td>0.0</td>\n",
       "      <td>0.000000</td>\n",
       "      <td>0.0</td>\n",
       "      <td>0.0</td>\n",
       "      <td>0.0</td>\n",
       "    </tr>\n",
       "    <tr>\n",
       "      <th>2</th>\n",
       "      <td>41</td>\n",
       "      <td>0.0</td>\n",
       "      <td>0.0</td>\n",
       "      <td>0.0</td>\n",
       "      <td>0.0</td>\n",
       "      <td>0.0</td>\n",
       "      <td>0.0</td>\n",
       "      <td>0.0</td>\n",
       "      <td>0.0</td>\n",
       "      <td>0.0</td>\n",
       "      <td>...</td>\n",
       "      <td>0.0</td>\n",
       "      <td>0.0</td>\n",
       "      <td>0.0</td>\n",
       "      <td>0.0</td>\n",
       "      <td>0.0</td>\n",
       "      <td>0.0</td>\n",
       "      <td>0.000000</td>\n",
       "      <td>0.0</td>\n",
       "      <td>0.0</td>\n",
       "      <td>0.0</td>\n",
       "    </tr>\n",
       "    <tr>\n",
       "      <th>3</th>\n",
       "      <td>107</td>\n",
       "      <td>9.3</td>\n",
       "      <td>0.0</td>\n",
       "      <td>0.0</td>\n",
       "      <td>0.0</td>\n",
       "      <td>0.0</td>\n",
       "      <td>0.0</td>\n",
       "      <td>0.0</td>\n",
       "      <td>0.0</td>\n",
       "      <td>0.0</td>\n",
       "      <td>...</td>\n",
       "      <td>0.0</td>\n",
       "      <td>0.0</td>\n",
       "      <td>0.0</td>\n",
       "      <td>0.0</td>\n",
       "      <td>0.0</td>\n",
       "      <td>0.0</td>\n",
       "      <td>0.000000</td>\n",
       "      <td>0.0</td>\n",
       "      <td>0.0</td>\n",
       "      <td>0.0</td>\n",
       "    </tr>\n",
       "    <tr>\n",
       "      <th>4</th>\n",
       "      <td>294</td>\n",
       "      <td>3.7</td>\n",
       "      <td>0.0</td>\n",
       "      <td>0.0</td>\n",
       "      <td>0.0</td>\n",
       "      <td>0.0</td>\n",
       "      <td>0.0</td>\n",
       "      <td>0.0</td>\n",
       "      <td>0.0</td>\n",
       "      <td>0.0</td>\n",
       "      <td>...</td>\n",
       "      <td>0.0</td>\n",
       "      <td>0.0</td>\n",
       "      <td>0.0</td>\n",
       "      <td>0.0</td>\n",
       "      <td>0.0</td>\n",
       "      <td>0.0</td>\n",
       "      <td>0.159512</td>\n",
       "      <td>0.0</td>\n",
       "      <td>0.0</td>\n",
       "      <td>0.0</td>\n",
       "    </tr>\n",
       "  </tbody>\n",
       "</table>\n",
       "<p>5 rows × 7755 columns</p>\n",
       "</div>"
      ],
      "text/plain": [
       "   Message_len  punct%    0    1    2    3    4    5    6    7  ...  7743  \\\n",
       "0          100     4.0  0.0  0.0  0.0  0.0  0.0  0.0  0.0  0.0  ...   0.0   \n",
       "1           45     0.0  0.0  0.0  0.0  0.0  0.0  0.0  0.0  0.0  ...   0.0   \n",
       "2           41     0.0  0.0  0.0  0.0  0.0  0.0  0.0  0.0  0.0  ...   0.0   \n",
       "3          107     9.3  0.0  0.0  0.0  0.0  0.0  0.0  0.0  0.0  ...   0.0   \n",
       "4          294     3.7  0.0  0.0  0.0  0.0  0.0  0.0  0.0  0.0  ...   0.0   \n",
       "\n",
       "   7744  7745  7746  7747  7748      7749  7750  7751  7752  \n",
       "0   0.0   0.0   0.0   0.0   0.0  0.000000   0.0   0.0   0.0  \n",
       "1   0.0   0.0   0.0   0.0   0.0  0.000000   0.0   0.0   0.0  \n",
       "2   0.0   0.0   0.0   0.0   0.0  0.000000   0.0   0.0   0.0  \n",
       "3   0.0   0.0   0.0   0.0   0.0  0.000000   0.0   0.0   0.0  \n",
       "4   0.0   0.0   0.0   0.0   0.0  0.159512   0.0   0.0   0.0  \n",
       "\n",
       "[5 rows x 7755 columns]"
      ]
     },
     "execution_count": 146,
     "metadata": {},
     "output_type": "execute_result"
    }
   ],
   "source": [
    "feature_extraction_fit = feature_extraction.fit(X_train['Message'])\n",
    "\n",
    "tfidf_train = feature_extraction_fit.transform(X_train['Message'])\n",
    "tfidf_test = feature_extraction_fit.transform(X_test['Message'])\n",
    "\n",
    "X_train_vect = pd.concat([X_train[['Message_len', 'punct%']].reset_index(drop=True), \n",
    "           pd.DataFrame(tfidf_train.toarray())], axis=1)\n",
    "X_test_vect = pd.concat([X_test[['Message_len', 'punct%']].reset_index(drop=True), \n",
    "           pd.DataFrame(tfidf_test.toarray())], axis=1)\n",
    "\n",
    "X_train_vect.head()"
   ]
  },
  {
   "cell_type": "markdown",
   "metadata": {},
   "source": [
    "Testando os modelos selecionados e suas acurácias"
   ]
  },
  {
   "cell_type": "code",
   "execution_count": 147,
   "metadata": {},
   "outputs": [],
   "source": [
    "lr = LogisticRegression()\n",
    "nb = MultinomialNB()\n",
    "knc = KNeighborsClassifier()\n",
    "svc = SVC(gamma = 'auto')\n",
    "dtc = DecisionTreeClassifier()\n",
    "rfc = RandomForestClassifier(n_estimators=100)\n",
    "gbc = GradientBoostingClassifier()\n",
    "abc = AdaBoostClassifier()\n",
    "\n",
    "\n",
    "\n",
    "models = {'Logistic Regression':lr, 'Naive Bayes classifier':nb, 'k-nearest neighbors':knc, \n",
    "          'Support Vector Machine':svc, 'Decision Tree Classifier':dtc, \n",
    "          'Random Forest Classifier':rfc, 'Gradient Boosting Classifier':gbc, 'AdaBoost Classifier':abc}"
   ]
  },
  {
   "cell_type": "code",
   "execution_count": 148,
   "metadata": {},
   "outputs": [],
   "source": [
    "def eval_model(model):\n",
    "    \n",
    "    model.fit(tfidf_train, y_train)\n",
    "    y_pred = model.predict(tfidf_test)    \n",
    "    test_accuracy = accuracy_score(y_test, y_pred)   \n",
    "    return test_accuracy"
   ]
  },
  {
   "cell_type": "code",
   "execution_count": 149,
   "metadata": {},
   "outputs": [
    {
     "name": "stdout",
     "output_type": "stream",
     "text": [
      "Logistic Regression ---> Test accuracy - 82.71%\n",
      "Naive Bayes classifier ---> Test accuracy - 84.77%\n",
      "k-nearest neighbors ---> Test accuracy - 80.64%\n",
      "Support Vector Machine ---> Test accuracy - 52.63%\n",
      "Decision Tree Classifier ---> Test accuracy - 71.62%\n",
      "Random Forest Classifier ---> Test accuracy - 79.70%\n",
      "Gradient Boosting Classifier ---> Test accuracy - 77.82%\n",
      "AdaBoost Classifier ---> Test accuracy - 79.70%\n"
     ]
    }
   ],
   "source": [
    "test_accuracies = []\n",
    "\n",
    "for name, model in models.items():\n",
    "    test_acc = eval_model(model) \n",
    "    test_accuracies.append(test_acc)\n",
    "    print(f'{name} ---> Test accuracy - {test_acc*100:.2f}%')"
   ]
  },
  {
   "cell_type": "markdown",
   "metadata": {},
   "source": [
    "## Melhorando hiperparâmetros com Grid Search\n",
    "\n",
    "\n",
    "Os hiperparâmetros controlam diretamente o comportamento do algoritmo de treinamento e têm um impacto significativo no desempenho do modelo que está sendo treinado. É uma técnica muito tradicional para implementar hiperparâmetros. Por meio de força bruta testa todas as combinações.\n",
    "\n",
    "Visando aumentar o desempenho dos algoritmos, o Grid Search foi aplicado nos modelos com a acurácia mais elevada: Logistic Regression, Random Forest, Adaboost e Naive Bayes."
   ]
  },
  {
   "cell_type": "markdown",
   "metadata": {},
   "source": [
    "Grid search para Random Forest"
   ]
  },
  {
   "cell_type": "code",
   "execution_count": 150,
   "metadata": {},
   "outputs": [],
   "source": [
    "param_grid = { \n",
    "    'n_estimators': [200, 400, 600, 800, 1000],\n",
    "    'max_features': ['auto', 'sqrt', 'log2'],\n",
    "    'max_depth' : [4, 8, 16, 32],\n",
    "    'criterion' :['gini', 'entropy']\n",
    "}"
   ]
  },
  {
   "cell_type": "code",
   "execution_count": 151,
   "metadata": {},
   "outputs": [
    {
     "data": {
      "text/html": [
       "<style>#sk-container-id-6 {color: black;background-color: white;}#sk-container-id-6 pre{padding: 0;}#sk-container-id-6 div.sk-toggleable {background-color: white;}#sk-container-id-6 label.sk-toggleable__label {cursor: pointer;display: block;width: 100%;margin-bottom: 0;padding: 0.3em;box-sizing: border-box;text-align: center;}#sk-container-id-6 label.sk-toggleable__label-arrow:before {content: \"▸\";float: left;margin-right: 0.25em;color: #696969;}#sk-container-id-6 label.sk-toggleable__label-arrow:hover:before {color: black;}#sk-container-id-6 div.sk-estimator:hover label.sk-toggleable__label-arrow:before {color: black;}#sk-container-id-6 div.sk-toggleable__content {max-height: 0;max-width: 0;overflow: hidden;text-align: left;background-color: #f0f8ff;}#sk-container-id-6 div.sk-toggleable__content pre {margin: 0.2em;color: black;border-radius: 0.25em;background-color: #f0f8ff;}#sk-container-id-6 input.sk-toggleable__control:checked~div.sk-toggleable__content {max-height: 200px;max-width: 100%;overflow: auto;}#sk-container-id-6 input.sk-toggleable__control:checked~label.sk-toggleable__label-arrow:before {content: \"▾\";}#sk-container-id-6 div.sk-estimator input.sk-toggleable__control:checked~label.sk-toggleable__label {background-color: #d4ebff;}#sk-container-id-6 div.sk-label input.sk-toggleable__control:checked~label.sk-toggleable__label {background-color: #d4ebff;}#sk-container-id-6 input.sk-hidden--visually {border: 0;clip: rect(1px 1px 1px 1px);clip: rect(1px, 1px, 1px, 1px);height: 1px;margin: -1px;overflow: hidden;padding: 0;position: absolute;width: 1px;}#sk-container-id-6 div.sk-estimator {font-family: monospace;background-color: #f0f8ff;border: 1px dotted black;border-radius: 0.25em;box-sizing: border-box;margin-bottom: 0.5em;}#sk-container-id-6 div.sk-estimator:hover {background-color: #d4ebff;}#sk-container-id-6 div.sk-parallel-item::after {content: \"\";width: 100%;border-bottom: 1px solid gray;flex-grow: 1;}#sk-container-id-6 div.sk-label:hover label.sk-toggleable__label {background-color: #d4ebff;}#sk-container-id-6 div.sk-serial::before {content: \"\";position: absolute;border-left: 1px solid gray;box-sizing: border-box;top: 0;bottom: 0;left: 50%;z-index: 0;}#sk-container-id-6 div.sk-serial {display: flex;flex-direction: column;align-items: center;background-color: white;padding-right: 0.2em;padding-left: 0.2em;position: relative;}#sk-container-id-6 div.sk-item {position: relative;z-index: 1;}#sk-container-id-6 div.sk-parallel {display: flex;align-items: stretch;justify-content: center;background-color: white;position: relative;}#sk-container-id-6 div.sk-item::before, #sk-container-id-6 div.sk-parallel-item::before {content: \"\";position: absolute;border-left: 1px solid gray;box-sizing: border-box;top: 0;bottom: 0;left: 50%;z-index: -1;}#sk-container-id-6 div.sk-parallel-item {display: flex;flex-direction: column;z-index: 1;position: relative;background-color: white;}#sk-container-id-6 div.sk-parallel-item:first-child::after {align-self: flex-end;width: 50%;}#sk-container-id-6 div.sk-parallel-item:last-child::after {align-self: flex-start;width: 50%;}#sk-container-id-6 div.sk-parallel-item:only-child::after {width: 0;}#sk-container-id-6 div.sk-dashed-wrapped {border: 1px dashed gray;margin: 0 0.4em 0.5em 0.4em;box-sizing: border-box;padding-bottom: 0.4em;background-color: white;}#sk-container-id-6 div.sk-label label {font-family: monospace;font-weight: bold;display: inline-block;line-height: 1.2em;}#sk-container-id-6 div.sk-label-container {text-align: center;}#sk-container-id-6 div.sk-container {/* jupyter's `normalize.less` sets `[hidden] { display: none; }` but bootstrap.min.css set `[hidden] { display: none !important; }` so we also need the `!important` here to be able to override the default hidden behavior on the sphinx rendered scikit-learn.org. See: https://github.com/scikit-learn/scikit-learn/issues/21755 */display: inline-block !important;position: relative;}#sk-container-id-6 div.sk-text-repr-fallback {display: none;}</style><div id=\"sk-container-id-6\" class=\"sk-top-container\"><div class=\"sk-text-repr-fallback\"><pre>GridSearchCV(cv=5, estimator=RandomForestClassifier(),\n",
       "             param_grid={&#x27;criterion&#x27;: [&#x27;gini&#x27;, &#x27;entropy&#x27;],\n",
       "                         &#x27;max_depth&#x27;: [4, 8, 16, 32],\n",
       "                         &#x27;max_features&#x27;: [&#x27;auto&#x27;, &#x27;sqrt&#x27;, &#x27;log2&#x27;],\n",
       "                         &#x27;n_estimators&#x27;: [200, 400, 600, 800, 1000]})</pre><b>In a Jupyter environment, please rerun this cell to show the HTML representation or trust the notebook. <br />On GitHub, the HTML representation is unable to render, please try loading this page with nbviewer.org.</b></div><div class=\"sk-container\" hidden><div class=\"sk-item sk-dashed-wrapped\"><div class=\"sk-label-container\"><div class=\"sk-label sk-toggleable\"><input class=\"sk-toggleable__control sk-hidden--visually\" id=\"sk-estimator-id-6\" type=\"checkbox\" ><label for=\"sk-estimator-id-6\" class=\"sk-toggleable__label sk-toggleable__label-arrow\">GridSearchCV</label><div class=\"sk-toggleable__content\"><pre>GridSearchCV(cv=5, estimator=RandomForestClassifier(),\n",
       "             param_grid={&#x27;criterion&#x27;: [&#x27;gini&#x27;, &#x27;entropy&#x27;],\n",
       "                         &#x27;max_depth&#x27;: [4, 8, 16, 32],\n",
       "                         &#x27;max_features&#x27;: [&#x27;auto&#x27;, &#x27;sqrt&#x27;, &#x27;log2&#x27;],\n",
       "                         &#x27;n_estimators&#x27;: [200, 400, 600, 800, 1000]})</pre></div></div></div><div class=\"sk-parallel\"><div class=\"sk-parallel-item\"><div class=\"sk-item\"><div class=\"sk-label-container\"><div class=\"sk-label sk-toggleable\"><input class=\"sk-toggleable__control sk-hidden--visually\" id=\"sk-estimator-id-7\" type=\"checkbox\" ><label for=\"sk-estimator-id-7\" class=\"sk-toggleable__label sk-toggleable__label-arrow\">estimator: RandomForestClassifier</label><div class=\"sk-toggleable__content\"><pre>RandomForestClassifier()</pre></div></div></div><div class=\"sk-serial\"><div class=\"sk-item\"><div class=\"sk-estimator sk-toggleable\"><input class=\"sk-toggleable__control sk-hidden--visually\" id=\"sk-estimator-id-8\" type=\"checkbox\" ><label for=\"sk-estimator-id-8\" class=\"sk-toggleable__label sk-toggleable__label-arrow\">RandomForestClassifier</label><div class=\"sk-toggleable__content\"><pre>RandomForestClassifier()</pre></div></div></div></div></div></div></div></div></div></div>"
      ],
      "text/plain": [
       "GridSearchCV(cv=5, estimator=RandomForestClassifier(),\n",
       "             param_grid={'criterion': ['gini', 'entropy'],\n",
       "                         'max_depth': [4, 8, 16, 32],\n",
       "                         'max_features': ['auto', 'sqrt', 'log2'],\n",
       "                         'n_estimators': [200, 400, 600, 800, 1000]})"
      ]
     },
     "execution_count": 151,
     "metadata": {},
     "output_type": "execute_result"
    }
   ],
   "source": [
    "CV_rfc = GridSearchCV(estimator=rfc, param_grid=param_grid, cv= 5)\n",
    "CV_rfc.fit(tfidf_train, y_train)"
   ]
  },
  {
   "cell_type": "code",
   "execution_count": 152,
   "metadata": {},
   "outputs": [
    {
     "name": "stdout",
     "output_type": "stream",
     "text": [
      "{'criterion': 'entropy', 'max_depth': 32, 'max_features': 'sqrt', 'n_estimators': 600}\n",
      "RandomForestClassifier(criterion='entropy', max_depth=32, n_estimators=600)\n",
      "0.8275521440601115\n"
     ]
    }
   ],
   "source": [
    "print(CV_rfc.best_params_)\n",
    "print(CV_rfc.best_estimator_)\n",
    "print(CV_rfc.best_score_)"
   ]
  },
  {
   "cell_type": "markdown",
   "metadata": {},
   "source": [
    "GridSearch para Logistic Regression"
   ]
  },
  {
   "cell_type": "code",
   "execution_count": 153,
   "metadata": {},
   "outputs": [],
   "source": [
    "param_grid = {'C':[0.001,0.01,0.1,1,10, 100], \n",
    "                    'penalty':['none', 'l1', 'l2', 'elasticnet'],\n",
    "                    'solver' : ['newton-cg', 'lbfgs', 'liblinear']                   \n",
    "                  }"
   ]
  },
  {
   "cell_type": "code",
   "execution_count": 154,
   "metadata": {},
   "outputs": [],
   "source": [
    "CV_lr = GridSearchCV(estimator=lr, param_grid=param_grid, \\\n",
    "scoring='accuracy', cv=5, n_jobs=-1)"
   ]
  },
  {
   "cell_type": "code",
   "execution_count": 155,
   "metadata": {},
   "outputs": [
    {
     "data": {
      "text/html": [
       "<style>#sk-container-id-7 {color: black;background-color: white;}#sk-container-id-7 pre{padding: 0;}#sk-container-id-7 div.sk-toggleable {background-color: white;}#sk-container-id-7 label.sk-toggleable__label {cursor: pointer;display: block;width: 100%;margin-bottom: 0;padding: 0.3em;box-sizing: border-box;text-align: center;}#sk-container-id-7 label.sk-toggleable__label-arrow:before {content: \"▸\";float: left;margin-right: 0.25em;color: #696969;}#sk-container-id-7 label.sk-toggleable__label-arrow:hover:before {color: black;}#sk-container-id-7 div.sk-estimator:hover label.sk-toggleable__label-arrow:before {color: black;}#sk-container-id-7 div.sk-toggleable__content {max-height: 0;max-width: 0;overflow: hidden;text-align: left;background-color: #f0f8ff;}#sk-container-id-7 div.sk-toggleable__content pre {margin: 0.2em;color: black;border-radius: 0.25em;background-color: #f0f8ff;}#sk-container-id-7 input.sk-toggleable__control:checked~div.sk-toggleable__content {max-height: 200px;max-width: 100%;overflow: auto;}#sk-container-id-7 input.sk-toggleable__control:checked~label.sk-toggleable__label-arrow:before {content: \"▾\";}#sk-container-id-7 div.sk-estimator input.sk-toggleable__control:checked~label.sk-toggleable__label {background-color: #d4ebff;}#sk-container-id-7 div.sk-label input.sk-toggleable__control:checked~label.sk-toggleable__label {background-color: #d4ebff;}#sk-container-id-7 input.sk-hidden--visually {border: 0;clip: rect(1px 1px 1px 1px);clip: rect(1px, 1px, 1px, 1px);height: 1px;margin: -1px;overflow: hidden;padding: 0;position: absolute;width: 1px;}#sk-container-id-7 div.sk-estimator {font-family: monospace;background-color: #f0f8ff;border: 1px dotted black;border-radius: 0.25em;box-sizing: border-box;margin-bottom: 0.5em;}#sk-container-id-7 div.sk-estimator:hover {background-color: #d4ebff;}#sk-container-id-7 div.sk-parallel-item::after {content: \"\";width: 100%;border-bottom: 1px solid gray;flex-grow: 1;}#sk-container-id-7 div.sk-label:hover label.sk-toggleable__label {background-color: #d4ebff;}#sk-container-id-7 div.sk-serial::before {content: \"\";position: absolute;border-left: 1px solid gray;box-sizing: border-box;top: 0;bottom: 0;left: 50%;z-index: 0;}#sk-container-id-7 div.sk-serial {display: flex;flex-direction: column;align-items: center;background-color: white;padding-right: 0.2em;padding-left: 0.2em;position: relative;}#sk-container-id-7 div.sk-item {position: relative;z-index: 1;}#sk-container-id-7 div.sk-parallel {display: flex;align-items: stretch;justify-content: center;background-color: white;position: relative;}#sk-container-id-7 div.sk-item::before, #sk-container-id-7 div.sk-parallel-item::before {content: \"\";position: absolute;border-left: 1px solid gray;box-sizing: border-box;top: 0;bottom: 0;left: 50%;z-index: -1;}#sk-container-id-7 div.sk-parallel-item {display: flex;flex-direction: column;z-index: 1;position: relative;background-color: white;}#sk-container-id-7 div.sk-parallel-item:first-child::after {align-self: flex-end;width: 50%;}#sk-container-id-7 div.sk-parallel-item:last-child::after {align-self: flex-start;width: 50%;}#sk-container-id-7 div.sk-parallel-item:only-child::after {width: 0;}#sk-container-id-7 div.sk-dashed-wrapped {border: 1px dashed gray;margin: 0 0.4em 0.5em 0.4em;box-sizing: border-box;padding-bottom: 0.4em;background-color: white;}#sk-container-id-7 div.sk-label label {font-family: monospace;font-weight: bold;display: inline-block;line-height: 1.2em;}#sk-container-id-7 div.sk-label-container {text-align: center;}#sk-container-id-7 div.sk-container {/* jupyter's `normalize.less` sets `[hidden] { display: none; }` but bootstrap.min.css set `[hidden] { display: none !important; }` so we also need the `!important` here to be able to override the default hidden behavior on the sphinx rendered scikit-learn.org. See: https://github.com/scikit-learn/scikit-learn/issues/21755 */display: inline-block !important;position: relative;}#sk-container-id-7 div.sk-text-repr-fallback {display: none;}</style><div id=\"sk-container-id-7\" class=\"sk-top-container\"><div class=\"sk-text-repr-fallback\"><pre>GridSearchCV(cv=5, estimator=LogisticRegression(), n_jobs=-1,\n",
       "             param_grid={&#x27;C&#x27;: [0.001, 0.01, 0.1, 1, 10, 100],\n",
       "                         &#x27;penalty&#x27;: [&#x27;none&#x27;, &#x27;l1&#x27;, &#x27;l2&#x27;, &#x27;elasticnet&#x27;],\n",
       "                         &#x27;solver&#x27;: [&#x27;newton-cg&#x27;, &#x27;lbfgs&#x27;, &#x27;liblinear&#x27;]},\n",
       "             scoring=&#x27;accuracy&#x27;)</pre><b>In a Jupyter environment, please rerun this cell to show the HTML representation or trust the notebook. <br />On GitHub, the HTML representation is unable to render, please try loading this page with nbviewer.org.</b></div><div class=\"sk-container\" hidden><div class=\"sk-item sk-dashed-wrapped\"><div class=\"sk-label-container\"><div class=\"sk-label sk-toggleable\"><input class=\"sk-toggleable__control sk-hidden--visually\" id=\"sk-estimator-id-9\" type=\"checkbox\" ><label for=\"sk-estimator-id-9\" class=\"sk-toggleable__label sk-toggleable__label-arrow\">GridSearchCV</label><div class=\"sk-toggleable__content\"><pre>GridSearchCV(cv=5, estimator=LogisticRegression(), n_jobs=-1,\n",
       "             param_grid={&#x27;C&#x27;: [0.001, 0.01, 0.1, 1, 10, 100],\n",
       "                         &#x27;penalty&#x27;: [&#x27;none&#x27;, &#x27;l1&#x27;, &#x27;l2&#x27;, &#x27;elasticnet&#x27;],\n",
       "                         &#x27;solver&#x27;: [&#x27;newton-cg&#x27;, &#x27;lbfgs&#x27;, &#x27;liblinear&#x27;]},\n",
       "             scoring=&#x27;accuracy&#x27;)</pre></div></div></div><div class=\"sk-parallel\"><div class=\"sk-parallel-item\"><div class=\"sk-item\"><div class=\"sk-label-container\"><div class=\"sk-label sk-toggleable\"><input class=\"sk-toggleable__control sk-hidden--visually\" id=\"sk-estimator-id-10\" type=\"checkbox\" ><label for=\"sk-estimator-id-10\" class=\"sk-toggleable__label sk-toggleable__label-arrow\">estimator: LogisticRegression</label><div class=\"sk-toggleable__content\"><pre>LogisticRegression()</pre></div></div></div><div class=\"sk-serial\"><div class=\"sk-item\"><div class=\"sk-estimator sk-toggleable\"><input class=\"sk-toggleable__control sk-hidden--visually\" id=\"sk-estimator-id-11\" type=\"checkbox\" ><label for=\"sk-estimator-id-11\" class=\"sk-toggleable__label sk-toggleable__label-arrow\">LogisticRegression</label><div class=\"sk-toggleable__content\"><pre>LogisticRegression()</pre></div></div></div></div></div></div></div></div></div></div>"
      ],
      "text/plain": [
       "GridSearchCV(cv=5, estimator=LogisticRegression(), n_jobs=-1,\n",
       "             param_grid={'C': [0.001, 0.01, 0.1, 1, 10, 100],\n",
       "                         'penalty': ['none', 'l1', 'l2', 'elasticnet'],\n",
       "                         'solver': ['newton-cg', 'lbfgs', 'liblinear']},\n",
       "             scoring='accuracy')"
      ]
     },
     "execution_count": 155,
     "metadata": {},
     "output_type": "execute_result"
    }
   ],
   "source": [
    "CV_lr.fit(tfidf_train, y_train)"
   ]
  },
  {
   "cell_type": "code",
   "execution_count": 156,
   "metadata": {},
   "outputs": [
    {
     "name": "stdout",
     "output_type": "stream",
     "text": [
      "{'C': 10, 'penalty': 'l2', 'solver': 'newton-cg'}\n",
      "LogisticRegression(C=10, solver='newton-cg')\n",
      "0.853322969296541\n"
     ]
    }
   ],
   "source": [
    "print(CV_lr.best_params_)\n",
    "print(CV_lr.best_estimator_)\n",
    "print(CV_lr.best_score_)"
   ]
  },
  {
   "cell_type": "markdown",
   "metadata": {},
   "source": [
    "Grid Search para Adaboost"
   ]
  },
  {
   "cell_type": "code",
   "execution_count": 157,
   "metadata": {},
   "outputs": [],
   "source": [
    "param_grid = {'n_estimators':[10, 50, 100, 500, 1000], \n",
    "                    'learning_rate':[0.0001, 0.001, 0.01, 0.1, 1.0],\n",
    "                    'algorithm' : ['SAMME', 'SAMME.R']                  \n",
    "                  }"
   ]
  },
  {
   "cell_type": "code",
   "execution_count": 158,
   "metadata": {},
   "outputs": [],
   "source": [
    "CV_abc = GridSearchCV(estimator=abc, param_grid=param_grid, n_jobs=-1, cv=5, scoring='accuracy')"
   ]
  },
  {
   "cell_type": "code",
   "execution_count": 159,
   "metadata": {},
   "outputs": [],
   "source": [
    "grid_result = CV_abc.fit(tfidf_train, y_train)"
   ]
  },
  {
   "cell_type": "code",
   "execution_count": 160,
   "metadata": {},
   "outputs": [
    {
     "name": "stdout",
     "output_type": "stream",
     "text": [
      "{'algorithm': 'SAMME.R', 'learning_rate': 0.1, 'n_estimators': 1000}\n",
      "AdaBoostClassifier(learning_rate=0.1, n_estimators=1000)\n",
      "0.8186779375566783\n"
     ]
    }
   ],
   "source": [
    "print(CV_abc.best_params_)\n",
    "print(CV_abc.best_estimator_)\n",
    "print(CV_abc.best_score_)"
   ]
  },
  {
   "cell_type": "markdown",
   "metadata": {},
   "source": [
    "GridSearch Naive Bayes"
   ]
  },
  {
   "cell_type": "code",
   "execution_count": 161,
   "metadata": {},
   "outputs": [],
   "source": [
    "param_grid = {'alpha': [0.00001, 0.0001, 0.001, 0.1, 1, 10, 100,1000]}"
   ]
  },
  {
   "cell_type": "code",
   "execution_count": 162,
   "metadata": {},
   "outputs": [],
   "source": [
    "  CV_nb = GridSearchCV(estimator=nb, param_grid=param_grid, n_jobs=-1, cv=5, scoring='accuracy') "
   ]
  },
  {
   "cell_type": "code",
   "execution_count": 163,
   "metadata": {},
   "outputs": [],
   "source": [
    "grid_result = CV_nb.fit(tfidf_train, y_train)"
   ]
  },
  {
   "cell_type": "code",
   "execution_count": 164,
   "metadata": {},
   "outputs": [
    {
     "name": "stdout",
     "output_type": "stream",
     "text": [
      "{'alpha': 0.1}\n",
      "MultinomialNB(alpha=0.1)\n",
      "0.8549391112838451\n"
     ]
    }
   ],
   "source": [
    "print(CV_nb.best_params_)\n",
    "print(CV_nb.best_estimator_)\n",
    "print(CV_nb.best_score_)"
   ]
  },
  {
   "cell_type": "markdown",
   "metadata": {},
   "source": [
    "## Avaliação de precisão do modelo\n",
    "\n",
    "- Precision: qual a proporção dos dados classificados como SPAM eram realmente SPAM. (falsos positivos)\n",
    "\n",
    "- Recall: entre todas as amostras que realmente eram de SPAM, qual a proporção classificada como SPAM. (falsos negativos)\n",
    "\n",
    "- F1-score: uma maneira de observar em um único número a precisão e o recall."
   ]
  },
  {
   "cell_type": "markdown",
   "metadata": {},
   "source": [
    "O classificador Naive Bayes possui um conjunto de parâmetros muito limitado. Dependendo da implementação, às vezes o número de classes é o único parâmetro, sobre o qual, na prática, não temos controle. Portanto, o ajuste de hiperparâmetros é bastante limitado para melhorar a precisão do classificador Naive Bayes. "
   ]
  },
  {
   "cell_type": "markdown",
   "metadata": {},
   "source": [
    "# Teste da eficiência do algoritmo Naive Bayes no dataset de teste"
   ]
  },
  {
   "cell_type": "markdown",
   "metadata": {},
   "source": [
    "Até aqui, verificamos que a Regressão Logística e Naive Bayes foram os modelos que mostraram melhor acurácia para o problema. A seguir, finalizaremos com o modelo Naive Bayes, treinando-o em todo o conjunto de dados de treinamento (sem validação cruzada) e faremos predições para o conjunto de dados de teste que foi separado anteriormente, a fim de confirmarmos nossas descobertas."
   ]
  },
  {
   "cell_type": "code",
   "execution_count": 165,
   "metadata": {},
   "outputs": [],
   "source": [
    "path = Path() / '..'/ 'data' / 'dataframe_to_modeling' / 'teste.pickle'\n",
    "teste = pd.read_pickle(path)"
   ]
  },
  {
   "cell_type": "code",
   "execution_count": 166,
   "metadata": {},
   "outputs": [
    {
     "data": {
      "text/html": [
       "<div>\n",
       "<style scoped>\n",
       "    .dataframe tbody tr th:only-of-type {\n",
       "        vertical-align: middle;\n",
       "    }\n",
       "\n",
       "    .dataframe tbody tr th {\n",
       "        vertical-align: top;\n",
       "    }\n",
       "\n",
       "    .dataframe thead th {\n",
       "        text-align: right;\n",
       "    }\n",
       "</style>\n",
       "<table border=\"1\" class=\"dataframe\">\n",
       "  <thead>\n",
       "    <tr style=\"text-align: right;\">\n",
       "      <th></th>\n",
       "      <th>ID</th>\n",
       "      <th>Message</th>\n",
       "      <th>text_norm</th>\n",
       "      <th>text_tokenized</th>\n",
       "      <th>text_lemmatized</th>\n",
       "      <th>Message_len</th>\n",
       "      <th>punct%</th>\n",
       "    </tr>\n",
       "  </thead>\n",
       "  <tbody>\n",
       "    <tr>\n",
       "      <th>0</th>\n",
       "      <td>405268</td>\n",
       "      <td>Bom dia!!! Divulga ae!!!🎼🎵🎶🎧📢\\nVamos!!!🍻</td>\n",
       "      <td>bom dia divulga ae vamos</td>\n",
       "      <td>[bom, dia, divulga, ae, vamos]</td>\n",
       "      <td>[bom, dia, divulga, ae, vamos]</td>\n",
       "      <td>36</td>\n",
       "      <td>25.0</td>\n",
       "    </tr>\n",
       "    <tr>\n",
       "      <th>1</th>\n",
       "      <td>810119</td>\n",
       "      <td>to bem\\nfznd o que de bom?\\ntbm nada</td>\n",
       "      <td>bem fznd bom tbm nada</td>\n",
       "      <td>[bem, fznd, bom, tbm, nada]</td>\n",
       "      <td>[bem, fznd, bom, tbm, nada]</td>\n",
       "      <td>28</td>\n",
       "      <td>3.6</td>\n",
       "    </tr>\n",
       "    <tr>\n",
       "      <th>2</th>\n",
       "      <td>439979</td>\n",
       "      <td>E ai cambada\\nTrankilo?\\nTrankilo cmo eskilo\\n...</td>\n",
       "      <td>cambada trankilo trankilo cmo eskilo loka tran...</td>\n",
       "      <td>[cambada, trankilo, trankilo, cmo, eskilo, lok...</td>\n",
       "      <td>[cambada, trankilo, trankilo, cmo, eskilo, lok...</td>\n",
       "      <td>190</td>\n",
       "      <td>1.1</td>\n",
       "    </tr>\n",
       "    <tr>\n",
       "      <th>3</th>\n",
       "      <td>928898</td>\n",
       "      <td>Ouçam a conversa gravada no carro do Cristiano...</td>\n",
       "      <td>oucam conversa gravada carro cristiano araujo ...</td>\n",
       "      <td>[oucam, conversa, gravada, carro, cristiano, a...</td>\n",
       "      <td>[oucam, conversa, gravada, carro, cristiano, a...</td>\n",
       "      <td>181</td>\n",
       "      <td>1.7</td>\n",
       "    </tr>\n",
       "    <tr>\n",
       "      <th>4</th>\n",
       "      <td>500412</td>\n",
       "      <td>Nem, mete o piru no Pirra! Ele quer te dar</td>\n",
       "      <td>nem mete piru pirra ele quer dar</td>\n",
       "      <td>[nem, mete, piru, pirra, ele, quer, dar]</td>\n",
       "      <td>[nem, mete, piru, pirra, ele, quer, dar]</td>\n",
       "      <td>33</td>\n",
       "      <td>6.1</td>\n",
       "    </tr>\n",
       "  </tbody>\n",
       "</table>\n",
       "</div>"
      ],
      "text/plain": [
       "       ID                                            Message  \\\n",
       "0  405268           Bom dia!!! Divulga ae!!!🎼🎵🎶🎧📢\\nVamos!!!🍻   \n",
       "1  810119               to bem\\nfznd o que de bom?\\ntbm nada   \n",
       "2  439979  E ai cambada\\nTrankilo?\\nTrankilo cmo eskilo\\n...   \n",
       "3  928898  Ouçam a conversa gravada no carro do Cristiano...   \n",
       "4  500412         Nem, mete o piru no Pirra! Ele quer te dar   \n",
       "\n",
       "                                           text_norm  \\\n",
       "0                           bom dia divulga ae vamos   \n",
       "1                              bem fznd bom tbm nada   \n",
       "2  cambada trankilo trankilo cmo eskilo loka tran...   \n",
       "3  oucam conversa gravada carro cristiano araujo ...   \n",
       "4                   nem mete piru pirra ele quer dar   \n",
       "\n",
       "                                      text_tokenized  \\\n",
       "0                     [bom, dia, divulga, ae, vamos]   \n",
       "1                        [bem, fznd, bom, tbm, nada]   \n",
       "2  [cambada, trankilo, trankilo, cmo, eskilo, lok...   \n",
       "3  [oucam, conversa, gravada, carro, cristiano, a...   \n",
       "4           [nem, mete, piru, pirra, ele, quer, dar]   \n",
       "\n",
       "                                     text_lemmatized  Message_len  punct%  \n",
       "0                     [bom, dia, divulga, ae, vamos]           36    25.0  \n",
       "1                        [bem, fznd, bom, tbm, nada]           28     3.6  \n",
       "2  [cambada, trankilo, trankilo, cmo, eskilo, lok...          190     1.1  \n",
       "3  [oucam, conversa, gravada, carro, cristiano, a...          181     1.7  \n",
       "4           [nem, mete, piru, pirra, ele, quer, dar]           33     6.1  "
      ]
     },
     "execution_count": 166,
     "metadata": {},
     "output_type": "execute_result"
    }
   ],
   "source": [
    "teste.head()"
   ]
  },
  {
   "cell_type": "markdown",
   "metadata": {},
   "source": [
    "# Classificando os dados de Teste"
   ]
  },
  {
   "cell_type": "markdown",
   "metadata": {},
   "source": [
    "O modelo já foi preparado anteriormente:\n",
    "\n",
    "     - model = MultinomialNB(alpha=0.1)\n",
    "     - grid_result = CV_nb.fit(tfidf_train, y_train)\n",
    "     \n",
    "     \n",
    "     Aplicaremos: yhat = model.predict(X_test)"
   ]
  },
  {
   "cell_type": "code",
   "execution_count": 167,
   "metadata": {},
   "outputs": [],
   "source": [
    "cv = CountVectorizer()\n",
    "word_count_vector = cv.fit_transform(teste['text_norm'])"
   ]
  },
  {
   "cell_type": "code",
   "execution_count": 168,
   "metadata": {},
   "outputs": [
    {
     "data": {
      "text/plain": [
       "(500, 3785)"
      ]
     },
     "execution_count": 168,
     "metadata": {},
     "output_type": "execute_result"
    }
   ],
   "source": [
    "word_count_vector.shape"
   ]
  },
  {
   "cell_type": "code",
   "execution_count": 169,
   "metadata": {},
   "outputs": [
    {
     "data": {
      "text/html": [
       "<style>#sk-container-id-8 {color: black;background-color: white;}#sk-container-id-8 pre{padding: 0;}#sk-container-id-8 div.sk-toggleable {background-color: white;}#sk-container-id-8 label.sk-toggleable__label {cursor: pointer;display: block;width: 100%;margin-bottom: 0;padding: 0.3em;box-sizing: border-box;text-align: center;}#sk-container-id-8 label.sk-toggleable__label-arrow:before {content: \"▸\";float: left;margin-right: 0.25em;color: #696969;}#sk-container-id-8 label.sk-toggleable__label-arrow:hover:before {color: black;}#sk-container-id-8 div.sk-estimator:hover label.sk-toggleable__label-arrow:before {color: black;}#sk-container-id-8 div.sk-toggleable__content {max-height: 0;max-width: 0;overflow: hidden;text-align: left;background-color: #f0f8ff;}#sk-container-id-8 div.sk-toggleable__content pre {margin: 0.2em;color: black;border-radius: 0.25em;background-color: #f0f8ff;}#sk-container-id-8 input.sk-toggleable__control:checked~div.sk-toggleable__content {max-height: 200px;max-width: 100%;overflow: auto;}#sk-container-id-8 input.sk-toggleable__control:checked~label.sk-toggleable__label-arrow:before {content: \"▾\";}#sk-container-id-8 div.sk-estimator input.sk-toggleable__control:checked~label.sk-toggleable__label {background-color: #d4ebff;}#sk-container-id-8 div.sk-label input.sk-toggleable__control:checked~label.sk-toggleable__label {background-color: #d4ebff;}#sk-container-id-8 input.sk-hidden--visually {border: 0;clip: rect(1px 1px 1px 1px);clip: rect(1px, 1px, 1px, 1px);height: 1px;margin: -1px;overflow: hidden;padding: 0;position: absolute;width: 1px;}#sk-container-id-8 div.sk-estimator {font-family: monospace;background-color: #f0f8ff;border: 1px dotted black;border-radius: 0.25em;box-sizing: border-box;margin-bottom: 0.5em;}#sk-container-id-8 div.sk-estimator:hover {background-color: #d4ebff;}#sk-container-id-8 div.sk-parallel-item::after {content: \"\";width: 100%;border-bottom: 1px solid gray;flex-grow: 1;}#sk-container-id-8 div.sk-label:hover label.sk-toggleable__label {background-color: #d4ebff;}#sk-container-id-8 div.sk-serial::before {content: \"\";position: absolute;border-left: 1px solid gray;box-sizing: border-box;top: 0;bottom: 0;left: 50%;z-index: 0;}#sk-container-id-8 div.sk-serial {display: flex;flex-direction: column;align-items: center;background-color: white;padding-right: 0.2em;padding-left: 0.2em;position: relative;}#sk-container-id-8 div.sk-item {position: relative;z-index: 1;}#sk-container-id-8 div.sk-parallel {display: flex;align-items: stretch;justify-content: center;background-color: white;position: relative;}#sk-container-id-8 div.sk-item::before, #sk-container-id-8 div.sk-parallel-item::before {content: \"\";position: absolute;border-left: 1px solid gray;box-sizing: border-box;top: 0;bottom: 0;left: 50%;z-index: -1;}#sk-container-id-8 div.sk-parallel-item {display: flex;flex-direction: column;z-index: 1;position: relative;background-color: white;}#sk-container-id-8 div.sk-parallel-item:first-child::after {align-self: flex-end;width: 50%;}#sk-container-id-8 div.sk-parallel-item:last-child::after {align-self: flex-start;width: 50%;}#sk-container-id-8 div.sk-parallel-item:only-child::after {width: 0;}#sk-container-id-8 div.sk-dashed-wrapped {border: 1px dashed gray;margin: 0 0.4em 0.5em 0.4em;box-sizing: border-box;padding-bottom: 0.4em;background-color: white;}#sk-container-id-8 div.sk-label label {font-family: monospace;font-weight: bold;display: inline-block;line-height: 1.2em;}#sk-container-id-8 div.sk-label-container {text-align: center;}#sk-container-id-8 div.sk-container {/* jupyter's `normalize.less` sets `[hidden] { display: none; }` but bootstrap.min.css set `[hidden] { display: none !important; }` so we also need the `!important` here to be able to override the default hidden behavior on the sphinx rendered scikit-learn.org. See: https://github.com/scikit-learn/scikit-learn/issues/21755 */display: inline-block !important;position: relative;}#sk-container-id-8 div.sk-text-repr-fallback {display: none;}</style><div id=\"sk-container-id-8\" class=\"sk-top-container\"><div class=\"sk-text-repr-fallback\"><pre>AdaBoostClassifier()</pre><b>In a Jupyter environment, please rerun this cell to show the HTML representation or trust the notebook. <br />On GitHub, the HTML representation is unable to render, please try loading this page with nbviewer.org.</b></div><div class=\"sk-container\" hidden><div class=\"sk-item\"><div class=\"sk-estimator sk-toggleable\"><input class=\"sk-toggleable__control sk-hidden--visually\" id=\"sk-estimator-id-12\" type=\"checkbox\" checked><label for=\"sk-estimator-id-12\" class=\"sk-toggleable__label sk-toggleable__label-arrow\">AdaBoostClassifier</label><div class=\"sk-toggleable__content\"><pre>AdaBoostClassifier()</pre></div></div></div></div></div>"
      ],
      "text/plain": [
       "AdaBoostClassifier()"
      ]
     },
     "execution_count": 169,
     "metadata": {},
     "output_type": "execute_result"
    }
   ],
   "source": [
    "model.fit(tfidf_train, y_train)"
   ]
  },
  {
   "cell_type": "code",
   "execution_count": 170,
   "metadata": {},
   "outputs": [],
   "source": [
    "feature_extraction_fit = feature_extraction.fit(teste['Message'])\n",
    "tfidf_x_teste = feature_extraction_fit.transform(teste['Message'])"
   ]
  },
  {
   "cell_type": "code",
   "execution_count": 171,
   "metadata": {},
   "outputs": [
    {
     "data": {
      "text/html": [
       "<div>\n",
       "<style scoped>\n",
       "    .dataframe tbody tr th:only-of-type {\n",
       "        vertical-align: middle;\n",
       "    }\n",
       "\n",
       "    .dataframe tbody tr th {\n",
       "        vertical-align: top;\n",
       "    }\n",
       "\n",
       "    .dataframe thead th {\n",
       "        text-align: right;\n",
       "    }\n",
       "</style>\n",
       "<table border=\"1\" class=\"dataframe\">\n",
       "  <thead>\n",
       "    <tr style=\"text-align: right;\">\n",
       "      <th></th>\n",
       "      <th>text_norm</th>\n",
       "      <th>0</th>\n",
       "      <th>1</th>\n",
       "      <th>2</th>\n",
       "      <th>3</th>\n",
       "      <th>4</th>\n",
       "      <th>5</th>\n",
       "      <th>6</th>\n",
       "      <th>7</th>\n",
       "      <th>8</th>\n",
       "      <th>...</th>\n",
       "      <th>7743</th>\n",
       "      <th>7744</th>\n",
       "      <th>7745</th>\n",
       "      <th>7746</th>\n",
       "      <th>7747</th>\n",
       "      <th>7748</th>\n",
       "      <th>7749</th>\n",
       "      <th>7750</th>\n",
       "      <th>7751</th>\n",
       "      <th>7752</th>\n",
       "    </tr>\n",
       "  </thead>\n",
       "  <tbody>\n",
       "    <tr>\n",
       "      <th>0</th>\n",
       "      <td>bom dia divulga ae vamos</td>\n",
       "      <td>0.0</td>\n",
       "      <td>0.0</td>\n",
       "      <td>0.0</td>\n",
       "      <td>0.0</td>\n",
       "      <td>0.0</td>\n",
       "      <td>0.0</td>\n",
       "      <td>0.0</td>\n",
       "      <td>0.0</td>\n",
       "      <td>0.0</td>\n",
       "      <td>...</td>\n",
       "      <td>0.0</td>\n",
       "      <td>0.0</td>\n",
       "      <td>0.0</td>\n",
       "      <td>0.0</td>\n",
       "      <td>0.0</td>\n",
       "      <td>0.0</td>\n",
       "      <td>0.0</td>\n",
       "      <td>0.0</td>\n",
       "      <td>0.0</td>\n",
       "      <td>0.0</td>\n",
       "    </tr>\n",
       "    <tr>\n",
       "      <th>1</th>\n",
       "      <td>bem fznd bom tbm nada</td>\n",
       "      <td>0.0</td>\n",
       "      <td>0.0</td>\n",
       "      <td>0.0</td>\n",
       "      <td>0.0</td>\n",
       "      <td>0.0</td>\n",
       "      <td>0.0</td>\n",
       "      <td>0.0</td>\n",
       "      <td>0.0</td>\n",
       "      <td>0.0</td>\n",
       "      <td>...</td>\n",
       "      <td>0.0</td>\n",
       "      <td>0.0</td>\n",
       "      <td>0.0</td>\n",
       "      <td>0.0</td>\n",
       "      <td>0.0</td>\n",
       "      <td>0.0</td>\n",
       "      <td>0.0</td>\n",
       "      <td>0.0</td>\n",
       "      <td>0.0</td>\n",
       "      <td>0.0</td>\n",
       "    </tr>\n",
       "    <tr>\n",
       "      <th>2</th>\n",
       "      <td>cambada trankilo trankilo cmo eskilo loka tran...</td>\n",
       "      <td>0.0</td>\n",
       "      <td>0.0</td>\n",
       "      <td>0.0</td>\n",
       "      <td>0.0</td>\n",
       "      <td>0.0</td>\n",
       "      <td>0.0</td>\n",
       "      <td>0.0</td>\n",
       "      <td>0.0</td>\n",
       "      <td>0.0</td>\n",
       "      <td>...</td>\n",
       "      <td>0.0</td>\n",
       "      <td>0.0</td>\n",
       "      <td>0.0</td>\n",
       "      <td>0.0</td>\n",
       "      <td>0.0</td>\n",
       "      <td>0.0</td>\n",
       "      <td>0.0</td>\n",
       "      <td>0.0</td>\n",
       "      <td>0.0</td>\n",
       "      <td>0.0</td>\n",
       "    </tr>\n",
       "    <tr>\n",
       "      <th>3</th>\n",
       "      <td>oucam conversa gravada carro cristiano araujo ...</td>\n",
       "      <td>0.0</td>\n",
       "      <td>0.0</td>\n",
       "      <td>0.0</td>\n",
       "      <td>0.0</td>\n",
       "      <td>0.0</td>\n",
       "      <td>0.0</td>\n",
       "      <td>0.0</td>\n",
       "      <td>0.0</td>\n",
       "      <td>0.0</td>\n",
       "      <td>...</td>\n",
       "      <td>0.0</td>\n",
       "      <td>0.0</td>\n",
       "      <td>0.0</td>\n",
       "      <td>0.0</td>\n",
       "      <td>0.0</td>\n",
       "      <td>0.0</td>\n",
       "      <td>0.0</td>\n",
       "      <td>0.0</td>\n",
       "      <td>0.0</td>\n",
       "      <td>0.0</td>\n",
       "    </tr>\n",
       "    <tr>\n",
       "      <th>4</th>\n",
       "      <td>nem mete piru pirra ele quer dar</td>\n",
       "      <td>0.0</td>\n",
       "      <td>0.0</td>\n",
       "      <td>0.0</td>\n",
       "      <td>0.0</td>\n",
       "      <td>0.0</td>\n",
       "      <td>0.0</td>\n",
       "      <td>0.0</td>\n",
       "      <td>0.0</td>\n",
       "      <td>0.0</td>\n",
       "      <td>...</td>\n",
       "      <td>0.0</td>\n",
       "      <td>0.0</td>\n",
       "      <td>0.0</td>\n",
       "      <td>0.0</td>\n",
       "      <td>0.0</td>\n",
       "      <td>0.0</td>\n",
       "      <td>0.0</td>\n",
       "      <td>0.0</td>\n",
       "      <td>0.0</td>\n",
       "      <td>0.0</td>\n",
       "    </tr>\n",
       "  </tbody>\n",
       "</table>\n",
       "<p>5 rows × 7754 columns</p>\n",
       "</div>"
      ],
      "text/plain": [
       "                                           text_norm    0    1    2    3    4  \\\n",
       "0                           bom dia divulga ae vamos  0.0  0.0  0.0  0.0  0.0   \n",
       "1                              bem fznd bom tbm nada  0.0  0.0  0.0  0.0  0.0   \n",
       "2  cambada trankilo trankilo cmo eskilo loka tran...  0.0  0.0  0.0  0.0  0.0   \n",
       "3  oucam conversa gravada carro cristiano araujo ...  0.0  0.0  0.0  0.0  0.0   \n",
       "4                   nem mete piru pirra ele quer dar  0.0  0.0  0.0  0.0  0.0   \n",
       "\n",
       "     5    6    7    8  ...  7743  7744  7745  7746  7747  7748  7749  7750  \\\n",
       "0  0.0  0.0  0.0  0.0  ...   0.0   0.0   0.0   0.0   0.0   0.0   0.0   0.0   \n",
       "1  0.0  0.0  0.0  0.0  ...   0.0   0.0   0.0   0.0   0.0   0.0   0.0   0.0   \n",
       "2  0.0  0.0  0.0  0.0  ...   0.0   0.0   0.0   0.0   0.0   0.0   0.0   0.0   \n",
       "3  0.0  0.0  0.0  0.0  ...   0.0   0.0   0.0   0.0   0.0   0.0   0.0   0.0   \n",
       "4  0.0  0.0  0.0  0.0  ...   0.0   0.0   0.0   0.0   0.0   0.0   0.0   0.0   \n",
       "\n",
       "   7751  7752  \n",
       "0   0.0   0.0  \n",
       "1   0.0   0.0  \n",
       "2   0.0   0.0  \n",
       "3   0.0   0.0  \n",
       "4   0.0   0.0  \n",
       "\n",
       "[5 rows x 7754 columns]"
      ]
     },
     "execution_count": 171,
     "metadata": {},
     "output_type": "execute_result"
    }
   ],
   "source": [
    "X_test_vect_nb = pd.concat([teste[['text_norm']].reset_index(drop=True), \n",
    "           pd.DataFrame(tfidf_test.toarray())], axis=1)\n",
    "\n",
    "X_test_vect_nb.head()"
   ]
  },
  {
   "cell_type": "markdown",
   "metadata": {},
   "source": [
    "Aplicando TFIDF"
   ]
  },
  {
   "cell_type": "code",
   "execution_count": 172,
   "metadata": {},
   "outputs": [
    {
     "name": "stdout",
     "output_type": "stream",
     "text": [
      "(500, 3785)\n",
      "['0000', '0211581172839', '037', '0715', '0727h', '08002800102', '0824h', '096289964', '0lamarilen3', '100', '1000', '1000000', '1018', '102', '104', '1075', '110', '120', '135', '13o', '140km', '1428456613', '15', '1630', '1671', '1704', '1800', '1805', '190', '2002', '2015', '2016', '2100', '2125', '2150', '21h09', '22h55', '2410', '25check', '260', '26298129', '267', '26867182', '2via', '300000', '3051', '30min', '3265', '3411', '363', '3987', '4000', '4272', '4297', '48h', '4x4', '500', '50000', '530', '540', '55', '5km', '618', '693', '768', '794', '800', '804', '845h', '860', '919', '920hs', '99458494', '99650000', '__', '_______', '________', '_x000d_', 'aai', 'abaixo', 'abandonada', 'abandonado', 'abandonadoexistem', 'abandonados', 'abandonando', 'abandonaram', 'abelardo', 'abencoe', 'aberta', 'abertas', 'abertoo', 'abertos', 'abolicao', 'abordado', 'abraco', 'abri', 'abril', 'abrir', 'abriu', 'abs', 'absurdo', 'abusivos', 'abusosn', 'acaba', 'acabamos', 'acabar', 'acabaram', 'acabarao', 'acabei', 'acabou', 'acacias', 'acampados', 'aceita', 'aceitar', 'acena', 'acesa', 'achado', 'acham', 'achando', 'achar', 'acharam', 'acharem', 'achei', 'acho', 'acidente', 'acionada', 'acionado', 'aco', 'acomodacao', 'acompanhar', 'acontece', 'acontecendo', 'acontecer', 'aconteceu', 'acontecido', 'acontecimento', 'acorda', 'acordada', 'acordar', 'acordo', 'acreditando', 'acredite', 'acredito', 'acumulado', 'acumulo', 'add', 'adesivo', 'adhemar', 'adiantar', 'adicionei', 'adolescente', 'adolescentes', 'adriano', 'adulto', 'advertencia', 'ae', 'aeroporto', 'aff', 'afim', 'afinal', 'afirmou', 'aflitos', 'agencias', 'agendada', 'agendar', 'agente', 'agentes', 'agiii', 'agora', 'agr', 'agradar', 'agradaram', 'agradece', 'agradecem', 'agradeceu', 'agradeco', 'agradou', 'agravante', 'agredido', 'agressao', 'agua', 'aguardando', 'aguentam', 'aguento', 'ahnao', 'ahri', 'aids', 'aii', 'aiii', 'aiinda', 'ainda', 'air', 'ajuda', 'ajudar', 'ajudara', 'ajudas', 'ajude', 'ajudem', 'ajudes', 'ajuuuuude', 'aki', 'alagado', 'alameda', 'alan', 'albano', 'alberto', 'alegam', 'alegando', 'alegre', 'alegria', 'aleixo', 'alem', 'alemao', 'alerta', 'alex', 'algo', 'alguem', 'algum', 'alguma', 'algumas', 'alguns', 'ali', 'alianca', 'alimenticia', 'alinharamse', 'all', 'allana', 'almeida', 'almerinda', 'alo', 'aloisio', 'altas', 'alteracao', 'alterada', 'alto', 'altura', 'alunos', 'alves', 'alvorada', 'ama', 'amada', 'amamentando', 'amanha', 'amanhecer', 'amarela', 'ambienta', 'ambiente', 'ameacada', 'ameacando', 'ameacar', 'amem', 'amendoeira', 'america', 'americana', 'americanas', 'amg', 'amigavelmente', 'amigo', 'amigos', 'amizade', 'ammoor', 'amnesia', 'amo', 'amor', 'amorim', 'amorrw', 'amp', 'ampla', 'ana', 'anaia', 'anao', 'anastacio', 'anda', 'andam', 'andando', 'anderso', 'anderson', 'andre', 'andreson', 'angra', 'angu', 'anhanguera', 'anil', 'animado', 'animais', 'aniversario', 'anna', 'ano', 'anos', 'anosera', 'anskaoahanq', 'anteriormente', 'antes', 'antiga', 'antonio', 'anual', 'anunciaram', 'anus', 'anvisa', 'aonde', 'apagando', 'apagao', 'apapotaquepariu', 'aparece', 'aparecem', 'aparecera', 'apareceu', 'apavorados', 'apelo', 'apenas', 'apesar', 'aplicativo', 'apoio', 'apos', 'aposentado', 'aposentadoria', 'apresentacao', 'apresentadora', 'aprovacao', 'aprovado', 'aproveita', 'aproximadamente', 'aproximouse', 'apuracao', 'aqui', 'aquiconheco', 'aquipor', 'aram', 'aranha', 'araruama', 'araticum', 'araujo', 'archer', 'arco', 'arcorizada', 'area', 'areia', 'argentino', 'arma', 'armado', 'armando', 'armasvenho', 'arrazeii', 'arriscado', 'art', 'arthur', 'arvore', 'ary', 'asa', 'asfaltada', 'asfalto', 'asim', 'asneiras', 'ass', 'assaltada', 'assaltam', 'assalto', 'assassina', 'assassinada', 'assassinado', 'assassino', 'assim', 'assinada', 'assinado', 'assine', 'assista', 'assistam', 'assistente', 'assistir', 'assumo', 'assunto', 'assuntos', 'assustado', 'assustar', 'astoria', 'ata', 'atacar', 'atacou', 'atalho', 'ate', 'atencao', 'atendendo', 'atender', 'atenderlhe', 'atendida', 'atendimento', 'atento', 'aterro', 'atinge', 'atira', 'atirar', 'atiraram', 'atitude', 'ativa', 'ativar', 'ativos', 'atleta', 'atletas', 'atoua', 'atrapalha', 'atrapalhando', 'atras', 'atrasando', 'atraves', 'atravessados', 'atravessar', 'atropeladas', 'att', 'atual', 'atualizado', 'atualizar', 'aturar', 'audiencia', 'audiencias', 'audio', 'audios', 'augusto', 'aula', 'aumentar', 'aumentos', 'aurora', 'austin', 'autenticada', 'automatica', 'automaticamente', 'automovel', 'autoridade', 'autoridades', 'auxilio', 'avancar', 'avani', 'avbrasil', 'avenida', 'avisa', 'avisados', 'avise', 'avisem', 'aviso', 'avmassako', 'avministro', 'axo', 'azul', 'azulwhatsapp', 'babando', 'baby', 'bagulho', 'bagunca', 'bahia', 'bai', 'baia', 'bairro', 'bairros', 'baixa', 'baixada', 'baixinha', 'baixo', 'balao', 'baldeacao', 'balduino', 'bambus', 'bananal', 'bancario', 'banco', 'bandeirantes', 'bandeiras', 'bandeirinhas', 'bandidos', 'bangu', 'banheiro', 'banheiros', 'baratas', 'barbaridade', 'barra', 'barulho', 'base', 'basico', 'basta', 'bastante', 'bastasse', 'batalhao', 'batata', 'bateau', 'batendo', 'batepapo', 'bateram', 'baterem', 'bateria', 'bateu', 'bati', 'batista', 'bcgid', 'bebe', 'bebeta', 'bebiano', 'beco', 'beem', 'beijar', 'beira', 'beiralinha', 'bel', 'belford', 'belfordroxo', 'bem', 'bemmas', 'ben', 'benicio', 'benny', 'bento', 'bernardo', 'best', 'besteira', 'beti', 'bezerra', 'bezetacil', 'bgl', 'bica', 'bicho', 'bilack', 'bingem', 'bino', 'biologia', 'bittencourt', 'bjs', 'blindados', 'blz', 'boa', 'boato', 'boatos', 'boatso', 'bob', 'bobao', 'bobo', 'bocaa', 'bolarao', 'boletim', 'boleto', 'bolinha', 'bolo', 'bolsa', 'bom', 'bombeiros', 'bombinhas', 'bompassa', 'bomsem', 'bones', 'bonita', 'bonito', 'boom', 'bope', 'bordo', 'borges', 'bosta', 'bota', 'botanico', 'botar', 'botei', 'botelho', 'botou', 'boys', 'bracos', 'bram', 'branca', 'brasil', 'brasileira', 'brasileirao', 'brasileiro', 'brasileiros', 'brasilia', 'brasiliense', 'brava', 'bravo', 'briga', 'brigaduuu', 'brigar', 'brincar', 'brinks', 'brinquedo', 'brioco', 'brt', 'bruno', 'bueno', 'bunda', 'bunekinhos', 'bunita', 'bunitinhos', 'buraco', 'buracos', 'burocracias', 'busca', 'buscar', 'bustamante', 'caaa', 'caaaaay', 'cabe', 'cabeca', 'cabecao', 'cabelo', 'cabeloela', 'cabina', 'cabucu', 'cacamba', 'cacambas', 'cada', 'cade', 'cadeia', 'cadeirante', 'cadeirantes', 'cai', 'caia', 'caido', 'caindo', 'cair', 'caiu', 'caixa', 'caixao', 'caju', 'cala', 'calazans', 'calcada', 'calcadas', 'cama', 'camara', 'cambada', 'caminha', 'caminhando', 'caminhao', 'caminhava', 'caminho', 'campina', 'campinho', 'campo', 'campos', 'canal', 'cancelado', 'candidato', 'candidatos', 'candido', 'cangalha', 'cano', 'cansada', 'cansei', 'cansou', 'cantam', 'canto', 'caos', 'capacidade', 'capitao', 'capivaras', 'capivari', 'capotaram', 'capotou', 'car', 'cara', 'caralho', 'caramujos', 'caravele', 'card', 'cardoso', 'carecas', 'carinha', 'carioca', 'carlos', 'caro', 'caroco', 'carolino', 'carrapato', 'carregador', 'carregar', 'carreta', 'carrinho', 'carro', 'carros', 'cartao', 'carteira', 'carteirinha', 'cartinha', 'cartorio', 'carvalho', 'casa', 'casado', 'casagracas', 'casamento', 'casas', 'casasa', 'cascadura', 'caso', 'casos', 'cassia', 'cassilas', 'castelo', 'castro', 'catarata', 'categoria', 'catia', 'catiavc', 'causa', 'causada', 'causando', 'cavaco', 'cavalcante', 'cavalo', 'caveirao', 'caxambi', 'caxias', 'cbf', 'cedae', 'cedai', 'cederj', 'cedo', 'cel', 'celular', 'celulares', 'cenas', 'cennnaaaaaaaa', 'cenoura', 'cense', 'centavos', 'centenario', 'central', 'centro', 'cep', 'certeza', 'certidao', 'certidoes', 'certo', 'cesar', 'ceu', 'cezar', 'chagas', 'chaleira', 'chama', 'chamada', 'chamado', 'chamados', 'chamar', 'chamo', 'chamou', 'chao', 'chato', 'check', 'chega', 'chegar', 'chegou', 'chegouagrediu', 'cheguei', 'cheia', 'cheio', 'cheiro', 'chguei', 'chocolate', 'choquito', 'chorando', 'chororo', 'chove', 'chovendo', 'chover', 'chris', 'chupa', 'chupaaaa', 'chupo', 'chutao', 'chuva', 'ciclismo', 'ciclista', 'ciclovia', 'cidadao', 'cidadaos', 'cidade', 'cilada', 'cima', 'cimiterio', 'cinco', 'cinelandia', 'ciosp', 'circula', 'circulando', 'cirurgia', 'civil', 'clamamos', 'clandestinas', 'clandestino', 'claro', 'claru', 'clash', 'claudia', 'claudio', 'clementino', 'clinica', 'clip', 'cllltv', 'clonados', 'clone', 'close', 'clt', 'club', 'clube', 'clubes', 'cmg', 'cmo', 'cntg', 'coberto', 'cobertura', 'coberturas', 'cobrar', 'cobras', 'coco', 'codigo', 'coe', 'coelho', 'coimbra', 'coincidencia', 'coisa', 'coisas', 'colaborar', 'colaco', 'colegio', 'colete', 'coloca', 'colocadas', 'colocamos', 'colocando', 'colocar', 'colocarei', 'colocou', 'coloo', 'colubande', 'coluna', 'com', 'comando', 'combinar', 'come', 'comeca', 'comecam', 'comecamos', 'comecaram', 'comecarao', 'comeco', 'comecou', 'comercio', 'comi', 'comigo', 'comigp', 'comissao', 'comlurb', 'como', 'compareca', 'compartilhe', 'compartilhem', 'compensa', 'competicao', 'completa', 'completamente', 'completando', 'complexo', 'composicao', 'comprar', 'comprei', 'comprometendo', 'comprometermos', 'compromisso', 'comprovar', 'comprovem', 'comte', 'comunicacao', 'comunidade', 'comunitaria', 'concedido', 'concluiram', 'concordar', 'concordo', 'condicoes', 'condominio', 'conducao', 'confere', 'conferir', 'confie', 'confirmacao', 'confirmado', 'confirmando', 'confirmar', 'conforme', 'congestionado', 'congestionados', 'congresso', 'conheca', 'conhece', 'conhecer', 'conhecesse', 'conhecido', 'conhecimento', 'conheco', 'conosco', 'conquista', 'consegue', 'conseguem', 'consegui', 'conseguindo', 'conseguir', 'conseguiria', 'conselho', 'consequencia', 'consequetemente', 'consertar', 'conservacao', 'considerando', 'consigo', 'consta', 'constatou', 'constrangendo', 'construcao', 'consulado', 'consulta', 'conta', 'contamos', 'contar', 'contara', 'contas', 'contato', 'contatos', 'conteudo', 'continua', 'continuar', 'continuem', 'continuidade', 'continuo', 'contrai', 'contratam', 'conversa', 'conversando', 'conversar', 'conversei', 'converter', 'convidando', 'convidem', 'coorte', 'cop', 'copia', 'copias', 'cor', 'coracao', 'corda', 'cordei', 'core', 'corpo', 'corporacoes', 'corre', 'correa', 'correge', 'correia', 'correio', 'corretos', 'corta', 'cortam', 'cortar', 'corte', 'cortes', 'coruja', 'cosme', 'cosmos', 'costa', 'costarayane', 'costas', 'couto', 'covesa', 'creche', 'creches', 'credito', 'crepusculo', 'crescer', 'cresceu', 'crescido', 'cria', 'crianca', 'criancas', 'criando', 'criaram', 'criem', 'criket', 'crime', 'crise', 'crises', 'cristiano', 'cristina', 'cristo', 'critica', 'crl', 'crlh', 'cruz', 'cruzada', 'cruzamento', 'cruzeiro', 'ctb', 'cuida', 'cujo', 'cumprindo', 'cunha', 'cunhado', 'curicica', 'cursinho', 'curso', 'custa', 'custo', 'daa', 'dagua', 'dai', 'dando', 'daniel', 'daqui', 'dar', 'data', 'datas', 'davi', 'debate', 'decepcao', 'decidir', 'decidirmos', 'decidiu', 'declaralo', 'declarar', 'dedo', 'deeus', 'defensoria', 'deficiente', 'deficientes', 'degase', 'dei', 'deicha', 'deitada', 'deixa', 'deixando', 'deixar', 'deixe', 'deixou', 'delagacao', 'dele', 'delegacia', 'delegacias', 'delegostaria', 'demais', 'deme', 'demetrio', 'democratico', 'demora', 'dende', 'dengue', 'dentinho', 'dentro', 'denuncia', 'denunciado', 'denunciam', 'denunciar', 'denunciou', 'deodoro', 'dep', 'depois', 'deputado', 'deputados', 'deputadovtibha', 'deram', 'desa', 'desabafar', 'descartando', 'descaso', 'descer', 'descida', 'descoberto', 'descobri', 'descolacaram', 'desconfiar', 'desculpa', 'desculpas', 'desculpe', 'desculpem', 'desde', 'desembargador', 'desemprego', 'desfrutar', 'design', 'desligase', 'deslocar', 'deslocou', 'desocupados', 'desordem', 'desperdicada', 'desperdicio', 'desregulada', 'desrespeito', 'dessa', 'dessas', 'desse', 'desses', 'desta', 'deste', 'destilar', 'destino', 'destruida', 'detalhes', 'detran', 'deu', 'deus', 'deusviremos', 'deve', 'devem', 'deveria', 'deves', 'deveza', 'devfazenda', 'devida', 'devidas', 'devido', 'devo', 'dez', 'dezembro', 'dia', 'diaaa', 'diabetes', 'diafachel', 'diagnosticar', 'diariamente', 'dias', 'diasbairro', 'diasera', 'diego', 'diferenca', 'diferente', 'dificil', 'dificuldade', 'dificuldades', 'dignamente', 'dignissimos', 'dilma', 'diminuem', 'dinheiro', 'dinovo', 'diploma', 'direcao', 'direito', 'direitos', 'direto', 'diretor', 'diretora', 'diretores', 'dis', 'discasse', 'discutiremos', 'disponiveis', 'disposicao', 'disposta', 'disquei', 'disse', 'disselhe', 'disseme', 'disseque', 'disseram', 'dissidio', 'disso', 'distraem', 'distrai', 'distribuicao', 'distrito', 'dita', 'dito', 'diversas', 'diversos', 'divertido', 'dividir', 'divo', 'divosa', 'divulga', 'divulgadas', 'divulgar', 'divulgassem', 'divulgue', 'divulguem', 'dizem', 'dizendo', 'dizer', 'djaosjf', 'documentacao', 'documento', 'documentos', 'doenca', 'doencas', 'doido', 'dois', 'dom', 'dominar', 'domingo', 'doria', 'dorme', 'dormi', 'dormindo', 'dormir', 'dormiu', 'dos', 'dosape', 'doze', 'dps', 'droga', 'drogando', 'drogas', 'duas', 'dubay', 'duque', 'durante', 'durmi', 'dutra', 'duvida', 'duvido', 'duvidosos', 'eae', 'eai', 'ebaaaa', 'ecia', 'economia', 'economica', 'ecosport', 'edema', 'edicao', 'edificio', 'edificios', 'edmilson', 'edredon', 'edson', 'eduardo', 'educacao', 'educativa', 'eeeeeeaaaaasaaaeeeeeee', 'efetivoai', 'ela', 'elassss', 'ele', 'eleicoes', 'eles', 'eletronico', 'eliana', 'elo', 'eloa', 'emails', 'embaixada', 'embaixador', 'embora', 'embrazei', 'emergencia', 'emissao', 'empenho', 'empregadas', 'emprego', 'empregos', 'empresa', 'empresarios', 'empresas', 'empurrando', 'encaminhado', 'encaminho', 'enche', 'encolheu', 'encontra', 'encontrado', 'encontrar', 'encontrara', 'encontrase', 'encontro', 'endereco', 'enem', 'energia', 'enfaticas', 'enfermeiro', 'enfia', 'enfiar', 'enfim', 'enfrentamos', 'engenho', 'engenhoca', 'engracado', 'enguicou', 'enquanto', 'enrolado', 'ensina', 'entao', 'entardecer', 'entendem', 'entender', 'entendeu', 'entendiesse', 'enteresso', 'enterro', 'entra', 'entrada', 'entram', 'entramos', 'entrando', 'entrar', 'entrega', 'entregas', 'entregues', 'entrei', 'entrevista', 'entrou', 'entupimento', 'envergonha', 'enviada', 'enviado', 'enviae', 'enviala', 'envialas', 'envialo', 'enviando', 'enviar', 'enviarei', 'envie', 'enviei', 'envio', 'enviou', 'eota', 'equando', 'equipamento', 'equipe', 'era', 'eram', 'erica', 'errado', 'errados', 'esclarecer', 'esclarecesse', 'esclarecimento', 'esclarecimentos', 'escoa', 'escola', 'escolas', 'escolasao', 'escondam', 'esconder', 'escorar', 'escrevendo', 'escrever', 'escrevo', 'escrito', 'escudo', 'escuras', 'escurinho', 'escuro', 'escuta', 'escutando', 'escutar', 'escuto', 'esfaqueia', 'esgosto', 'esgotando', 'esgoto', 'eskilo', 'especial', 'espera', 'esperanca', 'esperando', 'esperantinopolis', 'esperapor', 'esperar', 'espero', 'esplana', 'esporte', 'esqueca', 'esquecam', 'esqueceu', 'esquecido', 'esquina', 'esra', 'essa', 'essas', 'esse', 'esses', 'esta', 'estabeleceu', 'estacao', 'estacio', 'estacionado', 'estacionamento', 'estadio', 'estado', 'estados', 'estadual', 'estais', 'estaleiro', 'estamos', 'estao', 'estara', 'este', 'estevao', 'estou', 'estourado', 'estrada', 'estranhei', 'estruparam', 'estrutura', 'estuda', 'estufa', 'estuprado', 'estuprador', 'estuprar', 'estupro', 'etc', 'euclides', 'eugenio', 'euu', 'euuu', 'exame', 'exatamente', 'exausta', 'excelente', 'exclusiva', 'executivo', 'exemplo', 'existe', 'existem', 'expectativas', 'expert', 'explicacao', 'explicar', 'expondo', 'exposto', 'expresso', 'exprimidos', 'extava', 'extensao', 'extincao', 'extinguir', 'extra', 'extremamente', 'fabio', 'fabiola', 'faca', 'facam', 'facebook', 'fachel', 'fachelaqui', 'faco', 'faetec', 'faixa', 'fala', 'faladoo', 'falam', 'falamomitem', 'falando', 'falar', 'falaram', 'falaria', 'falecer', 'faleceu', 'falei', 'falem', 'falido', 'falo', 'falou', 'falso', 'falta', 'faltando', 'familia', 'familiares', 'familias', 'fas', 'fase', 'fastel', 'fatimanilopolis', 'fato', 'fatosgostaria', 'fatosso', 'favela', 'favelas', 'favor', 'favoritos', 'favornao', 'favorsomos', 'faz', 'faze', 'fazem', 'fazendo', 'fazer', 'fazerei', 'fazia', 'fdddddsdc', 'fdm', 'fdp', 'fechada', 'fecham', 'federais', 'federal', 'feio', 'feira', 'feita', 'feito', 'felicidade', 'feliz', 'feminino', 'femininos', 'fenomeno', 'fera', 'ferias', 'feridos', 'feriu', 'fernanda', 'fernando', 'ferra', 'ferrado', 'ferramenta', 'ferreira', 'ferrwira', 'festa', 'fez', 'fezem', 'fica', 'ficam', 'ficamos', 'ficando', 'ficar', 'ficara', 'ficaram', 'ficarei', 'ficaria', 'ficasse', 'ficha', 'fico', 'ficou', 'figueiredo', 'fila', 'filha', 'filho', 'filhos', 'filmar', 'filmarmas', 'filme', 'fim', 'final', 'fins', 'fique', 'fiqueem', 'fiquei', 'firme', 'fiscalizacao', 'fiscalizados', 'fiscalizam', 'fiscalizar', 'fiscalizarem', 'fisicos', 'fiuza', 'fixo', 'fiz', 'fizemos', 'fizer', 'fizeram', 'fizerem', 'flagrante', 'flamengo', 'flavia', 'flavio', 'flor', 'flora', 'flores', 'floriano', 'fluminense', 'fluminensetenho', 'fluxo', 'flw', 'foce', 'foco', 'focos', 'foda', 'fodase', 'fodasi', 'fofs', 'fogo', 'fogos', 'foi', 'fome', 'fonseca', 'fonte', 'foofiinn', 'fooooooodaaaaaaas', 'fora', 'foragida', 'foram', 'forcam', 'ford', 'forma', 'formulario', 'forte', 'fortes', 'fortinho', 'foto', 'fotos', 'fox', 'fragoso', 'fran', 'francisco', 'franco', 'freire', 'frente', 'frequente', 'frequento', 'frete', 'friburgo', 'frio', 'frioo', 'fudeu', 'fudido', 'fufu', 'fugir', 'fugiram', 'fui', 'fumaca', 'funcao', 'funciona', 'funcionando', 'funcionaram', 'funcionaria', 'funcionario', 'funcionarios', 'fundacao', 'fundamentais', 'fundamental', 'fundos', 'funk', 'furto', 'fut', 'futebol', 'futuro', 'fuu', 'fuui', 'fuzil', 'fznd', 'galeao', 'galera', 'galho', 'galudo', 'gamba', 'gamer', 'gana', 'ganha', 'ganhado', 'ganhamos', 'ganho', 'ganhou', 'garantidos', 'garganta', 'garota', 'garoto', 'garrido', 'garrincha', 'gastacao', 'gata', 'gayton', 'gazolla', 'geavar', 'geladeira', 'gemeos', 'gente', 'geral', 'geraldo', 'geram', 'ginecologista', 'gllll', 'globo', 'gloria', 'gnt', 'golpe', 'gomes', 'goncalo', 'goncalorj', 'goncalves', 'google', 'goooool', 'gordim', 'gordo', 'gosta', 'gostaram', 'gostarem', 'gostaria', 'gostem', 'gosto', 'gostosa', 'gostoso', 'got', 'goteiras', 'governador', 'governantes', 'governo', 'governobrasileirodissequeocorpodoatletadentinhoederesponsabilidadedafamiliamasocorpotraficantemarcosarchertevetratamentoespecial', 'graca', 'gradim', 'gral', 'gramacho', 'granada', 'grande', 'grandes', 'grata', 'gratis', 'grato', 'gratuidade', 'gratuitamente', 'gratuito', 'graus', 'grava', 'gravacao', 'gravacoes', 'gravada', 'greve', 'grita', 'gritando', 'gritar', 'grosseira', 'grupo', 'grupos', 'gta', 'guanabara', 'guapimirim', 'guarda', 'guardas', 'guardasse', 'gue', 'guerengue', 'guerra', 'guerreira', 'guerreiro', 'guilherme', 'gus', 'habbo', 'habilitacao', 'habitual', 'hacer', 'hahaha', 'hahahaha', 'haijajja', 'haitiano', 'hallen', 'hauauhahuau', 'hauha', 'hauhaua', 'hauhauaq', 'hauhauha', 'hauhauja', 'havia', 'haviam', 'heberth', 'heitor', 'helder', 'helena', 'helio', 'hellen', 'henrique', 'herois', 'herreraaa', 'heueheue', 'heve', 'hey', 'historia', 'hoje', 'hollanda', 'homem', 'homenageia', 'homens', 'honesto', 'honras', 'hora', 'horario', 'horarios', 'horas', 'horaspessoas', 'horriveis', 'horrivel', 'horrorizada', 'hospitais', 'hospital', 'hrs', 'hsshsushsu', 'http', 'https', 'huahuahuahuahu', 'humano', 'hummm', 'huum', 'iae', 'icone', 'ideia', 'ideias', 'identidade', 'identifica', 'identificado', 'identificouse', 'identifiquem', 'idosa', 'idosos', 'ifp', 'ignoram', 'ignore', 'igreja', 'iguacu', 'igual', 'ilesaamem', 'ilha', 'iluminacao', 'imagem', 'imediatamente', 'imensa', 'imoveis', 'impedida', 'impediram', 'impina', 'imploro', 'importam', 'importancia', 'importantes', 'importantissimo', 'impossivel', 'imposta', 'imposto', 'impostos', 'imprenca', 'imprensa', 'impressionante', 'imprimir', 'improvisam', 'inacabaveisnao', 'inacabavel', 'inadmissivel', 'inativa', 'inclusive', 'incone', 'indentificar', 'indicados', 'indicar', 'indicativo', 'indignada', 'indignado', 'indispor', 'indo', 'indoo', 'industria', 'infantil', 'infelismente', 'infelizmente', 'infernal', 'inflacao', 'informacao', 'informacoes', 'informado', 'informalhes', 'informam', 'informar', 'informou', 'infracao', 'infraero', 'infrator', 'infratores', 'inhauma', 'inicio', 'injecao', 'inocencio', 'inocente', 'inseguranca', 'insetos', 'insistiu', 'inss', 'insulfime', 'inteligente', 'intensa', 'intenso', 'interessa', 'interessados', 'interessante', 'interesse', 'interior', 'intermunicipais', 'internacao', 'internacional', 'internet', 'intervalos', 'intra', 'inumeros', 'invadindo', 'invadir', 'inves', 'investiguem', 'involvendo', 'ipanema', 'iptu', 'ira', 'irao', 'iraque', 'iria', 'iris', 'irma', 'isabel', 'isdo', 'isi', 'israel', 'isso', 'isto', 'itabunaba', 'itaguai', 'itamaraty', 'itaqua', 'itatindiba', 'itauna', 'itinerario', 'ivan', 'ivone', 'izabel', 'izabelvamos', 'izalete', 'ja_x000d_', 'jacabarao', 'jacarepagua', 'jacarepia', 'jadson', 'jae', 'jahe', 'jailson', 'jaime', 'janeiro', 'janeironiteroi', 'janela', 'janete', 'jantar', 'japeri', 'japuangaparada', 'jardim', 'jeff', 'jeito', 'jente', 'jessica', 'jessie', 'jesus', 'joao', 'jockey', 'joel', 'jofando', 'joga', 'jogador', 'jogando', 'jogar', 'jogaram', 'jogasse', 'jogo', 'jogue', 'joooooooohnnnnn', 'jorbeson', 'jordao', 'jorge', 'jornada', 'jornais', 'jornal', 'jornalismo', 'jornalista', 'jorrando', 'jose', 'jovem', 'jovens', 'joyce', 'joyceane', 'juan', 'jubai', 'jude', 'judiada', 'judiciaria', 'judiciario', 'jugar', 'juiza', 'juizado', 'juizes', 'jul', 'julho', 'juliane', 'juliano', 'julio', 'junior', 'junto', 'juntos', 'justica', 'justificativa', 'juve', 'kaka', 'kamila', 'kanda', 'karen', 'karla', 'karol', 'katia', 'kennedy', 'kennidy', 'kinha', 'kkjj', 'kkk', 'kkkk', 'kkkkk', 'kkkkkk', 'kkkkkkk', 'kkkkkkk_x000d_', 'kkkkkkkk', 'kkkkkkkkjjjj', 'kkkkkkkkk', 'kkkkkkkkkk', 'kkkkkkkkkkkkkkkk', 'kkkkkkkkkkkkkkkkkkkkkkk', 'kkkkkv', 'kkkl', 'koe', 'kudradinho', 'lado', 'lafaiete', 'lagoa', 'lagosta', 'lahh', 'lama', 'lamentavel', 'lamento', 'lamentos', 'lanca', 'laranja', 'laranjeiras', 'larissa', 'lay', 'leaal', 'leandro', 'leao', 'leblon', 'leda', 'legal', 'legislativo', 'lei', 'leigaganhei', 'leitores', 'lembra', 'lembrar', 'lembrei', 'lembro', 'lenbro', 'leno', 'leo', 'leonardo', 'ler', 'lerdo', 'lesgal', 'leva', 'levam', 'levando', 'levanta', 'levantar', 'levar', 'levaram', 'leve', 'levinho', 'levo', 'liberacao', 'liberou', 'libertadores', 'licao', 'licenca', 'licenciamento', 'liceu', 'life', 'liga', 'ligacao', 'ligada', 'ligamos', 'ligar', 'light', 'ligou', 'ligue', 'liguei', 'lima', 'limao', 'limites', 'limonada', 'limpa', 'limpar', 'limpeza', 'limpezas', 'limpinha', 'linda', 'lindasss', 'lindo', 'lingua', 'linha', 'lista', 'literatura', 'litros', 'lixao', 'lixo', 'lixoes', 'lixoo', 'locais', 'local', 'localidade', 'localidades', 'localiza', 'localizado', 'locomoverem', 'logo', 'logotucara', 'loja', 'lojas', 'loka', 'lokona', 'londres', 'longo', 'lopes', 'lorrana', 'lotacao', 'lotada', 'lote', 'loteamento', 'loteria', 'lourdes', 'love', 'lt', 'lt15', 'luan', 'luana', 'lucas', 'lucia', 'luciana', 'luciane', 'luciano', 'lugar', 'lugarele', 'lugares', 'luis', 'luiz', 'luminaria', 'lutado', 'luz', 'maaae', 'macae', 'macarrao', 'machado', 'macho', 'madeira', 'madrugada', 'madureira', 'mae', 'mafia', 'mage', 'mageo', 'magia', 'maio', 'maior', 'maiores', 'maioria', 'mais', 'mal', 'maldade', 'malhacao', 'malhar', 'maluco', 'mama', 'mamar', 'mamava', 'mancada', 'manda', 'mandado', 'mandar', 'mande', 'mandem', 'mando', 'mandou', 'mane', 'mangueira', 'mangueiral', 'manha', 'manifestacao', 'manilha', 'mano', 'manoel', 'mansaolha', 'manuela', 'mao', 'maque', 'maquiada', 'maquinas', 'mar', 'mara', 'maracana', 'maranga', 'maranhao', 'marcao', 'marcar', 'marcelo', 'marcilio', 'marcio', 'marco', 'marcos', 'mare', 'marechal', 'margaca', 'margens', 'mariano', 'marido', 'maridos', 'marileia', 'mario', 'maritacas', 'marizmah', 'marlene', 'marra', 'marrom', 'marteli', 'martelo', 'mary', 'mas', 'massako', 'mataram', 'materia', 'mathias', 'matias', 'mato', 'matoso', 'mauricea', 'maxima', 'maximo', 'maxuelamoradora', 'maxwell', 'mayer', 'mds', 'media', 'mediante', 'medica', 'medicamento', 'medico', 'medicos', 'medo', 'mega', 'meier', 'meio', 'meios', 'melhoor', 'melhor', 'melhoram', 'melhoraresta', 'melo', 'mendigo', 'mendonca', 'menina', 'meninas', 'menino', 'menopauza', 'menor', 'menos', 'mensagem', 'mensagens', 'mentais', 'mentira', 'mercados', 'merda', 'meriti', 'meritiabaixo', 'mes', 'meses', 'mesma', 'mesquita', 'messenger', 'metade', 'mete', 'meter', 'meteram', 'metro', 'metropolitano', 'meu', 'meus', 'mexem', 'mexer', 'microsoft', 'mida', 'midia', 'miguel', 'miim', 'mil', 'milagre', 'milagrosa', 'milao', 'milhoes', 'milicianos', 'militar', 'mim', 'mina', 'minha', 'minimo', 'ministros', 'minutinhos', 'minutos', 'miranda', 'mito', 'mlk', 'mlki', 'mobilidade', 'moca', 'mochado', 'moderacao', 'moh', 'moleque', 'momento', 'monica', 'monte', 'monteiro', 'moortaa', 'mora', 'morador', 'moradora', 'moradores', 'morar', 'mordendo', 'mordomias', 'moreno', 'moro', 'morreu', 'morro', 'morte', 'morto', 'mosca', 'moscas', 'mosquito', 'mosquitoesta', 'mosquitos', 'mosquitosratos', 'mossoro_x000d_', 'mostra', 'mostrado', 'mostrar', 'mostro', 'mota', 'motivo', 'moto', 'motoqueiros', 'motorista', 'motoristas', 'mouche', 'movel', 'movimento', 'mozi', 'msg', 'msm', 'msn', 'msu', 'mt', 'mta', 'mte', 'mucio', 'muco', 'muda', 'mudar', 'mudaram', 'mudei', 'mui', 'muita', 'muitas', 'muito', 'muitooo', 'muitos', 'mulher', 'multa', 'multado', 'multam', 'mundao', 'mundial', 'mundo', 'municipal', 'municipio', 'municipios', 'munto', 'muro', 'murundu', 'musica', 'musicas', 'muto', 'n11', 'n802', 'nada', 'namorados', 'namorei', 'namsma', 'nao', 'naobpeguei', 'naquela', 'narigudo', 'nasal', 'nasci', 'nascimento', 'naspolini', 'natalia', 'natalino', 'natureza', 'naum', 'necessario', 'necessidade', 'neem', 'nega', 'negamos', 'negar', 'negarei', 'nego', 'negociacao', 'negociacoes', 'negocio', 'negou', 'nela', 'nele', 'nem', 'nenhum', 'nenhuma', 'nepal', 'nessa', 'nessas', 'nesse', 'nesta', 'neste', 'nestor', 'neve', 'nevoa', 'neybicha', 'neymar', 'ngm', 'nick', 'nilopolis', 'ninguem', 'nisso', 'niteroi', 'nois', 'noite', 'noitevenho', 'nome', 'nomes', 'nomevenha', 'nordeste', 'normal', 'normalmente', 'norte', 'nos', 'nossa', 'nossao', 'nosso', 'nossos', 'nosvfizemos', 'nota', 'noticia', 'noticiado', 'noticiam', 'noticiario', 'notificacao', 'notificar', 'nova', 'novaes', 'novamente', 'novas', 'novo', 'novos', 'num', 'numero', 'numeros', 'nunca', 'nvs', 'obeso', 'obg', 'obito', 'obitos', 'objetivo', 'objetos', 'obra', 'obras', 'obrigacao', 'obrigada', 'obrigado', 'obrigando', 'observe', 'obstruindo', 'obsv', 'obtive', 'ocasionando', 'ocorre', 'ocorrencia', 'ocorrendo', 'ocorreram', 'ocorreu', 'ocorrido', 'ocupacao', 'oeeeeeee', 'oferecem', 'oferecendo', 'oficial', 'oficialmente', 'oie', 'oii', 'oito', 'oituvas', 'okay', 'oks', 'ola', 'olaaa', 'olaboa', 'olha', 'olhar', 'olhem', 'olho', 'oliveira', 'ombro', 'onda', 'onde', 'one', 'onibus', 'onibuse', 'online', 'onteem', 'ontem', 'ooee', 'ooi', 'ooo', 'ooooi', 'opa', 'operacao', 'operacoes', 'operada', 'operadoras', 'operario', 'opiniao', 'ops', 'opurtunidade', 'oque', 'oracao', 'ordem', 'organico', 'organizar', 'organs', 'orgaos', 'original', 'osdias', 'osvaldo', 'otavio', 'otimo', 'otte', 'oucam', 'ouro', 'outra', 'outras', 'outro', 'outros', 'outs', 'ouvem', 'ouvi', 'ovo', 'pachel', 'paciencia', 'pacientes', 'padrasto', 'paga', 'pagamento', 'pagamos', 'pagandosenhorascriancas', 'pagar', 'pago', 'pagou', 'paguei', 'pai', 'paia', 'pais', 'pal', 'palavras', 'palmares', 'panca', 'pancadas', 'papo', 'paqueta', 'para', 'parabens', 'parada', 'parado', 'parador', 'paradores', 'paraguaibrincou', 'paraiso', 'param', 'parar', 'pararam', 'parceria', 'pare', 'parece', 'parecido', 'parente', 'parentes', 'parigo', 'pariu', 'parlamentares', 'parque', 'parte', 'parti', 'participa', 'participar', 'particular', 'particularmente', 'partidarios', 'partidonem', 'partidos', 'partindo', 'partir', 'partiu', 'parto', 'passa', 'passada', 'passado', 'passageiro', 'passageiros', 'passagem', 'passam', 'passando', 'passano', 'passar', 'passaram', 'passarem', 'passe', 'passei', 'passeio', 'passiaataa', 'passivel', 'passo', 'passos', 'passou', 'pastel', 'patins', 'patrick', 'patroes', 'pau', 'paula', 'paulinho', 'paulo', 'pavimentada', 'pavuna', 'paz', 'peco', 'pedacos', 'pedagio', 'pede', 'pedem', 'pedestre', 'pedestres', 'pedi', 'pedido', 'pedidos', 'pedimos', 'pedimossocorros', 'pedindo', 'pedir', 'pediram', 'pediume', 'pedreira', 'pedro', 'pega', 'pegando', 'pegar', 'pego', 'peida', 'peido', 'peito', 'pela', 'pelado', 'pelo', 'peloa', 'pelodesabafo', 'pemsamdu', 'pena', 'penalidade', 'pendras', 'penha', 'penitenciarias', 'pensa', 'pensamento', 'pensao', 'pensei', 'penso', 'pensou', 'pera', 'percebe', 'perceber', 'percebi', 'perci', 'perco', 'percurso', 'perde', 'perdendo', 'perder', 'perderam', 'perdeu', 'perdi', 'perdida', 'perdido', 'pere', 'pereira', 'perfurado', 'pergunta', 'perguntaram', 'perguntou', 'pericia', 'perigo', 'perigosa', 'perigoso', 'permanece', 'permanecera', 'permitido', 'persuadir', 'pertence', 'pertinho', 'perto', 'pesquisas', 'pessima', 'pessimas', 'pessimo', 'pessoa', 'pessoal', 'pessoalto', 'pessoas', 'pestana', 'petrobras', 'petropolisno', 'pezinho', 'pfl', 'pfv', 'piabeta', 'pian', 'pilares', 'pingo', 'pinheiro', 'pinto', 'pior', 'piora', 'piorando', 'piores', 'pipa', 'pique', 'piranha', 'piriguete', 'piroca', 'pirra', 'piru', 'piso', 'pista', 'pistola', 'placa', 'placas', 'plantou', 'plausivel', 'pleno', 'pmdb', 'pneus', 'pobre', 'poda', 'pode', 'podem', 'poder', 'podera', 'poderemos', 'poderes', 'poderia', 'poderiam', 'podi', 'podia', 'poe', 'pois', 'policia', 'policiais', 'policial', 'policiamento', 'policlinica', 'politica', 'politicos', 'poluicao', 'pombal', 'pondo', 'pontal', 'pontes', 'ponto', 'pontos', 'populacao', 'popular', 'por', 'poraaaaaaaaaaaaada', 'porem', 'porfavo', 'porque', 'porqueu', 'porra', 'porraaa', 'porrada', 'porradaria', 'porta', 'portando', 'portaria', 'portas', 'portassem', 'porto', 'portugal', 'portuguesa', 'posicionar', 'poso', 'possam', 'posse', 'possibilidade', 'possiveis', 'possivel', 'posso', 'possuem', 'possuir', 'postava', 'poste', 'posto', 'postos', 'pouca', 'pouco', 'poupar', 'pousar', 'povo', 'pow', 'poxa', 'poxivelmente', 'ppb', 'pprt', 'pps', 'pra', 'praca', 'pracinha', 'praia', 'prainha', 'praticamente', 'prazo', 'pre', 'precarios', 'precisa', 'precisam', 'precisamos', 'precisando', 'preciso', 'precisos', 'predio', 'prefeita', 'prefeito', 'prefeitura', 'prefiiro', 'preocupa', 'preocupacoes', 'preocupo', 'prepara', 'presenca', 'presenciar', 'presidenciais', 'presidente', 'preso', 'pressao', 'prestes', 'preta', 'preto', 'previsao', 'primavera', 'primeira', 'primeiro', 'principal', 'principalmente', 'privada', 'privado', 'pro', 'problema', 'problemas', 'procedimento', 'processo', 'processos', 'procupam', 'procuradores', 'procurar', 'produto', 'professora', 'professores', 'profissao', 'profissionais', 'programa', 'projeto', 'promessas', 'prontuario', 'propostas', 'propria', 'proprias', 'proprietario', 'proprio', 'proprios', 'prorrogado', 'protestos', 'protocolos', 'prova', 'provavelmente', 'proveitosa', 'providencia', 'provocar', 'proxima', 'proximas', 'proximidades', 'proximo', 'ps3', 'ps4', 'psdb', 'psicanalista', 'psicologa', 'publica', 'publico', 'puderem', 'pulando', 'punheta', 'punida', 'punido', 'pura', 'puro', 'puseram', 'puta', 'puto', 'putos', 'putz', 'pvd', 'qd15', 'qria', 'qua', 'quadra', 'quadros', 'qual', 'qualquer', 'quando', 'quantidade', 'quanto', 'quantos', 'quarta', 'quase', 'quatro', 'que', 'quebra', 'quebram', 'queixa', 'quem', 'quer', 'querem', 'queremos', 'querendo', 'querer', 'quererem', 'queria', 'quero', 'questao', 'queto', 'quietinho', 'quieto', 'quimicos', 'quiser', 'quisesse', 'quissama', 'quot', 'quotbic', 'quotfrozen', 'quotgoverno', 'quotgrelinho', 'quotlixo', 'quotos', 'quotpacificacao', 'quotpai', 'quotprivado', 'quotquando', 'quotquerido', 'quotrobson', 'quotsao', 'quotsua', 'quotvai', 'quotvou', 'qur', 'qvcs', 'rabeta', 'radio', 'rafa', 'rafael', 'rafaela', 'rainha', 'raivaaaa', 'rala', 'ramal', 'rangel', 'rapaz', 'rapazes', 'rapaziada', 'rapidinho', 'rapido', 'raquel', 'ratos', 'reacao', 'reais', 'real', 'realengo', 'realizacao', 'realizam', 'realizar', 'realmente', 'rebeca', 'rebeiro', 'recanto', 'recebe', 'recebem', 'recebendo', 'receber', 'recebera', 'receberiamos', 'recebeu', 'recebi', 'recebida', 'recebido', 'recentemente', 'recife', 'recisoria', 'reclamacao', 'reclamacoes', 'reclamarem', 'recolhidos', 'reconheci', 'recopa', 'record', 'recreio', 'recuperando', 'rede', 'redes', 'redonda', 'redondo', 'reducao', 'reenvie', 'refem', 'referendos', 'reforcos', 'regiao', 'regina', 'registrar', 'registrasse', 'registrem', 'registro', 'reincidente', 'reino', 'reis', 'relacao', 'relacha', 'relevante', 'remedio', 'removido', 'renata', 'renato', 'renda', 'renovacao', 'repaassee', 'reparos', 'repassado', 'repassando', 'repassar', 'repasse', 'repassem', 'repasso', 'repete', 'repeticao', 'report', 'reportagem', 'reporter', 'reposicao', 'reposta', 'representando', 'representante', 'representantes', 'representava', 'republica', 'resido', 'resolve', 'resolvem', 'resolver', 'resolveram', 'resolvidos', 'respectivas', 'respeitado', 'respeitados', 'respeito', 'respondam', 'responde', 'respondem', 'responder', 'responderam', 'responderem', 'respondeu', 'responsabilidade', 'responsavel', 'resposta', 'ressalvou', 'restaurante', 'resultado', 'retira', 'retirados', 'retirando', 'retirar', 'retiro', 'retorna', 'retorno', 'reuniai', 'reuniao', 'revistando', 'revoltada', 'revoltante', 'ria', 'riachuelo', 'riasco', 'ribeiro', 'ricardo', 'rico', 'ridiculos', 'riio', 'rio', 'ripa', 'rir', 'risada', 'risco', 'rita', 'rjtv', 'rlx', 'roberto', 'robson', 'rocha', 'rodando', 'rodinha', 'rodo', 'rodolfo', 'rodovia', 'rodoviaria', 'rodoviario', 'rodoviarios', 'rodrigues', 'rola', 'rolando', 'role', 'romulo', 'ronald', 'ronaldinho', 'ronaldo', 'roncar', 'rosa', 'rosangela', 'rosto', 'roubado', 'roubados', 'roubo', 'roubos', 'roxo', 'rsrs', 'rsrsrs', 'rsrsrsrs', 'rua', 'ruas', 'ruim', 'rush', 'saae', 'sabado', 'sabe', 'sabem', 'sabendo', 'saber', 'saberia', 'sabia', 'sacanagem', 'saco', 'sagrada', 'sai', 'saindo', 'sair', 'saitifacao', 'saito', 'saiu', 'sala', 'salario', 'salarios', 'salatiel', 'salgado', 'samaa', 'samba', 'sampaio', 'saneamento', 'sangrqnento', 'sangue', 'santa', 'santana', 'santificado', 'santissimo', 'santo', 'santos', 'sao', 'saporra', 'saquarema', 'sara', 'satisfacao', 'saudade', 'saudds', 'saude', 'saudes', 'seca', 'secretaria', 'secretario', 'sede', 'sedex', 'seei', 'seer', 'seerve', 'segue', 'segunda', 'segura', 'seguranca', 'segurando', 'seguro', 'sei', 'seis', 'seja', 'selecao', 'selemerda', 'sem', 'semana', 'semanapor', 'semanas', 'sempre', 'sena', 'senacsou', 'senado', 'senai', 'sendo', 'senha', 'senhor', 'senhora', 'senhores', 'sensei', 'sensivel', 'senta', 'sentada', 'sentar', 'senti', 'sentido', 'sentimento', 'seop', 'sequer', 'sequestradores', 'sequestro', 'sequestros', 'ser', 'sera', 'seria', 'serie', 'serio', 'seropedica', 'serra', 'servico', 'servicos', 'servidor', 'servidores', 'servindo', 'seu', 'seus', 'severino', 'sexo', 'sexta', 'shack', 'shoping', 'shopping', 'showameii', 'si', 'sia', 'sido', 'silva', 'silvares', 'silveira', 'sim', 'simas', 'simbolo', 'simlembra', 'simples', 'simplesmente', 'sinais', 'sindicato', 'sinspmar', 'sinto', 'sirlei', 'sirva', 'sistema', 'site', 'sitio', 'situacao', 'situacoes', 'situado', 'sjoao', 'sky', 'sla', 'slq', 'smartphone', 'sms', 'smtrdizem', 'sobre', 'sociais', 'social', 'sociedade', 'socioeducacao', 'socorrendo', 'socorro', 'sofre', 'sofremos', 'sofreu', 'sofrida', 'sol', 'solicitados', 'solidario', 'solta', 'soltando', 'soltar', 'solteiro', 'solto', 'solucao', 'solucionar', 'somos', 'sonhe', 'sonia', 'sopao', 'sorte', 'sos', 'sossego', 'sou', 'souza', 'spiderwick', 'sqn', 'srm', 'srs', 'sss', 'stands', 'sua', 'suave', 'subir', 'subiram', 'subiu', 'sucateados', 'suco', 'suficientes', 'sugiro', 'sujo', 'sujos', 'sul', 'sumare', 'sumisso', 'sumiu', 'super', 'superfluas', 'supervia', 'suportamosbailes', 'suporto', 'supostamente', 'surgiram', 'surpresa', 'suruba', 'suspendemos', 'sustentaria', 'sutra', 'suzana', 'taao', 'taararamtamta', 'tah', 'tai', 'tais', 'tamanho', 'tambem', 'tampa', 'tampada', 'tanbem', 'tanguarj', 'tanque', 'tanta', 'tanto', 'tao', 'tapa', 'taquara', 'taradp', 'tarde', 'tarefamais', 'tava', 'tawan', 'taxi', 'taxista', 'taxistas', 'tbm', 'tbn', 'tchau', 'tchauu', 'tds', 'tefinha', 'tega', 'tela', 'telefone', 'telefones', 'telefonica', 'teles', 'tem', 'temos', 'tempao', 'tempo', 'tendo', 'tenho', 'tenta', 'tentando', 'tentar', 'tentaram', 'tentei', 'ter', 'tera', 'teresopolis', 'termina', 'terminal', 'terminam', 'termino', 'terminou', 'terra', 'terremoto', 'terreno', 'tesoura', 'testado', 'teste', 'testemunho', 'tevevaqui', 'thais', 'thalesss', 'ticket', 'tijuca', 'tinhamos', 'tio', 'tipo', 'tira', 'tiradas', 'tirando', 'tirar', 'tiraram', 'tirda', 'tirei', 'tiro', 'tiros', 'tiroteio', 'tivemos', 'tmb', 'tocando', 'toda', 'todas', 'todo', 'todos', 'tom', 'tomar', 'tomava', 'tomaz', 'tombadissimo', 'tombou', 'torcendo', 'tornado', 'tornara', 'torres', 'total', 'totalizando', 'totalmente', 'tou', 'touch', 'tours', 'trabalhador', 'trabalhadores', 'trabalham', 'trabalhando', 'trabalhar', 'trabalhista', 'trabalhistas', 'trabalho', 'trabalhou', 'trade', 'traducao', 'traducoes', 'trafegando', 'traficante', 'traficantes', 'tragedia', 'trajeto', 'tranauilo', 'trankilo', 'tranquilo', 'transbordando', 'transitando', 'transito', 'transmissao', 'transmitir', 'transporte', 'transportes', 'transtorno', 'trap', 'tras', 'traslado', 'trata', 'tratados', 'tratam', 'tratamento', 'tratando', 'travessa', 'travou', 'trazer', 'trecho', 'treinando', 'trell', 'trem', 'trens', 'tres', 'tretas', 'triagem', 'tricolor', 'trindade', 'tripas', 'triplicar', 'triste', 'tristeza', 'trocando', 'tropa', 'trouxe', 'tube', 'tubulacoes', 'tudo', 'tukinha', 'tumulto', 'tunel', 'turista', 'tutelar', 'tutoria', 'tuts', 'uab', 'uashuashus', 'uau', 'uber', 'uerj', 'uhum', 'ultima', 'ultimo', 'ultimos', 'uma', 'umas', 'unhas', 'uniao', 'unica', 'unico', 'unicos', 'unidade', 'unidos', 'uniformes', 'universal', 'uns', 'upa', 'upar', 'urbana', 'urca', 'urgente', 'urgentemente', 'urinar', 'usa', 'usam', 'usando', 'usar', 'usuario', 'usuarios', 'uteis', 'utilidade', 'utilidades', 'utilizou', 'vaamos', 'vacina', 'vacuo', 'vaga', 'vagao', 'vagoes', 'vai', 'val', 'vala', 'valao', 'vale', 'valor', 'valores', 'valorize', 'valqueire', 'vamos', 'van', 'vandalos', 'vanderlei', 'vandrey', 'vania', 'vanporque', 'vans', 'vao', 'varias', 'varios', 'vas', 'vasco', 'vascoooo', 'vasqueire', 'vayne', 'vazamento', 'vazando', 'vc', 'vcs', 'vdd', 'vedadas', 'vei', 'veiculo', 'veiculos', 'veio', 'veja', 'vejam', 'vejo', 'velha', 'velhasempre', 'velho', 'velhos', 'veloso', 'vem', 'vemos', 'venda', 'vendida', 'vendido', 'venha', 'venham', 'venho', 'venho_x000d_', 'ver', 'vera', 'veracidade', 'verba', 'verbas', 'verdade', 'verdadeira', 'verdadeiramente', 'verdadeiros', 'verde', 'vergalhao', 'vergonha', 'vergonhosas', 'vergonhoso', 'veridico', 'verificar', 'vermelho', 'veronica', 'versao', 'vestindo', 'vez', 'vezes', 'vhamo', 'via', 'viacao', 'viadao', 'viado', 'viagem', 'viajando', 'viatura', 'vick', 'victor', 'vida', 'vidal', 'video', 'videos', 'vido', 'vigilantes', 'viih', 'vila', 'vilar', 'vim', 'vindo', 'vinte', 'vio', 'violencia', 'vir', 'virem', 'virgem', 'virou', 'visao', 'visconde', 'vista', 'visto', 'vistoriem', 'visualizar', 'vitimas', 'vitor', 'vitoria', 'vitreo', 'viu', 'viviam', 'viviana', 'vizinha', 'vizinhana', 'vizinhas', 'vizinhos', 'vizualizando', 'vlw', 'vmms', 'vms', 'voce', 'voces', 'vocessou', 'voi', 'volta', 'voltando', 'voltar', 'volte', 'voltou', 'vontade', 'vosso', 'votacoes', 'votado', 'votando', 'votaram', 'votos', 'vou', 'vouuu', 'vovozona', 'voz', 'vsf', 'wagner', 'wanderlei', 'washington', 'wathsapp', 'web', 'welington', 'what', 'whatsap', 'whatsapp', 'whatsbook', 'x27', 'x27s', 'x27sbook', 'x2f', 'x2f04', 'x2f05', 'x2f07', 'x2f08', 'x2f100009162482696', 'x2f11', 'x2f12', 'x2f1452345811747488', 'x2f15', 'x2f2013', 'x2f2014', 'x2f2015', 'x2f5597fcdb0cf28e68712ac360', 'x2f5xpe1q_uz_u', 'x2f6', 'x2f9', 'x2f98', 'x2f_gzs8ykibsu', 'x2fao_presidente_do_senado_federal_votem_contra_a_indicacao_do_advogado_luiz_edson_fachin_para_uma_vaga_do_stf', 'x2fbrasil', 'x2fc1sbz', 'x2fcreditoespecialparataxistaseprorrogadoatedezembrode2016', 'x2fedit', 'x2fiamkoreamcom', 'x2fmanilha', 'x2fmfwuecrtevg', 'x2fnoticias', 'x2fpetition', 'x2fpo', 'x2frxryydzuhp4', 'x2fsecureavaazorg', 'x2fsexualabusesurvivorleejungheesonsmakeonlinepleaforhelp', 'x2fvideos', 'x2fwwwcolunapapofirmecombr', 'x2fwwwebccombr', 'x2fwwwfacebookcom', 'x2fyoutube', 'xbox', 'xerox', 'xiiiiiih', 'xiu', 'xrx', 'youtube', 'yuotube', 'zap', 'zica', 'zigoto', 'zoeira', 'zona', 'zozimo', 'zuera', 'zumbi', 'zuzana']\n"
     ]
    }
   ],
   "source": [
    "X_teste_tfidf = feature_extraction.fit_transform(teste['text_norm'])\n",
    "print(X_teste_tfidf.shape)\n",
    "print(feature_extraction.get_feature_names())"
   ]
  },
  {
   "cell_type": "code",
   "execution_count": null,
   "metadata": {},
   "outputs": [],
   "source": [
    "yhat = model.predict(tfidf_x_teste)"
   ]
  },
  {
   "cell_type": "markdown",
   "metadata": {},
   "source": [
    "## Avaliação de precisão dos modelos: Naive Bayes/ Logistic Regression\n",
    "\n",
    "- Precisão: qual a proporção dos dados classificados como SPAM eram realmente SPAM. (falsos positivos)\n",
    "\n",
    "- Recall: entre todas as amostras que realmente eram de SPAM, qual a proporção classificada como SPAM. (falsos negativos)\n",
    "\n",
    "- F1-score: uma maneira de observar em um único número a precisão e o recall."
   ]
  },
  {
   "cell_type": "code",
   "execution_count": null,
   "metadata": {},
   "outputs": [],
   "source": [
    "nb_model = MultinomialNB(alpha=0.1)"
   ]
  },
  {
   "cell_type": "code",
   "execution_count": null,
   "metadata": {},
   "outputs": [
    {
     "name": "stdout",
     "output_type": "stream",
     "text": [
      "Precision: 0.836 / Recall: 0.81 / F1-Score: 0.823\n"
     ]
    }
   ],
   "source": [
    "# Logistic Regression\n",
    "lr_model = lr.fit(X_train_vect, y_train)\n",
    "\n",
    "y_pred = lr_model.predict(X_test_vect)\n",
    "\n",
    "precision, recall, fscore, train_support = score(y_test, y_pred, pos_label=False, average='binary')\n",
    "print('Precision: {} / Recall: {} / F1-Score: {}'.format(\n",
    "round(precision, 3), round(recall, 3), round(fscore,3)))"
   ]
  },
  {
   "cell_type": "code",
   "execution_count": null,
   "metadata": {},
   "outputs": [
    {
     "name": "stdout",
     "output_type": "stream",
     "text": [
      "Precision: 0.764 / Recall: 0.849 / F1-Score: 0.805\n"
     ]
    }
   ],
   "source": [
    "# Naive Bayes\n",
    "nb_model = nb.fit(X_train_vect, y_train)\n",
    "\n",
    "y_pred = nb_model.predict(X_test_vect)\n",
    "\n",
    "precision, recall, fscore, train_support = score(y_test, y_pred, pos_label=False, average='binary')\n",
    "print('Precision: {} / Recall: {} / F1-Score: {}'.format(\n",
    "round(precision, 3), round(recall, 3), round(fscore,3)))"
   ]
  }
 ],
 "metadata": {
  "kernelspec": {
   "display_name": "Python 3.10.5 ('.spam_ham': venv)",
   "language": "python",
   "name": "python3"
  },
  "language_info": {
   "codemirror_mode": {
    "name": "ipython",
    "version": 3
   },
   "file_extension": ".py",
   "mimetype": "text/x-python",
   "name": "python",
   "nbconvert_exporter": "python",
   "pygments_lexer": "ipython3",
   "version": "3.10.5"
  },
  "orig_nbformat": 4,
  "vscode": {
   "interpreter": {
    "hash": "69a9c2b834d54df308faaf8448a4387cba84243b5381ad38ff62e5a73f2dcf07"
   }
  }
 },
 "nbformat": 4,
 "nbformat_minor": 2
}
