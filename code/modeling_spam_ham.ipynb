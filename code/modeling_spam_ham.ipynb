{
 "cells": [
  {
   "cell_type": "markdown",
   "metadata": {},
   "source": [
    "## Train Classifiers"
   ]
  },
  {
   "cell_type": "code",
   "execution_count": 24,
   "metadata": {},
   "outputs": [],
   "source": [
    "import pandas as pd\n",
    "import re\n",
    "import string\n",
    "import nltk\n",
    "\n",
    "from sklearn.feature_extraction.text import CountVectorizer\n",
    "from sklearn.model_selection import train_test_split\n",
    "from sklearn.feature_extraction.text import TfidfVectorizer\n",
    "from sklearn.feature_extraction.text import CountVectorizer\n",
    "from sklearn.feature_extraction.text import TfidfVectorizer"
   ]
  },
  {
   "cell_type": "code",
   "execution_count": null,
   "metadata": {},
   "outputs": [],
   "source": [
    "#!pip install sklearn"
   ]
  },
  {
   "cell_type": "code",
   "execution_count": 30,
   "metadata": {},
   "outputs": [],
   "source": [
    "spam_ham = pd.read_csv(\"C:\\\\Users\\\\Thiag\\\\spam_ham\\\\data\\\\dataframe_to_modeling\\\\spam_ham.csv\")"
   ]
  },
  {
   "cell_type": "code",
   "execution_count": 31,
   "metadata": {},
   "outputs": [
    {
     "data": {
      "text/html": [
       "<div>\n",
       "<style scoped>\n",
       "    .dataframe tbody tr th:only-of-type {\n",
       "        vertical-align: middle;\n",
       "    }\n",
       "\n",
       "    .dataframe tbody tr th {\n",
       "        vertical-align: top;\n",
       "    }\n",
       "\n",
       "    .dataframe thead th {\n",
       "        text-align: right;\n",
       "    }\n",
       "</style>\n",
       "<table border=\"1\" class=\"dataframe\">\n",
       "  <thead>\n",
       "    <tr style=\"text-align: right;\">\n",
       "      <th></th>\n",
       "      <th>ID</th>\n",
       "      <th>Message</th>\n",
       "      <th>SPAM</th>\n",
       "      <th>Spam</th>\n",
       "      <th>text_norm</th>\n",
       "      <th>text_tokenized</th>\n",
       "      <th>text_lemmatized</th>\n",
       "      <th>Message_len</th>\n",
       "      <th>punct%</th>\n",
       "    </tr>\n",
       "  </thead>\n",
       "  <tbody>\n",
       "    <tr>\n",
       "      <th>0</th>\n",
       "      <td>615317</td>\n",
       "      <td>Linda msg!</td>\n",
       "      <td>True</td>\n",
       "      <td>1</td>\n",
       "      <td>linda msg</td>\n",
       "      <td>['linda', 'msg']</td>\n",
       "      <td>['linda', 'msg']</td>\n",
       "      <td>9</td>\n",
       "      <td>11.1</td>\n",
       "    </tr>\n",
       "    <tr>\n",
       "      <th>1</th>\n",
       "      <td>855344</td>\n",
       "      <td>To fazendo batida de kwui com coco</td>\n",
       "      <td>True</td>\n",
       "      <td>1</td>\n",
       "      <td>fazendo batida kwui coco</td>\n",
       "      <td>['fazendo', 'batida', 'kwui', 'coco']</td>\n",
       "      <td>['fazendo', 'batida', 'kwui', 'coco']</td>\n",
       "      <td>28</td>\n",
       "      <td>0.0</td>\n",
       "    </tr>\n",
       "    <tr>\n",
       "      <th>2</th>\n",
       "      <td>1007222</td>\n",
       "      <td>Esse dinheiro só vai sair para quem está com o nome na lista\\nEsse dinheiro só vai sair para que...</td>\n",
       "      <td>True</td>\n",
       "      <td>1</td>\n",
       "      <td>esse dinheiro sair nome lista esse dinheiro sair nome lista</td>\n",
       "      <td>['esse', 'dinheiro', 'sair', 'nome', 'lista', 'esse', 'dinheiro', 'sair', 'nome', 'lista']</td>\n",
       "      <td>['esse', 'dinheiro', 'sair', 'nome', 'lista', 'esse', 'dinheiro', 'sair', 'nome', 'lista']</td>\n",
       "      <td>113</td>\n",
       "      <td>7.1</td>\n",
       "    </tr>\n",
       "    <tr>\n",
       "      <th>3</th>\n",
       "      <td>811063</td>\n",
       "      <td>Isso msm Irmã.. nao lembrava dos nomes kkk</td>\n",
       "      <td>True</td>\n",
       "      <td>1</td>\n",
       "      <td>isso msm irma lembrava nomes kkk</td>\n",
       "      <td>['isso', 'msm', 'irma', 'lembrava', 'nomes', 'kkk']</td>\n",
       "      <td>['isso', 'msm', 'irma', 'lembrava', 'nome', 'kkk']</td>\n",
       "      <td>35</td>\n",
       "      <td>5.7</td>\n",
       "    </tr>\n",
       "    <tr>\n",
       "      <th>4</th>\n",
       "      <td>913944</td>\n",
       "      <td>Ai xara eu sujiro esse</td>\n",
       "      <td>True</td>\n",
       "      <td>1</td>\n",
       "      <td>xara sujiro</td>\n",
       "      <td>['xara', 'sujiro']</td>\n",
       "      <td>['xara', 'sujiro']</td>\n",
       "      <td>18</td>\n",
       "      <td>0.0</td>\n",
       "    </tr>\n",
       "  </tbody>\n",
       "</table>\n",
       "</div>"
      ],
      "text/plain": [
       "        ID  \\\n",
       "0   615317   \n",
       "1   855344   \n",
       "2  1007222   \n",
       "3   811063   \n",
       "4   913944   \n",
       "\n",
       "                                                                                               Message  \\\n",
       "0                                                                                           Linda msg!   \n",
       "1                                                                   To fazendo batida de kwui com coco   \n",
       "2  Esse dinheiro só vai sair para quem está com o nome na lista\\nEsse dinheiro só vai sair para que...   \n",
       "3                                                           Isso msm Irmã.. nao lembrava dos nomes kkk   \n",
       "4                                                                               Ai xara eu sujiro esse   \n",
       "\n",
       "   SPAM  Spam                                                    text_norm  \\\n",
       "0  True     1                                                    linda msg   \n",
       "1  True     1                                     fazendo batida kwui coco   \n",
       "2  True     1  esse dinheiro sair nome lista esse dinheiro sair nome lista   \n",
       "3  True     1                             isso msm irma lembrava nomes kkk   \n",
       "4  True     1                                                  xara sujiro   \n",
       "\n",
       "                                                                               text_tokenized  \\\n",
       "0                                                                            ['linda', 'msg']   \n",
       "1                                                       ['fazendo', 'batida', 'kwui', 'coco']   \n",
       "2  ['esse', 'dinheiro', 'sair', 'nome', 'lista', 'esse', 'dinheiro', 'sair', 'nome', 'lista']   \n",
       "3                                         ['isso', 'msm', 'irma', 'lembrava', 'nomes', 'kkk']   \n",
       "4                                                                          ['xara', 'sujiro']   \n",
       "\n",
       "                                                                              text_lemmatized  \\\n",
       "0                                                                            ['linda', 'msg']   \n",
       "1                                                       ['fazendo', 'batida', 'kwui', 'coco']   \n",
       "2  ['esse', 'dinheiro', 'sair', 'nome', 'lista', 'esse', 'dinheiro', 'sair', 'nome', 'lista']   \n",
       "3                                          ['isso', 'msm', 'irma', 'lembrava', 'nome', 'kkk']   \n",
       "4                                                                          ['xara', 'sujiro']   \n",
       "\n",
       "   Message_len  punct%  \n",
       "0            9    11.1  \n",
       "1           28     0.0  \n",
       "2          113     7.1  \n",
       "3           35     5.7  \n",
       "4           18     0.0  "
      ]
     },
     "execution_count": 31,
     "metadata": {},
     "output_type": "execute_result"
    }
   ],
   "source": [
    "spam_ham.head()"
   ]
  },
  {
   "cell_type": "code",
   "execution_count": null,
   "metadata": {},
   "outputs": [],
   "source": [
    "!pip install import-ipynb"
   ]
  },
  {
   "cell_type": "code",
   "execution_count": null,
   "metadata": {},
   "outputs": [],
   "source": [
    "import import_ipynb"
   ]
  },
  {
   "cell_type": "code",
   "execution_count": 53,
   "metadata": {},
   "outputs": [
    {
     "ename": "ModuleNotFoundError",
     "evalue": "No module named 'feature_extraction'",
     "output_type": "error",
     "traceback": [
      "\u001b[1;31m---------------------------------------------------------------------------\u001b[0m",
      "\u001b[1;31mModuleNotFoundError\u001b[0m                       Traceback (most recent call last)",
      "\u001b[1;32mc:\\Users\\Thiag\\spam_ham\\code\\modeling_spam_ham.ipynb Cell 8'\u001b[0m in \u001b[0;36m<cell line: 1>\u001b[1;34m()\u001b[0m\n\u001b[1;32m----> <a href='vscode-notebook-cell:/c%3A/Users/Thiag/spam_ham/code/modeling_spam_ham.ipynb#ch0000022?line=0'>1</a>\u001b[0m \u001b[39mimport\u001b[39;00m \u001b[39mfeature_extraction\u001b[39;00m\n",
      "\u001b[1;31mModuleNotFoundError\u001b[0m: No module named 'feature_extraction'"
     ]
    }
   ],
   "source": []
  },
  {
   "cell_type": "code",
   "execution_count": null,
   "metadata": {},
   "outputs": [],
   "source": []
  }
 ],
 "metadata": {
  "kernelspec": {
   "display_name": "Python 3.10.5 ('.spam_ham': venv)",
   "language": "python",
   "name": "python3"
  },
  "language_info": {
   "codemirror_mode": {
    "name": "ipython",
    "version": 3
   },
   "file_extension": ".py",
   "mimetype": "text/x-python",
   "name": "python",
   "nbconvert_exporter": "python",
   "pygments_lexer": "ipython3",
   "version": "3.10.5"
  },
  "orig_nbformat": 4,
  "vscode": {
   "interpreter": {
    "hash": "69a9c2b834d54df308faaf8448a4387cba84243b5381ad38ff62e5a73f2dcf07"
   }
  }
 },
 "nbformat": 4,
 "nbformat_minor": 2
}
