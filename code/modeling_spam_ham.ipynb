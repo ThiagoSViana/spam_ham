{
 "cells": [
  {
   "cell_type": "markdown",
   "metadata": {},
   "source": [
    "## Train Classifiers"
   ]
  },
  {
   "cell_type": "code",
   "execution_count": 8,
   "metadata": {},
   "outputs": [],
   "source": [
    "import pandas as pd\n",
    "import re\n",
    "import string\n",
    "import nltk\n",
    "import warnings\n",
    "warnings.filterwarnings(\"ignore\")\n",
    "\n",
    "from pathlib import Path\n",
    "from sklearn.model_selection import train_test_split\n",
    "from sklearn.feature_extraction.text import TfidfVectorizer\n",
    "from sklearn.feature_extraction.text import CountVectorizer\n",
    "from sklearn.feature_extraction.text import TfidfVectorizer\n",
    "from sklearn.metrics import confusion_matrix, classification_report, accuracy_score\n",
    "from sklearn.linear_model import LogisticRegression\n",
    "from sklearn.naive_bayes import MultinomialNB\n",
    "from sklearn.neighbors import KNeighborsClassifier\n",
    "from sklearn.svm import SVC\n",
    "from sklearn.tree import DecisionTreeClassifier\n",
    "from sklearn.ensemble import RandomForestClassifier\n",
    "from sklearn.ensemble import GradientBoostingClassifier\n",
    "from sklearn.ensemble import AdaBoostClassifier\n",
    "from sklearn.model_selection import GridSearchCV"
   ]
  },
  {
   "cell_type": "markdown",
   "metadata": {},
   "source": [
    "## Modelagem\n",
    "Nesta etapa diversos modelos de ML serão utilizados visando encontrar os melhores modelos para classificação de mensagens SPAM ou não SPAM.\n",
    "\n",
    "Serão aplicados os seguintes modelos: \n",
    "            LogisticRegression\n",
    "            MultinomialNB\n",
    "            KNeighborsClassifier\n",
    "            SVC\n",
    "            DecisionTreeClassifier\n",
    "            RandomForestClassifier\n",
    "            GradientBoostingClassifier\n",
    "            AdaBoostClassifier"
   ]
  },
  {
   "cell_type": "code",
   "execution_count": 9,
   "metadata": {},
   "outputs": [],
   "source": [
    "spam_ham = pd.read_pickle('../data/dataframe_to_modeling/spam_ham.pickle')"
   ]
  },
  {
   "cell_type": "code",
   "execution_count": 10,
   "metadata": {},
   "outputs": [
    {
     "data": {
      "text/plain": [
       "WindowsPath('../data/dataframe_to_modeling/spam_ham.pickle')"
      ]
     },
     "execution_count": 10,
     "metadata": {},
     "output_type": "execute_result"
    }
   ],
   "source": [
    "Path() / '..'/ 'data' / 'dataframe_to_modeling' / 'spam_ham.pickle'"
   ]
  },
  {
   "cell_type": "code",
   "execution_count": 11,
   "metadata": {},
   "outputs": [
    {
     "data": {
      "text/html": [
       "<div>\n",
       "<style scoped>\n",
       "    .dataframe tbody tr th:only-of-type {\n",
       "        vertical-align: middle;\n",
       "    }\n",
       "\n",
       "    .dataframe tbody tr th {\n",
       "        vertical-align: top;\n",
       "    }\n",
       "\n",
       "    .dataframe thead th {\n",
       "        text-align: right;\n",
       "    }\n",
       "</style>\n",
       "<table border=\"1\" class=\"dataframe\">\n",
       "  <thead>\n",
       "    <tr style=\"text-align: right;\">\n",
       "      <th></th>\n",
       "      <th>ID</th>\n",
       "      <th>Message</th>\n",
       "      <th>SPAM</th>\n",
       "      <th>SPAM_int</th>\n",
       "      <th>text_norm</th>\n",
       "      <th>text_tokenized</th>\n",
       "      <th>text_lemmatized</th>\n",
       "      <th>Message_len</th>\n",
       "      <th>punct%</th>\n",
       "    </tr>\n",
       "  </thead>\n",
       "  <tbody>\n",
       "    <tr>\n",
       "      <th>0</th>\n",
       "      <td>615317</td>\n",
       "      <td>Linda msg!</td>\n",
       "      <td>True</td>\n",
       "      <td>1</td>\n",
       "      <td>lina msg</td>\n",
       "      <td>[lina, msg]</td>\n",
       "      <td>[lina, msg]</td>\n",
       "      <td>9</td>\n",
       "      <td>11.1</td>\n",
       "    </tr>\n",
       "    <tr>\n",
       "      <th>1</th>\n",
       "      <td>855344</td>\n",
       "      <td>To fazendo batida de kwui com coco</td>\n",
       "      <td>True</td>\n",
       "      <td>1</td>\n",
       "      <td>fazeno batia kwui coco</td>\n",
       "      <td>[fazeno, batia, kwui, coco]</td>\n",
       "      <td>[fazeno, batia, kwui, coco]</td>\n",
       "      <td>28</td>\n",
       "      <td>0.0</td>\n",
       "    </tr>\n",
       "    <tr>\n",
       "      <th>2</th>\n",
       "      <td>1007222</td>\n",
       "      <td>Esse dinheiro só vai sair para quem está com o...</td>\n",
       "      <td>True</td>\n",
       "      <td>1</td>\n",
       "      <td>esse inheiro sair nome lista esse inheiro sair...</td>\n",
       "      <td>[esse, inheiro, sair, nome, lista, esse, inhei...</td>\n",
       "      <td>[esse, inheiro, sair, nome, lista, esse, inhei...</td>\n",
       "      <td>113</td>\n",
       "      <td>7.1</td>\n",
       "    </tr>\n",
       "    <tr>\n",
       "      <th>3</th>\n",
       "      <td>811063</td>\n",
       "      <td>Isso msm Irmã.. nao lembrava dos nomes kkk</td>\n",
       "      <td>True</td>\n",
       "      <td>1</td>\n",
       "      <td>isso msm irma nao lembrava nomes kkk</td>\n",
       "      <td>[isso, msm, irma, nao, lembrava, nomes, kkk]</td>\n",
       "      <td>[isso, msm, irma, nao, lembrava, nome, kkk]</td>\n",
       "      <td>35</td>\n",
       "      <td>5.7</td>\n",
       "    </tr>\n",
       "    <tr>\n",
       "      <th>4</th>\n",
       "      <td>913944</td>\n",
       "      <td>Ai xara eu sujiro esse</td>\n",
       "      <td>True</td>\n",
       "      <td>1</td>\n",
       "      <td>ara sujiro</td>\n",
       "      <td>[ara, sujiro]</td>\n",
       "      <td>[ara, sujiro]</td>\n",
       "      <td>18</td>\n",
       "      <td>0.0</td>\n",
       "    </tr>\n",
       "  </tbody>\n",
       "</table>\n",
       "</div>"
      ],
      "text/plain": [
       "        ID                                            Message  SPAM  SPAM_int  \\\n",
       "0   615317                                         Linda msg!  True         1   \n",
       "1   855344                 To fazendo batida de kwui com coco  True         1   \n",
       "2  1007222  Esse dinheiro só vai sair para quem está com o...  True         1   \n",
       "3   811063         Isso msm Irmã.. nao lembrava dos nomes kkk  True         1   \n",
       "4   913944                             Ai xara eu sujiro esse  True         1   \n",
       "\n",
       "                                           text_norm  \\\n",
       "0                                           lina msg   \n",
       "1                             fazeno batia kwui coco   \n",
       "2  esse inheiro sair nome lista esse inheiro sair...   \n",
       "3               isso msm irma nao lembrava nomes kkk   \n",
       "4                                         ara sujiro   \n",
       "\n",
       "                                      text_tokenized  \\\n",
       "0                                        [lina, msg]   \n",
       "1                        [fazeno, batia, kwui, coco]   \n",
       "2  [esse, inheiro, sair, nome, lista, esse, inhei...   \n",
       "3       [isso, msm, irma, nao, lembrava, nomes, kkk]   \n",
       "4                                      [ara, sujiro]   \n",
       "\n",
       "                                     text_lemmatized  Message_len  punct%  \n",
       "0                                        [lina, msg]            9    11.1  \n",
       "1                        [fazeno, batia, kwui, coco]           28     0.0  \n",
       "2  [esse, inheiro, sair, nome, lista, esse, inhei...          113     7.1  \n",
       "3        [isso, msm, irma, nao, lembrava, nome, kkk]           35     5.7  \n",
       "4                                      [ara, sujiro]           18     0.0  "
      ]
     },
     "execution_count": 11,
     "metadata": {},
     "output_type": "execute_result"
    }
   ],
   "source": [
    "spam_ham.head()"
   ]
  },
  {
   "cell_type": "code",
   "execution_count": 12,
   "metadata": {},
   "outputs": [
    {
     "name": "stdout",
     "output_type": "stream",
     "text": [
      "<class 'pandas.core.frame.DataFrame'>\n",
      "Int64Index: 1773 entries, 0 to 1772\n",
      "Data columns (total 9 columns):\n",
      " #   Column           Non-Null Count  Dtype  \n",
      "---  ------           --------------  -----  \n",
      " 0   ID               1773 non-null   int64  \n",
      " 1   Message          1773 non-null   object \n",
      " 2   SPAM             1773 non-null   bool   \n",
      " 3   SPAM_int         1773 non-null   int64  \n",
      " 4   text_norm        1773 non-null   object \n",
      " 5   text_tokenized   1773 non-null   object \n",
      " 6   text_lemmatized  1773 non-null   object \n",
      " 7   Message_len      1773 non-null   int64  \n",
      " 8   punct%           1773 non-null   float64\n",
      "dtypes: bool(1), float64(1), int64(3), object(4)\n",
      "memory usage: 126.4+ KB\n"
     ]
    }
   ],
   "source": [
    "spam_ham.info()"
   ]
  },
  {
   "cell_type": "code",
   "execution_count": 13,
   "metadata": {},
   "outputs": [
    {
     "data": {
      "text/plain": [
       "ID                 0\n",
       "Message            0\n",
       "SPAM               0\n",
       "SPAM_int           0\n",
       "text_norm          0\n",
       "text_tokenized     0\n",
       "text_lemmatized    0\n",
       "Message_len        0\n",
       "punct%             0\n",
       "dtype: int64"
      ]
     },
     "execution_count": 13,
     "metadata": {},
     "output_type": "execute_result"
    }
   ],
   "source": [
    "spam_ham.isnull().sum()"
   ]
  },
  {
   "cell_type": "markdown",
   "metadata": {},
   "source": [
    "## Vetorização\n",
    "É importante a criação de um CountVectorizer para contar o número de palavras (frequência do termo), \n",
    "limitar o tamanho do seu vocabulário e, aplicar palavras de parada, por exemplo.\n",
    "\n",
    "## Bag of words\n",
    "A criação da 'Bag of words' se dá na necessidade de converter cada uma dessas mensagens (lemmas) em um vetor que os modelos de algoritmos do SciKit Learn possam trabalhar.\n",
    "\n",
    "### Passos:\n",
    "\n",
    "Contar quantas vezes uma palavra ocorre em cada mensagem (conhecida como frequência de termo) pelo CountVectorizer;\n",
    "\n",
    "Pesar as contagens, para que os tokens frequentes tenham um peso menor (frequência inversa do documento);\n",
    "\n",
    "Normalizar os vetores para comprimento unitário, para abstrair do comprimento do texto original (norma L2) por TF-IDF, usando o TfidfTransformer do scikit-learn.\n",
    "\n",
    "CountVectorizer : converterá uma coleção de documentos de texto em uma matriz de contagens de token em matriz 2D:"
   ]
  },
  {
   "cell_type": "code",
   "execution_count": 14,
   "metadata": {},
   "outputs": [],
   "source": [
    "cv = CountVectorizer()\n",
    "word_count_vector = cv.fit_transform(spam_ham['text_norm'])"
   ]
  },
  {
   "cell_type": "code",
   "execution_count": 15,
   "metadata": {},
   "outputs": [
    {
     "data": {
      "text/plain": [
       "(1773, 9307)"
      ]
     },
     "execution_count": 15,
     "metadata": {},
     "output_type": "execute_result"
    }
   ],
   "source": [
    "#aqui as colunas reprensentam palavras únicas (9411)\n",
    "word_count_vector.shape"
   ]
  },
  {
   "cell_type": "markdown",
   "metadata": {},
   "source": [
    "## Aplicando TFIDF \n",
    "Codificação de texto como inteiro em forma numérica para criar vetores de recursos para que possamos aplicar algoritmos de ML nele."
   ]
  },
  {
   "cell_type": "code",
   "execution_count": 16,
   "metadata": {},
   "outputs": [],
   "source": [
    "feature_extraction = TfidfVectorizer(min_df=1, lowercase = 'True')\n",
    "# min_df = se uma palavra não repetir, ou repetir apenas uma vez, ela não é importante para análises predivitas."
   ]
  },
  {
   "cell_type": "code",
   "execution_count": 17,
   "metadata": {},
   "outputs": [
    {
     "name": "stdout",
     "output_type": "stream",
     "text": [
      "(1773, 9307)\n",
      "['111', '1114', '113', '11343721', '114hs', '1195', '11hs', '11ivan', '121', '12294', '123', '124', '125', '125d', '1275d', '12alvaro', '13', '131', '134', '135', '13d', '13h', '13h3min', '13hs', '13rafaelzao', '141', '1411', '143', '1431578419', '143536592', '143568748', '143825166', '147', '14flavio', '14h', '14hrs', '15', '151239847', '1531', '15842', '15leonel', '163', '165', '16anos', '16hrs', '16rorigo', '171', '1723d', '1746', '1747', '175', '177', '17cm', '17d', '17h', '17hs', '183', '18963421', '18bragantino', '18d', '1915d', '1937d', '195', '19d', '1ano', '1h2', '1h21', '1hr', '1km', '1mauricelio', '1mil', '1min', '211', '2115', '211581172839', '212', '213', '214', '215', '216', '2192963419', '21964957222', '21d', '21h', '2212d', '22531177', '2269', '22bpm', '22d', '22h55', '23', '2338', '235', '23d', '24', '241343', '24d', '24h', '24hs', '25', '252', '25d', '261', '26a', '26d', '27', '275', '276', '27866d', '27am', '27d', '27em', '27puer', '27sbook', '27sim', '284', '2884', '28d', '2936', '298', '2f', '2f1264362723915', '2f1268146638369', '2f1397792', '2f15', '2f15d', '2f18', '2f1997', '2f1paulosilvablogspotcombr', '2f2', '2f214', '2f215', '2f3', '2f34', '2f4', '2f415', '2f4648267533824', '2f5', '2f6', '2f62317166724719617s', '2f6833165135258', '2f7', '2f8', '2f8336426339561', '2f95', '2f98', '2fa', '2fa273929627613441737418251437924577547', '2fanagbls', '2fano', '2fban', '2fbelforrooonlineblogspotcombr', '2fbillvianna', '2fcampos24horascombr', '2fcarro', '2fchellemoraes', '2fcolega', '2fcorpoesquartejaoeeoficialejusticaecampos', '2fenilsonoparapenteeencontraomortonaserraocamburi', '2ffamiliaprocurajovemesapareciaemhtml', '2fglobo', '2fgm', '2fgr8maqqoywm', '2fiariasnuncamais62htmlm', '2finephpitemi', '2fitalogabriel', '2fjornal', '2fjrogerioproibiao', '2fmarcelo', '2fmfacebookcom', '2fmyresult', '2fnelsonrogerioevaristo', '2fneurose', '2fnoticias', '2fou', '2fp', '2fpastor', '2fphotophpfbi', '2fphotos', '2fpig1pfohre', '2fponte', '2fportal', '2fportalmecgovbr', '2fposts', '2fpromessaeefetivacaoeemitiossemhtmlm', '2fqualificacao', '2fr', '2freportereuanersilvablogspotcombr', '2frj', '2fsantanajornalista', '2fsecaoasparea', '2fsecretaria', '2fsets', '2fshzam', '2fsouncloucom', '2fstatus', '2ft41214617', '2ftaquaraaepre', '2ftuosobretoosse', '2ftwittercom', '2ftype', '2fubjekiwlnvq', '2fvieos', '2fwilliamarocinha', '2fwwwfacebookcom', '2fwwwleisecamaricacombr', '2fwwwsinsprevrjorgbr', '2fwwwspeetestnet', '2fyoutube', '2fzol86hgsxjq', '2hs', '2obpm', '2rio', '2ronalo', '315', '31d', '321279', '3214875', '325', '326', '32d', '333', '33352468', '3335363', '33489', '337', '33d', '346', '34d', '351', '355', '35898d', '35d', '3612', '365', '3681', '36894', '36d', '373', '377', '3774765', '3777432', '37d', '398', '39d', '3af', '3anos', '41o', '43', '43d', '4728367473', '48hs', '495', '4elson', '4meses', '4te', '526', '53mil', '55', '562', '569', '574d', '57836952', '582761621778623', '5agora', '5cc', '5leanro', '5m3', '611', '6149', '618', '623', '626', '62h', '647', '648', '6841', '6973d', '69913', '6michel', '6te', '717', '736', '7373776374', '751', '7665', '77473828292992837746473828292983737', '774818538', '777472762636366371718299292948', '77adp', '78596', '78d', '794', '7kaka', '812', '814', '821', '823', '828', '8287373818292847467465322368938263828', '847', '869', '8hrsmais', '8meses', '8ricaro', '91316949', '9338', '936', '9372881636189273728', '959a', '97212385', '9722679', '98225732', '988528589', '989557931', '99458494', '9965', '99661851', '9rorigo', 'a537222968256517374182411343721', 'aaaa', 'aaaaaaaaaaaaq', 'aaah', 'aaaiiiiii', 'aahhh', 'abaio', 'abaixo', 'abalo', 'abanona', 'abanonaa', 'abanonaas', 'abanonao', 'abanonaomas', 'abanonaos', 'abanono', 'abanonou', 'abatios', 'abc', 'abel', 'abelaro', 'abencoaa', 'abencoaas', 'abencoao', 'abencoe', 'abencoei', 'abeni', 'aberta', 'abertas', 'aberto', 'abertorua', 'abestao', 'abisuro', 'abolia', 'abolicao', 'abomen', 'aborao', 'aborassem', 'aboro', 'abr', 'abra', 'abracaa', 'abracar', 'abraco', 'abracos', 'abre', 'abreu', 'abrigo', 'abril', 'abriu', 'absuluto', 'absura', 'absuro', 'absuros', 'abul', 'abuso', 'acaba', 'acabamos', 'acaban', 'acabar', 'acabaram', 'acabei', 'acabou', 'acaemia', 'acai', 'acalma', 'acalmi', 'acamoar', 'acanhao', 'acao', 'acari', 'acasia', 'aceita', 'aceitacao', 'aceitarem', 'aceite', 'aceitei', 'acena', 'acerca', 'acertao', 'acertei', 'acervos', 'acesso', 'acessos', 'acha', 'acham', 'achamos', 'achano', 'achar', 'acharam', 'ache', 'achei', 'acheitaa', 'acho', 'achuva', 'acidente', 'aciente', 'acientes', 'acientesno', 'acima', 'acioli', 'acionaa', 'acionaas', 'acionao', 'acionaos', 'acionei', 'acionou', 'acjar', 'acoes', 'acomoacao', 'acomoe', 'acompahantes', 'acompanhaa', 'acompanhano', 'acompanhante', 'acompanhantes', 'acompanhao', 'acompanhar', 'aconteca', 'acontece', 'acontecei', 'aconteceno', 'acontecer', 'acontecera', 'aconteceu', 'acontecia', 'acora', 'acoraos', 'acorar', 'acordados', 'acorei', 'acoro', 'acorotive', 'acorou', 'acre', 'acreino', 'acreita', 'acreitamos', 'acreitara', 'acreite', 'acreitei', 'acreitem', 'acreito', 'acumula', 'acumulo', 'adm', 'adrenalina22hrs', 'aee', 'aeeee', 'aempresa', 'aereo', 'aeriu', 'aeronautica', 'aeroporto', 'aeroportos', 'aesperanca', 'aeus', 'aew', 'afastaa', 'afastao', 'aff', 'afff', 'affonso', 'affs', 'afim', 'afinal', 'afirma', 'afirmou', 'afonso', 'africa', 'afus', 'ageis', 'ageite', 'agena', 'agenamento', 'agenano', 'agenar', 'agencia', 'agenei', 'agente', 'agentes', 'agil', 'agnalo', 'agnt', 'agonizano', 'agora', 'agoraa', 'agorae', 'agorao', 'agostinho', 'agosto', 'agr', 'agraa', 'agraavel', 'agraecer', 'agraecios', 'agraeco', 'agregaos', 'agregar', 'agreia', 'agreino', 'agreiram', 'agreiu', 'agressao', 'agressivo', 'agressor', 'agrie', 'agua', 'aguaar', 'aguaem', 'aguarano', 'aguarar', 'aguaro', 'aguas', 'aguenta', 'aguentamos', 'aguentano', 'aguentar', 'aguento', 'aguiar', 'aguinaldo', 'aguo', 'ah', 'ahahaahahahaha', 'ahahahaa', 'ahahahahaha', 'ahahahahahaah', 'ahahahahahaha', 'ahahahahha', 'ahhaahhajahhaha', 'ahhhhhhh', 'ahsa', 'aiai', 'aiaiai', 'aiaiaiaia', 'aiana', 'aianta', 'aiantano', 'aiante', 'aibcs', 'aiciona', 'aicionao', 'aicionar', 'aiciono', 'aicionou', 'aii', 'ailelson', 'ailson', 'aina', 'ainistrarem', 'aino', 'aintou', 'aioo', 'aires', 'airton', 'ajsbqjabaiqbajiqkqj', 'ajua', 'ajuad', 'ajuaese', 'ajuala', 'ajualo', 'ajuano', 'ajuao', 'ajuar', 'ajuassem', 'ajuava', 'ajuda', 'ajue', 'ajuem', 'ajuntar', 'ajuou', 'akbar', 'akeer', 'akela', 'akerta', 'aki', 'akii', 'ala', 'alaga', 'alagaa', 'alagar', 'alah', 'alaikum', 'alarmante', 'alarmar', 'alastram', 'albani', 'albano', 'alberico', 'albert', 'alberto', 'alboroco', 'albuquerque', 'alcanca', 'alcancao', 'alcool', 'alcoolicas', 'ale', 'aleaner', 'aleanre', 'aleanria', 'alegacao', 'alegam', 'alegar', 'alegou', 'alegrar', 'alegre', 'alegrete', 'alegria', 'aleia', 'alem', 'alemao', 'alencastro', 'alerj', 'alerta', 'alertao', 'alessanra', 'aleste', 'alfanega', 'algo', 'alguem', 'algum', 'alguma', 'algumas', 'alguns', 'ali', 'aliaa', 'alianca', 'alias', 'alice', 'alienacao', 'alienantes', 'alimenta', 'alimentacao', 'alimentaora', 'alimentaoras', 'alimentar', 'alimentos', 'alivia', 'all', 'allah', 'allahu', 'allan', 'allegria', 'allisson', 'alma', 'almeia', 'almeio', 'almento', 'almi', 'almoca', 'almocar', 'almoco', 'alo', 'alta', 'altamente', 'altas', 'altenarnativo', 'alteracao', 'alternativa', 'alternativo', 'alternativoum', 'altivez', 'altletico', 'alto', 'altopista', 'altura', 'alucinacoes', 'aluisio', 'alunas', 'aluno', 'alunos', 'alvara', 'alvares', 'alvaro', 'alve', 'alvejaa', 'alvejada', 'alves', 'alvo', 'alvoraa', 'alvorada', 'alvoroco', 'alvos', 'ama', 'amada', 'amaeu', 'amalo', 'amam', 'amana', 'amanha', 'amanhecer', 'amanheci', 'amanhesceu', 'amano', 'amar', 'amaral', 'amarela', 'amarelaa', 'amarelinho', 'amarelinhos', 'amarra', 'amarraa', 'amarrao', 'amarrar', 'amarro', 'amarugaa', 'ambev', 'ambiental', 'ambiente', 'ame', 'ameaca', 'ameacaa', 'ameacam', 'ameacano', 'ameacaos', 'ameacar', 'ameacas', 'amei', 'amelia', 'amem', 'america', 'americas', 'amg', 'amiga', 'amigaa', 'amigao', 'amigas', 'amigo', 'amigos', 'amigosmane', 'amiguinha', 'amil', 'aministra', 'aministracao', 'aministraor', 'aministraora', 'aministraores', 'aministrativa', 'aministrava', 'amiro', 'amitimos', 'amizae', 'amizaes', 'amniotico', 'amo', 'amontoao', 'amoo', 'amooo', 'amoor', 'amoorr', 'amor', 'amorim', 'amorrr', 'amorzin', 'amorzinho', 'amos', 'amostra', 'amostrar', 'amou', 'amp', 'ampentraa', 'ampi', 'ampla', 'amplamente', 'ampliacao', 'ampoption', 'ampset', 'ampsource', 'amptheater', 'ampview', 'amr', 'amrr', 'ana', 'anagbls', 'anal', 'anam', 'anamento', 'anamos', 'anano', 'anao', 'anar', 'anarai', 'anares', 'anca', 'ance', 'anchieta', 'ancinha', 'andam', 'ane', 'anei', 'anerson', 'angioplastia', 'angra', 'angustia', 'anhanga', 'anhanguera', 'anigos', 'anil', 'animais', 'animal', 'animar', 'animou', 'anitta', 'aniversario', 'anjo', 'anny', 'ano', 'anonimato', 'anos', 'anose', 'anosela', 'anoso', 'anosos', 'anota', 'anou', 'anrae', 'anraeem', 'anre', 'anrea', 'anreas', 'anreaskern214', 'anreia', 'antares', 'antas', 'antecipaa', 'antena', 'anterior', 'anteriores', 'antes', 'anti', 'antibioticos', 'antiga', 'antigas', 'antigo', 'antigos', 'antivacp', 'antonio', 'antrs', 'antt', 'anunciar', 'anunciem', 'anuncio', 'anuncios', 'aolescencia', 'aolescente', 'aolescentes', 'aonao', 'aone', 'aonibus', 'aooh', 'aorar', 'aoraria', 'aorei', 'aoro', 'aos', 'aotar', 'apaga', 'apagaos', 'apagar', 'apaguei', 'apagueo', 'apaionouse', 'apaisana', 'apampa', 'apanhar', 'apanhei', 'apareca', 'aparecam', 'aparece', 'aparecem', 'apareceno', 'aparecer', 'aparecera', 'apareceu', 'aparecia', 'aparecimento', 'aparelho', 'aparencia', 'aparente', 'aparentemente', 'aparese', 'apavoraa', 'apavorao', 'apavoraos', 'apaz', 'apelamos', 'apelio', 'apelo', 'apena', 'apenas', 'aperta', 'apertaas', 'apesar', 'apia', 'aplicar', 'aplicativo', 'aplicativos', 'apoeram', 'apoiaos', 'apoiar', 'apoiaram', 'apoio', 'apologia', 'apontaas', 'apontano', 'apontao', 'apontaram', 'apopulacao', 'aportaram', 'apos', 'aposentaoria', 'aposentaos', 'apostar', 'aposto', 'app', 'apreciar', 'aprecio', 'apreencao', 'apreener', 'apreensao', 'aprena', 'aprenehyan', 'apreneviny', 'aprenizes', 'aprenter', 'apresenta', 'apresentacao', 'apresentao', 'apresentaor', 'apresentaora', 'apresentei', 'aprev', 'aproima', 'aproimaamemte', 'aproimaamente', 'aproimar', 'aproimava', 'aproimavam', 'aproimouse', 'apropriano', 'aprovaa', 'aprovacao', 'aproveitam', 'aproveitaores', 'aproveitea', 'apslosta', 'aqi', 'aquario', 'aque', 'aqueceno', 'aquela', 'aquele', 'aquelea', 'aqueles', 'aqui', 'aquii', 'aquila', 'aquimeiram', 'aquino', 'aquirias', 'aquiriu', 'ara', 'araa', 'arame', 'arao', 'araquem', 'araras', 'arariboia', 'araruama', 'araujo', 'araujp', 'archimees', 'arco', 'arconicionao', 'arcy', 'are', 'area', 'areas', 'arebentaa', 'areia', 'argentino', 'argentinos', 'aria', 'ariana', 'ariano', 'ariapo', 'ariele', 'ariene', 'arilo', 'arima', 'arma', 'armados', 'armano', 'armao', 'armaos', 'armaria', 'armas', 'armazenagem', 'aro', 'arquias', 'arquimees', 'arraia', 'arraial', 'arrancano', 'arrasano', 'arrasta', 'arrastaa', 'arrastano', 'arrastao', 'arrebentao', 'arrebentou', 'arrecaar', 'arreores', 'arrepeno', 'arriscar', 'arrogancia', 'arrota', 'arrotam', 'arrotar', 'arroto', 'arroz', 'arrua', 'arruma', 'arrumar', 'arrumaram', 'arsenal', 'arte', 'arthur', 'article', 'artigo', 'artistas', 'artur', 'arvore', 'arvoreo', 'arvores', 'ary', 'as18', 'asa', 'asaltante', 'asalto', 'asaltos', 'ascaneo', 'asfaltaa', 'asfaltaas', 'asfaltao', 'asfaltaram', 'asfalto', 'asfolto', 'ashuahha', 'asma', 'ass', 'assalariao', 'assaltaa', 'assaltada', 'assaltam', 'assaltante', 'assaltantes', 'assaltao', 'assaltar', 'assalto', 'assaltos', 'assaltou', 'assassinao', 'assaugusto', 'assegurar', 'assento', 'assessores', 'assessoria', 'assim', 'assimaqui', 'assimm', 'assimmaravilhoso', 'assimnao', 'assinaa', 'assinatura', 'assista', 'assiste', 'assistimos', 'assistino', 'assistio', 'assistir', 'assisto', 'assiua', 'associacao', 'associaos', 'assolano', 'assumi', 'assumir', 'assumiram', 'assumiu', 'assunto', 'assustaor', 'astra', 'ata', 'ataa', 'ataaa', 'atacano', 'atacao', 'atacou', 'atah', 'atalho', 'ataque', 'atas', 'ate', 'atenam', 'atencao', 'atenciosamente', 'atenda', 'atendendo', 'atender', 'atene', 'ateneaousuario', 'ateneno', 'atenente', 'atenentes', 'ateneram', 'atenerem', 'atenia', 'atenimento', 'atenimentofato', 'atenios', 'atentadod', 'atentao', 'atentaopolicial', 'atento', 'aterro', 'atha', 'athletics', 'atingimos', 'atingio', 'atingir', 'atira', 'atirano', 'atiraor', 'atiraram', 'atirou', 'atitude', 'atitue', 'ativiae', 'ativiaes', 'atividades', 'ativo', 'ativos', 'atlantica', 'atlantico', 'atleta', 'atletico', 'ato', 'atoa', 'atores', 'atos', 'atra', 'atrapalha', 'atrapalhano', 'atrapalhar', 'atras', 'atrasaas', 'atrasao', 'atrasaoassunto', 'atrasaos', 'atraso', 'atrasos', 'atrativos', 'atraves', 'atravessano', 'atravessar', 'atravessava', 'atreve', 'atriz', 'atropela', 'atropelaa', 'atropelamento', 'atropelamentos', 'atropelaos', 'att', 'attah', 'atuacao', 'atuais', 'atual', 'atualizalos', 'atualizao', 'atualizar', 'atualizou', 'atualmente', 'atuam', 'atuavam', 'augustinho', 'augustus', 'auiliar', 'auilio', 'auio', 'auios', 'auitoria', 'aula', 'aulas', 'aulto', 'aumenta', 'aumentano', 'aumentar', 'aumentaram', 'aurelia', 'aurelio', 'austin', 'australiano', 'autismo', 'auto', 'automaticamente', 'automovel', 'autora', 'autorais', 'autoria', 'autoriae', 'autoriaes', 'autorizacao', 'autorizar', 'autos', 'autuar', 'ava', 'avaaaa', 'avai', 'avaliao', 'avanca', 'avanco', 'avenia', 'avenida', 'aventura', 'avi', 'aviacao', 'aviao', 'avisamos', 'avisao', 'avisar', 'avise', 'avisei', 'avisem', 'aviso', 'avo', 'avocacia', 'avocaticios', 'avogaa', 'avogao', 'ayrton', 'ayslan', 'azar', 'azeveo', 'azuis', 'azul', 'azulwhatsapp', 'baba', 'babi', 'babooooo', 'babou', 'babu', 'baby', 'bacana', 'bacia', 'baco', 'bacteria', 'baerna', 'baerneiros', 'bage', 'bagulho', 'bagunca', 'bahiad', 'baia', 'baiaa', 'baiano', 'baiei', 'baiinha', 'baile', 'bailes', 'baio', 'baios', 'bairro', 'bairros', 'baitola', 'bal', 'bala', 'balaa', 'balanco', 'balao', 'balata', 'balcao', 'bale', 'baleaa', 'baleao', 'balear', 'balio', 'baloeiros', 'baloes', 'baltazar', 'baminton', 'bana', 'banalhapois', 'bananaa', 'bananal', 'banca', 'banco', 'bancos', 'bancou', 'baneira', 'baneirantes', 'banejas', 'bangu', 'banguenviao', 'banhaa', 'banheiro', 'banheiros', 'banho', 'banio', 'banios', 'banir', 'baniu', 'bano', 'bar', 'barakatuh', 'barao', 'barata', 'baratas', 'baratin', 'barato', 'barba', 'barbaa', 'barbara', 'barbosa', 'barbuo', 'barca', 'barcas', 'barcelar', 'barcelos', 'bares', 'barkanas', 'barra', 'barraassrenila', 'barreiras', 'barreto', 'barricaa', 'barriga', 'barrio', 'barro', 'barros', 'barulho', 'base', 'baseao', 'basica', 'basicas', 'basico', 'basta', 'bastante', 'bastasse', 'bastava', 'bastos', 'batalha', 'batalhao', 'batata', 'bate', 'batemos', 'bateno', 'batepapo', 'bater', 'bateram', 'bateramusico', 'bateu', 'batgol', 'bati', 'batia', 'batismo', 'batista', 'batman', 'bauio', 'bauru', 'bbk', 'bdrj', 'beatriz', 'beba', 'bebaa', 'bebao', 'bebe', 'bebea', 'bebem', 'bebeno', 'bebeo', 'beber', 'beberam', 'bebeu', 'bebias', 'bebo', 'beby', 'beco', 'beem', 'beiin', 'beija', 'beijo', 'beira', 'bejamin', 'bel', 'belchior', 'beleza', 'belfor', 'belfort', 'belisario', 'belizario', 'belmont', 'belo', 'bem', 'bemo', 'bencao', 'beneficios', 'beneito', 'benfica', 'benicio', 'benzema', 'benzemarques', 'bernarino', 'bernaro', 'besteira', 'beto', 'bezerra', 'bgl', 'bglh', 'bia', 'bianca', 'biblia', 'bibliao', 'bicao', 'bicho', 'bichos', 'bicicleta', 'bico', 'big', 'bigoe', 'bike', 'bilac', 'bilhao', 'bilhete', 'bilhoes', 'bilhos', 'billoy', 'bimensal', 'binario', 'bingen', 'biscoito', 'bispo', 'bitencourt', 'bjjs', 'bjo', 'bjoos', 'bjs', 'black', 'bleizer', 'blinaos', 'blitz', 'blitzs', 'bliz', 'block', 'bloco', 'blok', 'bloqueio', 'blz', 'blza', 'bnh', 'boa', 'boaa', 'boaaa', 'boas', 'boate', 'boato', 'bob', 'bobbar', 'bobo', 'bobobo', 'boby', 'boca', 'bocaiuva', 'bocaria', 'boeiros', 'bofetaa', 'boi', 'boiola', 'bois', 'bok', 'bola', 'bolaana', 'bolao', 'boletim', 'bolinha', 'bolivar', 'bolo', 'bolsa', 'bolso', 'bom', 'bomba', 'bombeiros', 'bomdia', 'bomia', 'bonas', 'bone', 'bonfim', 'bonifacio', 'bonitas', 'bonito', 'bonitod', 'bonitos', 'bonus', 'bonzao', 'booa', 'boom', 'boqueirao', 'bora', 'borba', 'borel', 'borges', 'bosta', 'bosta2', 'bota', 'botaa', 'botafogo', 'botam', 'botano', 'botar', 'botava', 'botei', 'bpm', 'bpmcom', 'brabo', 'bracos', 'braesco', 'braga', 'branca', 'branco', 'brancod', 'brancosao', 'brasas', 'brascarnes', 'brasil', 'brasileira', 'brasileiro', 'brasileiros', 'braulio', 'braz', 'brc', 'breize', 'brenha', 'brett', 'breve', 'briga', 'brigaaa', 'brigano', 'brinca', 'brincadeira', 'brincaeira', 'brincar', 'brinks', 'brisa', 'brisamar', 'brito', 'brizola', 'brizolao', 'bronca', 'bronha', 'bronze', 'broteiii', 'brt', 'bruce', 'bruna', 'bruno', 'bruta', 'buaaaaaaaaaaa', 'buceta', 'bucetas', 'bucha', 'buchas', 'bueiro', 'buenos', 'bufa', 'buffon', 'bugano', 'bugre', 'bule', 'bulhoes', 'bullying', 'buna', 'bunitu', 'buraco', 'buracos', 'burra', 'burraco', 'burro', 'busca', 'buscam', 'buscar', 'caa', 'caastrano', 'caastrar', 'caastre', 'cabec', 'cabeca', 'cabecas', 'cabei', 'cabelinho', 'cabelo', 'cabelos', 'cabie', 'cabina', 'cabine', 'cabo', 'caboclos', 'cabos', 'cabral', 'cabucu', 'cacamba', 'cacambas', 'cacaor', 'cacaores', 'cachoeira', 'cachoeiras', 'cacholo', 'cachorra', 'cachorrao', 'cachorrera', 'cachorrinho', 'cachorro', 'cachos', 'cacuia', 'cacula', 'cadastra', 'cadastro', 'cade', 'cae', 'caea', 'caed', 'caeia', 'caeiras', 'caetano', 'cafe', 'cafezinho', 'cafubar', 'caga', 'caguei', 'cai', 'caia', 'caias', 'caiasa', 'caiinhas', 'cainhas', 'caino', 'caio', 'cair', 'cairao', 'cairem', 'caiu', 'caixa', 'caixas', 'caju', 'cal', 'cala', 'calamiae', 'calar', 'calca', 'calcaa', 'calcaao', 'calcaas', 'calcinha', 'calcularmos', 'calcuta', 'caleirao', 'calenario', 'calendario', 'california', 'calma', 'calmo', 'calo', 'calombe', 'calor', 'calote', 'calsaa', 'cama', 'camara', 'cambota', 'came', 'camelos', 'camera', 'cameras', 'camiao', 'camila', 'caminha', 'caminhaa', 'caminhano', 'caminhao', 'caminhava', 'caminho', 'caminhoes', 'caminhoneiro', 'caminhos', 'camisa', 'camos', 'campanha', 'campanhas', 'campeao', 'campeonato', 'campinho', 'campo', 'campos', 'camvc', 'cana', 'canais', 'canal', 'canazio', 'cancelaa', 'cancelao', 'cancer', 'canetas', 'canetasroubarmatarestruir', 'cangulo', 'caniatano', 'caniatos', 'canio', 'cano', 'canos', 'cansaao', 'cansaco', 'cansaerimo', 'cansar', 'cansei', 'cantagalo', 'cantam', 'cantano', 'cantar', 'cantaria', 'canterio', 'canto', 'canuo', 'cao', 'caos', 'caotico', 'caozerao', 'caozinho', 'cap', 'capacete', 'capaciae', 'capazes', 'capelabota', 'capiaba', 'capiabas', 'capina', 'capital', 'capitalista', 'capitalistas', 'capivaras', 'capote', 'car', 'cara', 'caraca', 'caracteristicas', 'caraii', 'caralhi', 'caralho', 'caramba', 'carambase', 'caramujos', 'caranho', 'caras', 'carater', 'carcano', 'carencia', 'cargo', 'cargos', 'carinha', 'carinho', 'carinhomane', 'carinhosa', 'carinhoveja', 'carioca', 'cariocas', 'cariologia', 'carissimos', 'carla', 'carlauma', 'carlos', 'carma', 'carmary', 'carmo', 'carnaval', 'carne', 'carnes', 'caro', 'carol', 'carona', 'caroooooool', 'caros', 'caroso', 'carre', 'carregano', 'carregou', 'carregue', 'carreira', 'carrinho', 'carro', 'carrobinha', 'carros', 'cartao', 'cartazes', 'carteira', 'cartoes', 'cartola', 'caruso', 'carvalho', 'casa', 'casaa', 'casal', 'casamento', 'casamos', 'casao', 'casapois', 'casar', 'casarua', 'casas', 'case', 'caseira', 'caseitmtm', 'casemiro', 'caserna', 'caso', 'casorio', 'casos', 'cassao', 'casseta', 'cassia', 'castelo', 'castilho', 'castro', 'catamara', 'catarina', 'cate', 'categoria', 'catete', 'catico', 'catumbi', 'caua', 'caucaas', 'caumba', 'causa', 'causam', 'causao', 'causar', 'causas', 'causasera', 'causou', 'cava', 'cavaco', 'cavalcante', 'cavalheiro', 'cavalo', 'cblo', 'ce', 'ceae', 'ceaefizeran', 'ceai', 'ceara', 'cearence', 'cedae', 'ceeu', 'cef', 'cefap', 'cego', 'ceier', 'cel', 'cele', 'celebrar', 'celebriae', 'celestino', 'celina', 'celso', 'celular', 'celulares', 'celulite', 'cemiterio', 'cenario', 'centavos', 'centenario', 'centenas', 'cento', 'centrais', 'central', 'centro', 'ceo', 'cep', 'cera', 'cerca', 'cercao', 'cerebro', 'cerquinhaai', 'certa', 'certame', 'certamente', 'certe', 'certesa', 'certeza', 'certificacao', 'certificao', 'certinho', 'certo', 'certomais', 'cerveja', 'cesar', 'cesarea', 'cesta', 'cet', 'cete', 'cetep', 'ceu', 'ceza', 'cezarao', 'cfor', 'cha', 'chacara', 'chacina', 'chacrinha', 'chad', 'chagas', 'chaleco', 'chama', 'chamaa', 'chamaas', 'chamaaswhatsappcom', 'chamalos', 'chamam', 'chamano', 'chamao', 'chamaos', 'chamar', 'chame', 'chamei', 'chamo', 'chamou', 'championship', 'chanar', 'chance', 'chao', 'chapaao', 'chapano', 'chapecoense', 'chapinhas', 'charlie', 'chata', 'chato', 'chaves', 'chavier', 'chefe', 'chega', 'chegaa', 'chegam', 'chegano', 'chegar', 'chegara', 'chegaram', 'chegay', 'chego', 'chegoo', 'chegoooo', 'chegou', 'chegueeeeier', 'cheguei', 'cheia', 'cheio', 'cheios', 'cheiro', 'chequei', 'chic', 'chicao', 'chiclete', 'chicletes', 'chico', 'chigan', 'chile', 'china', 'chines', 'chineses', 'chip', 'choc', 'chocolate', 'chopp', 'choque', 'chora', 'chorano', 'chorar', 'chore', 'chorei', 'choro', 'chorou', 'chove', 'choveno', 'chover', 'chovia', 'chris', 'christian', 'christiano', 'chupa', 'chupetinha', 'churrascaria', 'churrasco', 'chuva', 'chuveno', 'chuver', 'chuveu', 'chuvinha', 'ciaao', 'ciaaos', 'ciae', 'ciaes', 'cialis', 'cicinho', 'ciclista', 'ciclovia', 'ciclovias', 'cientes', 'ciep', 'cig', 'cigarros', 'cigura', 'cilinro', 'cima', 'cinco', 'cinelania', 'cinema', 'cinquentinha', 'cintya', 'ciosp', 'circo', 'circula', 'circulam', 'circulando', 'circulano', 'cirque', 'cirurgia', 'cirurgico', 'citaa', 'citacao', 'citano', 'citar', 'cituacao', 'cituao', 'ciumenta', 'ciumes', 'civel', 'civil', 'civis', 'cizioo', 'ckack', 'clama', 'clanestino', 'clariae', 'clarimuno', 'claro', 'classe', 'clauia', 'clauimar', 'clauio', 'cleiton', 'cliente', 'clientes', 'clientesno', 'clima', 'clin', 'clinica', 'clinicas', 'clique', 'clonados', 'clone', 'close', 'clovis', 'clube', 'clubes', 'cmg', 'cmo', 'cnh', 'cnhd', 'cnpj', 'cntg', 'coagios', 'cobal', 'coberta', 'cobertura', 'cobra', 'cobram', 'cobramos', 'cobranca', 'cobrancas', 'cobrano', 'cobraor', 'cobrar', 'cobre', 'cobrem', 'cobren', 'coco', 'cocota', 'coe', 'coelho', 'coer', 'cofoiii', 'coigo', 'coisa', 'coisas', 'coisat', 'coitaa', 'coitao', 'col', 'colaboracao', 'colao', 'colar', 'colega', 'colegas', 'colegio', 'coleguinha', 'coleiras', 'coleta', 'colete', 'coletiva', 'coletivo', 'collet', 'colo', 'coloca', 'colocam', 'colocano', 'colocar', 'colocaram', 'colocarem', 'colocaria', 'colocassemos', 'colocava', 'colocca', 'colocou', 'colombia', 'coloque', 'coloquei', 'coluna', 'colunas', 'com', 'coma', 'comanano', 'comanante', 'comano', 'combate', 'combater', 'combinao', 'combinou', 'combis', 'combustiveis', 'comcatarinense', 'comcontent', 'come', 'comeca', 'comecam', 'comecano', 'comecar', 'comecaram', 'comecarao', 'comecei', 'comeco', 'comecou', 'comeia', 'comemoracao', 'comenaor', 'comeno', 'comenta', 'comentar', 'comentario', 'comento', 'comer', 'comercial', 'comercialmente', 'comerciante', 'comes', 'comeso', 'comesso', 'cometeu', 'comeu', 'comfunino', 'comhecia', 'comi', 'comia', 'comiahospital', 'comigo', 'comigooi', 'cominiaes', 'comissao', 'comlurb', 'commaner', 'como', 'comoarrumano', 'comocom', 'comofazer', 'comovi', 'companheiro', 'companheiros', 'companhia', 'company', 'comparacao', 'comparao', 'compare', 'comparecer', 'compareceu', 'compartilha', 'compartilhano', 'compartilhar', 'compartilharam', 'compartilhe', 'compartilhou', 'compeerativas', 'compete', 'competentes', 'compiacao', 'complementar', 'compleo', 'completa', 'completamente', 'completo', 'compo', 'componete', 'composicao', 'composicoes', 'compra', 'comprao', 'comprar', 'comprara', 'comprei', 'comprimios', 'comprio', 'compromisso', 'comprou', 'comprova', 'comprovante', 'comu', 'comum', 'comuniae', 'comuniaes', 'comuniar', 'comunicacao', 'comunicacoes', 'comunicamos', 'comunicao', 'comunico', 'comunique', 'comunise', 'comunitaria', 'comunitario', 'comuns', 'comvite', 'con', 'conceia', 'conceio', 'conceitoao', 'concer', 'concerta', 'concertarna', 'concessao', 'concessionaria', 'concluino', 'concluio', 'concluir', 'concluiram', 'conclusao', 'concora', 'concore', 'concoro', 'concorrencia', 'concorrente', 'concorrentes', 'concursaos', 'concurso', 'cone', 'conectar', 'conenao', 'confessar', 'confie', 'confinao', 'confira', 'confirmacao', 'confirmano', 'confirmao', 'confirmaovinte', 'confirmar', 'confraternizacao', 'confronto', 'confusao', 'congestionaos', 'congressista', 'congressistas', 'congresso', 'conheca', 'conhece', 'conhecem', 'conhecer', 'conhecesse', 'conheci', 'conhecia', 'conhecie', 'conhecimento', 'conhecio', 'conheco', 'conhecoele', 'conheso', 'conicoes', 'conj', 'conjunto', 'cono', 'conominio', 'conominios', 'conomino', 'conosco', 'conpleo', 'conquistavam', 'conquistou', 'conrao', 'conrrao', 'consciencia', 'conscientizacao', 'conscientizar', 'consecutivas', 'consecutivo', 'consegue', 'consegui', 'conseguimos', 'conseguino', 'conseguir', 'conseguiram', 'conseguiremos', 'conseguiriamos', 'conseguiu', 'conseguur', 'conselheiro', 'conselho', 'consequencia', 'consequencias', 'consequente', 'consertar', 'conserto', 'consertou', 'conservam', 'consieraa', 'consierao', 'consierou', 'consiga', 'consigo', 'consoliao', 'consoliar', 'consta', 'constante', 'constantes', 'constantino', 'constaria', 'constatar', 'constitucional', 'constituicao', 'constrangimento', 'construcao', 'construia', 'construio', 'construir', 'construtora', 'consultar', 'consumior', 'conta', 'contagem', 'contaminar', 'contamos', 'contano', 'contar', 'contara', 'contas', 'contato', 'contatos', 'contem', 'conteplaa', 'conter', 'conterteza', 'conteuos', 'conteyner', 'continua', 'continuacao', 'continuam', 'continuano', 'continuar', 'continuaram', 'continuarao', 'continuarem', 'continuasse', 'continuava', 'continuo', 'conto', 'contou', 'contra', 'contraataque', 'contracoes', 'contrair', 'contran', 'contrario', 'contrata', 'contrataas', 'contratacao', 'contratano', 'contratao', 'contrataos', 'contratar', 'contratos', 'contribui', 'contribuicao', 'contribuintes', 'contribuir', 'controla', 'controle', 'conutor', 'conveniao', 'conversa', 'conversano', 'conversar', 'conversas', 'convertia', 'convites', 'convive', 'conviveno', 'conviver', 'convoca', 'convucionou', 'coo', 'cooperativa', 'cooperativas', 'coorisensa', 'copa', 'copacabana', 'copacanana', 'copas', 'copia', 'copiar', 'copias', 'copo', 'cor', 'coracao', 'coragem', 'core', 'coreirinho', 'coreiro', 'coreor', 'cores', 'corinthians', 'coritiba', 'corneas', 'corno', 'coroa', 'coronariana', 'coronel', 'corovil', 'corpo', 'corporacoes', 'corranho', 'corre', 'correia', 'correiapera', 'correio', 'correios', 'correiozinho', 'corremos', 'correno', 'corrente', 'correor', 'correores', 'corresponencia', 'correta', 'corretamente', 'correto', 'corretor', 'corria', 'corrias', 'corrigino', 'corrigir', 'corrupcao', 'corrupto', 'corsa', 'cortaa', 'cortam', 'corte', 'cortea', 'cortes', 'corto', 'cosme', 'cosmocg', 'costa', 'costant', 'costas', 'costumam', 'costume', 'cotato', 'couceirod', 'couto', 'covare', 'covaremente', 'covaria', 'covariasimplesmente', 'cozinha', 'cozio', 'cpa', 'cpf', 'cr', 'cr7', 'cra', 'cracha', 'crack', 'cratera', 'crateras', 'crb', 'crc', 'cre', 'creche', 'creches', 'creibiliae', 'creito', 'creme', 'creo', 'crescer', 'crescimento', 'criacao', 'criam', 'crianca', 'criancas', 'criancasqualquer', 'crianco', 'criao', 'criaor', 'criar', 'criaram', 'criarao', 'criciuma', 'crime', 'crimes', 'criminal', 'criminaliae', 'criminalmente', 'criminosa', 'criminosos', 'criou', 'cris', 'crise', 'crispim', 'cristalinas', 'cristiano', 'cristina', 'cristo', 'cristovao', 'cristozomo', 'critica', 'critico', 'crkho', 'crl', 'crlh', 'crlhhhhhh', 'crlhu', 'crlo', 'crloooo', 'crlquero', 'crocoilo', 'crolezinhos', 'cross', 'crr', 'cruel', 'cruelae', 'crus', 'cruz', 'cruzaa', 'cruzamentos', 'cruzar', 'cruzeiro', 'crv', 'crvg', 'csa', 'csnal', 'cti', 'ctt', 'ctz', 'ctza', 'cuano', 'cubra', 'cud', 'cueca', 'cuia', 'cuiaa', 'cuiao', 'cuiaor', 'cuiaos', 'cuiara', 'cuiarao', 'cuidado', 'cuiem', 'cuiese', 'culpa', 'culpao', 'culpaos', 'cultura', 'cum', 'cumer', 'cumi', 'cumpare', 'cumpre', 'cumprem', 'cumprimento', 'cumprir', 'cumulo', 'cunha', 'cunhaa', 'cunhao', 'cupuacu', 'cura', 'curar', 'curicica', 'curiosiae', 'curso', 'cursos', 'curta', 'curte', 'curv', 'curva', 'custa', 'custas', 'custo', 'custos', 'custou', 'cuzao', 'cuzaum', 'cuzinho', 'cuzio', 'cvm', 'cvs', 'cvt', 'd53577', 'dai', 'dake', 'dama', 'dancinha', 'daniel', 'danny', 'dano', 'dantas', 'danyy', 'daquele', 'daqui', 'das', 'das6', 'dautiman', 'davi', 'de', 'decie', 'declaro', 'deia', 'deise', 'del', 'delegacia', 'deles', 'delete', 'demitidos', 'demorou', 'denis', 'denise', 'dentro', 'denucia', 'denuncia', 'denuncias', 'deo', 'deooro', 'depois', 'deposito', 'des', 'desanimao', 'desativado', 'desavisadosd', 'descarga', 'descaso', 'desce', 'descriminado', 'desculpa', 'desculpao', 'desculpas', 'desculpe', 'desculpem', 'dese', 'desempenhamos', 'desenho', 'desespero', 'deslanes', 'desperdicio', 'desperdissando', 'despericio', 'despertaria', 'dessa', 'destaquese', 'deste', 'determinacaoum', 'detran', 'detro', 'deu', 'deus', 'deuskkkkk', 'deuspassa', 'deve', 'deveria', 'devio', 'dia', 'diabo', 'diana', 'diarias', 'dias', 'diego', 'dificulaee', 'diga', 'digitar', 'dilma', 'dinheiro', 'diogo', 'dionisio', 'diorge', 'direcao', 'direito', 'disel', 'disirolauma', 'dislike', 'disque', 'disse', 'distrito', 'divilguem', 'divo', 'divulgar', 'divulguem', 'diz', 'dizem', 'dizeno', 'dlc', 'doacao', 'dobre', 'doce', 'dois', 'dole', 'dom', 'dominar', 'domingo', 'domingos', 'dona', 'doo', 'dormi', 'dormindo', 'dos', 'dou', 'douglas', 'doutor', 'duarte', 'duas', 'ducaaa', 'duffes', 'dulce', 'duque', 'duquee', 'durante', 'dutra', 'duvio', 'dyanna', 'e15', 'eae', 'eai', 'eame', 'eames', 'eao', 'eaperano', 'eapero', 'easim', 'eatamente', 'eato', 'ebaio', 'ebatio', 'ebilitao', 'ebora', 'eca', 'ecantacao', 'ececoes', 'ecelente', 'ecenciaisporque', 'ecentrica', 'ecepcionaa', 'ecepcionao', 'ecia', 'ecie', 'eciem', 'eciir', 'eciiu', 'ecimo', 'ecisoes', 'eclamou', 'eclaracao', 'eclaracoes', 'eclarar', 'eclarou', 'eclipse', 'eclusao', 'eclusivamente', 'eclusivo', 'ecologicos', 'economia', 'economica', 'economizar', 'economize', 'ecorrencia', 'ecorrer', 'ecosport', 'ecreto', 'eecutao', 'eecutivo', 'eeeeeeh', 'eeeu', 'eem', 'eemplo', 'eercer', 'eercio', 'eercito', 'eercitos', 'efeito', 'efeitos', 'efena', 'efene', 'efenemficamos', 'efener', 'efesa', 'efesanao', 'efetiva', 'efetivao', 'efetuarem', 'efetuou', 'eficazes', 'eficiencia', 'eficiente', 'eficit', 'efigenia', 'egar', 'ehbum', 'eia', 'eiam', 'eiano', 'eiar', 'eiaram', 'eiarao', 'eicacao', 'eicao', 'eicar', 'eicha', 'eicoes', 'eie', 'eiem', 'eificante', 'eigem', 'eigir', 'eigira', 'eigirao', 'eim', 'eiou', 'eiretor', 'eisa', 'eista', 'eiste', 'eistem', 'eistia', 'eistiam', 'eistino', 'eistir', 'eita', 'eital', 'eitano', 'eitaos', 'eito', 'eivisom', 'ejetos', 'ela', 'elaboraas', 'elacao', 'elas', 'ele', 'elegacia', 'elegaciais', 'eleger', 'eleicao', 'eleicoesano', 'eleito', 'eleitoral', 'elementos', 'elenco', 'eleooro', 'eles', 'elesem', 'eleseu', 'eletrica', 'eletronica', 'eletronico', 'eletronicos', 'elevao', 'elevaor', 'elevaores', 'eliane', 'elianro', 'elias', 'eliberacao', 'elicia', 'eliesio', 'eliezer', 'elisa', 'eliverys', 'eller', 'els', 'elyseos', 'elza', 'ema', 'email', 'emais', 'emana', 'emanas', 'emar', 'embaiaor', 'embaio', 'embarcao', 'embebear', 'embora', 'embrapa', 'emena', 'emergencia', 'emergencial', 'emerson', 'emfrente', 'emg', 'emilson', 'emilsongostaria', 'emim', 'emissora', 'emitio', 'emme', 'emocao', 'emocional', 'emocionante', 'emocracia', 'emocratizar', 'emoliu', 'emos', 'emotico', 'empartes', 'empata', 'empatei', 'empeir', 'empesa', 'empesas', 'emplena', 'empre', 'emprea', 'empreendimento', 'empreeneram', 'empreenimento', 'empregaas', 'empregaor', 'empregaos', 'empregaticio', 'emprego', 'empregos', 'empresa', 'empresarios', 'empresas', 'empresateno', 'emprestei', 'empurra', 'empurrano', 'empurrou', 'emtra', 'emtraa', 'emviamo', 'enajudem', 'enarcaa', 'enboscaa', 'encaminhar', 'encaminhara', 'encaminhe', 'encaminheo', 'encaminho', 'encantao', 'encantaora', 'encareciamente', 'encarregao', 'encerrar', 'encerre', 'encerrou', 'enchente', 'enchentes', 'encheu', 'encima', 'enciosa', 'encontra', 'encontraa', 'encontramos', 'encontrano', 'encontrao', 'encontrar', 'encontraram', 'encontrase', 'encontravase', 'encontrei', 'encontro', 'encontrou', 'encostao', 'encostar', 'encosto', 'encurralao', 'enerecaa', 'enereco', 'enerecorua', 'enerecos', 'energar', 'energia', 'enetifica', 'enfal', 'enfarte', 'enfeitam', 'enfeite', 'enfermarias', 'enfermeiros', 'enferrujao', 'enfim', 'enfrenta', 'enfrentamos', 'enfrentano', 'enfrentar', 'enfrente', 'enfrentem', 'engaar', 'engana', 'enganaa', 'enganaas', 'enganacao', 'enganao', 'enganar', 'enganosa', 'enganosas', 'engarrafaa', 'engenheiro', 'engenho', 'engisa', 'engole', 'engolios', 'engoo', 'engorei', 'engraate', 'engracao', 'engrassao', 'engue', 'enis', 'enne', 'enorme', 'enovo', 'enqnto', 'enquanto', 'enquare', 'ensinano', 'ensinou', 'ent', 'entanto', 'entao', 'entarecer', 'entaum', 'enteaa', 'enteiaos', 'entene', 'entenemos', 'entener', 'enteneu', 'enteni', 'enteno', 'ententeu', 'enternao', 'enterro', 'entes', 'entocao', 'entorno', 'entornoasfaltaas', 'entra', 'entraa', 'entram', 'entramos', 'entrano', 'entrar', 'entraram', 'entraren', 'entraria', 'entre', 'entrega', 'entregar', 'entregas', 'entregue', 'entregues', 'entrei', 'entrem', 'entretanto', 'entrevista', 'entrevistao', 'entro', 'entronta', 'entrou', 'entulho', 'entupia', 'entupias', 'entupio', 'enucia', 'enuncia', 'enunciano', 'enunciar', 'enuncias', 'enuncie', 'enunciou', 'enuto', 'envair', 'envarir', 'envelhecer', 'envelhecimento', 'envergonha', 'enviaas', 'enviae', 'enviala', 'envialas', 'enviano', 'enviao', 'enviar', 'enviaram', 'envie', 'enviei', 'envio', 'enviou', 'envolva', 'envolvendo', 'envolveno', 'envolver', 'envolvio', 'eos', 'epara', 'eparo', 'epeientes', 'epene', 'epenem', 'epeneno', 'epenente', 'eperimentaa', 'eplanou', 'eplicacao', 'eplicano', 'eplicar', 'eplique', 'eploe', 'eploiu', 'eplorar', 'eplosao', 'epoca', 'epoimento', 'epois', 'epono', 'epor', 'eposicao', 'epositao', 'eposito', 'eposto', 'epresiente', 'epressao', 'epresso', 'eputao', 'eputaos', 'epwagner', 'equipamentos', 'equipe', 'equissama', 'equivocaa', 'era', 'erae', 'eretil', 'erika', 'eriva', 'ernestro', 'ero', 'err', 'errado', 'errafo', 'errao', 'errei', 'erro', 'erroooou', 'erros', 'errubaa', 'errubao', 'esa', 'esabafo', 'esabafou', 'esagraaveis', 'esanime', 'esapareceu', 'esaparecia', 'esaparecio', 'esapareseno', 'escaa', 'escaas', 'escalar', 'escanalos', 'escansaa', 'escaparem', 'escapou', 'escartar', 'escartes', 'escaso', 'escassos', 'esce', 'escem', 'escentes', 'escer', 'esci', 'escia', 'escoba', 'escobar', 'escoberta', 'escoberto', 'escobri', 'escobrimos', 'escobrir', 'escobriram', 'escoinho', 'escola', 'escolar', 'escolas', 'escolha', 'escolhas', 'escolinha', 'escombro', 'escone', 'esconer', 'esconhece', 'esconio', 'escontano', 'escontaos', 'esconto', 'escontos', 'escontou', 'escontrair', 'escorregaia', 'escostaas', 'escraviao', 'escravizaos', 'escravoceta', 'escreve', 'escreveno', 'escreveu', 'escrevi', 'escrevo', 'escriminar', 'escrita', 'escrito', 'escritorio', 'escubra', 'escubro', 'esculpa', 'esculpas', 'escumpriu', 'escura', 'escuras', 'escuriao', 'escuro', 'escuta', 'escutao', 'escutei', 'escuto', 'ese', 'eseja', 'esejaa', 'esejar', 'esejara', 'esejo', 'esejosem', 'esembargaor', 'esemprego', 'esempregoseno', 'esenrolano', 'esentenia', 'esenu', 'eserto', 'esesperaa', 'esesperao', 'esesperaos', 'esespero', 'esesperou', 'esfaqueano', 'esfaqueou', 'esferir', 'esfilano', 'esforco', 'esfriar', 'esgaste', 'esgoto', 'esgotoessa', 'esgoverno', 'esguro', 'esi', 'esign', 'esisperaa', 'esistir', 'esleal', 'esligar', 'eslizamente', 'esmarcao', 'esmontaa', 'esnecessario', 'esobeecer', 'esorem', 'espachantes', 'espacho', 'espaco', 'espacos', 'espalhe', 'espancaa', 'espancamentos', 'espancano', 'especiais', 'especial', 'especialista', 'especialmente', 'especifico', 'espectaora', 'espeio', 'espelho', 'espera', 'esperaa', 'esperam', 'esperanca', 'esperano', 'esperao', 'esperar', 'espere', 'esperei', 'espericala', 'espericio', 'espernca', 'espero', 'espertano', 'espertaor', 'espesa', 'espesas', 'espiona', 'espirito', 'espiritualmente', 'esporte', 'esportes', 'esportiva', 'esposa', 'esposao', 'esposo', 'espreparo', 'esputa', 'esqualificacao', 'esqueca', 'esquece', 'esqueceno', 'esquecer', 'esqueceram', 'esqueceu', 'esqueci', 'esquecia', 'esquecio', 'esquera', 'esquina', 'esquipe', 'esrespeito', 'esrespeitoso', 'esrespeitou', 'esrrespeito', 'essa', 'essas', 'esse', 'essem', 'essencial', 'est', 'esta', 'estabelecer', 'estabelecimento', 'estacao', 'estacio', 'estacionamento', 'estacionao', 'estacionarias', 'estacoes', 'estado', 'estais', 'estaleiro', 'estam', 'estamos', 'estan', 'estao', 'estapassano', 'estapec', 'estar', 'estara', 'estarei', 'estaremos', 'estaria', 'estariam', 'estas', 'estaual', 'estava', 'este', 'estene', 'estepe', 'estes', 'estevao', 'estilo', 'estimacao', 'estimao', 'estimase', 'estino', 'estipular', 'estiraa', 'estoque', 'estou', 'estourao', 'estouro', 'estr', 'estraa', 'estraaem', 'estraas', 'estraga', 'estragou', 'estraino', 'estranhei', 'estranho', 'estrano', 'estrategia', 'estrela', 'estreza', 'estrui', 'estruio', 'estrupao', 'estrutura', 'estua', 'estuante', 'estuantes', 'estuao', 'estuar', 'estufano', 'estuio', 'estuios', 'estuo', 'estuprao', 'estupraor', 'esumile', 'esvalorizaa', 'esviano', 'esviar', 'esvio', 'etalhe', 'etalhes', 'etapa', 'etc', 'ete', 'etensao', 'etenso', 'etentos', 'eterniti', 'etica', 'etintor', 'etleta', 'etobias', 'etra', 'etrajuicialmente', 'etran', 'etremamente', 'etro', 'euaro', 'eubri', 'eucacao', 'eucacional', 'eucaor', 'eucaores', 'eucaos', 'eucar', 'euclies', 'eud', 'euem', 'eugenia', 'eugenio', 'euh', 'euitos', 'eunice', 'eus', 'euu', 'euuu', 'evangelico', 'eve', 'evem', 'evemos', 'evento', 'eventualmente', 'ever', 'everaldo', 'everas', 'everes', 'everia', 'everiam', 'everiamos', 'evias', 'eviei', 'evio', 'evios', 'evitar', 'evitem', 'evolucao', 'evolver', 'existe', 'exploracao', 'eyvii', 'ezembro', 'faaaaase', 'fabiana', 'fabiano', 'fabin', 'fabinho', 'fabio', 'fabricante', 'faca', 'facaa', 'facaas', 'facam', 'faccao', 'face', 'facebook', 'facese', 'fachel', 'facheu', 'facil', 'faco', 'faetec', 'fagner', 'faia', 'faias', 'faichaa', 'fais', 'faisao', 'faiso', 'fala', 'falaa', 'falam', 'falamos', 'falano', 'falar', 'falaram', 'falaremos', 'falcao', 'fale', 'faleceu', 'falee', 'falei', 'falem', 'falencia', 'falha', 'falio', 'falo', 'falou', 'falsa', 'falsao', 'falsificaos', 'falsificou', 'falso', 'falsos', 'falta', 'faltam', 'faltano', 'faltaram', 'faltassem', 'faltava', 'faltei', 'faltou', 'falu', 'familha', 'familia', 'familiaao', 'familiares', 'familias', 'family', 'famosa', 'famoso', 'fan', 'fanfarrao', 'fanning', 'fantasma', 'fantastico', 'faol', 'fara', 'faremos', 'faria', 'farias', 'farinha', 'farmacia', 'farmacias', 'farol', 'farra', 'fas', 'fase', 'fasee', 'faseno', 'fases', 'faso', 'fasso', 'fatal', 'fatima', 'fato', 'fator', 'fatos', 'faturamento', 'faustao', 'favela', 'favor', 'favoreca', 'favorfazer', 'favorito', 'favoritp', 'favorme', 'favornao', 'favorsos', 'faz', 'faze', 'fazeeerr', 'fazem', 'fazena', 'fazenas', 'fazeneiro', 'fazeno', 'fazeno58', 'fazer', 'fazerabracos', 'fazeren', 'fazerpeimos', 'fazia', 'faziam', 'fecha', 'fechaa', 'fechaas', 'fecham', 'fechamento', 'fechano', 'fechao', 'fechar', 'fecharam', 'fee', 'feeral', 'fees', 'fei', 'feia', 'feiad', 'feijao', 'feio', 'feira', 'feirao', 'feita', 'feitas', 'feito', 'feitolocal', 'feitos', 'felaapota', 'feliciae', 'feliciaes', 'felipe', 'feliz', 'felizd', 'felizes', 'felizmente', 'feminino', 'fenaa', 'feng', 'fenofinol', 'fenomeno', 'feorenta', 'fer', 'feria', 'feriao', 'feriaoabsurdo', 'ferias', 'ferimentos', 'ferios', 'fernana', 'fernanes', 'fernanino', 'fernano', 'ferovias', 'ferra', 'ferraa', 'ferragens', 'ferrar', 'ferreira', 'ferro', 'festa', 'festas', 'festinha', 'festival', 'fevereiro', 'fez', 'fezeram', 'fezsera', 'ffp', 'fgts', 'fgv', 'fhm', 'fia', 'fibra', 'fica', 'ficam', 'ficamos', 'ficano', 'ficao', 'ficar', 'ficara', 'ficaram', 'ficasse', 'ficava', 'fico', 'ficou', 'figao', 'figueira', 'figueirense', 'fik', 'fika', 'fila', 'filha', 'filhao', 'filho', 'filhos', 'filiais', 'filial', 'filmagem', 'filmao', 'filmar', 'filme', 'filmei', 'fim', 'fimas', 'fimi', 'final', 'finaliae', 'finalizar', 'finalmente', 'financiamento', 'fins', 'fio', 'fios', 'fique', 'fiquei', 'fiquem', 'fire', 'firmaora', 'firmas', 'fiscal', 'fiscalizacao', 'fiscalizam', 'fiscalizou', 'fisica', 'fisicas', 'fisico', 'fisioterapia', 'fit', 'fiz', 'fizemos', 'fizeram', 'fizessem', 'fla', 'flagrano', 'flagrante', 'flagraos', 'flamengo', 'flamera', 'flavio', 'fle', 'fleury', 'flop', 'flor', 'florestal', 'floripa', 'flu', 'fluminense', 'fluo', 'flw', 'foa', 'foase', 'fock', 'foco', 'focos', 'foe', 'fofao', 'fofo', 'fofoca', 'fogao', 'fogo', 'fogoe', 'fogopois', 'foi', 'foia', 'folga', 'folha', 'fom', 'fones', 'fonseca', 'fontes', 'fooa', 'fora', 'foram', 'foran', 'forao', 'foraos', 'forca', 'forcaparanos', 'forcas', 'forebis', 'forma', 'formacao', 'formao', 'formar', 'formaro', 'formas', 'formigapor', 'formou', 'forneceores', 'fornecer', 'fornecimento', 'forno', 'forte', 'fortes', 'fosco', 'foto', 'fotografao', 'fotografar', 'fotografarmos', 'fotos', 'fppppp', 'fqz', 'fracasso', 'fraco', 'fralas', 'franca', 'francisco', 'franco', 'frango', 'franklin', 'franklinvc', 'fraquin', 'fre', 'free', 'freguesia', 'frei', 'freia', 'freire', 'freitas', 'frente', 'frequencia', 'frequente', 'frequentemente', 'frequentes', 'fresquinha', 'frete', 'fria', 'friboi', 'friburgo', 'friburgop', 'frigorificos', 'frio', 'frota', 'frozen', 'frustacao', 'frutos', 'fsvor', 'fucking', 'fue', 'fueeuu', 'fueno', 'fuer', 'fueu', 'fufuer', 'fuga', 'fugia', 'fugino', 'fugir', 'fugiu', 'fui', 'fuiiiiiiiiiii', 'fuma', 'fumaca', 'fumar', 'fumo', 'fumou', 'funacao', 'funamento', 'funao', 'funciona', 'funcional', 'funcionano', 'funcionar', 'funcionara', 'funcionaria', 'funcionario', 'funcionarios', 'funcionava', 'funk', 'funkea', 'funo', 'funos', 'furam', 'furaos', 'furar', 'furo', 'furta', 'furtano', 'furtos', 'fusao', 'futebol', 'futura', 'futuramente', 'futuro', 'fuui', 'fuzis', 'fzo', 'fzr', 'gaay', 'gab', 'gabaritos', 'gabi', 'gabigol', 'gabinete', 'gabriel', 'gabriela', 'gafe', 'gago', 'gala', 'galao', 'galay', 'galeao', 'galera', 'galeratriste', 'galho', 'galhos', 'galino', 'galo', 'galronon', 'galvao', 'gama', 'ganaias', 'gangue', 'ganha', 'ganham', 'ganhamos', 'ganhano', 'ganhaores', 'ganhar', 'ganharmos', 'ganharseno', 'ganhava', 'ganhei', 'ganhos', 'ganhou', 'gao', 'garagens', 'garante', 'garantir', 'garantiu', 'garcom', 'garera', 'garganta', 'gari', 'garis', 'garota', 'garoto', 'garrafas', 'gas', 'gasolina', 'gasometro', 'gasta', 'gastano', 'gastar', 'gasto', 'gastronomica', 'gata', 'gatinha', 'gatinho', 'gato', 'gau', 'gavea', 'gay', 'gays', 'gayton', 'gazela', 'geipaa', 'gelaeira', 'gelao', 'gelo', 'genaro', 'general', 'generalizaa', 'generosamente', 'genios', 'genro', 'gente', 'gentea', 'gentee', 'genteee', 'genten', 'gentil', 'gentileza', 'geovanna', 'geracao', 'gerais', 'geral', 'geralo', 'geram', 'gerano', 'gerar', 'gerem', 'geremario', 'gerente', 'gericino', 'gerson', 'gestacao', 'gestante', 'gestao', 'getulio', 'giboia', 'gigante', 'gigantesco', 'gilberto', 'gilka', 'gilmar', 'gilza', 'gincana', 'girais', 'girano', 'girassol', 'glaucio', 'glays', 'gleison', 'globais', 'global', 'globo', 'gloria', 'gloriaa', 'glseles', 'gmailcom', 'gnt', 'god', 'gogo', 'goiaba', 'goias', 'gol', 'golpe', 'gols', 'gomes', 'goncalo', 'goncaloas', 'goncalocarlos', 'google', 'gooy', 'gora', 'gorao', 'gorin', 'gorinho', 'goro', 'gosta', 'gostam', 'gostar', 'gostaria', 'gostariamos', 'gostei', 'gosto', 'gostosa', 'gostoso', 'gostou', 'gota', 'goteira', 'gotze', 'gourmet', 'gouveia', 'governaor', 'governaores', 'governo', 'goytacazes', 'gps', 'graativamente', 'graca', 'gracaparque', 'gracas', 'grae', 'grajau', 'grama', 'gramacho', 'gramata', 'grana', 'grand', 'grane', 'graneesta', 'granes', 'granesem', 'grante', 'granulalo', 'graos', 'grata', 'gratificacoes', 'gratis', 'grato', 'gratuito', 'gratuitos', 'grau', 'graus', 'gravacao', 'gravano', 'gravao', 'gravar', 'grave', 'gravei', 'graves', 'gravia', 'graviae', 'graviez', 'gravo', 'gravou', 'gregorio', 'gremio', 'greve', 'grey', 'grill', 'grimgo', 'gripao', 'gripe', 'grita', 'gritar', 'gritare', 'gritos', 'grl', 'gross', 'grota', 'grt', 'grtao', 'grupo', 'grupod', 'grupoe', 'grupoesculpa', 'gruponao', 'grupos', 'grussaisao', 'gsar', 'gst', 'gsus', 'guaalupe', 'guaicurus', 'guanabara', 'guano', 'guanu', 'guapimirim', 'guapimirimrj', 'guara', 'guaramiranga', 'guarao', 'guaraores', 'guaras', 'guaratiba', 'guaratibana', 'guare', 'guarnicao', 'gue', 'guees', 'guei', 'guento', 'guerra', 'guerrero', 'guia', 'guiano', 'guilherme', 'guimaraes', 'gurgel', 'gustavo', 'guy', 'gzb895', 'habbo', 'habilitacao', 'habitaos', 'habitat', 'haha', 'hahaha', 'hahahaha', 'hahahahaha', 'hahahhaha', 'hahqj', 'hail', 'halls', 'ham', 'hame', 'han', 'harolo', 'hauahaua', 'hauahauauayahaahahqhqhh', 'hauahuah', 'hauken', 'have', 'haveno', 'havera', 'haveria', 'havia', 'hayne', 'hbs', 'hcpm', 'heas', 'hectares', 'hein', 'heinekens', 'heionos', 'heiste', 'helen', 'helena', 'helicoptero', 'helil', 'helio', 'hem', 'hemengara', 'hemocentro', 'hemoinamica', 'hemorio', 'hemorioela', 'hemorragia', 'henerson', 'henrique', 'henrrique', 'heonismo', 'her', 'hercules', 'hermes', 'heroi', 'hersen', 'heuehue', 'hey', 'hfg', 'hhz', 'higiene', 'higienico', 'higienicu', 'hilu', 'hino', 'hipermercao', 'hirica', 'historia', 'historias', 'hjacho', 'hjgracas', 'hme', 'hmm', 'hmmm', 'hoho', 'hoje', 'hojed', 'holana', 'homem', 'homenagem', 'homens', 'homestuio', 'homicidio', 'homologacao', 'honorarios', 'honorio', 'honra', 'honramos', 'honrarem', 'hoometro', 'hopitais', 'hora', 'horaa', 'horae', 'horario', 'horas', 'horasetras', 'horinhas', 'horriveis', 'horrivel', 'horror', 'horrores', 'horta', 'hortifruti', 'horto', 'hospitais', 'hospital', 'hoteis', 'hotel', 'houverem', 'hrs', 'hsya', 'http', 'https', 'hue', 'huet', 'hugosao', 'hum', 'humano', 'humanos', 'humberto', 'humile', 'humilhacao', 'humilhaos', 'hummm', 'hummmm', 'hun', 'hupe', 'huque', 'huson', 'ia', 'iaa', 'iaba', 'iabo', 'iae', 'iaee', 'iaesse', 'iafala', 'iagnosticao', 'iago', 'iai', 'iala', 'iam', 'iamante', 'iamanteentao', 'iame', 'iante', 'iaobrigao', 'iareia', 'iariamente', 'iarias', 'iario', 'iarrrr', 'ias', 'iaseste', 'ibhe', 'ibia', 'ibituruna', 'icad', 'icarai', 'icone', 'icu', 'idosos', 'ieal', 'iecac', 'ieia', 'ientiae', 'ientificaa', 'ientificacao', 'ientificao', 'ientificar', 'ientificouse', 'ientifique', 'ietan', 'iferente', 'iferentes', 'ificeis', 'ificil', 'ificulae', 'ificulaeporque', 'ificulaes', 'ificulaque', 'ificultano', 'ifiulaepara', 'iga', 'igam', 'igamii', 'igitais', 'igniae', 'ignificanoo', 'igno', 'ignora', 'ignorancia', 'ignorao', 'ignorar', 'ignore', 'igo', 'igor', 'igreja', 'igua', 'iguacu', 'iguacurjone', 'igual', 'igualmente', 'igualzinho', 'iguinoraa', 'iii', 'iiota', 'iisso', 'ilatacao', 'ilegais', 'ilegal', 'ilegalmente', 'ilegivel', 'ilesaamem', 'ileso', 'ilha', 'ilha324', 'ilhaosa', 'ilicito', 'illner', 'ilma', 'ilmainaugurabrttranscariocaviajaeonibusaolaoeeuaropaespezao12681474html', 'iluios', 'iluminaa', 'iluminacao', 'imagem', 'imagens', 'imagina', 'imagine', 'imbrazao', 'imbu', 'imeiata', 'imeiatamente', 'imeiatas', 'imeiatismo', 'imenso', 'iminencia', 'imovel', 'impacto', 'impee', 'impeiam', 'impeino', 'impeiram', 'implantacao', 'implantao', 'implicano', 'imploino', 'impoe', 'importa', 'importano', 'importante', 'importantes', 'importara', 'impossibiliae', 'impossivel', 'imposto', 'impostos', 'impotencia', 'impotente', 'imprecionante', 'imprecionantr', 'imprensa', 'impressa', 'impressao', 'impressos', 'improceente', 'improutiva', 'improutivo', 'improvisou', 'impune', 'imuniae', 'ina', 'inaceitavel', 'inacreitavel', 'inamico', 'inativa', 'inauguracao', 'inaugurao', 'inc', 'inceniao', 'incenio', 'incenios', 'inciencia', 'incluino', 'incluinose', 'incluir', 'inclusive', 'incoerente', 'incomoa', 'inconsequente', 'incorrer', 'incortel', 'incriminados', 'incrivel', 'incrivelmente', 'indicados', 'inea', 'inefesorjtv', 'inenizacao', 'inenizacoes', 'inenizar', 'inentifique', 'inertesnao', 'ines', 'infancia', 'infantil', 'infarto', 'infeccao', 'infelismente', 'infelizmente', 'inferninho', 'inferno', 'inflamavel', 'influenciar', 'infobarra', 'infore', 'informaa', 'informacao', 'informacoes', 'informalos', 'informam', 'informano', 'informar', 'informaram', 'informatica', 'informe', 'informei', 'informo', 'informou', 'infracionar', 'inga', 'ingerir', 'ingerirem', 'ingracaaum', 'ingressar', 'ingressaram', 'ingressavam', 'ingresso', 'ingri', 'inhauma', 'inheiro', 'inia', 'inian', 'iniano', 'inibir', 'inibus', 'inicacao', 'inicar', 'inices', 'iniciaa', 'inicialmente', 'iniciar', 'iniciaram', 'iniciativa', 'inicio', 'iniciou', 'inignaa', 'inignaameu', 'inignacao', 'ininterruptamente', 'inio', 'iniviualiae', 'iniviuo', 'injustica', 'inlegal', 'ino', 'inoa', 'inocente', 'inocentes', 'inovacao', 'inovar', 'inrregular', 'insalubriae', 'inscrito', 'inscritos', 'inseguranca', 'insercao', 'insiste', 'insistir', 'insistiu', 'inspecao', 'inspetor', 'inss', 'instalacao', 'instalaram', 'instituicao', 'instituto', 'instrucoes', 'insulfime', 'insultos', 'insuportavel', 'integralmente', 'inteira', 'inteiro', 'intelectivamente', 'intelectivo', 'inteligente', 'intemperies', 'intencao', 'inteni', 'intensa', 'intensamente', 'intenso', 'intensos', 'inter', 'interessante', 'interessaos', 'interessar', 'interesse', 'interior', 'interitaa', 'intermeiacao', 'interna', 'internaa', 'internacao', 'internacional', 'internao', 'internaos', 'internas', 'internet', 'interno', 'interrompeu', 'intervalo', 'intervalos', 'intervir', 'intimiano', 'into', 'intolerante', 'intransitavel', 'intt', 'inumeras', 'inustria', 'inutil', 'inuzino', 'invaino', 'invaio', 'invair', 'invasao', 'inveja', 'inventaria', 'inverae', 'inves', 'investe', 'investigacao', 'investigar', 'investigassem', 'investigassempq', 'investiguem', 'investimentos', 'investior', 'investioras', 'investiores', 'investir', 'investiram', 'investiria', 'ioni', 'iosas', 'ioso', 'iosos', 'ipanema', 'ipase', 'ipc', 'ipem', 'iperial', 'iptu', 'ipub', 'ira', 'iraa', 'iraja', 'irao', 'irata', 'irecao', 'irei', 'ireitamas', 'ireitinho', 'ireito', 'ireitos', 'iretamente', 'ireto', 'iretor', 'iretores', 'iretoria', 'iria', 'iris', 'irma', 'irmao', 'irmaod', 'irmaos', 'irmos', 'ironia', 'irregular', 'irregulariaes', 'irregularmente', 'irrita', 'irritaa', 'irritar', 'isaac', 'isabel', 'isabele', 'isabella', 'isabelle', 'iscasse', 'isciplinar', 'iscorar', 'iscuti', 'iseno', 'isentar', 'isfarcao', 'isfarssa', 'isfarssaa', 'isfarssso', 'isfuncao', 'isispero', 'islamico', 'ismaie', 'iso', 'ispensar', 'ispericio', 'ispoe', 'isponiveis', 'isponivel', 'isposicao', 'isposto', 'ispostos', 'isqueenuncia', 'isquei', 'issa', 'isse', 'isselhe', 'isseme', 'isseque', 'isseram', 'isso', 'issoanos', 'issoe', 'issoooo', 'istante', 'istilo', 'istiloza', 'istiven', 'isto', 'istrato', 'istribuicao', 'istrito', 'itaborai', 'itacuruca', 'itaguai', 'itaipava', 'itaipu', 'itaipuacu', 'itaja', 'itamaraty', 'itanhanga', 'itano', 'itaram', 'itatiaia', 'itau', 'itauna', 'itimirim', 'ito', 'ivan', 'ivanrecebi', 'iventar', 'iversas', 'iversificacao', 'iverti', 'ivertio', 'ivertir', 'ivias', 'iviia', 'iviir', 'ivina', 'ivini', 'ivirto', 'ivisao', 'ivisoria', 'ivisorias', 'ivulga', 'ivulgacao', 'ivulgacem', 'ivulgam', 'ivulgano', 'ivulgao', 'ivulgar', 'ivulgaria', 'ivulgassem', 'ivulgue', 'ivulguea', 'ivulguem', 'izem', 'izeno', 'izer', 'izerem', 'izia', 'iziam', 'iziro', 'j5emygio', 'jac', 'jacabarao', 'jacarepagua', 'jacarepagualevaram', 'jacarezinho', 'jaceguai', 'jad', 'jaeh', 'jaer', 'jairo', 'jamais', 'jamal', 'jamili', 'janeiro', 'janeirosou', 'janela', 'janelas', 'janerson', 'janjao', 'jantar', 'japanese', 'japeri', 'japonesa', 'jardim', 'jarim', 'jarin', 'jarins', 'jason', 'jasu', 'jata', 'jatinho', 'jato', 'jatoba', 'jaunario', 'jay', 'jazaakallahu', 'jbsfriboi', 'jeckson', 'jeff', 'jeito', 'jeitos', 'jeniffer', 'jenny', 'jeova', 'jessica', 'jessie', 'jesuina', 'jesus', 'jesuscom', 'jetea', 'jhen', 'jhenifer', 'jhenni', 'jhonatan', 'jimmy', 'jjj', 'jjjjj', 'jjjjjjjjjjjjjjjjjjjjjjjjjjjjjjjjjjjjjjjjjjjjjjjjjj', 'jjjjjjjk', 'jjjjjjshaahahahha', 'jjkkkkk', 'jkjjjjkk', 'jkkkkkk', 'jkkkkkkk', 'jmmm', 'jmmmmmnnnnnnnnnnbvbb', 'joana', 'joao', 'joaquim', 'joelhos', 'joga', 'jogaa', 'jogaas', 'jogam', 'jogano', 'jogao', 'jogaos', 'jogar', 'jogo', 'jogos', 'jogou', 'joinville', 'jonatha', 'joran', 'jorge', 'jornaa', 'jornais', 'jornal', 'jornalista', 'jornalpois', 'jorra', 'jorrano', 'jose', 'jovem', 'jovi', 'joviniano', 'jovis', 'jpa', 'jua', 'juan', 'juiciais', 'juicial', 'juiz', 'juizo', 'julgamento', 'julgou', 'julho', 'juliane', 'julio', 'jumento', 'junger', 'junho', 'junin', 'junio', 'junior', 'junta', 'juntamente', 'juntar', 'juntese', 'junto', 'juntos', 'juramento', 'juriico', 'juros', 'jurujuba', 'juscelino', 'jussara', 'just', 'justa', 'justamente', 'justas', 'justica', 'juturnaiba', 'juuh', 'k11', 'kaiser', 'kajaiajwh', 'kakak', 'kakaka', 'kalener', 'karalhao', 'karen', 'karine', 'kassian', 'kassiane', 'katia', 'kct', 'kee', 'keila', 'kellynha', 'kenney', 'kereo', 'kero', 'kerollyn', 'khairan', 'kibe', 'kiko', 'king', 'kjk', 'kjmmmmmnsnsnqnq', 'kkj', 'kkk', 'kkkj', 'kkkjj', 'kkkk', 'kkkkjkkkkkkjkkkkkkkkkkkkkkkkkkkkkkkkkkkkkkkkkkkk', 'kkkkk', 'kkkkkjkk', 'kkkkkk', 'kkkkkkjjjkkkk', 'kkkkkkk', 'kkkkkkkjj', 'kkkkkkkk', 'kkkkkkkkd', 'kkkkkkkkk', 'kkkkkkkkkjj', 'kkkkkkkkkk', 'kkkkkkkkkkk', 'kkkkkkkkkkkk', 'kkkkkkkkkkkkk', 'kkkkkkkkkkkkkk', 'kkkkkkkkkkkkkkk', 'kkkkkkkkkkkkkkkk', 'kkkkkkkkkkkkkkkkkkkk', 'kkkkkkkkkkkkkkkkkkkkjj', 'kkkkkkkkkkkkkkkkkkkkk', 'kkkkkkkkkkkkkkkkkkkkkk', 'kkkkkkkkkkkkkkkkkkkkkkkkkkkkkkkkk', 'kkkkkkkkkkkkkkkkkkkkkkkkkkkkkkkkkkkkk', 'kkkkkkkkkkkkkkkkkkkkkkkkkkkkkkkkkkkkkkk', 'kkkkkkkkkkkkkkkkkkkll', 'kkkkkkmkkkkk', 'kkkkklll', 'kkkkkmj', 'kkkkmk', 'kkkkpq', 'kkklkkk', 'kkknkkk', 'klaus', 'klkkkkkkkk', 'kmetec', 'kmmmmm', 'ko', 'koe', 'kooe', 'kra', 'krl', 'krld', 'krlh', 'krt', 'ksa', 'kubishek', 'kuc', 'kwui', 'laario', 'labarea', 'lacera', 'laco', 'lacta', 'lae', 'laeira', 'lafaiete', 'lage', 'laght', 'lagoa', 'lagos', 'lais', 'laisla', 'lama', 'lamber', 'lamentavel', 'lampaad', 'lampaas', 'lancamento', 'lancha', 'lanchonete', 'lanterna', 'lao', 'laos', 'lapa', 'lapavai', 'lara', 'laranja', 'laranjeiras', 'larao', 'lares', 'larga', 'largaa', 'largaas', 'largao', 'largaram', 'largaran', 'largo', 'largou', 'larisa', 'larissa', 'laroes', 'lary', 'laryssa', 'lastima', 'lastimavel', 'lata', 'lateral', 'lato', 'lavoueu', 'lavras', 'lazer', 'lcb', 'leanro', 'leao', 'lecal', 'leem', 'legais', 'legal', 'legal3', 'legaliae', 'legislacao', 'legislaturas', 'legumes', 'lei', 'leia', 'leiam', 'leila', 'leilao', 'leiloeiro', 'leis', 'leite', 'leito', 'lembram', 'lembrancas', 'lembrano', 'lembrar', 'lembrava', 'lembrei', 'lembrem', 'lembrese', 'lembrno', 'lembro', 'lembrou', 'lemos', 'lena', 'lenaria', 'lenas', 'lencois', 'lencos', 'lenha', 'lenintom', 'leno', 'lento', 'leo', 'leon', 'leonaro', 'leonel', 'leopolina', 'leopolo', 'ler', 'lera', 'lesaos', 'lesma', 'lesoes', 'leticia', 'letra', 'leva', 'levam', 'levano', 'levantao', 'levante', 'levantese', 'levantou', 'levao', 'levaos', 'levar', 'levaram', 'levarao', 'levavam', 'leve', 'levei', 'leves', 'levo', 'levou', 'lgo', 'lhermu', 'lia', 'liao', 'liaraa', 'libania', 'liberae', 'liberao', 'liberaos', 'liberou', 'licenca', 'licitacao', 'licitacoes', 'licoes', 'lidas', 'lido', 'lieira', 'lieltom', 'lierancas', 'lieres', 'life', 'liga', 'ligaa', 'ligacao', 'ligacoes', 'ligadas', 'ligamos', 'ligano', 'ligao', 'ligaos', 'ligar', 'ligaram', 'light', 'ligo', 'ligou', 'ligue', 'liguei', 'liguel', 'like', 'lilia', 'lilica', 'lima', 'liminar', 'limitano', 'limpa', 'limpamais', 'limpano', 'limpaor', 'limpar', 'limpesa', 'limpeza', 'limpieza', 'lina', 'linao', 'linas', 'linguica', 'linha', 'linhas', 'link', 'lino', 'linos', 'lins', 'lio', 'lios', 'liospois', 'lipao', 'liquio', 'lisensa', 'lista', 'literalmente', 'litleta', 'litoral', 'litros', 'livia', 'livraram', 'livre', 'livremente', 'livrese', 'livro', 'livros', 'lkkkkkkk', 'llklllllllkkkllkklllkk', 'lobao', 'lobo', 'locais', 'local', 'localiae', 'localiaes', 'localiza', 'localizaa', 'localizacao', 'localizao', 'locao', 'logo', 'logrou', 'loja', 'lojas', 'loka', 'loko', 'lokura', 'lolzin', 'lona', 'lonbare', 'longa', 'longe', 'lontra', 'looney', 'lopes', 'lor', 'lorenco', 'lori', 'lorival', 'lorr', 'lotaa', 'lotacao', 'lotados', 'lotao', 'lotaos', 'lote', 'loteria', 'loterias', 'loterica', 'louca', 'louco', 'loucura', 'loureiro', 'louvao', 'louve', 'lt', 'lu', 'lua', 'luan', 'luanna', 'lucas', 'lucasroriguesequeiros', 'luci', 'luciainspecao', 'luciano', 'lucimara', 'lucio', 'lucrativos', 'lucro', 'luf', 'lufe', 'lugar', 'lugares', 'luiiz', 'luis', 'luiss', 'luiz', 'lula', 'lulinha', 'luminarias', 'luta', 'lutam', 'lutaor', 'lutar', 'lutaria', 'lutas', 'luterania', 'luther', 'luvas', 'luverense', 'luz', 'luzes', 'luzia', 'maaas', 'maas', 'maca', 'macaco', 'macacu', 'macae', 'macaquinhos', 'machado', 'machao', 'machaoo', 'machucao', 'maconha', 'macumba', 'mae', 'maeira', 'maersk', 'mafia', 'magalhaes', 'magarca', 'mage', 'magia', 'magistrao', 'magnifico', 'magro', 'maia', 'maiala', 'maiana', 'maicom', 'maicon', 'maik', 'maikom', 'mail', 'mailcom', 'maima', 'maimo', 'maio', 'maior', 'maiores', 'maioria', 'maioriapois', 'mais', 'maisa', 'maisafinal', 'major', 'majoritario', 'mal', 'malaes', 'malhacao', 'malita', 'malta', 'maltratao', 'maluca', 'maluco', 'mama', 'mamae', 'mamao', 'mamar', 'mamilos', 'mamita', 'mana', 'manah', 'manam', 'manamos', 'manano', 'manao', 'manaos', 'manar', 'manaram', 'manarao', 'manarem', 'manassem', 'manato', 'mande', 'mane', 'manei', 'maneira', 'manem', 'manguariba', 'manguinhos', 'manha', 'manhas', 'manias', 'manifestacao', 'manifestam', 'manilhas', 'maninho', 'mano', 'manobras', 'manoel', 'manos', 'manou', 'mansf', 'manta', 'mantenha', 'manter', 'manterem', 'manu', 'manutencao', 'mao', 'maos', 'maothaissa', 'maozinha', 'maqueiro', 'maquina', 'maquinas', 'maquiou', 'mar', 'mara', 'maraca', 'maracana', 'maravilha', 'maravilhosa', 'maravilhosao', 'maravilhoso', 'marca', 'marcaa', 'marcaores', 'marcela', 'marcele', 'marcelino', 'marcello', 'marcelo', 'marcely', 'marcia', 'marcial', 'marcio', 'marco', 'marcoe', 'marcolino', 'marcos', 'marcou', 'marcus', 'mare', 'marechal', 'marejantes', 'margaria', 'marginais', 'marginas', 'maria', 'mariana', 'mariano', 'marica', 'marigaa', 'marii', 'marimba', 'marinalo', 'marinalva', 'marinha', 'marinheiro', 'mario', 'maritis', 'marley', 'marlio', 'marly', 'marmelo', 'marques', 'marquesa', 'marrao', 'marrom', 'marta', 'martelo', 'martin', 'martins', 'martir', 'marugaa', 'marugaaroubam', 'marugaas', 'marvel', 'marvilhora', 'mas', 'mascara', 'mascote', 'masculino', 'masio', 'massa', 'master', 'mat', 'mata', 'matanca', 'matando', 'matar', 'mataram', 'materia', 'material', 'materias', 'materniae', 'mateus', 'matheo', 'matheus', 'matina', 'mato', 'matos', 'mats', 'mattos', 'mau', 'maua', 'mauca', 'maucanu', 'maues', 'maureira', 'maureirana', 'mauro', 'maus', 'mawell', 'maximo', 'maycon', 'maysa', 'mazinho', 'mea', 'mealha', 'mecanica', 'mecanicos', 'mee', 'meeeeey', 'meeeey', 'meey', 'meia', 'meiacoes', 'meiae', 'meianoite', 'meica', 'meicacao', 'meicamento', 'meicamentos', 'meico', 'meicoes', 'meicos', 'meier', 'meinho', 'meio', 'meior', 'meios', 'meisum', 'mel', 'melao', 'melgaco', 'melhor', 'melhora', 'melhorar', 'melhoras', 'melhore', 'melhores', 'melhoria', 'melhorrsrs', 'meliante', 'meliantes', 'melicianos', 'mello', 'melo', 'membros', 'memoria', 'menezes', 'menguelle', 'meni', 'menigos', 'menina', 'meninas', 'menino', 'meno', 'menonca', 'menor', 'menores', 'menos', 'mensagem', 'mensagens', 'mensalao', 'mensalmente', 'mentais', 'mental', 'mente', 'mentem', 'menti', 'mentino', 'mentir', 'mentira', 'mentirosas', 'mentiu', 'mentor', 'meo', 'mera', 'mercaete', 'mercao', 'mercaorias', 'mercaos', 'merce', 'merece', 'merecem', 'merecemos', 'meriti', 'meritiruajorge', 'meritos', 'mes', 'mesagem', 'mesas', 'meses', 'mesesd', 'mesese', 'mesma', 'mesmas', 'mesmo', 'mesmos', 'mesquita', 'mesquitenses', 'messenger', 'mestre', 'metae', 'metas', 'meteoro', 'meter', 'metraglobocom', 'metro', 'metropole', 'metropolis', 'metropolitana', 'metropolitano', 'metros', 'metrosd', 'meu', 'meua', 'meuovo', 'michel', 'michele', 'mick', 'micro', 'mictorio', 'migaaa', 'migaaaaaa', 'migrao', 'migrarem', 'miguel', 'miguez', 'miia', 'miias', 'miih', 'mijar', 'mil', 'milagre', 'milagres', 'milagrosa', 'milena', 'milenio', 'mileva', 'milhao', 'milhoes', 'miliciano', 'milicianos', 'milionarios', 'militar', 'militares', 'millena', 'miltinho', 'mim', 'mimimi', 'min', 'mina', 'minas', 'mineira', 'minha', 'minima', 'minimo', 'minino', 'ministerio', 'ministro', 'mintiooo', 'mintira', 'mintirosp', 'minutinhos', 'minuto', 'minutos', 'miocario', 'miragens', 'mirana', 'mirela', 'mirim', 'miro', 'misericoria', 'misica', 'mistura', 'misturao', 'mitar', 'mito', 'mitre', 'mizera', 'mlc', 'mlk', 'mlkkkkk', 'mlq', 'mmkmmmmm', 'mmmmmmamamamamamamamamamamaam', 'mmmmmmmm', 'mmmmmmmmmm', 'mmmmmmmmmmmmmmmm', 'mmmmmmmmmmmmmmmmmmmmmmmmmmmmmmmmmmmmnmmmmmmmmmmmmmmmmmmmnmmmmmmmmmmmmmmmmmmmmmmmmmmmnmmmmmmmmmmmmmmmmmmmmmmmmmmmmmmmmmmmmmmmmnmmmmmmmmmmmnmmmmmmmmmmmmmmmmmmmmmmmmmmmmmmmmmmmnmmmmmmmmmmmmmmmmmmmmmmmmmmmmmmmmmmmmmnmmmmmmmmmmmmmmmmmmmmmmnmmmmmmmmmmmmmmmmmmmmmmmmmmmmmmmmmmmmmmmmmmmmmmnmmmmmmmmmmmmmmm', 'mmmmmnn', 'mna', 'mnh', 'mnha', 'mnnnnnhhhhhhhhmfmmmaammaamamammamam', 'mnts', 'moa', 'mobilizacao', 'mobilizar', 'moby', 'moca', 'mocas', 'moelo', 'moernizacao', 'moerno', 'moernos', 'mogi', 'moh', 'mohh', 'moises', 'mola', 'molas', 'mole', 'moleque', 'molhano', 'molho', 'molieres', 'momento', 'momentos', 'moncks', 'mongol', 'monha', 'monica', 'monique', 'monitoramento', 'monitoraram', 'monitores', 'monopolio', 'monsenhor', 'monstra', 'monstro', 'monstros', 'montaa', 'montanha', 'montanhas', 'monte', 'montes', 'montreal', 'mora', 'moradores', 'morais', 'moral', 'moramos', 'morano', 'morao', 'moraor', 'moraora', 'moraore', 'moraores', 'morar', 'morava', 'moreira', 'morena', 'moro', 'morra', 'morre', 'morreno', 'morrer', 'morrerd', 'morreu', 'morri', 'morrio', 'morro', 'morros', 'morta', 'mortal', 'mortanae', 'morte', 'morto', 'mortos', 'mosquito', 'mosquitos', 'mossoro', 'mossorod', 'mostra', 'mostram', 'mostrano', 'mostrao', 'mostrar', 'mostraram', 'mostraremos', 'mostre', 'mostrem', 'mostrou', 'mostta', 'mota', 'motificano', 'motivo', 'moto', 'motoqueiros', 'motor', 'motorista', 'motoristas', 'motoristasem', 'motoristasparceiros', 'motos', 'motta', 'moura', 'mourao', 'move', 'movel', 'mover', 'movimenta', 'movimentacao', 'mrm', 'ms', 'msc', 'msg', 'msm', 'msnerraaesculpa', 'msrapeni', 'mss', 'msss', 'mto', 'mts', 'mua', 'muanca', 'muano', 'muar', 'muara', 'muaria', 'muariam', 'mucaja', 'mue', 'muei', 'muie', 'muinho', 'muita', 'muitas', 'muito', 'muitos', 'mulambo', 'mulher', 'mulheres', 'mulherzinha', 'multa', 'multam', 'multao', 'multar', 'multas', 'multinhas', 'mundo', 'munial', 'municipais', 'municipal', 'municipio', 'muno', 'munus', 'muo', 'muou', 'muro', 'music', 'musica', 'musical', 'musumana', 'mutua', 'muuito', 'muzi', 'myllene', 'n31', 'n47', 'n825', 'naa', 'naaprecisamos', 'nacional', 'nacoes', 'nada', 'nais', 'name', 'nami', 'namora', 'namoraa', 'namorainha', 'namorano', 'namorao', 'namoraos', 'namoraosoo', 'namorar', 'namoro', 'namorou', 'nana', 'naninho', 'nano', 'nao', 'naoo', 'naooo', 'naopublica', 'naoquer', 'naquela', 'naquele', 'narcizoaugustofilho', 'nartural', 'nas', 'nasceno', 'nascente', 'nascimento', 'naspoline', 'nasser', 'nat', 'natalfoi', 'nath', 'natha', 'natt', 'natural', 'nau', 'naum', 'nautico', 'navalhaassao', 'navio', 'nazare', 'nazista', 'neblina', 'nebulizacao', 'necessario', 'necessiae', 'necessiaes', 'necessidade', 'necessita', 'necessitando', 'necessitano', 'necessitaos', 'necessitavam', 'nectar', 'neem', 'neg', 'nega', 'negamos', 'negar', 'negarei', 'negas', 'negativa', 'negativo', 'negava', 'negligencia', 'nego', 'negocio', 'negocios', 'negra', 'negro', 'negru', 'neguei', 'neguinha', 'neguinho', 'neh', 'neim', 'nela', 'nelcirneves', 'nele', 'nelson', 'nem', 'neme', 'nen', 'nene', 'nenem', 'nenhum', 'nenhuma', 'nenina', 'nente', 'nepal', 'nervosismo', 'nervosos', 'nessa', 'nessas', 'nesse', 'nesses', 'nessessario', 'nesta', 'nestas', 'neste', 'nestor', 'net', 'neti', 'neto', 'netoja', 'netos', 'neu', 'neum', 'neuro', 'neuroze', 'neutron', 'neves', 'nevoeiro', 'new', 'neymar', 'ngm', 'nice', 'nick', 'nicolaaaasssss', 'night', 'niguem', 'nilo', 'nilopolis', 'nilopolitana', 'nilson', 'ninguem', 'ninhaaaaaaaaa', 'ninquem', 'nisso', 'nissolapaseta', 'niteroi', 'niteroitoo', 'niveis', 'nivel', 'niver', 'nmrl', 'nnnn', 'nnnnnnnnnnnn', 'no', 'nobel', 'nocao', 'noco', 'noemia', 'noffaaaa', 'nogrupo', 'noi', 'noia', 'nois', 'noite', 'noitee', 'noiteee', 'noitem', 'noiteolha', 'noitevcs', 'noiti', 'noitr', 'noivao', 'nojentq', 'nojoooo', 'nome', 'nomeaa', 'nomes', 'nomevenha', 'nommee', 'nooo', 'nora', 'norarenalina', 'noreste', 'norma', 'normal', 'normalmente', 'norte', 'norted', 'nos', 'nosa', 'nossa', 'nosso', 'nossos', 'nosssaaaa', 'not', 'nota', 'notao', 'notem', 'noticia', 'noticiano', 'noticiario', 'noticias', 'notificacoes', 'nova', 'novagina', 'novaiguacu', 'novamente', 'novas', 'nove', 'novelas', 'novembro', 'novo', 'novos', 'noz', 'nued', 'nueis', 'nues', 'num', 'numa', 'number', 'numeracao', 'numero', 'numero31', 'numeros', 'nunca', 'nunero18', 'nunes', 'nunk', 'nuss', 'nvs', 'nza', 'oacoes', 'oaor', 'oar', 'obaaaaaa', 'oberg', 'obg', 'obga', 'obito', 'obituario', 'objetivo', 'objeto', 'oboutro', 'obra', 'obras', 'obreirosmas', 'obrigaa', 'obrigano', 'obrigao', 'obrigaos', 'obrigaram', 'obrigatorio', 'obrigome', 'obrigou', 'obs', 'obsoletas', 'obstante', 'obtem', 'obteve', 'obviamente', 'ocasiao', 'oce', 'oceanica', 'oces', 'ocio', 'ocoreno', 'ocorra', 'ocorre', 'ocorrencia', 'ocorreno', 'ocorrer', 'ocorrera', 'ocorreram', 'ocorreu', 'ocorrio', 'ocorrioe', 'ocorrios', 'octavio', 'oculos', 'ocumentacao', 'ocumentar', 'ocumentos', 'ocupaa', 'ocupante', 'ocuparam', 'ocupouse', 'oeee', 'oeeeee', 'oeio', 'oenca', 'oencas', 'oeno', 'oente', 'oeste', 'oferece', 'oferecer', 'ofertamos', 'ofertar', 'offn', 'offshore', 'oficial', 'oficina', 'oficio', 'oftalmologico', 'ogra', 'ogui', 'ohospital', 'oia', 'oiano', 'oid', 'oie', 'oieeee', 'oiera', 'oii', 'oiih', 'oiii', 'oiiie', 'oiiii', 'oiiiiii', 'oiiiiiiii', 'oio', 'ois', 'oitavas', 'oitavo', 'oito', 'oitora', 'oiw', 'okay', 'ola', 'olao', 'olares', 'olaria', 'olarrrrr', 'olavo', 'oleo', 'olha', 'olhaa', 'olhamos', 'olhano', 'olhar', 'olhassem', 'olhe', 'olhem', 'olhinho', 'olhinhos', 'olho', 'olhos', 'olhou', 'olimpiaas', 'olimpio', 'olimpo', 'olival', 'oliveira', 'olivia', 'olkay', 'oloco', 'olorias', 'omesmo', 'omicilio', 'ominarao', 'omingo', 'omingos', 'omingosmoraores', 'ominio', 'omino', 'ona', 'onda', 'onde', 'one', 'oned', 'onibos', 'onibus', 'online', 'ono', 'onshore', 'ont', 'ontem', 'onten', 'ooe', 'ooi', 'ooie', 'ooii', 'ookla', 'oooe', 'oooi', 'oooie', 'ooooh', 'opa', 'opala', 'opaopa', 'opcao', 'open', 'opera', 'operacao', 'operacionais', 'operacoes', 'operacoesd', 'operaor', 'operaora', 'operaoras', 'opercao', 'opiniao', 'oportuniae', 'opz', 'oqe', 'oque', 'ora', 'oracao', 'oracoes', 'oral', 'oram', 'orano', 'orar', 'ore', 'orem', 'orens', 'ores', 'organizaa', 'organizacoes', 'organizao', 'orgao', 'orgaosgostaria', 'origem', 'orlano', 'ormen', 'ormi', 'ormimane', 'ormino', 'ormir', 'ornelas', 'oros', 'orrivel', 'ortopeia', 'os18', 'oscar', 'ose', 'oses', 'osorio', 'osso', 'ostensivo', 'ostentacao', 'ostras', 'osvalo', 'otario', 'otima', 'otimo', 'otimos', 'otoni', 'ouglas', 'outor', 'outra', 'outras', 'outro', 'outrome', 'outrora', 'outros', 'outrosbrigam', 'outrossim', 'outubro', 'ouvem', 'ouvi', 'ouvia', 'ouvino', 'ouvio', 'ouvioa', 'ouvir', 'ouviram', 'ovo', 'p12', 'p74', 'paaria', 'pachel', 'pacheu', 'paciencia', 'paciente', 'pacientes', 'pacienvia', 'pacifica', 'pacificaa', 'pacificacao', 'pacificos', 'pacote', 'pacuare', 'paes', 'paf', 'pafs', 'paga', 'pagae', 'pagam', 'pagamento', 'pagamentos', 'pagamnto', 'pagamos', 'pagano', 'pagao', 'pagar', 'pagaram', 'pagaran', 'pagas', 'pagavam', 'pagina', 'pago', 'pagoe', 'pagos', 'pagou', 'pague', 'pai', 'paiao', 'pais', 'paismas', 'paiso', 'paiva', 'pal', 'palaino', 'palavras', 'palco', 'palha', 'palhacaa', 'palhaco', 'palhacos', 'paliasso', 'palmas', 'palmeiras', 'pampa', 'panela', 'panelaa', 'panelaco', 'panico', 'pantano', 'pao', 'paola', 'papa', 'papai', 'papel', 'papelaria', 'papeu', 'papiloscopica', 'papo', 'para', 'para1', 'paraa', 'paraaa', 'parabenizar', 'parabens', 'parabrisa', 'paraeiro', 'parafina', 'paraguai', 'paraiba', 'paraiso', 'paralisacao', 'param', 'paramos', 'parana', 'paranapua', 'paranhos', 'paranhoso', 'parao', 'paraos', 'parapente', 'parar', 'pararam', 'parava', 'parceiro', 'parcelamento', 'parcelao', 'pare', 'pareca', 'parece', 'pareceno', 'pareceu', 'parecia', 'parecio', 'paree', 'parei', 'parem', 'parente', 'parentes', 'parese', 'parinho', 'park', 'parkshopping', 'parlamentar', 'parlamentares', 'paro', 'paroes', 'parou', 'parque', 'parte', 'parti', 'participacao', 'participano', 'participantes', 'participar', 'participarao', 'participei', 'participosno', 'partieiro', 'partilhar', 'partio', 'partir', 'partiu', 'parto', 'partos', 'pasaageiro', 'pascoa', 'pascoal', 'pasmem', 'paso', 'pass', 'passa', 'passaa', 'passageira', 'passageiro', 'passageiros', 'passagem', 'passagemtoos', 'passagens', 'passam', 'passamos', 'passando', 'passano', 'passao', 'passaporte', 'passar', 'passara', 'passaram', 'passarela', 'passarem', 'passaros', 'passatempo', 'passava', 'passe', 'passeano', 'passear', 'passei', 'passeio', 'passem', 'passificacao', 'passivel', 'passo', 'passou', 'pastel', 'pasto', 'pastor', 'patecer', 'patetico', 'patio', 'patios', 'patricia', 'patrick', 'patrimoniais', 'patrimonio', 'patriota', 'patrocinaa', 'patrocinio', 'patrulha', 'patrulhamento', 'pau', 'paula', 'paulaas', 'paulakm32', 'paulasao', 'paulino', 'paulistas', 'paulo', 'paulomoto', 'paus', 'pauta', 'pavimentaas', 'pavuna', 'paysanu', 'paz', 'pazes', 'pca', 'pdf', 'peacinho', 'peagogica', 'pec', 'peca', 'pecao', 'pechincha', 'peco', 'pede', 'pedestres', 'pedir', 'pee', 'peem', 'peestre', 'peestres', 'pega', 'pegaa', 'pegano', 'pegaou', 'pegar', 'pegaram', 'pegarem', 'pegariamos', 'pegaso', 'pegasoque', 'pego', 'pegou', 'peguei', 'pegunta', 'pei', 'peies', 'peimos', 'peino', 'peio', 'peios', 'peioto', 'peir', 'peitar', 'peito', 'peitos', 'peiu', 'peiume', 'pekorelio', 'pelaa', 'pele', 'peleleu', 'peliculas', 'pelo', 'peluo', 'pena', 'peneira', 'peneo', 'penha', 'penis', 'penitenciarias', 'pensa', 'pensam', 'pensano', 'pensao', 'pensar', 'pensaram', 'pense', 'pensei', 'penso', 'pensou', 'pentear', 'penuraas', 'penurarem', 'pepa', 'pepe', 'pequena', 'pequeno', 'pequenos', 'pera', 'perae', 'perante', 'peras', 'perca', 'percam', 'perceber', 'percebeu', 'percebi', 'percentual', 'perco', 'perde', 'pere', 'pereciveis', 'pereira', 'perelo', 'perem', 'peremos', 'pereno', 'perer', 'perera', 'pereram', 'pereriam', 'peresse', 'pereu', 'perez', 'perfeicao', 'perfeito', 'perfil', 'perfuraa', 'pergunta', 'perguntalhe', 'perguntapor', 'perguntar', 'perguntaram', 'perguntasse', 'perguntei', 'pergunto', 'perguntou', 'peri', 'peria', 'pericia', 'pericias', 'perigo', 'perigosa', 'perigosamente', 'perigoso', 'perinha', 'perio', 'perioo', 'perir', 'peritos', 'permaneca', 'permanece', 'permanecera', 'permissiviae', 'permite', 'permitio', 'permitir', 'perna', 'pernambuco', 'pernas', 'pernoitar', 'pero', 'peroe', 'perpleos', 'perpreqto', 'perseguiam', 'perseverancaum', 'pertencem', 'pertences', 'pertinho', 'perto', 'pertubar', 'perturbam', 'perturbar', 'perversao', 'pesaamente', 'pesao', 'pesaoa', 'pescoco', 'peso', 'pesqueira', 'pesquisas', 'pessal', 'pessimas', 'pessimo', 'pesso', 'pessoa', 'pessoal', 'pessoalmente', 'pessoas', 'peste', 'petro', 'petrobras', 'petrolina', 'pezao', 'pff', 'pftoo', 'pfvr', 'pgtoo', 'pia', 'piaas', 'piabeta', 'piano', 'pibi', 'pica', 'pichano', 'pichao', 'pichaos', 'picina', 'pieae', 'piis', 'pika', 'pilantras', 'pilar', 'pilares', 'pilaresrj', 'pilha', 'piloto', 'pimenta', 'pimentel', 'pinheiro', 'pinto', 'pio', 'pior', 'piorano', 'pioraqui', 'piorar', 'pipa', 'pipas', 'pirai', 'piranha', 'pirapora', 'pirata', 'piratas', 'piratininga', 'piratiningua', 'piroca', 'pirocaa', 'pirocamanou', 'pirralho', 'piru', 'pisca', 'piscar', 'piscicologa', 'piscina', 'piscinao', 'piso', 'pista', 'pistas', 'pitoco', 'piza', 'pizaa', 'pka', 'placa', 'planalto', 'planejaa', 'planejamento', 'planet', 'plano', 'planos', 'planta', 'plantao', 'plantaod', 'plantar', 'plantas', 'plantoes', 'plastico', 'plataforma', 'play', 'pleiteava', 'pleiteou', 'plena', 'plenario', 'pleno', 'pleura', 'ploicia', 'pms', 'pneu', 'pneus', 'poa', 'poaas', 'pobi', 'pobre', 'poca', 'pode', 'poe', 'poeira', 'poem', 'poemav', 'poemos', 'poeno', 'poer', 'poera', 'poerao', 'poerem', 'poeria', 'poeriam', 'poerosofiel', 'poerosoi', 'poeta', 'poha', 'pohak', 'poia', 'poiam', 'poiamos', 'pois', 'poja', 'pokemon', 'polici', 'policia', 'policiais', 'policial', 'policiamento', 'policias', 'policlinica', 'poliguinaste', 'polis', 'politica', 'politico', 'politicos', 'poltrona', 'polyana', 'pombo', 'pomha', 'ponho', 'ponta', 'ponte', 'pontinhos', 'ponto', 'pontos', 'poorq', 'poou', 'populacao', 'popular', 'populares', 'popularizacao', 'popularizavam', 'por', 'porcao', 'porcaria', 'porcentos', 'porcos', 'pore', 'porem', 'porfavor', 'porno', 'pornografia', 'porq', 'porque', 'porr', 'porra', 'porta', 'portagrato', 'portanto', 'portao', 'portaria', 'portas', 'porte', 'portela', 'porto', 'portos', 'portugues', 'pos', 'poser', 'posicao', 'posicaoo', 'posicionamento', 'positivo', 'positivosd', 'poso', 'possa', 'possam', 'possamos', 'posse', 'possibiliae', 'possibilitavam', 'possibilitou', 'possiivel', 'possivel', 'posso', 'possuir', 'postano', 'poste', 'postei', 'posteriormente', 'posto', 'postos', 'postou', 'potavel', 'pouca', 'poucas', 'pouco', 'poucoalem', 'poucocolocaram', 'poucos', 'poupa', 'pouquinho', 'povo', 'pow', 'poww', 'ppf', 'ppk', 'pprt', 'pq', 'pqp', 'pra', 'praca', 'pracas', 'pracinha', 'pragas', 'prai', 'praia', 'prainha', 'prame', 'prancha', 'prara', 'pras', 'prata', 'pratasele', 'pratica', 'praticamente', 'praticao', 'pratto', 'prazer', 'prazeres', 'prazo', 'preas', 'precaria', 'precarias', 'precaucoes', 'preciios', 'precisa', 'precisam', 'precisamente', 'precisamos', 'precisando', 'precisano', 'precisar', 'precisaram', 'precisarem', 'precisava', 'precisavam', 'precisem', 'preciso', 'preco', 'precos', 'preenchimento', 'prefeitinho', 'prefeito', 'prefeitos', 'prefeitura', 'prefeituramenteescaraamentehtmlm', 'prefere', 'preferencia', 'preferencialmente', 'prefiiro', 'prefiro', 'pregas', 'pregeitura', 'preio', 'preios', 'prejuica', 'prejuicano', 'prejuicar', 'prejuizo', 'premeiro', 'premiaa', 'premio', 'prenao', 'preocupaa', 'preocupacoes', 'preocupaos', 'preocupar', 'preocupe', 'prepara', 'preparaas', 'preparam', 'preparano', 'preparese', 'pres', 'presa', 'presenca', 'presenciar', 'presencie', 'presenciei', 'presente', 'presenteando', 'presentes', 'presenviei', 'preservar', 'presesamos', 'presienta', 'presiente', 'presiio', 'presisa', 'presisano', 'presizo', 'preso', 'presos', 'pressao', 'pressisa', 'prest', 'presta', 'prestacao', 'prestar', 'prestaram', 'preste', 'prestes', 'presteza', 'preta', 'pretenemos', 'preteniam', 'pretin', 'preto', 'prevencao', 'prevenino', 'prevenir', 'previo', 'previsao', 'prevista', 'pricila', 'priima', 'prima', 'primas', 'primeira', 'primeiro', 'primeiros', 'primero', 'primo', 'principais', 'principal', 'principalmente', 'principio', 'principios', 'print', 'prioridade', 'prisao', 'privaa', 'privar', 'privilegiano', 'privilegio', 'prix', 'pro', 'problema', 'problemas', 'proc', 'proceencia', 'proceente', 'proceer', 'proceimento', 'proceimentos', 'processa', 'processo', 'processos', 'processou', 'procura', 'procurao', 'procurar', 'procure', 'proeja', 'prof', 'professor', 'professora', 'professores', 'profissao', 'profissionais', 'profissional', 'profissionalizar', 'progama', 'programa', 'programacao', 'programae', 'progressiva', 'proibia', 'proibiao', 'proibio', 'proima', 'proimiaes', 'proimo', 'proimos', 'projeto', 'projetos', 'promeira', 'promessa', 'promessas', 'promete', 'prometeu', 'prometia', 'prometo', 'promocao', 'promorar', 'promovendo', 'pronatec', 'pronta', 'pronto', 'prontos', 'pronunciar', 'pronunciarnao', 'propagana', 'propina', 'proporcionar', 'proposta', 'propria', 'proprias', 'proprieae', 'proprietaria', 'proprietario', 'proprio', 'proprios', 'pros', 'prostituino', 'protecao', 'protegem', 'protegio', 'protegios', 'proteja', 'protesto', 'protestos', 'protocolo', 'proucao', 'proucaos', 'prouto', 'proutos', 'prouza', 'prouzem', 'prova', 'provas', 'provavel', 'proviencia', 'proviencias', 'provimento', 'proxima', 'ps2', 'ps4', 'pseh', 'psi', 'psicologica', 'psicotecnico', 'ptecisamos', 'ptima', 'ptqp', 'puar', 'publica', 'publicaa', 'publicad', 'publicao', 'publicar', 'publicas', 'publiciae', 'publico', 'pucha', 'pue', 'puer', 'puerem', 'puesse', 'puessem', 'pular', 'pulei', 'pum', 'punheta', 'punhetas', 'punionao', 'pura', 'puro', 'pus', 'puta', 'putaria', 'putas', 'putero', 'putinha', 'puto', 'puts', 'putz', 'pww', 'qem', 'qno', 'qnt', 'qnts', 'qro', 'qua', 'quaal', 'quais', 'quaisquer', 'qual', 'qualquer', 'quando', 'quano', 'quantiae', 'quantiaes', 'quanto', 'quantos', 'quao', 'quara', 'quarilha', 'quarinha', 'quaro', 'quarta', 'quartafeira', 'quartel', 'quarto', 'quase', 'quatro', 'que', 'quea', 'quebra', 'quebraa', 'quebramolas', 'quebrano', 'quebrao', 'quebraos', 'quebraquebra', 'quebrar', 'quebrou', 'queias', 'queijim', 'queimaa', 'queimano', 'queimao', 'queimaos', 'queimaosestraa', 'queimar', 'queira', 'quela', 'quem', 'quente', 'queo', 'quer', 'querem', 'queremeu', 'queremos', 'quereno', 'querer', 'queria', 'queriamos', 'querio', 'quero', 'queromos', 'questao', 'questionam', 'questionamos', 'quete', 'qui', 'quietinho', 'quieto', 'quii', 'quimica', 'quimioterapia', 'quinta', 'quintafeira', 'quintal', 'quintas', 'quintino', 'quinze', 'quis', 'quiser', 'quiserem', 'quitar', 'quiteria', 'quitite', 'quiucha', 'quizer', 'quot', 'quot236pocoyospuppletshowteatroemarionetas', 'quot7', 'quota', 'quotartistas', 'quotcabesa', 'quotcoisa', 'quotcrack', 'quotcrianca', 'quote', 'quotensinar', 'quotesastres', 'quotestaciona', 'quoteu', 'quotfabrica', 'quotfator', 'quotfeliz', 'quotgiihzinharocha123', 'quothoje', 'quotia', 'quotimenso', 'quotjuan', 'quotjulgar', 'quotlio', 'quotmane', 'quotmil', 'quotminimo', 'quotmirella', 'quotnem', 'quotno', 'quotnosso', 'quotnovo', 'quoto', 'quotoi', 'quotoiie', 'quotou', 'quotpai', 'quotpara', 'quotperto', 'quotpolicia', 'quotpor', 'quotpraca', 'quotque', 'quotqueimar', 'quotquerio', 'quotquero', 'quotse', 'quotsentimento', 'quotsou', 'quotsucesso', 'quotthalles', 'quotto', 'quotvenese', 'quotvida', 'quuer', 'qye', 'raafa', 'raafiinhaa', 'raar', 'raares', 'rabo', 'rachao', 'rachas', 'rachei', 'rachel', 'racionais', 'racismo', 'rafa', 'rafael', 'rafaela', 'raiane', 'railson', 'rainha', 'raio', 'raiofonica', 'raiofrequencia', 'raissa', 'raiva', 'rajaas', 'raktic', 'rala', 'ralo', 'ramal', 'ramiro', 'ramon', 'ramos', 'rampa', 'raony', 'rapa', 'rapais', 'rapaiz', 'rapariga', 'rapaz', 'rapazes', 'rapaziaa', 'rapeise', 'raphael', 'rapia', 'rapiamente', 'rapiinha', 'rapio', 'raquel', 'raramente', 'rarao', 'raras', 'rarra', 'raruama', 'raspao', 'ratazanas', 'rateio', 'rato', 'ratobaratas', 'ratos', 'rayson', 'reabertura', 'reabra', 'reacao', 'reacoes', 'reagiu', 'reais', 'reaisna', 'reajustaos', 'reajuste', 'real', 'realengo', 'realiae', 'realista', 'realitys', 'realizaa', 'realizaageorge', 'realizaas', 'realizacao', 'realizamos', 'realizano', 'realizao', 'realizaos', 'realizar', 'realizaram', 'realizou', 'realmente', 'realty', 'rebanho', 'rebeca', 'reboca', 'rec', 'recanto', 'recantos', 'recao', 'recarga', 'receba', 'recebe', 'recebem', 'recebemos', 'recebendo', 'recebeno', 'receber', 'recebera', 'receberam', 'receberamvamos', 'recebermos', 'recebeu', 'recebi', 'recebiam', 'recebio', 'recebios', 'recebo', 'recente', 'recentemente', 'recibo', 'reciclagem', 'reciclavel', 'reclamacao', 'reclamacoes', 'reclamamos', 'reclamano', 'reclamao', 'reclamar', 'reclame', 'reclamos', 'reco', 'recolher', 'recolhimento', 'recolhios', 'recomece', 'recomenao', 'recompensa', 'reconheceu', 'recontratacao', 'recontrataos', 'recor', 'recore', 'recorreno', 'recorrentes', 'recorrer', 'recreacao', 'recreio', 'recuperarem', 'recurso', 'rede', 'ree', 'reencaminhamos', 'reencontro', 'reentor', 'reenvialo', 'reenviar', 'reenvie', 'rees', 'reeviamos', 'ref', 'refeicao', 'refens', 'referente', 'referia', 'referio', 'refinaria', 'refleao', 'refletino', 'reforma', 'reformar', 'refrigerante', 'regaas', 'regiao', 'regime', 'regina', 'regional', 'registraas', 'registrano', 'registrao', 'registrar', 'regras', 'regulao', 'regulatorio', 'reias', 'reigir', 'reino', 'reis', 'reiteraamente', 'reiterraas', 'reitor', 'reitoria', 'reivineicano', 'reivinica', 'rejeitar', 'relacao', 'relacionamento', 'relatano', 'relatar', 'relataram', 'relatos', 'relatou', 'remeiar', 'remeio', 'remete', 'remocao', 'remontaa', 'remotamente', 'removeno', 'remover', 'removeu', 'remuneraa', 'rena', 'renal', 'renan', 'renaor', 'renasca', 'renatinho', 'renato', 'rene', 'renegao', 'rennan', 'renomaa', 'renomao', 'renova', 'renovaa', 'renovacao', 'renovam', 'rente', 'reonarj', 'reor', 'repara', 'reparacao', 'repare', 'reparem', 'reparo', 'repartir', 'repase', 'repassa', 'repassaa', 'repassando', 'repassano', 'repassao', 'repassar', 'repasse', 'repassem', 'repasses', 'repassou', 'repercutira', 'repetir', 'repetird', 'repita', 'repleto', 'reportagem', 'reportagens', 'reporter', 'reposicao', 'repostas', 'represalia', 'represalias', 'representa', 'representao', 'repressao', 'repri', 'reprimir', 'reprisaa', 'reprovao', 'republica', 'requerer', 'rere', 'rescisao', 'resene', 'resenha', 'reserva', 'resevatoro', 'resfriaa', 'resfriao', 'resi', 'resie', 'resiencia', 'resiencias', 'resiente', 'resistente', 'resistir', 'resistiu', 'resistro', 'resiuos', 'resolucao', 'resolva', 'resolver', 'resolveram', 'resolvermos', 'resolvi', 'respectivamente', 'respeitam', 'respeitar', 'respeito', 'respeitou', 'respirar', 'respire', 'respober', 'responam', 'respone', 'responece', 'responem', 'responeno', 'responer', 'responeram', 'responerem', 'responeu', 'responi', 'responsabiliae', 'responsabiliaes', 'responsaveis', 'responsavel', 'resposta', 'respostacomo', 'respostas', 'ressaca', 'ressarcir', 'restabeleceu', 'restante', 'restauraa', 'restaurante', 'restaurantes', 'resto', 'restricao', 'restringira', 'restrito', 'resultao', 'resultaos', 'resumino', 'resumir', 'resumo', 'resustente', 'ret', 'reta', 'retaeiste', 'retiraa', 'retiraad', 'retirano', 'retirar', 'retiraram', 'retirarao', 'retiro', 'reto', 'retornano', 'retornar', 'retorno', 'retrato', 'retratu', 'reu', 'reucao', 'reunem', 'reuniao', 'reunios', 'reuniu', 'reusios', 'reuzino', 'reuziu', 'revelaa', 'revelao', 'revelar', 'reverencio', 'reviram', 'revolta', 'revoltaas', 'revoltao', 'revoltaos', 'revoltou', 'revolucionando', 'revolver', 'rhayssa', 'ria', 'riacha', 'riachos', 'ribeirao', 'ribeiro', 'ribeiroooo', 'ric', 'ricao', 'ricaro', 'ricaroe', 'richar', 'rico', 'ricos', 'riino', 'rikinha', 'rim', 'rimos', 'rino', 'rins', 'rio', 'rionao', 'rip', 'riqueza', 'rir', 'ririririri', 'risaa', 'risaas', 'risco', 'riscos', 'risos', 'rita', 'rival', 'riviera', 'rjassisto', 'rjem', 'rjtv', 'rle', 'roaa', 'roam', 'roano', 'roar', 'roaram', 'roas', 'roberio', 'roberta', 'robertinho', 'roberto', 'robson', 'roca', 'rocha', 'rochinha', 'rocinha', 'rocinhavictor', 'rock', 'rodoviario', 'roeaos', 'roga', 'rogano', 'rogaoficano', 'rogas', 'rogel', 'rogelio', 'rogerio', 'roh', 'rola', 'rolamentos', 'rolano', 'rolante', 'rolantes', 'rolas', 'role', 'roleta', 'roletas', 'rolezinhos', 'rolo', 'romantico', 'romantismo', 'rombo', 'romero', 'rompeu', 'rompia', 'rona', 'ronal', 'ronalinho', 'ronalo', 'ronano', 'ronon', 'roo', 'roos', 'roovia', 'rooviaria', 'rooviario', 'ropa', 'rorigo', 'rorigues', 'rosa', 'rosado', 'rosana', 'rosao', 'rosariouque', 'rosas', 'rose', 'rostinho', 'rosto', 'rotineiro', 'rouba', 'roubaa', 'roubando', 'roubano', 'roubao', 'roubaos', 'roubar', 'roubaram', 'roubavam', 'roubo', 'roubos', 'roubou', 'roupa', 'roupas', 'rozeno', 'rpereira', 'rs', 'rsrs', 'rsrsrsrs', 'rss', 'rsss', 'rsssr', 'rua', 'ruado', 'ruafizeram', 'ruan', 'ruas', 'rubens', 'rui', 'ruim', 'ruimd', 'ruins', 'ruizao', 'rumo', 'rumont', 'rumos', 'rurais', 'russel', 'ryan', 'saaaaapaaaa', 'saara', 'sab', 'sabao', 'sabaos', 'sabaouma', 'sabe', 'sabem', 'sabemls', 'sabemos', 'sabeno', 'saber', 'sabia', 'sabio', 'sabiono', 'saca', 'sacanagem', 'sacanas', 'sacerocio', 'sacerotal', 'saco', 'saem', 'saens', 'safaeza', 'safao', 'safaos', 'sagraa', 'sagrao', 'sai', 'saia', 'saiae', 'saiba', 'saii', 'saimos', 'saino', 'saio', 'saionara', 'sair', 'sairam', 'sairem', 'saiu', 'sal', 'sala', 'salaam', 'salanha', 'salario', 'salarios', 'salas', 'sales', 'salgao', 'salgueiro', 'salmo', 'salo', 'saltaram', 'salto', 'salva', 'salvar', 'salvatagem', 'salve', 'salvo', 'salvou', 'samagrela', 'samara', 'samarone', 'samba', 'samir', 'sampa', 'sampaio', 'samu', 'san', 'saneamento', 'sangue', 'saninho', 'sanra', 'sanro', 'santa', 'santana', 'santiago', 'santificao', 'santinhos', 'santissimo', 'santo', 'santos', 'sanuiches', 'sao', 'sape', 'sapo', 'saporra', 'saquarema', 'sara', 'saracuruna', 'sarah', 'sarinha', 'satanas', 'satisfacao', 'sauae', 'sauaes', 'sauavel', 'saude', 'saue', 'sauoso', 'sauva', 'savio', 'sazonaliae', 'sberma', 'sbt', 'schei', 'se', 'sebo', 'sec', 'seca', 'secao', 'seciliano', 'secrecao', 'secreta', 'secretaria', 'secretario', 'seculo', 'sedan', 'sedex', 'see', 'sefala', 'seg', 'segreiinho', 'segreo', 'segue', 'seguia', 'seguilo', 'seguimento', 'seguimentos', 'seguinte', 'seguiores', 'seguir', 'seguiram', 'seguna', 'segunafeira', 'segunda', 'seguno', 'segunos', 'seguor', 'segura', 'seguranca', 'segurancaarea', 'segurancas', 'segurar', 'seguro', 'seguroele', 'seguros', 'sei', 'seila', 'seja', 'selecao', 'seletistas', 'seletiva', 'seletivo', 'selinho', 'sem', 'semana', 'semanajarim', 'semanas', 'semestre', 'sempre', 'sen', 'sena', 'senador', 'senao', 'senaor', 'senaores', 'senas', 'sendo', 'senha', 'senhas', 'senhor', 'senhora', 'senhores', 'senna', 'seno', 'sensibilizao', 'sensibilizaram', 'senso', 'sent', 'senta', 'sentaas', 'sente', 'sentenciao', 'senti', 'sentia', 'sentimentos', 'sentimos', 'sentino', 'sentio', 'sentir', 'seo', 'seoo', 'seop', 'separao', 'separar', 'sepetibaja', 'sepse', 'sequer', 'sequestram', 'sequestrano', 'sequestraores', 'sequestraram', 'sequestro', 'sequestros', 'ser', 'sera', 'seras', 'serem', 'seres', 'serginho', 'sergio', 'sergipe', 'seria', 'seriaos', 'seriapossivel', 'serie', 'serin', 'serio', 'serioo', 'sermos', 'seropedica', 'seropeica', 'serra', 'serrana', 'serrinha', 'serve', 'servia', 'services', 'servico', 'servicos', 'servino', 'serviores', 'servir', 'serviram', 'serviu', 'sesi', 'sessao', 'sessoes', 'seta', 'setafeira', 'setasfeiras', 'sete', 'setembro', 'seto', 'setor', 'setores', 'seu', 'seual', 'seus', 'sexta', 'sgt', 'shaa', 'shangri', 'shazam', 'shirley', 'shoow', 'shoping', 'shopping', 'short', 'show', 'shows', 'shui', 'sicronizaos', 'sie', 'siga', 'sigilo', 'sigiram', 'significa', 'significao', 'significativo', 'sigo', 'siiiiim', 'sil', 'silenafila', 'silva', 'silvana', 'silveira', 'silvia', 'silvio', 'sim', 'sima', 'simbolo', 'similares', 'simone', 'simpatica', 'simples', 'simpliciae', 'simulacro', 'sin', 'sinais', 'sinal', 'sinalizaa', 'sinalizacao', 'sinalizaor', 'sincero', 'sinhor', 'sinicato', 'sinicatos', 'sinifortecom', 'sininho', 'sinistra', 'sinistro', 'sintoma', 'sintomas', 'sio', 'siqueira', 'sistema', 'sistemas', 'site', 'sitio', 'situaa', 'situacao', 'situacoes', 'situcao', 'siva', 'skate', 'skin', 'skol', 'sky', 'sla', 'slc', 'slguem', 'slk', 'smartphone', 'smartphones', 'sme', 'smp', 'sms', 'smtr', 'smyth', 'soares', 'sob', 'sobe', 'sobem', 'soboto', 'sobrancelhas', 'sobrano', 'sobrar', 'sobrava', 'sobre', 'sobree', 'sobrenome', 'sobrevivencia', 'sobrevoano', 'socbrase', 'soci', 'sociais', 'social', 'socieae', 'socieaes', 'societario', 'socio', 'socios', 'socoro', 'socorrer', 'socorrio', 'socorro', 'socorroooooo', 'sofa', 'sofenu', 'sofia', 'sofre', 'sofrem', 'sofremos', 'sofreno', 'sofrer', 'sofreu', 'sofrimento', 'sofriu', 'soh', 'sol', 'sola', 'solei', 'soliao', 'soliarizou', 'solicitaa', 'solicitaas', 'solicitacao', 'solicitacoes', 'solicitano', 'solicitar', 'solicito', 'solidario', 'solo', 'soltano', 'soltar', 'solteira', 'solteiraaaa', 'solteiro', 'solteiros', 'soltero', 'soltos', 'solucao', 'solucionar', 'som', 'somaas', 'somano', 'somar', 'sombra', 'somente', 'somos', 'sonha', 'sonhaor', 'sonho', 'sonhos', 'sonia', 'sono', 'sopao', 'sophia', 'soro', 'sorocaba', 'sorocabaesse', 'sorriso', 'sorte', 'sos', 'sositaipuacu', 'sossegao', 'sotomara', 'sou', 'soube', 'souber', 'sounclou', 'sousa', 'souza', 'sozin', 'sozinha', 'sozinho', 'speetest', 'sport', 'sqn', 'sra', 'sta', 'stark', 'stefania', 'steinmann', 'sua', 'suano', 'suas', 'suave', 'sub', 'subestacao', 'subia', 'subino', 'subir', 'subito', 'submetio', 'substancias', 'suburbio', 'sucesso', 'sucinto', 'suellen', 'suficiente', 'sufocar', 'sugerir', 'sugiro', 'suja', 'sujas', 'sujeira', 'sujeiraa', 'sujeiras', 'sujeitar', 'sujeito', 'sujeitou', 'sujiro', 'sujo', 'sujos', 'sul', 'sulacap', 'sumi', 'sumia', 'sumio', 'sumir', 'sumiram', 'sumiro', 'sumiu', 'sumiuu', 'super', 'supermercao', 'supermercaos', 'supervia', 'supervisao', 'supervisor', 'suplemento', 'suplica', 'suporta', 'suportar', 'suportava', 'suporte', 'supositorios', 'suposta', 'suposto', 'suprir', 'surf', 'surfista', 'surgimento', 'surgir', 'surgiu', 'suro', 'surpreener', 'surpreeneu', 'surpreenie', 'surpresa', 'suruba', 'sus', 'susana', 'susano', 'suspeita', 'suspeito', 'suspeitos', 'suspiro', 'sustentao', 'sustentar', 'sustento', 'susto', 'sutia', 'suzana', 'svee', 'taa', 'taas', 'tabajaras', 'tabelas', 'tabo', 'tabom', 'tabuleiro', 'taca', 'tacar', 'taciba', 'tai', 'taifeiro', 'tainho', 'tais', 'taista', 'taistas', 'tal', 'talento', 'talvez', 'tam', 'tamanha', 'tambem', 'tamojunto', 'tamos', 'tampou', 'tanbem', 'tanta', 'tantas', 'tanto', 'tantos', 'tao', 'tapei', 'taporra', 'taquara', 'taquem', 'taques', 'tare', 'tareesse', 'tareestou', 'tares', 'target', 'tarinha', 'tata', 'tate', 'tateno', 'tati', 'tatiana', 'tatiane', 'taty', 'tava', 'tavam', 'taxi', 'taxis', 'taxista', 'taxistas', 'tay', 'tb', 'tba', 'tbeim', 'tbem', 'tbm', 'tbmchega', 'tchau', 'tche', 'tchu', 'tds', 'tduuh', 'te', 'tebho', 'teclao', 'tecnico', 'tecnicos', 'tecnologia', 'tecnologias', 'tecnologica', 'tecnologico', 'tefinha', 'teieira', 'teio', 'tel', 'tele', 'telefona', 'telefone', 'telefones', 'telefonia', 'telefonica', 'telefonico', 'telefonistas', 'telefonou', 'telegrafos', 'telegramas', 'telejornal', 'teles', 'telespectaor', 'televisao', 'televisiva', 'televisoes', 'telha', 'telles', 'telo', 'tem', 'temmotivos', 'temo', 'temos', 'temperatura', 'tempestae', 'tempo', 'tempoa', 'tempopara', 'temporaa', 'tempp', 'tempu', 'temq', 'ten', 'tencao', 'tene', 'tenenciosa', 'tenente', 'tenho', 'tenho3', 'tenhocertezamais', 'tenhos', 'tenii', 'teno', 'tenonuma', 'tenque', 'tensao', 'tenso', 'tensoentraram', 'tenta', 'tentam', 'tentano', 'tentar', 'tentaram', 'tentarei', 'tentativa', 'tente', 'tentei', 'tentou', 'teo', 'teoria', 'teporas', 'ter', 'tera', 'terca', 'tercafeira', 'terceira', 'terceirizaos', 'terceiro', 'terceiros', 'terem', 'teresa', 'tereza', 'teriamos', 'termina', 'terminal', 'terminas', 'termine', 'termos', 'ternura', 'terra', 'terraco', 'terreno', 'terrenos', 'territorio', 'terrivel', 'tesoureiro', 'tesouros', 'testano', 'testao', 'teste', 'testemunha', 'testemunhachave', 'testemunho', 'teta', 'tetas', 'teto', 'tetos', 'teu', 'teve', 'thaisna', 'thata', 'thaty', 'thau', 'thauan', 'thay', 'thayana', 'thayane', 'the', 'theus', 'thiago', 'thimbau', 'thomas', 'tia', 'tiau', 'tibagi', 'tiete', 'tijuca', 'tim', 'timaia', 'time', 'times', 'timoteo', 'tinha', 'tinhaaaaa', 'tiniba', 'tinturas', 'tio', 'tipo', 'tira', 'tiraa', 'tiraas', 'tiraentesem', 'tiram', 'tiramos', 'tirano', 'tirao', 'tirar', 'tiraram', 'tire', 'tirei', 'tiro', 'tiros', 'tiroteio', 'tiroteios', 'tirou', 'tirroteio', 'tis', 'titica', 'tits', 'titular', 'titulo', 'tiu', 'tive', 'tivese', 'tlg', 'tmb', 'tmj', 'tmnc', 'tnc', 'tncu', 'to', 'toa', 'toas', 'toca', 'tocano', 'tocar', 'toco', 'tocou', 'toda', 'todas', 'todo', 'todos', 'toicas', 'toicologia', 'toin', 'tok', 'toleti', 'toma', 'tomaa', 'tomaas', 'tomado', 'tomamos', 'tomano', 'tomao', 'tomar', 'tomara', 'tomaram', 'tomariam', 'tomas', 'tomata', 'tomaz', 'tomazinho', 'tome', 'tomei', 'tomem', 'tomou', 'tonelaa', 'tony', 'too', 'tooa', 'toos', 'toosnao', 'toosstefania', 'top', 'topa', 'toparam', 'topp', 'toppppp', 'toque', 'torce', 'torcerei', 'torna', 'tornano', 'tornar', 'tornara', 'tornaram', 'tornarem', 'torno', 'tornou', 'torre', 'torta', 'torturano', 'tosas', 'toscano', 'total', 'totalmente', 'tou', 'touro', 'toyota', 'traar', 'trab', 'trabalha', 'trabalham', 'trabalhamos', 'trabalhano', 'trabalhaor', 'trabalhaores', 'trabalhar', 'trabalhava', 'trabalhei', 'trabalhista', 'trabalho', 'trabalhoe', 'trabalhos', 'trabalhoso', 'trabalhosqueria', 'trabalhou', 'trabslham', 'trafica', 'traficano', 'traficante', 'traficantes', 'trafico', 'traicao', 'trailer', 'traino', 'trajano', 'trajeto', 'trakina', 'trakinas', 'trancar', 'trank', 'tranq', 'tranquila', 'tranquilo', 'transar', 'transborano', 'transborar', 'transcarioca', 'transferencia', 'transferia', 'transferio', 'transitam', 'transitano', 'transito', 'transitod', 'translao', 'transmissao', 'transmita', 'transmitir', 'transoesteaciente', 'transpetro', 'transplantes', 'transportano', 'transporte', 'transportes', 'transporti', 'transpulmin', 'transtorno', 'transtornos', 'transuo', 'trapicheiro', 'traquinas', 'trarao', 'tras', 'traseiro', 'trasnferias', 'trata', 'tratamento', 'tratamos', 'tratano', 'trataos', 'trataremos', 'tratase', 'trauma', 'trav', 'trava', 'travano', 'travessa', 'travessia', 'travest', 'travestis', 'travo', 'traxx', 'traz', 'trazecssual', 'trazeno', 'trazer', 'trecho', 'trechos', 'treinamento', 'trel', 'trem', 'tremcampanha', 'tremeno', 'trens', 'tres', 'tretas', 'trevas', 'trevo', 'trez', 'trezentos', 'triagem', 'tribuna', 'tributario', 'tricollo', 'tricolor', 'trigo', 'trilho', 'trinae', 'trinta', 'triplice', 'trista', 'triste', 'troca', 'trocaor', 'trocar', 'trocas', 'troco', 'trocou', 'tropa', 'troue', 'trt', 'trucks', 'tsj', 'tua', 'tubarao', 'tubulacao', 'tudo', 'tufa', 'tuiti', 'tumores', 'tunel', 'tunes', 'tuo', 'tuos', 'turco', 'turin', 'turistico', 'turma', 'turno', 'tuu', 'tvpor', 'tweet', 'twitter', 'tycia', 'tzv', 'uas', 'uba', 'uber', 'ubiracy', 'ubirajara', 'ubirubas', 'uenu', 'uerj', 'ufa', 'ufaa', 'ufrj', 'ugo', 'uhum', 'uii', 'uiiii', 'uirauna', 'uis', 'ulli', 'ultar', 'ultima', 'ultimamente', 'ultimas', 'ultimo', 'ultrapassar', 'uma', 'umas', 'umeecios', 'umhm', 'umpa', 'ums', 'uniae', 'uniao', 'unica', 'unico', 'unidos', 'unificacao', 'unificano', 'uniforme', 'uninacomo', 'unios', 'universiae', 'universitario', 'universu', 'uno', 'uns', 'uop', 'uou', 'upa', 'upanema', 'upanemad', 'upla', 'upp', 'uque', 'ura', 'urante', 'urbana', 'urbanas', 'urbano', 'urber', 'urgencia', 'urgente', 'urgentemente', 'urinha', 'urinho', 'urinhos', 'urmi', 'urmir', 'urmo', 'uro', 'urubu', 'urubus', 'uruguai', 'uruguaios', 'usa', 'usaas', 'usam', 'usano', 'usao', 'usar', 'usarei', 'use', 'uso', 'usp', 'usua', 'usuario', 'usuarios', 'utero', 'util', 'utilidade', 'utiliza', 'utilizaas', 'utilizacao', 'utilizao', 'utilizar', 'uto', 'utos', 'utra', 'uvia', 'uvio', 'uviosa', 'uwua', 'vabh3lccppy', 'vaca', 'vacina', 'vacinacao', 'vaco', 'vacue', 'vacuo', 'vaga', 'vagabuno', 'vagao', 'vagas', 'vai', 'vaia', 'vaii', 'vaja', 'vala', 'valao', 'valariosa', 'valas', 'vale', 'valem', 'valemir', 'valendo', 'valeno', 'valente', 'valeria', 'valetaro', 'valeu', 'valiae', 'valir', 'valivia', 'valor', 'valores', 'valorisa', 'valorize', 'valqueire', 'valvere', 'vam', 'vamo', 'vamos', 'vampira', 'vamps', 'van', 'vanalismo', 'vaninha', 'vanja', 'vans', 'vantagem', 'vantagens', 'vao', 'vaquito', 'vara', 'varana', 'varanaincrivel', 'varejo', 'vargas', 'vargem', 'varias', 'varios', 'varreno', 'vasamento', 'vasco', 'vaso', 'vassalo', 'vaz', 'vaza', 'vazamento', 'vazano', 'vazio', 'vazios', 'vazou', 'vc', 'vco', 'vcpasse', 'vcs', 'vcsobrigao', 'vcss', 'vcssou', 'vcstoa', 'veem', 'vei', 'veiculo', 'veiculod', 'veiculos', 'veiculou', 'veiga', 'veii', 'veio', 'veja', 'vejam', 'vejamos', 'vejo', 'vela', 'velas', 'veleu', 'velha', 'velhice', 'velho', 'velociae', 'vem', 'vemos', 'vena', 'venaval', 'venca', 'vence', 'vencer', 'venceremos', 'vencia', 'vencias', 'vencimentod', 'vencio', 'vendeu', 'vene', 'venem', 'veneno', 'vener', 'venese', 'venha', 'venham', 'venho', 'venio', 'veno', 'ventilaores', 'vento', 'ventre', 'ver', 'vera', 'veraciae', 'verae', 'veraeira', 'veraeiramente', 'veraeiras', 'veraeiro', 'veraes', 'verai', 'verba', 'verbas', 'verdade', 'vere', 'vereaores', 'verem', 'vergonha', 'vergueiro', 'verificar', 'verificaram', 'verifiquem', 'veriiana', 'veriica', 'veriico', 'vermelha', 'vermelho', 'verneck', 'veronica', 'versao', 'versiculo', 'vesga', 'vestimos', 'vestio', 'vestir', 'vetao', 'vez', 'vezes', 'vfazeno', 'via', 'viaage', 'viaagem', 'viaao', 'viacao', 'viad', 'viagem', 'viagra', 'viaja', 'viajano', 'vial', 'viana', 'viao', 'viap', 'vias', 'viatura', 'viauto', 'vibe', 'vic', 'vicente', 'vicou', 'victor', 'vida', 'vidal', 'videos', 'vie', 'vieerraoblogspotcombr', 'vieira', 'viemos', 'vieo', 'vieopor', 'vieos', 'vier', 'vieram', 'vierem', 'viero', 'vigario', 'vigia', 'vigilantes', 'viiii', 'viio', 'vila', 'vilar', 'vilhena', 'village', 'vim', 'vimercati', 'vina', 'vinaobrigaa', 'vinas', 'vinculaa', 'vinculaas', 'vinculo', 'ving', 'vingaores', 'vingt', 'vinha', 'vini', 'vinicius', 'vinny', 'vino', 'vinte', 'violao', 'violeiro', 'violencia', 'violento', 'violentopeco', 'vir', 'vira', 'virano', 'virar', 'virgem', 'virgiaoo', 'viro', 'viros', 'virou', 'visa', 'visano', 'visao', 'viscone', 'visicula', 'visita', 'visitaram', 'visitaro', 'visivel', 'vissemos', 'vista', 'vistase', 'visto', 'vistoria', 'visualiza', 'visualizar', 'visualizaram', 'visualizarem', 'visualize', 'visualizem', 'vital', 'vitima', 'vitimas', 'vitoria', 'viu', 'viva', 'vive', 'vivemos', 'viveno', 'viver', 'vivia', 'vivo', 'vizinha', 'vizinhas', 'vizinho', 'vizinhos', 'vle', 'vllw', 'vlw', 'vmo', 'voaor', 'voaora', 'vocacionao', 'voce', 'voces', 'vocese', 'vocespor', 'voes', 'voliteral', 'volta', 'voltaa', 'voltae', 'voltam', 'voltamos', 'voltano', 'voltaos', 'voltar', 'voltaram', 'voltaria', 'voltei', 'volto', 'voltou', 'vomitano', 'vontae', 'voo', 'vooooltei', 'voooolteii', 'voses', 'vosso', 'votar', 'votos', 'vou', 'vouchers', 'voves', 'voz', 'vozes', 'vozinha', 'vozinhaaa', 'vsf', 'vshgs', 'vsu', 'vtmnc', 'vtnc', 'vuce', 'vucovuco', 'vugue', 'vwhw', 'vzs', 'wagner', 'wallace', 'walter', 'wamam', 'wanerley', 'wanessa', 'warahmatu', 'washington', 'watch', 'wathsapp', 'web', 'wellington', 'wenel', 'west', 'what', 'whats', 'whatsapp', 'whatsbook', 'whatssap', 'which', 'wifi', 'wiil', 'wil', 'wiliam', 'will', 'wlu', 'wooooooooow', 'wooooooow', 'woooooow', 'woshington', 'wpp', 'wwwmanualomotociclistacom', 'wwwnewtoplifecombr', 'xavier', 'xerem', 'xonei', 'xua', 'xxi', 'xxiii', 'yamaha', 'yasuo', 'yeah', 'yeaj', 'yeeesss', 'yes', 'ygor', 'you', 'youtube', 'yuri', 'zanchetta', 'zanker', 'zap', 'zeeclara', 'zenilson', 'zero', 'zica', 'zoa', 'zoano', 'zoao', 'zona', 'zoologico', 'zorra', 'zuao', 'zueira']\n"
     ]
    }
   ],
   "source": [
    "X_tfidf = feature_extraction.fit_transform(spam_ham['text_norm'])\n",
    "print(X_tfidf.shape)\n",
    "print(feature_extraction.get_feature_names())"
   ]
  },
  {
   "cell_type": "markdown",
   "metadata": {},
   "source": [
    "## Aplicando os modelos"
   ]
  },
  {
   "cell_type": "markdown",
   "metadata": {},
   "source": [
    "Separando o Dataset em treino e teste"
   ]
  },
  {
   "cell_type": "code",
   "execution_count": 18,
   "metadata": {},
   "outputs": [],
   "source": [
    "X=spam_ham[['Message', 'Message_len', 'punct%']]\n",
    "y=spam_ham['SPAM']\n",
    "\n",
    "X_train, X_test, y_train, y_test = train_test_split(X,y, test_size=0.3, random_state=42, stratify=y)"
   ]
  },
  {
   "cell_type": "code",
   "execution_count": 19,
   "metadata": {},
   "outputs": [
    {
     "data": {
      "text/html": [
       "<div>\n",
       "<style scoped>\n",
       "    .dataframe tbody tr th:only-of-type {\n",
       "        vertical-align: middle;\n",
       "    }\n",
       "\n",
       "    .dataframe tbody tr th {\n",
       "        vertical-align: top;\n",
       "    }\n",
       "\n",
       "    .dataframe thead th {\n",
       "        text-align: right;\n",
       "    }\n",
       "</style>\n",
       "<table border=\"1\" class=\"dataframe\">\n",
       "  <thead>\n",
       "    <tr style=\"text-align: right;\">\n",
       "      <th></th>\n",
       "      <th>Message_len</th>\n",
       "      <th>punct%</th>\n",
       "      <th>0</th>\n",
       "      <th>1</th>\n",
       "      <th>2</th>\n",
       "      <th>3</th>\n",
       "      <th>4</th>\n",
       "      <th>5</th>\n",
       "      <th>6</th>\n",
       "      <th>7</th>\n",
       "      <th>...</th>\n",
       "      <th>7757</th>\n",
       "      <th>7758</th>\n",
       "      <th>7759</th>\n",
       "      <th>7760</th>\n",
       "      <th>7761</th>\n",
       "      <th>7762</th>\n",
       "      <th>7763</th>\n",
       "      <th>7764</th>\n",
       "      <th>7765</th>\n",
       "      <th>7766</th>\n",
       "    </tr>\n",
       "  </thead>\n",
       "  <tbody>\n",
       "    <tr>\n",
       "      <th>0</th>\n",
       "      <td>100</td>\n",
       "      <td>4.0</td>\n",
       "      <td>0.0</td>\n",
       "      <td>0.0</td>\n",
       "      <td>0.0</td>\n",
       "      <td>0.0</td>\n",
       "      <td>0.0</td>\n",
       "      <td>0.0</td>\n",
       "      <td>0.0</td>\n",
       "      <td>0.0</td>\n",
       "      <td>...</td>\n",
       "      <td>0.0</td>\n",
       "      <td>0.0</td>\n",
       "      <td>0.0</td>\n",
       "      <td>0.0</td>\n",
       "      <td>0.0</td>\n",
       "      <td>0.0</td>\n",
       "      <td>0.000000</td>\n",
       "      <td>0.0</td>\n",
       "      <td>0.0</td>\n",
       "      <td>0.0</td>\n",
       "    </tr>\n",
       "    <tr>\n",
       "      <th>1</th>\n",
       "      <td>45</td>\n",
       "      <td>0.0</td>\n",
       "      <td>0.0</td>\n",
       "      <td>0.0</td>\n",
       "      <td>0.0</td>\n",
       "      <td>0.0</td>\n",
       "      <td>0.0</td>\n",
       "      <td>0.0</td>\n",
       "      <td>0.0</td>\n",
       "      <td>0.0</td>\n",
       "      <td>...</td>\n",
       "      <td>0.0</td>\n",
       "      <td>0.0</td>\n",
       "      <td>0.0</td>\n",
       "      <td>0.0</td>\n",
       "      <td>0.0</td>\n",
       "      <td>0.0</td>\n",
       "      <td>0.000000</td>\n",
       "      <td>0.0</td>\n",
       "      <td>0.0</td>\n",
       "      <td>0.0</td>\n",
       "    </tr>\n",
       "    <tr>\n",
       "      <th>2</th>\n",
       "      <td>41</td>\n",
       "      <td>0.0</td>\n",
       "      <td>0.0</td>\n",
       "      <td>0.0</td>\n",
       "      <td>0.0</td>\n",
       "      <td>0.0</td>\n",
       "      <td>0.0</td>\n",
       "      <td>0.0</td>\n",
       "      <td>0.0</td>\n",
       "      <td>0.0</td>\n",
       "      <td>...</td>\n",
       "      <td>0.0</td>\n",
       "      <td>0.0</td>\n",
       "      <td>0.0</td>\n",
       "      <td>0.0</td>\n",
       "      <td>0.0</td>\n",
       "      <td>0.0</td>\n",
       "      <td>0.000000</td>\n",
       "      <td>0.0</td>\n",
       "      <td>0.0</td>\n",
       "      <td>0.0</td>\n",
       "    </tr>\n",
       "    <tr>\n",
       "      <th>3</th>\n",
       "      <td>107</td>\n",
       "      <td>9.3</td>\n",
       "      <td>0.0</td>\n",
       "      <td>0.0</td>\n",
       "      <td>0.0</td>\n",
       "      <td>0.0</td>\n",
       "      <td>0.0</td>\n",
       "      <td>0.0</td>\n",
       "      <td>0.0</td>\n",
       "      <td>0.0</td>\n",
       "      <td>...</td>\n",
       "      <td>0.0</td>\n",
       "      <td>0.0</td>\n",
       "      <td>0.0</td>\n",
       "      <td>0.0</td>\n",
       "      <td>0.0</td>\n",
       "      <td>0.0</td>\n",
       "      <td>0.000000</td>\n",
       "      <td>0.0</td>\n",
       "      <td>0.0</td>\n",
       "      <td>0.0</td>\n",
       "    </tr>\n",
       "    <tr>\n",
       "      <th>4</th>\n",
       "      <td>294</td>\n",
       "      <td>3.7</td>\n",
       "      <td>0.0</td>\n",
       "      <td>0.0</td>\n",
       "      <td>0.0</td>\n",
       "      <td>0.0</td>\n",
       "      <td>0.0</td>\n",
       "      <td>0.0</td>\n",
       "      <td>0.0</td>\n",
       "      <td>0.0</td>\n",
       "      <td>...</td>\n",
       "      <td>0.0</td>\n",
       "      <td>0.0</td>\n",
       "      <td>0.0</td>\n",
       "      <td>0.0</td>\n",
       "      <td>0.0</td>\n",
       "      <td>0.0</td>\n",
       "      <td>0.159563</td>\n",
       "      <td>0.0</td>\n",
       "      <td>0.0</td>\n",
       "      <td>0.0</td>\n",
       "    </tr>\n",
       "  </tbody>\n",
       "</table>\n",
       "<p>5 rows × 7769 columns</p>\n",
       "</div>"
      ],
      "text/plain": [
       "   Message_len  punct%    0    1    2    3    4    5    6    7  ...  7757  \\\n",
       "0          100     4.0  0.0  0.0  0.0  0.0  0.0  0.0  0.0  0.0  ...   0.0   \n",
       "1           45     0.0  0.0  0.0  0.0  0.0  0.0  0.0  0.0  0.0  ...   0.0   \n",
       "2           41     0.0  0.0  0.0  0.0  0.0  0.0  0.0  0.0  0.0  ...   0.0   \n",
       "3          107     9.3  0.0  0.0  0.0  0.0  0.0  0.0  0.0  0.0  ...   0.0   \n",
       "4          294     3.7  0.0  0.0  0.0  0.0  0.0  0.0  0.0  0.0  ...   0.0   \n",
       "\n",
       "   7758  7759  7760  7761  7762      7763  7764  7765  7766  \n",
       "0   0.0   0.0   0.0   0.0   0.0  0.000000   0.0   0.0   0.0  \n",
       "1   0.0   0.0   0.0   0.0   0.0  0.000000   0.0   0.0   0.0  \n",
       "2   0.0   0.0   0.0   0.0   0.0  0.000000   0.0   0.0   0.0  \n",
       "3   0.0   0.0   0.0   0.0   0.0  0.000000   0.0   0.0   0.0  \n",
       "4   0.0   0.0   0.0   0.0   0.0  0.159563   0.0   0.0   0.0  \n",
       "\n",
       "[5 rows x 7769 columns]"
      ]
     },
     "execution_count": 19,
     "metadata": {},
     "output_type": "execute_result"
    }
   ],
   "source": [
    "#feature_extraction = TfidfVectorizer(min_df=1, lowercase = 'True')\n",
    "\n",
    "feature_extraction_fit = feature_extraction.fit(X_train['Message']) #Message ou Message\n",
    "\n",
    "tfidf_train = feature_extraction_fit.transform(X_train['Message'])\n",
    "tfidf_test = feature_extraction_fit.transform(X_test['Message'])\n",
    "\n",
    "X_train_vect = pd.concat([X_train[['Message_len', 'punct%']].reset_index(drop=True), \n",
    "           pd.DataFrame(tfidf_train.toarray())], axis=1)\n",
    "X_test_vect = pd.concat([X_test[['Message_len', 'punct%']].reset_index(drop=True), \n",
    "           pd.DataFrame(tfidf_test.toarray())], axis=1)\n",
    "\n",
    "X_train_vect.head()"
   ]
  },
  {
   "cell_type": "markdown",
   "metadata": {},
   "source": [
    "Aplicação do modelos"
   ]
  },
  {
   "cell_type": "code",
   "execution_count": 20,
   "metadata": {},
   "outputs": [],
   "source": [
    "lr = LogisticRegression()\n",
    "nb = MultinomialNB()\n",
    "knc = KNeighborsClassifier()\n",
    "svc = SVC(gamma = 'auto')\n",
    "dtc = DecisionTreeClassifier()\n",
    "rfc = RandomForestClassifier(n_estimators=100)\n",
    "gbc = GradientBoostingClassifier()\n",
    "abc = AdaBoostClassifier()\n",
    "\n",
    "\n",
    "\n",
    "models = {'Logistic Regression':lr, 'Naive Bayes classifier':nb, 'k-nearest neighbors':knc, \n",
    "          'Support Vector Machine':svc, 'Decision Tree Classifier':dtc, \n",
    "          'Random Forest Classifier':rfc, 'Gradient Boosting Classifier':gbc, 'AdaBoost Classifier':abc}"
   ]
  },
  {
   "cell_type": "code",
   "execution_count": 21,
   "metadata": {},
   "outputs": [],
   "source": [
    "def eval_model(model):\n",
    "    \n",
    "    model.fit(X_train_vect, y_train)\n",
    "    y_pred = model.predict(X_test_vect)    \n",
    "    test_accuracy = accuracy_score(y_test, y_pred)   \n",
    "    return test_accuracy"
   ]
  },
  {
   "cell_type": "code",
   "execution_count": 124,
   "metadata": {},
   "outputs": [
    {
     "name": "stdout",
     "output_type": "stream",
     "text": [
      "Logistic Regression ---> Test accuracy - 83.83%\n",
      "Naive Bayes classifier ---> Test accuracy - 79.70%\n",
      "k-nearest neighbors ---> Test accuracy - 61.65%\n",
      "Support Vector Machine ---> Test accuracy - 66.17%\n",
      "Decision Tree Classifier ---> Test accuracy - 69.92%\n",
      "Random Forest Classifier ---> Test accuracy - 81.39%\n",
      "Gradient Boosting Classifier ---> Test accuracy - 79.14%\n",
      "AdaBoost Classifier ---> Test accuracy - 80.26%\n"
     ]
    }
   ],
   "source": [
    "test_accuracies = []\n",
    "\n",
    "for name, model in models.items():\n",
    "    test_acc = eval_model(model) \n",
    "    test_accuracies.append(test_acc)\n",
    "    print(f'{name} ---> Test accuracy - {test_acc*100:.2f}%')"
   ]
  },
  {
   "cell_type": "markdown",
   "metadata": {},
   "source": [
    "## Melhorando hiperparâmetros com Grid Search\n",
    "\n",
    "Visando aumentar o desempenho dos algoritmos, o Grid Search foi aplicado nos modelos com a acurácia mais elevada: Logistic Regression, Random Forest e Adaboost.\n",
    "\n",
    "Os hiperparâmetros controlam diretamente o comportamento do algoritmo de treinamento e têm um impacto significativo no desempenho do modelo que está sendo treinado. É uma técnica muito tradicional para implementar hiperparâmetros. Por meio de força bruta testa todas as combinações."
   ]
  },
  {
   "cell_type": "markdown",
   "metadata": {},
   "source": [
    "Grid search para Random Forest"
   ]
  },
  {
   "cell_type": "code",
   "execution_count": 192,
   "metadata": {},
   "outputs": [],
   "source": [
    "param_grid = { \n",
    "    'n_estimators': [200, 400, 600, 800, 1200],\n",
    "    'max_features': ['auto', 'sqrt', 'log2'],\n",
    "    'max_depth' : [4, 8, 16, 32, 64],\n",
    "    'criterion' :['gini', 'entropy']\n",
    "}"
   ]
  },
  {
   "cell_type": "code",
   "execution_count": 193,
   "metadata": {},
   "outputs": [
    {
     "data": {
      "text/html": [
       "<style>#sk-container-id-9 {color: black;background-color: white;}#sk-container-id-9 pre{padding: 0;}#sk-container-id-9 div.sk-toggleable {background-color: white;}#sk-container-id-9 label.sk-toggleable__label {cursor: pointer;display: block;width: 100%;margin-bottom: 0;padding: 0.3em;box-sizing: border-box;text-align: center;}#sk-container-id-9 label.sk-toggleable__label-arrow:before {content: \"▸\";float: left;margin-right: 0.25em;color: #696969;}#sk-container-id-9 label.sk-toggleable__label-arrow:hover:before {color: black;}#sk-container-id-9 div.sk-estimator:hover label.sk-toggleable__label-arrow:before {color: black;}#sk-container-id-9 div.sk-toggleable__content {max-height: 0;max-width: 0;overflow: hidden;text-align: left;background-color: #f0f8ff;}#sk-container-id-9 div.sk-toggleable__content pre {margin: 0.2em;color: black;border-radius: 0.25em;background-color: #f0f8ff;}#sk-container-id-9 input.sk-toggleable__control:checked~div.sk-toggleable__content {max-height: 200px;max-width: 100%;overflow: auto;}#sk-container-id-9 input.sk-toggleable__control:checked~label.sk-toggleable__label-arrow:before {content: \"▾\";}#sk-container-id-9 div.sk-estimator input.sk-toggleable__control:checked~label.sk-toggleable__label {background-color: #d4ebff;}#sk-container-id-9 div.sk-label input.sk-toggleable__control:checked~label.sk-toggleable__label {background-color: #d4ebff;}#sk-container-id-9 input.sk-hidden--visually {border: 0;clip: rect(1px 1px 1px 1px);clip: rect(1px, 1px, 1px, 1px);height: 1px;margin: -1px;overflow: hidden;padding: 0;position: absolute;width: 1px;}#sk-container-id-9 div.sk-estimator {font-family: monospace;background-color: #f0f8ff;border: 1px dotted black;border-radius: 0.25em;box-sizing: border-box;margin-bottom: 0.5em;}#sk-container-id-9 div.sk-estimator:hover {background-color: #d4ebff;}#sk-container-id-9 div.sk-parallel-item::after {content: \"\";width: 100%;border-bottom: 1px solid gray;flex-grow: 1;}#sk-container-id-9 div.sk-label:hover label.sk-toggleable__label {background-color: #d4ebff;}#sk-container-id-9 div.sk-serial::before {content: \"\";position: absolute;border-left: 1px solid gray;box-sizing: border-box;top: 0;bottom: 0;left: 50%;z-index: 0;}#sk-container-id-9 div.sk-serial {display: flex;flex-direction: column;align-items: center;background-color: white;padding-right: 0.2em;padding-left: 0.2em;position: relative;}#sk-container-id-9 div.sk-item {position: relative;z-index: 1;}#sk-container-id-9 div.sk-parallel {display: flex;align-items: stretch;justify-content: center;background-color: white;position: relative;}#sk-container-id-9 div.sk-item::before, #sk-container-id-9 div.sk-parallel-item::before {content: \"\";position: absolute;border-left: 1px solid gray;box-sizing: border-box;top: 0;bottom: 0;left: 50%;z-index: -1;}#sk-container-id-9 div.sk-parallel-item {display: flex;flex-direction: column;z-index: 1;position: relative;background-color: white;}#sk-container-id-9 div.sk-parallel-item:first-child::after {align-self: flex-end;width: 50%;}#sk-container-id-9 div.sk-parallel-item:last-child::after {align-self: flex-start;width: 50%;}#sk-container-id-9 div.sk-parallel-item:only-child::after {width: 0;}#sk-container-id-9 div.sk-dashed-wrapped {border: 1px dashed gray;margin: 0 0.4em 0.5em 0.4em;box-sizing: border-box;padding-bottom: 0.4em;background-color: white;}#sk-container-id-9 div.sk-label label {font-family: monospace;font-weight: bold;display: inline-block;line-height: 1.2em;}#sk-container-id-9 div.sk-label-container {text-align: center;}#sk-container-id-9 div.sk-container {/* jupyter's `normalize.less` sets `[hidden] { display: none; }` but bootstrap.min.css set `[hidden] { display: none !important; }` so we also need the `!important` here to be able to override the default hidden behavior on the sphinx rendered scikit-learn.org. See: https://github.com/scikit-learn/scikit-learn/issues/21755 */display: inline-block !important;position: relative;}#sk-container-id-9 div.sk-text-repr-fallback {display: none;}</style><div id=\"sk-container-id-9\" class=\"sk-top-container\"><div class=\"sk-text-repr-fallback\"><pre>GridSearchCV(cv=5, estimator=RandomForestClassifier(),\n",
       "             param_grid={&#x27;criterion&#x27;: [&#x27;gini&#x27;, &#x27;entropy&#x27;],\n",
       "                         &#x27;max_depth&#x27;: [4, 8, 16, 32, 64],\n",
       "                         &#x27;max_features&#x27;: [&#x27;auto&#x27;, &#x27;sqrt&#x27;, &#x27;log2&#x27;],\n",
       "                         &#x27;n_estimators&#x27;: [200, 400, 600, 800, 1200]})</pre><b>In a Jupyter environment, please rerun this cell to show the HTML representation or trust the notebook. <br />On GitHub, the HTML representation is unable to render, please try loading this page with nbviewer.org.</b></div><div class=\"sk-container\" hidden><div class=\"sk-item sk-dashed-wrapped\"><div class=\"sk-label-container\"><div class=\"sk-label sk-toggleable\"><input class=\"sk-toggleable__control sk-hidden--visually\" id=\"sk-estimator-id-23\" type=\"checkbox\" ><label for=\"sk-estimator-id-23\" class=\"sk-toggleable__label sk-toggleable__label-arrow\">GridSearchCV</label><div class=\"sk-toggleable__content\"><pre>GridSearchCV(cv=5, estimator=RandomForestClassifier(),\n",
       "             param_grid={&#x27;criterion&#x27;: [&#x27;gini&#x27;, &#x27;entropy&#x27;],\n",
       "                         &#x27;max_depth&#x27;: [4, 8, 16, 32, 64],\n",
       "                         &#x27;max_features&#x27;: [&#x27;auto&#x27;, &#x27;sqrt&#x27;, &#x27;log2&#x27;],\n",
       "                         &#x27;n_estimators&#x27;: [200, 400, 600, 800, 1200]})</pre></div></div></div><div class=\"sk-parallel\"><div class=\"sk-parallel-item\"><div class=\"sk-item\"><div class=\"sk-label-container\"><div class=\"sk-label sk-toggleable\"><input class=\"sk-toggleable__control sk-hidden--visually\" id=\"sk-estimator-id-24\" type=\"checkbox\" ><label for=\"sk-estimator-id-24\" class=\"sk-toggleable__label sk-toggleable__label-arrow\">estimator: RandomForestClassifier</label><div class=\"sk-toggleable__content\"><pre>RandomForestClassifier()</pre></div></div></div><div class=\"sk-serial\"><div class=\"sk-item\"><div class=\"sk-estimator sk-toggleable\"><input class=\"sk-toggleable__control sk-hidden--visually\" id=\"sk-estimator-id-25\" type=\"checkbox\" ><label for=\"sk-estimator-id-25\" class=\"sk-toggleable__label sk-toggleable__label-arrow\">RandomForestClassifier</label><div class=\"sk-toggleable__content\"><pre>RandomForestClassifier()</pre></div></div></div></div></div></div></div></div></div></div>"
      ],
      "text/plain": [
       "GridSearchCV(cv=5, estimator=RandomForestClassifier(),\n",
       "             param_grid={'criterion': ['gini', 'entropy'],\n",
       "                         'max_depth': [4, 8, 16, 32, 64],\n",
       "                         'max_features': ['auto', 'sqrt', 'log2'],\n",
       "                         'n_estimators': [200, 400, 600, 800, 1200]})"
      ]
     },
     "execution_count": 193,
     "metadata": {},
     "output_type": "execute_result"
    }
   ],
   "source": [
    "CV_rfc = GridSearchCV(estimator=rfc, param_grid=param_grid, cv= 5)\n",
    "CV_rfc.fit(tfidf_train, y_train)\n"
   ]
  },
  {
   "cell_type": "code",
   "execution_count": 194,
   "metadata": {},
   "outputs": [
    {
     "name": "stdout",
     "output_type": "stream",
     "text": [
      "{'criterion': 'entropy', 'max_depth': 64, 'max_features': 'auto', 'n_estimators': 800}\n",
      "RandomForestClassifier(criterion='entropy', max_depth=64, max_features='auto',\n",
      "                       n_estimators=800)\n",
      "0.838839227879259\n"
     ]
    }
   ],
   "source": [
    "print(CV_rfc.best_params_)\n",
    "print(CV_rfc.best_estimator_)\n",
    "print(CV_rfc.best_score_)"
   ]
  },
  {
   "cell_type": "markdown",
   "metadata": {},
   "source": [
    "GridSearch para Logistic Regression"
   ]
  },
  {
   "cell_type": "code",
   "execution_count": 24,
   "metadata": {},
   "outputs": [],
   "source": [
    "param_grid = {'C':[0.001,0.01,0.1,1,10, 100], \n",
    "                    'penalty':['none', 'l1', 'l2', 'elasticnet'],\n",
    "                    'solver' : ['newton-cg', 'lbfgs', 'liblinear']                   \n",
    "                  }"
   ]
  },
  {
   "cell_type": "code",
   "execution_count": 25,
   "metadata": {},
   "outputs": [],
   "source": [
    "CV_lr = GridSearchCV(estimator=lr, param_grid=param_grid, \\\n",
    "scoring='accuracy', cv=5, n_jobs=-1)"
   ]
  },
  {
   "cell_type": "code",
   "execution_count": 26,
   "metadata": {},
   "outputs": [
    {
     "data": {
      "text/html": [
       "<style>#sk-container-id-1 {color: black;background-color: white;}#sk-container-id-1 pre{padding: 0;}#sk-container-id-1 div.sk-toggleable {background-color: white;}#sk-container-id-1 label.sk-toggleable__label {cursor: pointer;display: block;width: 100%;margin-bottom: 0;padding: 0.3em;box-sizing: border-box;text-align: center;}#sk-container-id-1 label.sk-toggleable__label-arrow:before {content: \"▸\";float: left;margin-right: 0.25em;color: #696969;}#sk-container-id-1 label.sk-toggleable__label-arrow:hover:before {color: black;}#sk-container-id-1 div.sk-estimator:hover label.sk-toggleable__label-arrow:before {color: black;}#sk-container-id-1 div.sk-toggleable__content {max-height: 0;max-width: 0;overflow: hidden;text-align: left;background-color: #f0f8ff;}#sk-container-id-1 div.sk-toggleable__content pre {margin: 0.2em;color: black;border-radius: 0.25em;background-color: #f0f8ff;}#sk-container-id-1 input.sk-toggleable__control:checked~div.sk-toggleable__content {max-height: 200px;max-width: 100%;overflow: auto;}#sk-container-id-1 input.sk-toggleable__control:checked~label.sk-toggleable__label-arrow:before {content: \"▾\";}#sk-container-id-1 div.sk-estimator input.sk-toggleable__control:checked~label.sk-toggleable__label {background-color: #d4ebff;}#sk-container-id-1 div.sk-label input.sk-toggleable__control:checked~label.sk-toggleable__label {background-color: #d4ebff;}#sk-container-id-1 input.sk-hidden--visually {border: 0;clip: rect(1px 1px 1px 1px);clip: rect(1px, 1px, 1px, 1px);height: 1px;margin: -1px;overflow: hidden;padding: 0;position: absolute;width: 1px;}#sk-container-id-1 div.sk-estimator {font-family: monospace;background-color: #f0f8ff;border: 1px dotted black;border-radius: 0.25em;box-sizing: border-box;margin-bottom: 0.5em;}#sk-container-id-1 div.sk-estimator:hover {background-color: #d4ebff;}#sk-container-id-1 div.sk-parallel-item::after {content: \"\";width: 100%;border-bottom: 1px solid gray;flex-grow: 1;}#sk-container-id-1 div.sk-label:hover label.sk-toggleable__label {background-color: #d4ebff;}#sk-container-id-1 div.sk-serial::before {content: \"\";position: absolute;border-left: 1px solid gray;box-sizing: border-box;top: 0;bottom: 0;left: 50%;z-index: 0;}#sk-container-id-1 div.sk-serial {display: flex;flex-direction: column;align-items: center;background-color: white;padding-right: 0.2em;padding-left: 0.2em;position: relative;}#sk-container-id-1 div.sk-item {position: relative;z-index: 1;}#sk-container-id-1 div.sk-parallel {display: flex;align-items: stretch;justify-content: center;background-color: white;position: relative;}#sk-container-id-1 div.sk-item::before, #sk-container-id-1 div.sk-parallel-item::before {content: \"\";position: absolute;border-left: 1px solid gray;box-sizing: border-box;top: 0;bottom: 0;left: 50%;z-index: -1;}#sk-container-id-1 div.sk-parallel-item {display: flex;flex-direction: column;z-index: 1;position: relative;background-color: white;}#sk-container-id-1 div.sk-parallel-item:first-child::after {align-self: flex-end;width: 50%;}#sk-container-id-1 div.sk-parallel-item:last-child::after {align-self: flex-start;width: 50%;}#sk-container-id-1 div.sk-parallel-item:only-child::after {width: 0;}#sk-container-id-1 div.sk-dashed-wrapped {border: 1px dashed gray;margin: 0 0.4em 0.5em 0.4em;box-sizing: border-box;padding-bottom: 0.4em;background-color: white;}#sk-container-id-1 div.sk-label label {font-family: monospace;font-weight: bold;display: inline-block;line-height: 1.2em;}#sk-container-id-1 div.sk-label-container {text-align: center;}#sk-container-id-1 div.sk-container {/* jupyter's `normalize.less` sets `[hidden] { display: none; }` but bootstrap.min.css set `[hidden] { display: none !important; }` so we also need the `!important` here to be able to override the default hidden behavior on the sphinx rendered scikit-learn.org. See: https://github.com/scikit-learn/scikit-learn/issues/21755 */display: inline-block !important;position: relative;}#sk-container-id-1 div.sk-text-repr-fallback {display: none;}</style><div id=\"sk-container-id-1\" class=\"sk-top-container\"><div class=\"sk-text-repr-fallback\"><pre>GridSearchCV(cv=5, estimator=LogisticRegression(), n_jobs=-1,\n",
       "             param_grid={&#x27;C&#x27;: [0.001, 0.01, 0.1, 1, 10, 100],\n",
       "                         &#x27;penalty&#x27;: [&#x27;none&#x27;, &#x27;l1&#x27;, &#x27;l2&#x27;, &#x27;elasticnet&#x27;],\n",
       "                         &#x27;solver&#x27;: [&#x27;newton-cg&#x27;, &#x27;lbfgs&#x27;, &#x27;liblinear&#x27;]},\n",
       "             scoring=&#x27;accuracy&#x27;)</pre><b>In a Jupyter environment, please rerun this cell to show the HTML representation or trust the notebook. <br />On GitHub, the HTML representation is unable to render, please try loading this page with nbviewer.org.</b></div><div class=\"sk-container\" hidden><div class=\"sk-item sk-dashed-wrapped\"><div class=\"sk-label-container\"><div class=\"sk-label sk-toggleable\"><input class=\"sk-toggleable__control sk-hidden--visually\" id=\"sk-estimator-id-1\" type=\"checkbox\" ><label for=\"sk-estimator-id-1\" class=\"sk-toggleable__label sk-toggleable__label-arrow\">GridSearchCV</label><div class=\"sk-toggleable__content\"><pre>GridSearchCV(cv=5, estimator=LogisticRegression(), n_jobs=-1,\n",
       "             param_grid={&#x27;C&#x27;: [0.001, 0.01, 0.1, 1, 10, 100],\n",
       "                         &#x27;penalty&#x27;: [&#x27;none&#x27;, &#x27;l1&#x27;, &#x27;l2&#x27;, &#x27;elasticnet&#x27;],\n",
       "                         &#x27;solver&#x27;: [&#x27;newton-cg&#x27;, &#x27;lbfgs&#x27;, &#x27;liblinear&#x27;]},\n",
       "             scoring=&#x27;accuracy&#x27;)</pre></div></div></div><div class=\"sk-parallel\"><div class=\"sk-parallel-item\"><div class=\"sk-item\"><div class=\"sk-label-container\"><div class=\"sk-label sk-toggleable\"><input class=\"sk-toggleable__control sk-hidden--visually\" id=\"sk-estimator-id-2\" type=\"checkbox\" ><label for=\"sk-estimator-id-2\" class=\"sk-toggleable__label sk-toggleable__label-arrow\">estimator: LogisticRegression</label><div class=\"sk-toggleable__content\"><pre>LogisticRegression()</pre></div></div></div><div class=\"sk-serial\"><div class=\"sk-item\"><div class=\"sk-estimator sk-toggleable\"><input class=\"sk-toggleable__control sk-hidden--visually\" id=\"sk-estimator-id-3\" type=\"checkbox\" ><label for=\"sk-estimator-id-3\" class=\"sk-toggleable__label sk-toggleable__label-arrow\">LogisticRegression</label><div class=\"sk-toggleable__content\"><pre>LogisticRegression()</pre></div></div></div></div></div></div></div></div></div></div>"
      ],
      "text/plain": [
       "GridSearchCV(cv=5, estimator=LogisticRegression(), n_jobs=-1,\n",
       "             param_grid={'C': [0.001, 0.01, 0.1, 1, 10, 100],\n",
       "                         'penalty': ['none', 'l1', 'l2', 'elasticnet'],\n",
       "                         'solver': ['newton-cg', 'lbfgs', 'liblinear']},\n",
       "             scoring='accuracy')"
      ]
     },
     "execution_count": 26,
     "metadata": {},
     "output_type": "execute_result"
    }
   ],
   "source": [
    "CV_lr.fit(tfidf_train, y_train)"
   ]
  },
  {
   "cell_type": "code",
   "execution_count": 27,
   "metadata": {},
   "outputs": [
    {
     "name": "stdout",
     "output_type": "stream",
     "text": [
      "{'C': 10, 'penalty': 'l2', 'solver': 'newton-cg'}\n",
      "LogisticRegression(C=10, solver='newton-cg')\n",
      "0.8557423241352506\n"
     ]
    }
   ],
   "source": [
    "print(CV_lr.best_params_)\n",
    "print(CV_lr.best_estimator_)\n",
    "print(CV_lr.best_score_)"
   ]
  },
  {
   "cell_type": "markdown",
   "metadata": {},
   "source": [
    "Grid Search para Adaboost"
   ]
  },
  {
   "cell_type": "code",
   "execution_count": 33,
   "metadata": {},
   "outputs": [],
   "source": [
    "param_grid = {'n_estimators':[10, 50, 100, 500, 1000], \n",
    "                    'learning_rate':[0.0001, 0.001, 0.01, 0.1, 1.0],\n",
    "                    'algorithm' : ['SAMME', 'SAMME.R']                  \n",
    "                  }"
   ]
  },
  {
   "cell_type": "code",
   "execution_count": 34,
   "metadata": {},
   "outputs": [],
   "source": [
    "CV_abc = GridSearchCV(estimator=abc, param_grid=param_grid, n_jobs=-1, cv=5, scoring='accuracy')"
   ]
  },
  {
   "cell_type": "code",
   "execution_count": 35,
   "metadata": {},
   "outputs": [],
   "source": [
    "grid_result = CV_abc.fit(tfidf_train, y_train)"
   ]
  },
  {
   "cell_type": "code",
   "execution_count": 36,
   "metadata": {},
   "outputs": [
    {
     "name": "stdout",
     "output_type": "stream",
     "text": [
      "{'algorithm': 'SAMME.R', 'learning_rate': 0.1, 'n_estimators': 1000}\n",
      "AdaBoostClassifier(learning_rate=0.1, n_estimators=1000)\n",
      "0.8291650472859178\n"
     ]
    }
   ],
   "source": [
    "print(CV_abc.best_params_)\n",
    "print(CV_abc.best_estimator_)\n",
    "print(CV_abc.best_score_)\n"
   ]
  },
  {
   "cell_type": "code",
   "execution_count": null,
   "metadata": {},
   "outputs": [],
   "source": []
  }
 ],
 "metadata": {
  "kernelspec": {
   "display_name": "Python 3.10.5 ('.spam_ham': venv)",
   "language": "python",
   "name": "python3"
  },
  "language_info": {
   "codemirror_mode": {
    "name": "ipython",
    "version": 3
   },
   "file_extension": ".py",
   "mimetype": "text/x-python",
   "name": "python",
   "nbconvert_exporter": "python",
   "pygments_lexer": "ipython3",
   "version": "3.10.5"
  },
  "orig_nbformat": 4,
  "vscode": {
   "interpreter": {
    "hash": "69a9c2b834d54df308faaf8448a4387cba84243b5381ad38ff62e5a73f2dcf07"
   }
  }
 },
 "nbformat": 4,
 "nbformat_minor": 2
}
